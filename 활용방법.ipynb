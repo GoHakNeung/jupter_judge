{
  "nbformat": 4,
  "nbformat_minor": 0,
  "metadata": {
    "colab": {
      "provenance": []
    },
    "kernelspec": {
      "name": "python3",
      "display_name": "Python 3"
    },
    "language_info": {
      "name": "python"
    }
  },
  "cells": [
    {
      "cell_type": "markdown",
      "source": [
        "수업에서 상호작용형 자동 평가 시스템을 활용하기 위해서는 Google Classroom을 활용한다.  \n",
        "- 교사는 학습자료를 만든 뒤 Google Classroom으로 자료를 제공한다.\n",
        "- 학생은 제공받은 자료를 학습한 후 제출한다.\n",
        "\n",
        "## 교사\n",
        "학습 자료 제작시 Text cell에 코드에 대한 설명, Code cell에 실습할 수 있도록 주석으로 설명을 제시한다.  \n",
        "평가를 위해서 Code cell에 **초기 설정 코드, 문제 출력 함수, 코드 작성, 평가 함수**를 작성 또는 실행을 해서 학생에게 제공해야 한다.  \n",
        "- 초기 설정 코드 : 작성\n",
        "- 문제 출력 함수 : 작성 및 실행\n",
        "- 코드 작성 : %%writefile _filename까지 작성\n",
        "- 평가 함수 : 작성  \n",
        "\n",
        "\n",
        "- 교사가 제공하는 학습 자료 예시는 아래와 같다.  \n",
        "(문항은 학습 주제에 맞게 1개 또는 여러 개를 작성하여 제공하면 된다.)\n",
        "\n",
        "![교사제작](https://github.com/GoHakNeung/python/blob/main/%EA%B5%90%EC%82%AC%20%EC%A0%9C%EC%9E%91.png?raw=true)\n",
        "\n",
        "## 학생\n",
        "학생은 제공받은 Colab에 작성된 **초기 설정 코드, 문제 출력 함수, 코드 작성, 평가 함수**를 실행 또는 작성 후 실행하면 된다.  \n",
        "- 초기 설정 코드 : 실행\n",
        "- 문제 출력 함수 : 읽기\n",
        "- 코드 작성 : %%writefile filename 이후 작성\n",
        "- 평가 함수 : 실행  \n",
        "\n",
        "\n",
        "- 학생이 학습한 예시는 아래와 같다.  \n",
        "![학습](https://github.com/GoHakNeung/python/blob/main/%ED%95%99%EC%83%9D%20%EC%98%88%EC%8B%9C.png?raw=true)"
      ],
      "metadata": {
        "id": "9S8Mio-ZQw2H"
      }
    },
    {
      "cell_type": "code",
      "source": [],
      "metadata": {
        "id": "tonrFsM8Ur4I"
      },
      "execution_count": null,
      "outputs": []
    }
  ]
}