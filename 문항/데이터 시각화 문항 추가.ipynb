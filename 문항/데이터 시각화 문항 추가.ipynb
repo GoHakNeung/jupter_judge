{
  "nbformat": 4,
  "nbformat_minor": 0,
  "metadata": {
    "colab": {
      "provenance": []
    },
    "kernelspec": {
      "name": "python3",
      "display_name": "Python 3"
    },
    "language_info": {
      "name": "python"
    }
  },
  "cells": [
    {
      "cell_type": "code",
      "execution_count": 1,
      "metadata": {
        "colab": {
          "base_uri": "https://localhost:8080/"
        },
        "collapsed": true,
        "id": "_kwksMDEGa7N",
        "outputId": "83c2c074-7eb4-4fb6-ffcf-1bea4e944f0a"
      },
      "outputs": [
        {
          "output_type": "stream",
          "name": "stdout",
          "text": [
            "Cloning into 'jupyter_judge'...\n",
            "remote: Enumerating objects: 1133, done.\u001b[K\n",
            "remote: Counting objects: 100% (591/591), done.\u001b[K\n",
            "remote: Compressing objects: 100% (232/232), done.\u001b[K\n",
            "remote: Total 1133 (delta 393), reused 537 (delta 357), pack-reused 542\u001b[K\n",
            "Receiving objects: 100% (1133/1133), 5.07 MiB | 7.47 MiB/s, done.\n",
            "Resolving deltas: 100% (628/628), done.\n",
            "이름을 입력해주세요.afasdf\n",
            "지금부터 공부를 시작합니다.\n"
          ]
        }
      ],
      "source": [
        "!git clone https://github.com/GoHakNeung/jupyter_judge.git\n",
        "%run /content/jupyter_judge/code_check.py"
      ]
    },
    {
      "cell_type": "code",
      "source": [
        "Question(question_8503)"
      ],
      "metadata": {
        "colab": {
          "base_uri": "https://localhost:8080/",
          "height": 1000
        },
        "id": "XJ1n1HbcGb3n",
        "outputId": "8684674c-f986-4d4a-d6ef-62b28d04b139"
      },
      "execution_count": 2,
      "outputs": [
        {
          "output_type": "display_data",
          "data": {
            "text/plain": [
              "<IPython.core.display.HTML object>"
            ],
            "text/html": [
              "<h1 style = \"background-color:yellow; \">문제 설명</h1>\n",
              "<h2>관련 뉴스</h2>\n",
              "<p>사고가 발생한 다음 대처하는 것보다 중요한 것은 예방하는 것입니다. 코로나 19이후 학교에서 발생하는 사고가 늘어나고 있습니다. </p>\n",
              "<p>학교에서 발생하는 다양하고 많은 사고를 알아보고 이를 예방하는 방법을 생각해봅시다.<a href =\"https://munhwa.com/news/view.html?no=2023051901070821043001\" target = 'blank'>학교 안전 사고 관련 뉴스</a></p>\n",
              "<hr>\n",
              "<h2>데이터</h2>\n",
              "<p>문제에서 제공하는 데이터는 한국청소년활동진흥원에서 제공한 <a href =\"https://www.data.go.kr/data/15076546/fileData.do\" target = 'blank'>청소년 생활(학교) 사고 통계</a>입니다. 2012년부터 2022년까지 데이터이며, 학교급별, 부위별 안전사고 발생 현황으로 구성되어 있습니다.</p>\n",
              "<p>열 : 연도, 학교급별, 머리(두부), 치아(구강), 흉복부, 팔, 손, 다리, 발, 기타</p>\n",
              "<h2>그래프</h2>\n",
              "<p>2022년 초등학교에서 발생한 안전사고 중 부위별 데이터를 막대그래프로 나타내봅시다.</p>\n",
              "<p>그래프 제목 : '2022년 초등학교에서 발생한 부위별 안전사고</p>\n",
              "<p>가로축 제목 : '신체 부위'</p>\n",
              "<p>세로축 제목 : '발생 건수'</p>\n",
              "<HR>\n",
              "<div style = \"float:left;width:50%\">\n",
              "<h2>데이터 예시 </h2>\n",
              "<p>body_part = ['머리', '치아', '흉복부', '팔', '손', '다리', '팔', '기타']</p>\n",
              "<p>count = [8943, 2096, 695, 3280, 14263, 3437, 12657, 1274]\"</p>\n",
              "\n",
              "\n",
              "</p>\n",
              "</div>\n",
              "<div style = \"float:right;width:50%\">\n",
              "<h2>그래프 예시 </h2>\n",
              "<img src=\"https://github.com/GoHakNeung/jupyter_judge/blob/main/graph/answer_8503.png?raw=true\" width = 150% height = 150%>\n",
              "</div>\n"
            ]
          },
          "metadata": {}
        }
      ]
    },
    {
      "cell_type": "code",
      "source": [
        "Question(question_8504)"
      ],
      "metadata": {
        "colab": {
          "base_uri": "https://localhost:8080/",
          "height": 1000
        },
        "id": "fN7bxItvGhGC",
        "outputId": "ee24af77-2137-4687-ae9d-3d0e26a5e299"
      },
      "execution_count": 3,
      "outputs": [
        {
          "output_type": "display_data",
          "data": {
            "text/plain": [
              "<IPython.core.display.HTML object>"
            ],
            "text/html": [
              "<h1 style = \"background-color:yellow; \">문제 설명</h1>\n",
              "<h2>관련 뉴스</h2>\n",
              "<p>사고가 발생한 다음 대처하는 것보다 중요한 것은 예방하는 것입니다. 코로나 19이후 학교에서 발생하는 사고가 늘어나고 있습니다. </p>\n",
              "<p>학교에서 발생하는 다양하고 많은 사고를 알아보고 이를 예방하는 방법을 생각해봅시다.<a href =\"https://munhwa.com/news/view.html?no=2023051901070821043001\" target = 'blank'>학교 안전 사고 관련 뉴스</a></p>\n",
              "<hr>\n",
              "<h2>데이터</h2>\n",
              "<p>문제에서 제공하는 데이터는 한국청소년활동진흥원에서 제공한 <a href =\"https://www.data.go.kr/data/15076546/fileData.do\" target = 'blank'>청소년 생활(학교) 사고 통계</a>입니다. 2014년부터 2022년까지 데이터이며, 학교급별, 시간별 안전사고 발생 현황으로 구성되어 있습니다.</p>\n",
              "<p>열 : 연도, 학교급별, 수업, 체육, 점심, 석식, 휴식_청소, 특별활동, 학교행사, 등하교, 기숙사, 기타</p>\n",
              "<h2>그래프</h2>\n",
              "<p>2022년 초등학교에서 발생한 안전사고 중 부위별 데이터를 막대그래프로 나타내봅시다.</p>\n",
              "<p>그래프 제목 : '2022년 초등학교에서 발생한 시간별 안전사고</p>\n",
              "<p>가로축 제목 : '장소'</p>\n",
              "<p>세로축 제목 : '발생 건수'</p>\n",
              "<HR>\n",
              "<div style = \"float:left;width:50%\">\n",
              "<h2>데이터 예시 </h2>\n",
              "<p>time = ['수업', '체육', '점심', '휴식_청소', '특별활동', '학교행사', '등하교', '기타']</p>\n",
              "<p>count = [7606, 17077, 11761, 8282, 953, 1628, 4086, 1355]</p>\n",
              "\n",
              "\n",
              "</p>\n",
              "</div>\n",
              "<div style = \"float:right;width:50%\">\n",
              "<h2>그래프 예시 </h2>\n",
              "<img src=\"https://github.com/GoHakNeung/jupyter_judge/blob/main/graph/answer_8504.png?raw=true\" width = 150% height = 150%>\n",
              "</div>\n"
            ]
          },
          "metadata": {}
        }
      ]
    },
    {
      "cell_type": "code",
      "source": [
        "Question(question_8524)"
      ],
      "metadata": {
        "colab": {
          "base_uri": "https://localhost:8080/",
          "height": 1000
        },
        "id": "ag1U9t1CGilj",
        "outputId": "966bb0ac-5709-44db-915c-518554bd8036"
      },
      "execution_count": 5,
      "outputs": [
        {
          "output_type": "display_data",
          "data": {
            "text/plain": [
              "<IPython.core.display.HTML object>"
            ],
            "text/html": [
              "<h1 style = \"background-color:yellow; \">문제 설명</h1>\n",
              "<h2>관련 뉴스</h2>\n",
              "<p>초등학교에서는 대체로 여자 아이가 남자 아이보다 더 크지만 중학교 이후부터는 남자 아이가 여자 아이보다 더 큽니다.</p>\n",
              "<p>이는 남자 아이와 여자 아이의 성장 속도가 다르기 때문입니다.<a href =\"http://www.bosa.co.kr/news/articleView.html?idxno=2160542\" target = 'blank'>남자 아이와 여자 아이의 성장 속도 관련 뉴스</a></p>\n",
              "<hr>\n",
              "<h2>데이터</h2>\n",
              "<p>문제에서 제공하는 데이터는 교육부에서 제공한 <a href =\"https://www.data.go.kr/data/15051014/fileData.do\" target = 'blank'>학교건강검사 조사결과</a>입니다. 만6세부터 만18세까지 성별 키와 몸무게 데이터로 구성되어 있습니다.</p>\n",
              "<p>열 : 나이, 성별, 키(cm), 몸무게(kg)</p>\n",
              "<h2>그래프</h2>\n",
              "\n",
              "<p>나이별 남성의 키 변화를 꺾은선 그래프로 나태내봅시다.</p>\n",
              "<p>그래프 제목 : 나이에 따른 남성의 키</p>\n",
              "<p>가로축 제목 : 나이</p>\n",
              "<p>세로축 제목 : 키(cm)</p>\n",
              "<p>label : 남성</p>\n",
              "<HR>\n",
              "<div style = \"float:left;width:50%\">\n",
              "<h2>데이터 예시 </h2>\n",
              "<p>data = pd.read_csv('/content/jupyter_judge/csv_file/checkup.csv')</p>\n",
              "<p>data_man = data[data['성별'] == '남']</p>\n",
              "<p>man_height = data_man['키(cm)']</p>\n",
              "</p>age = data_man['나이']</p>\n",
              "\n",
              "</div>\n",
              "<div style = \"float:right;width:50%\">\n",
              "<h2>그래프 예시 </h2>\n",
              "<img src=\"https://github.com/GoHakNeung/jupyter_judge/blob/main/graph/answer_8524.png?raw=true\" width = 150% height = 150%>\n",
              "</div>\n"
            ]
          },
          "metadata": {}
        }
      ]
    },
    {
      "cell_type": "code",
      "source": [
        "Question(question_8525)"
      ],
      "metadata": {
        "colab": {
          "base_uri": "https://localhost:8080/",
          "height": 1000
        },
        "id": "p1Md7xzIGqWq",
        "outputId": "ced15373-1e5d-49d0-a1d7-f83e2ee7920c"
      },
      "execution_count": 6,
      "outputs": [
        {
          "output_type": "display_data",
          "data": {
            "text/plain": [
              "<IPython.core.display.HTML object>"
            ],
            "text/html": [
              "<h1 style = \"background-color:yellow; \">문제 설명</h1>\n",
              "<h2>관련 뉴스</h2>\n",
              "<p>초등학교에서는 대체로 여자 아이가 남자 아이보다 더 크지만 중학교 이후부터는 남자 아이가 여자 아이보다 더 큽니다.</p>\n",
              "<p>이는 남자 아이와 여자 아이의 성장 속도가 다르기 때문입니다.<a href =\"http://www.bosa.co.kr/news/articleView.html?idxno=2160542\" target = 'blank'>남자 아이와 여자 아이의 성장 속도 관련 뉴스</a></p>\n",
              "<hr>\n",
              "<h2>데이터</h2>\n",
              "<p>문제에서 제공하는 데이터는 교육부에서 제공한 <a href =\"https://www.data.go.kr/data/15051014/fileData.do\" target = 'blank'>학교건강검사 조사결과</a>입니다. 만6세부터 만18세까지 성별 키와 몸무게 데이터로 구성되어 있습니다.</p>\n",
              "<p>열 : 나이, 성별, 키(cm), 몸무게(kg)</p>\n",
              "<h2>그래프</h2>\n",
              "\n",
              "<p>나이별 여성의 키 변화를 꺾은선 그래프로 나태내봅시다.</p>\n",
              "<p>그래프 제목 : 나이에 따른 여성의 키</p>\n",
              "<p>가로축 제목 : 나이</p>\n",
              "<p>세로축 제목 : 키(cm)</p>\n",
              "<p>label : 여성</p>\n",
              "<HR>\n",
              "<div style = \"float:left;width:50%\">\n",
              "<h2>데이터 예시 </h2>\n",
              "<p>data = pd.read_csv('/content/jupyter_judge/csv_file/checkup.csv')</p>\n",
              "<p>data_woman = data[data['성별'] == '여']</p>\n",
              "<p>woman_height = data_woman['키(cm)']</p>\n",
              "</p>age = data_woman['나이']</p>\n",
              "\n",
              "</div>\n",
              "<div style = \"float:right;width:50%\">\n",
              "<h2>그래프 예시 </h2>\n",
              "<img src=\"https://github.com/GoHakNeung/jupyter_judge/blob/main/graph/answer_8525.png?raw=true\" width = 150% height = 150%>\n",
              "</div>\n"
            ]
          },
          "metadata": {}
        }
      ]
    },
    {
      "cell_type": "code",
      "source": [
        "Question(question_8526)"
      ],
      "metadata": {
        "colab": {
          "base_uri": "https://localhost:8080/",
          "height": 1000
        },
        "id": "jxo3X62KGqa4",
        "outputId": "9232fe3d-6745-426a-8f40-da236663593c"
      },
      "execution_count": 7,
      "outputs": [
        {
          "output_type": "display_data",
          "data": {
            "text/plain": [
              "<IPython.core.display.HTML object>"
            ],
            "text/html": [
              "<h1 style = \"background-color:yellow; \">문제 설명</h1>\n",
              "<h2>관련 뉴스</h2>\n",
              "<p>초등학교에서는 대체로 여자 아이가 남자 아이보다 더 크지만 중학교 이후부터는 남자 아이가 여자 아이보다 더 큽니다.</p>\n",
              "<p>이는 남자 아이와 여자 아이의 성장 속도가 다르기 때문입니다.<a href =\"http://www.bosa.co.kr/news/articleView.html?idxno=2160542\" target = 'blank'>남자 아이와 여자 아이의 성장 속도 관련 뉴스</a></p>\n",
              "<hr>\n",
              "<h2>데이터</h2>\n",
              "<p>문제에서 제공하는 데이터는 교육부에서 제공한 <a href =\"https://www.data.go.kr/data/15051014/fileData.do\" target = 'blank'>학교건강검사 조사결과</a>입니다. 만6세부터 만18세까지 성별 키와 몸무게 데이터로 구성되어 있습니다.</p>\n",
              "<p>열 : 나이, 성별, 키(cm), 몸무게(kg)</p>\n",
              "<h2>그래프</h2>\n",
              "\n",
              "<p>나이별 남성과 여성의 키 변화를 꺾은선 그래프로 나태내봅시다.</p>\n",
              "<p>그래프 제목 : 나이에 따른 남성, 여성의 키</p>\n",
              "<p>가로축 제목 : 나이</p>\n",
              "<p>세로축 제목 : 키(cm)</p>\n",
              "<p>label : 남성, 여성</p>\n",
              "<p>color : 남성은 파랑, 여성은 빨강</p>\n",
              "<HR>\n",
              "<div style = \"float:left;width:50%\">\n",
              "<h2>데이터 예시 </h2>\n",
              "<p>data = pd.read_csv('/content/jupyter_judge/csv_file/checkup.csv')</p>\n",
              "<p>data_man = data[data['성별'] == '남']</p>\n",
              "<p>man_height = data_man['키(cm)']</p>\n",
              "<p>data_woman = data[data['성별'] == '여']</p>\n",
              "<p>woman_height = data_woman['키(cm)']</p>\n",
              "</p>age = data_man['나이']</p>\n",
              "\n",
              "</div>\n",
              "<div style = \"float:right;width:50%\">\n",
              "<h2>그래프 예시 </h2>\n",
              "<img src=\"https://github.com/GoHakNeung/jupyter_judge/blob/main/graph/answer_8526.png?raw=true\" width = 150% height = 150%>\n",
              "</div>\n"
            ]
          },
          "metadata": {}
        }
      ]
    },
    {
      "cell_type": "code",
      "source": [
        "Question(question_8543)"
      ],
      "metadata": {
        "colab": {
          "base_uri": "https://localhost:8080/",
          "height": 1000
        },
        "id": "PcFcHOevG1Gt",
        "outputId": "fa59c883-310c-47eb-b27c-717f44860b60"
      },
      "execution_count": 8,
      "outputs": [
        {
          "output_type": "display_data",
          "data": {
            "text/plain": [
              "<IPython.core.display.HTML object>"
            ],
            "text/html": [
              "<h1 style = \"background-color:yellow; \">문제 설명</h1>\n",
              "<h2>관련 뉴스</h2>\n",
              "<p>평균에 가까운 값은 많이 관찰 되고, 평균에서 멀어지는 값은 적게 관찰 되는 것을 경험상 알 수 있습니다.</p>\n",
              "<p>예를 들어 키가 평균인 사람은 많지만, 키가 엄청 크거나 엄청 작은 사람은 매우 적습니다. 이는 정규분포로 나타낼 수 있습니다. <a href =\"https://terms.naver.com/entry.naver?docId=3569149&cid=58944&categoryId=58970\" target = 'blank'>정규 분포</a></p>\n",
              "<hr>\n",
              "<h2>데이터</h2>\n",
              "<p>문제에서 제공하는 데이터는 교육부에서 제공한 <a href =\"https://www.data.go.kr/data/15100360/fileData.do\" target = 'blank'>학교건강검사 표본조사</a>입니다. 초1부터 고3까지 9만명의 건강 데이터로 구성되어 있습니다.</p>\n",
              "<p>열 : 도시구분, 시도, 학교급, 학년, 성별, 키, 몸무게</p>\n",
              "<p>문제에서는 전처리한 데이터를 제공합니다.</p>\n",
              "<h2>그래프</h2>\n",
              "<p>중3 학생의 키를 히스토그램으로 나타내봅시다.</p>\n",
              "<p>그래프 제목 : 중3학생의 키</p>\n",
              "<p>가로축 제목 : 키(cm)</p>\n",
              "<p>구간 : 12</p>\n",
              "<p>범위 : 130 ~ 190</p>\n",
              "<HR>\n",
              "<div style = \"float:left;width:50%\">\n",
              "<h2>데이터 예시 </h2>\n",
              "<p>data = pd.read_csv('/content/jupyter_judge/csv_file/total_checkup.csv')</p>\n",
              "<p>data_mid = data[data['학년']=='중3']['키']</p>\n",
              "\n",
              "</div>\n",
              "<div style = \"float:right;width:50%\">\n",
              "<h2>그래프 예시 </h2>\n",
              "<img src=\"https://github.com/GoHakNeung/jupyter_judge/blob/main/graph/answer_8543.png?raw=true\" width = 150% height = 150%>\n",
              "</div>\n"
            ]
          },
          "metadata": {}
        }
      ]
    },
    {
      "cell_type": "code",
      "source": [
        "Question(question_8544)"
      ],
      "metadata": {
        "colab": {
          "base_uri": "https://localhost:8080/",
          "height": 1000
        },
        "id": "YgsIMbdYG3HI",
        "outputId": "04c0df4b-4b28-49da-acf0-cb6f6f5d8978"
      },
      "execution_count": 9,
      "outputs": [
        {
          "output_type": "display_data",
          "data": {
            "text/plain": [
              "<IPython.core.display.HTML object>"
            ],
            "text/html": [
              "<h1 style = \"background-color:yellow; \">문제 설명</h1>\n",
              "<h2>관련 뉴스</h2>\n",
              "<p>평균에 가까운 값은 많이 관찰 되고, 평균에서 멀어지는 값은 적게 관찰 되는 것을 경험상 알 수 있습니다.</p>\n",
              "<p>예를 들어 키가 평균인 사람은 많지만, 키가 엄청 크거나 엄청 작은 사람은 매우 적습니다. 이는 정규분포로 나타낼 수 있습니다. <a href =\"https://terms.naver.com/entry.naver?docId=3569149&cid=58944&categoryId=58970\" target = 'blank'>정규 분포</a></p>\n",
              "<hr>\n",
              "<h2>데이터</h2>\n",
              "<p>문제에서 제공하는 데이터는 교육부에서 제공한 <a href =\"https://www.data.go.kr/data/15100360/fileData.do\" target = 'blank'>학교건강검사 표본조사</a>입니다. 초1부터 고3까지 9만명의 건강 데이터로 구성되어 있습니다.</p>\n",
              "<p>열 : 도시구분, 시도, 학교급, 학년, 성별, 키, 몸무게</p>\n",
              "<p>문제에서는 전처리한 데이터를 제공합니다.</p>\n",
              "<h2>그래프</h2>\n",
              "<p>중3 학생의 몸무게를 히스토그램으로 나타내봅시다.</p>\n",
              "<p>그래프 제목 : 중3학생의 몸무게</p>\n",
              "<p>가로축 제목 : 몸무게(kg)</p>\n",
              "<p>구간 : 14</p>\n",
              "<p>범위 : 30 ~ 100</p>\n",
              "<HR>\n",
              "<div style = \"float:left;width:50%\">\n",
              "<h2>데이터 예시 </h2>\n",
              "<p>data = pd.read_csv('/content/jupyter_judge/csv_file/total_checkup.csv')</p>\n",
              "<p>data_mid = data[data['학년']=='중3']['몸무게']</p>\n",
              "\n",
              "</div>\n",
              "<div style = \"float:right;width:50%\">\n",
              "<h2>그래프 예시 </h2>\n",
              "<img src=\"https://github.com/GoHakNeung/jupyter_judge/blob/main/graph/answer_8544.png?raw=true\" width = 150% height = 150%>\n",
              "</div>\n"
            ]
          },
          "metadata": {}
        }
      ]
    },
    {
      "cell_type": "code",
      "source": [
        "Question(question_8545)"
      ],
      "metadata": {
        "colab": {
          "base_uri": "https://localhost:8080/",
          "height": 1000
        },
        "id": "5Ps9tKQlG4c7",
        "outputId": "767979af-a0b2-4e09-e0ba-c4a9797bbd81"
      },
      "execution_count": 10,
      "outputs": [
        {
          "output_type": "display_data",
          "data": {
            "text/plain": [
              "<IPython.core.display.HTML object>"
            ],
            "text/html": [
              "<h1 style = \"background-color:yellow; \">문제 설명</h1>\n",
              "<h2>관련 뉴스</h2>\n",
              "<p>평균에 가까운 값은 많이 관찰 되고, 평균에서 멀어지는 값은 적게 관찰 되는 것을 경험상 알 수 있습니다.</p>\n",
              "<p>예를 들어 키가 평균인 사람은 많지만, 키가 엄청 크거나 엄청 작은 사람은 매우 적습니다. 이는 정규분포로 나타낼 수 있습니다. <a href =\"https://terms.naver.com/entry.naver?docId=3569149&cid=58944&categoryId=58970\" target = 'blank'>정규 분포</a></p>\n",
              "<hr>\n",
              "<h2>데이터</h2>\n",
              "<p>문제에서 제공하는 데이터는 교육부에서 제공한 <a href =\"https://www.data.go.kr/data/15100360/fileData.do\" target = 'blank'>학교건강검사 표본조사</a>입니다. 초1부터 고3까지 9만명의 건강 데이터로 구성되어 있습니다.</p>\n",
              "<p>열 : 도시구분, 시도, 학교급, 학년, 성별, 키, 몸무게</p>\n",
              "<p>문제에서는 전처리한 데이터를 제공합니다.</p>\n",
              "<h2>그래프</h2>\n",
              "<p>중3 학생의 키를 나타낸 히스토그램에 평균 키를 나타내봅시다.</p>\n",
              "<p>그래프 제목 : 중3학생의 키</p>\n",
              "<p>가로축 제목 : 키(cm)</p>\n",
              "<p>히스토그램 구간 : 12</p>\n",
              "<p>히스토그램 범위 : 130 ~ 190</p>\n",
              "<p>수직선 x 위치 : 중3 학생 키의 평균</p>\n",
              "<p>수직선 y 범위 : 0 ~ 2000</p>\n",
              "<p>수직선 label : 평균 키</p>\n",
              "<p>수직선 색 : red</p>\n",
              "<HR>\n",
              "<div style = \"float:left;width:50%\">\n",
              "<h2>데이터 예시 </h2>\n",
              "<p>data = pd.read_csv('/content/jupyter_judge/csv_file/total_checkup.csv')</p>\n",
              "<p>data_mid = data[data['학년']=='중3']['키']</p>\n",
              "<p>data_mid_mean = data_mid.mean()</p>\n",
              "\n",
              "</div>\n",
              "<div style = \"float:right;width:50%\">\n",
              "<h2>그래프 예시 </h2>\n",
              "<img src=\"https://github.com/GoHakNeung/jupyter_judge/blob/main/graph/answer_8545.png?raw=true\" width = 150% height = 150%>\n",
              "</div>\n"
            ]
          },
          "metadata": {}
        }
      ]
    }
  ]
}