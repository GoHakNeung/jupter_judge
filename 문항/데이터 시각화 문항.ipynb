{
  "nbformat": 4,
  "nbformat_minor": 0,
  "metadata": {
    "colab": {
      "provenance": []
    },
    "kernelspec": {
      "name": "python3",
      "display_name": "Python 3"
    },
    "language_info": {
      "name": "python"
    }
  },
  "cells": [
    {
      "cell_type": "code",
      "execution_count": null,
      "metadata": {
        "id": "jS7nkb8-qNZ_"
      },
      "outputs": [],
      "source": [
        "!git clone https://github.com/GoHakNeung/jupyter_judge.git\n",
        "%run /content/jupyter_judge/code_check.py"
      ]
    },
    {
      "cell_type": "code",
      "source": [
        "Question(question_8501)"
      ],
      "metadata": {
        "colab": {
          "base_uri": "https://localhost:8080/",
          "height": 926
        },
        "id": "q23Prmt2qiUW",
        "outputId": "d2db4679-4c8e-4e24-d359-ff52220cfb82"
      },
      "execution_count": null,
      "outputs": [
        {
          "output_type": "display_data",
          "data": {
            "text/plain": [
              "<IPython.core.display.HTML object>"
            ],
            "text/html": [
              "<h1 style = \"background-color:yellow; \">문제 설명</h1>\n",
              "<p>경상남도 시에서 1년간 발생한 음식물 쓰레기량(톤)과 경상남도 시군구별 인구 데이터입니다.</p>\n",
              "<p><a href =\"https://www.data.go.kr/data/15088741/fileData.do\" target = 'blank'>경상남도 시군구별 음식물 쓰레기량</a></p>\n",
              "<p><a href =\"https://bigdata.gyeongnam.go.kr/index.gn?menuCd=DOM_000000115001006000\" target = 'blank'>경상남도 시군구별 인구</a></p>\n",
              "<p>경상남도 시에서 발생한 음식물 쓰레기량을 막대 그래프로 그려봅시다.</p>\n",
              "<h2>데이터</h2>\n",
              "<p>경상남도 시에서 발생하는 음식물 쓰레기량, 인구와 인구당 발생하는 음식물 쓰레기량으로 구성된 데이터</p>\n",
              "<p>열 : city_province, emission, population, emission_per_person </p>\n",
              "<h2>그래프</h2>\n",
              "<p>가로 축에는 경상남도 시 이름, 세로 축에는 음식물 쓰레기 배출량을 막대 그래프로 나타냅니다.</p>\n",
              "<p>그래프 제목 : '경상남도 시에서 발생하는 음식물 쓰레기량'</p>\n",
              "<p>가로축 제목 : '경상남도 시'</p>\n",
              "<p>세로축 제목 : '음식물 쓰레기량(단위:톤)'</p>\n",
              "<HR>\n",
              "<div style = \"float:left;width:50%\">\n",
              "<h2>데이터 예시 </h2>\n",
              "<p>data = pd.read_csv('/content/jupyter_judge/csv_file/food_waste.csv')</p>\n",
              "<p>'city_province', 'emission' 열에 있는 데이터를 사용해봅시다.</p>\n",
              "\n",
              "</p>\n",
              "</div>\n",
              "<div style = \"float:right;width:50%\">\n",
              "<h2>그래프 예시 </h2>\n",
              "<img src=\"https://github.com/GoHakNeung/jupyter_judge/blob/main/graph/answer_8501.png?raw=true\" width = 150% height = 150%>\n",
              "</div>\n"
            ]
          },
          "metadata": {}
        }
      ]
    },
    {
      "cell_type": "code",
      "source": [
        "Question(question_8502)"
      ],
      "metadata": {
        "colab": {
          "base_uri": "https://localhost:8080/",
          "height": 949
        },
        "id": "MLTSUYFUqsjH",
        "outputId": "eb7f2e16-d254-4513-a5a7-da4a14848b43"
      },
      "execution_count": null,
      "outputs": [
        {
          "output_type": "display_data",
          "data": {
            "text/plain": [
              "<IPython.core.display.HTML object>"
            ],
            "text/html": [
              "<h1 style = \"background-color:yellow; \">문제 설명</h1>\n",
              "<p>경상남도 시에서 1년간 발생한 음식물 쓰레기량(톤)과 경상남도 시군구별 인구 데이터입니다.</p>\n",
              "<p><a href =\"https://www.data.go.kr/data/15088741/fileData.do\" target = 'blank'>경상남도 시군구별 음식물 쓰레기량</a></p>\n",
              "<p><a href =\"https://bigdata.gyeongnam.go.kr/index.gn?menuCd=DOM_000000115001006000\" target = 'blank'>경상남도 시군구별 인구</a></p>\n",
              "<p>경상남도 시에서 발생한 음식물 쓰레기량을 막대 그래프로 그려봅시다.</p>\n",
              "<h2>데이터</h2>\n",
              "<p>경상남도 시에서 발생하는 음식물 쓰레기량, 인구와 인구당 발생하는 음식물 쓰레기량으로 구성된 데이터</p>\n",
              "<p>열 : city_province, emission, population, emission_per_person </p>\n",
              "<h2>그래프</h2>\n",
              "<p>가로 축에는 경상남도 시 이름, 세로 축에는 1명당 발생하는 음식물 쓰레기량을 막대 그래프로 나타냅니다.</p>\n",
              "<p>그래프 제목 : '경상남도 시에서 발생하는 1인당 음식물 쓰레기량'</p>\n",
              "<p>가로축 제목 : '경상남도 시'</p>\n",
              "<p>세로축 제목 : '1인당 발생하는 음식물 쓰레기량(단위 : 톤/명)'</p>\n",
              "<p>색 : 초록색</p>\n",
              "<HR>\n",
              "<div style = \"float:left;width:50%\">\n",
              "<h2>데이터 예시 </h2>\n",
              "<p>data = pd.read_csv('/content/jupyter_judge/csv_file/food_waste.csv')</p>\n",
              "<p>'city_province', 'emission_per_person' 열에 있는 데이터를 사용해봅시다.</p>\n",
              "\n",
              "</p>\n",
              "</div>\n",
              "<div style = \"float:right;width:50%\">\n",
              "<h2>그래프 예시 </h2>\n",
              "<img src=\"https://github.com/GoHakNeung/jupyter_judge/blob/main/graph/answer_8502.png?raw=true\" width = 150% height = 150%>\n",
              "</div>\n"
            ]
          },
          "metadata": {}
        }
      ]
    },
    {
      "cell_type": "code",
      "source": [
        "Question(question_8511)"
      ],
      "metadata": {
        "colab": {
          "base_uri": "https://localhost:8080/",
          "height": 926
        },
        "id": "t33HFO6cquiz",
        "outputId": "23c279d6-d92d-4bf4-f665-3fdb44208f12"
      },
      "execution_count": null,
      "outputs": [
        {
          "output_type": "display_data",
          "data": {
            "text/plain": [
              "<IPython.core.display.HTML object>"
            ],
            "text/html": [
              "<h1 style = \"background-color:yellow; \">문제 설명</h1>\n",
              "<p>한전에서 제공하는 에너지원별 발전량입니다.</p>\n",
              "<p><a href =\"https://epsis.kpx.or.kr/epsisnew/selectEkgeGepTotChart.do?menuId=060101\" target = 'blank'>에너지원별 발전량</a></p>\n",
              "<p>2022년 에너지원별 발전량을 막대그래프로 그려봅시다.</p>\n",
              "<h2>데이터</h2>\n",
              "<p>연간 에너지원별 발전량으로 구성된 데이터로 1961년부터 2022년까지 포함된 데이터</p>\n",
              "<p>열 : year, thermal_power, LNG, nuclear_power, renewable_power, other, individual </p>\n",
              "<p>엑셀에서 _power 제거하기</p>\n",
              "<h2>그래프</h2>\n",
              "<p>가로 축에는 에너지원별 이름, 세로 축에는 발전량(MWh)을 막대 그래프로 나타냅니다.</p>\n",
              "<p>그래프 제목 : 에너지원별 발전량</p>\n",
              "<p>가로축 제목 : 에너지원</p>\n",
              "<p>세로축 제목 : 발전량(MWh)</p>\n",
              "<HR>\n",
              "<div style = \"float:left;width:50%\">\n",
              "<h2>데이터 예시 </h2>\n",
              "<p>energy_source = ['thermal', 'LNG', 'nuclear', 'renewable', 'other', 'individual']</p>\n",
              "<p>amount = [188476694,123995839,176054012,47266256, 58156521, 30650791]</p>\n",
              "</div>\n",
              "<div style = \"float:right;width:50%\">\n",
              "<h2>그래프 예시 </h2>\n",
              "<img src=\"https://github.com/GoHakNeung/jupyter_judge/blob/main/graph/answer_8511.png?raw=true\" width = 150% height = 150%>\n",
              "</div>\n"
            ]
          },
          "metadata": {}
        }
      ]
    },
    {
      "cell_type": "code",
      "source": [
        "Question(question_8512)"
      ],
      "metadata": {
        "colab": {
          "base_uri": "https://localhost:8080/",
          "height": 926
        },
        "id": "0IBHjzlAqxaI",
        "outputId": "9b3b2015-4ac5-4e7d-ae3e-0ea891c24141"
      },
      "execution_count": null,
      "outputs": [
        {
          "output_type": "display_data",
          "data": {
            "text/plain": [
              "<IPython.core.display.HTML object>"
            ],
            "text/html": [
              "<h1 style = \"background-color:yellow; \">문제 설명</h1>\n",
              "<p>한전에서 제공하는 에너지원별 발전량입니다.</p>\n",
              "<p><a href =\"https://epsis.kpx.or.kr/epsisnew/selectEkgeGepTotChart.do?menuId=060101\" target = 'blank'>에너지원별 발전량</a></p>\n",
              "<p>연도별 신재생 발전량을 꺾은선 그래프로 그려봅시다.</p>\n",
              "<h2>데이터</h2>\n",
              "<p>연간 에너지원별 발전량으로 구성된 데이터로 1961년부터 2022년까지 포함된 데이터</p>\n",
              "<p>열 : year, thermal_power, LNG, nuclear_power, renewable_power, other, individual </p>\n",
              "<h2>그래프</h2>\n",
              "<p>가로 축에는 연도, 세로 축에는 신재생 에너지 발전량(MWh)을 꺾은선 그래프로 나타냅니다.</p>\n",
              "<p>그래프 제목 : 연도별 신재생 에너지 발전량</p>\n",
              "<p>가로축 제목 : 연도</p>\n",
              "<p>세로축 제목 : 신재생 에너지 발전량(MWh)</p>\n",
              "<p>가로축 범위 : 2010 ~ 2022</p>\n",
              "<HR>\n",
              "<div style = \"float:left;width:50%\">\n",
              "<h2>데이터 예시 </h2>\n",
              "data = pd.read_csv('/content/jupyter_judge/csv_file/output_by_the_material.csv')\n",
              "'year', 'renewable_power' 열에 있는 데이터를 사용해봅시다.\n",
              "</div>\n",
              "<div style = \"float:right;width:50%\">\n",
              "<h2>그래프 예시 </h2>\n",
              "<img src=\"https://github.com/GoHakNeung/jupyter_judge/blob/main/graph/answer_8512.png?raw=true\" width = 150% height = 150%>\n",
              "</div>\n"
            ]
          },
          "metadata": {}
        }
      ]
    },
    {
      "cell_type": "code",
      "source": [
        "Question(question_8513)"
      ],
      "metadata": {
        "colab": {
          "base_uri": "https://localhost:8080/",
          "height": 990
        },
        "id": "E0g_muBwqydD",
        "outputId": "f42baa51-9e3f-466f-cbe4-dcac85e823e0"
      },
      "execution_count": 2,
      "outputs": [
        {
          "output_type": "display_data",
          "data": {
            "text/plain": [
              "<IPython.core.display.HTML object>"
            ],
            "text/html": [
              "<h1 style = \"background-color:yellow; \">문제 설명</h1>\n",
              "<h2>관련 뉴스</h2>\n",
              "<p>2050년 탄소중립을 달성하기 위해 전력 생산의 많은 비중을 차지하는 화석연료를 재생에너지, 신에너지로의 전환 문제를 다루고 있는 신문기사입니다.</p>\n",
              "<p>다음 뉴스를 보고 탄소중립과 발전하는데 사용하는 에너지원을 생각해봅시다. <a href =\"https://www.etnews.com/20210416000107\" target = 'blank'>발전 관련 뉴스</a></p>\n",
              "<hr>\n",
              "<h2>데이터</h2>\n",
              "<p>문제에서 제공하는 데이터는 한전에서 제공하는 <a href =\"https://epsis.kpx.or.kr/epsisnew/selectEkgeGepTotChart.do?menuId=060101\" target = 'blank'>전원별 발전량</a>을 바탕으로 연도별, 전원별 발전량로 구성되어 있습니다.</p>\n",
              "<p>열 : year(연도), thermal(화력), LNG(천연가스), nuclear(원자력), renewable(신재생), other(기타), individual(개별발전) </p>\n",
              "<h2>그래프</h2>\n",
              "<p>가로 축에는 연도, 세로 축에는 화력 발전량(MWh)과 신재생 에너지 발전량(MWh)으로 꺾은선 그래프를 나타냅니다.</p>\n",
              "<p>그래프 제목 : 연도별 신재생 및 화력 에너지 발전량</p>\n",
              "<p>가로축 제목 : 연도</p>\n",
              "<p>세로축 제목 : 에너지 발전량(MWh)</p>\n",
              "<HR>\n",
              "<div style = \"float:left;width:50%\">\n",
              "<h2>데이터 예시 </h2>\n",
              "<p>data = pd.read_csv('/content/jupyter_judge/csv_file/output_by_the_material.csv')</p>\n",
              "<p>'year', 'renewable_power', 'thermal_power' 열에 있는 데이터를 사용해봅시다.</p>\n",
              "</div>\n",
              "<div style = \"float:right;width:50%\">\n",
              "<h2>그래프 예시 </h2>\n",
              "<img src=\"https://github.com/GoHakNeung/jupyter_judge/blob/main/graph/answer_8513.png?raw=true\" width = 150% height = 150%>\n",
              "</div>\n"
            ]
          },
          "metadata": {}
        }
      ]
    },
    {
      "cell_type": "code",
      "source": [
        "Question(question_8521)"
      ],
      "metadata": {
        "colab": {
          "base_uri": "https://localhost:8080/",
          "height": 926
        },
        "id": "v_uAMZUsq0Us",
        "outputId": "1aa8f695-8fb0-4333-83c1-44462d67130a"
      },
      "execution_count": null,
      "outputs": [
        {
          "output_type": "display_data",
          "data": {
            "text/plain": [
              "<IPython.core.display.HTML object>"
            ],
            "text/html": [
              "<h1 style = \"background-color:yellow; \">문제 설명</h1>\n",
              "<p>육아 휴직 통계와 관련하여 출생아 100명당 출생아 부,모 중 육아휴직자 수입니다.</p>\n",
              "<p><a href =\"https://kosis.kr/statHtml/statHtml.do?orgId=101&tblId=DT_CC2020B001&vw_cd=MT_ZTITLE&list_id=D_002_002_001&seqNo=&lang_mode=ko&language=kor&obj_var_id=&itm_id=&conn_path=MT_ZTITLE\" target = 'blank'>출생아 100명당 출생아 부모 중 육아휴직자 수</a></p>\n",
              "<p>연도별 엄마의 육아 휴직자 수를 꺾은선 그래프로 그려봅시다.</p>\n",
              "<h2>데이터</h2>\n",
              "<p>연도별 출생아 100명당 출생아의 아빠, 엄마 중 육아휴직자 수가 2012년부터 2020년까지 포함된 데이터</p>\n",
              "<p>열 : year, father, mother, total </p>\n",
              "<h2>그래프</h2>\n",
              "<p>가로 축에는 연도, 세로 축에는 출생아 100명당 엄마의 육아휴직자 수를 꺾은선 그래프로 나타냅니다.</p>\n",
              "<p>그래프 제목 : 출생아 100명당 엄마 육아휴직자 수의 연도별 변화</p>\n",
              "<p>가로축 제목 : 연도</p>\n",
              "<p>세로축 제목 : 육아휴직자 수(명)</p>\n",
              "<p>label : mother</p>\n",
              "<HR>\n",
              "<div style = \"float:left;width:50%\">\n",
              "<h2>데이터 예시 </h2>\n",
              "<p>data = pd.read_csv('/content/jupyter_judge/csv_file/babybreak.csv')</p>\n",
              "<p>'year', 'mother' 열에 있는 데이터를 사용해봅시다.</p>\n",
              "</div>\n",
              "<div style = \"float:right;width:50%\">\n",
              "<h2>그래프 예시 </h2>\n",
              "<img src=\"https://github.com/GoHakNeung/jupyter_judge/blob/main/graph/answer_8521.png?raw=true\" width = 150% height = 150%>\n",
              "</div>\n"
            ]
          },
          "metadata": {}
        }
      ]
    },
    {
      "cell_type": "code",
      "source": [
        "Question(question_8522)"
      ],
      "metadata": {
        "colab": {
          "base_uri": "https://localhost:8080/",
          "height": 926
        },
        "id": "M1j2f0kPq1pq",
        "outputId": "2504835d-b96d-4e9a-cea9-728afa12751b"
      },
      "execution_count": null,
      "outputs": [
        {
          "output_type": "display_data",
          "data": {
            "text/plain": [
              "<IPython.core.display.HTML object>"
            ],
            "text/html": [
              "<h1 style = \"background-color:yellow; \">문제 설명</h1>\n",
              "<p>육아 휴직 통계와 관련하여 출생아 100명당 출생아 부,모 중 육아휴직자 수입니다.</p>\n",
              "<p><a href =\"https://kosis.kr/statHtml/statHtml.do?orgId=101&tblId=DT_CC2020B001&vw_cd=MT_ZTITLE&list_id=D_002_002_001&seqNo=&lang_mode=ko&language=kor&obj_var_id=&itm_id=&conn_path=MT_ZTITLE\" target = 'blank'>출생아 100명당 출생아 부모 중 육아휴직자 수</a></p>\n",
              "<p>연도별 아빠의 육아 휴직자 수를 꺾은선 그래프로 그려봅시다.</p>\n",
              "<h2>데이터</h2>\n",
              "<p>연도별 출생아 100명당 출생아의 아빠, 엄마 중 육아휴직자 수가 2012년부터 2020년까지 포함된 데이터</p>\n",
              "<p>열 : year, father, mother, total </p>\n",
              "<h2>그래프</h2>\n",
              "<p>가로 축에는 연도, 세로 축에는 출생아 100명당 아빠의 육아휴직자 수를 꺾은선 그래프로 나타냅니다.</p>\n",
              "<p>그래프 제목 : 출생아 100명당 아빠 육아휴직자 수의 연도별 변화</p>\n",
              "<p>가로축 제목 : 연도</p>\n",
              "<p>세로축 제목 : 육아휴직자 수(명)</p>\n",
              "<p>label : father</p>\n",
              "<HR>\n",
              "<div style = \"float:left;width:50%\">\n",
              "<h2>데이터 예시 </h2>\n",
              "<p>data = pd.read_csv('/content/jupyter_judge/csv_file/babybreak.csv')</p>\n",
              "<p>'year', 'father' 열에 있는 데이터를 사용해봅시다.</p>\n",
              "</div>\n",
              "<div style = \"float:right;width:50%\">\n",
              "<h2>그래프 예시 </h2>\n",
              "<img src=\"https://github.com/GoHakNeung/jupyter_judge/blob/main/graph/answer_8522.png?raw=true\" width = 150% height = 150%>\n",
              "</div>\n"
            ]
          },
          "metadata": {}
        }
      ]
    },
    {
      "cell_type": "code",
      "source": [
        "Question(question_8523)"
      ],
      "metadata": {
        "colab": {
          "base_uri": "https://localhost:8080/",
          "height": 926
        },
        "id": "QVB2TsVbq2cQ",
        "outputId": "1f00e36e-4a43-4bb3-8d7b-2f7422a8d74c"
      },
      "execution_count": null,
      "outputs": [
        {
          "output_type": "display_data",
          "data": {
            "text/plain": [
              "<IPython.core.display.HTML object>"
            ],
            "text/html": [
              "<h1 style = \"background-color:yellow; \">문제 설명</h1>\n",
              "<p>육아 휴직 통계와 관련하여 출생아 100명당 출생아 부,모 중 육아휴직자 수입니다.</p>\n",
              "<p><a href =\"https://kosis.kr/statHtml/statHtml.do?orgId=101&tblId=DT_CC2020B001&vw_cd=MT_ZTITLE&list_id=D_002_002_001&seqNo=&lang_mode=ko&language=kor&obj_var_id=&itm_id=&conn_path=MT_ZTITLE\" target = 'blank'>출생아 100명당 출생아 부모 중 육아휴직자 수</a></p>\n",
              "<p>연도별 엄마와 아빠의 육아휴직자 수를 꺾은선 그래프로 그려봅시다.</p>\n",
              "<h2>데이터</h2>\n",
              "<p>연도별 출생아 100명당 출생아의 아빠, 엄마 중 육아휴직자 수가 2012년부터 2020년까지 포함된 데이터</p>\n",
              "<p>열 : year, father, mother, total </p>\n",
              "<h2>그래프</h2>\n",
              "<p>가로 축에는 연도, 세로 축에는 출생아 100명당 육아휴직자 수를 꺾은선 그래프로 나타냅니다.</p>\n",
              "<p>그래프 제목 : 연도별 출생아 100명당 육아휴직자 수</p>\n",
              "<p>가로축 제목 : 연도</p>\n",
              "<p>세로축 제목 : 육아휴직자 수(명)</p>\n",
              "<p>label : mother, father이며 그래프에 범례를 표시합니다.</p>\n",
              "<HR>\n",
              "<div style = \"float:left;width:50%\">\n",
              "<h2>데이터 예시 </h2>\n",
              "<p>data = pd.read_csv('/content/jupyter_judge/csv_file/babybreak.csv')</p>\n",
              "<p>'year', 'mother', 'father' 열에 있는 데이터를 사용해봅시다.</p>\n",
              "</div>\n",
              "<div style = \"float:right;width:50%\">\n",
              "<h2>그래프 예시 </h2>\n",
              "<img src=\"https://github.com/GoHakNeung/jupyter_judge/blob/main/graph/answer_8523.png?raw=true\" width = 150% height = 150%>\n",
              "</div>\n"
            ]
          },
          "metadata": {}
        }
      ]
    },
    {
      "cell_type": "code",
      "source": [
        "Question(question_8531)"
      ],
      "metadata": {
        "colab": {
          "base_uri": "https://localhost:8080/",
          "height": 903
        },
        "id": "_Yt1R7V1q4kA",
        "outputId": "cc032f17-3da3-4a95-8e27-372451587302"
      },
      "execution_count": null,
      "outputs": [
        {
          "output_type": "display_data",
          "data": {
            "text/plain": [
              "<IPython.core.display.HTML object>"
            ],
            "text/html": [
              "<h1 style = \"background-color:yellow; \">문제 설명</h1>\n",
              "<p>사교육비 실태를 체계적으로 조사하여 공신력 있는 통계를 정기적으로 작성한 데이터입니다.</p>\n",
              "<p><a href =\"https://kosis.kr/statHtml/statHtml.do?orgId=101&tblId=DT_1PE003&vw_cd=MT_ZTITLE&list_id=H1_10_003&scrId=&seqNo=&lang_mode=ko&obj_var_id=&itm_id=&conn_path=MT_ZTITLE&path=%252FstatisticsList%252FstatisticsListIndex.do\" target = 'blank'>학교급별 사교육비 총액 </a></p>\n",
              "<p>2022년의 초등학교, 중학교, 고등학교 사교육비를 원그래프로 나타내봅시다.</p>\n",
              "<h2>데이터</h2>\n",
              "<p>학교급별(초등학교, 중학교, 고등학교)로 지역(대도시, 대도시이외), 과목(일반교과,예체능 등), 유형(과외, 학원 등)으로 구분되며 2013년부터 2022년까지의 데이터</p>\n",
              "<p>열 : 연도, 초등학교 과목, 중학교 과목, 고등학교 과목 등</p>\n",
              "<h2>그래프</h2>\n",
              "<p>2022년 초등학교, 중학교, 고등학교 사교육비 총액을 원 그래프로 나타냅니다.</p>\n",
              "<p>그래프 제목 : 학교급별 사교육비 총액</p>\n",
              "<p>백분율을 넣습니다.</p>\n",
              "<p>초등학교 부분을 분리하여 강조합니다.(explode = [0.1, 0, 0])</p>\n",
              "<HR>\n",
              "<div style = \"float:left;width:50%\">\n",
              "<h2>데이터 예시 </h2>\n",
              "<p>school = ['초등학교', '중학교', '고등학교']</p>\n",
              "<p>amount = [119055, 70832, 69651]\n",
              "</div>\n",
              "<div style = \"float:right;width:50%\">\n",
              "<h2>그래프 예시 </h2>\n",
              "<img src=\"https://github.com/GoHakNeung/jupyter_judge/blob/main/graph/answer_8531.png?raw=true\" width = 150% height = 150%>\n",
              "</div>\n"
            ]
          },
          "metadata": {}
        }
      ]
    },
    {
      "cell_type": "code",
      "source": [
        "Question(question_8532)"
      ],
      "metadata": {
        "colab": {
          "base_uri": "https://localhost:8080/",
          "height": 903
        },
        "id": "AYQhKew0q7nW",
        "outputId": "0c8f7286-a8c6-4daa-fd97-748464eaf096"
      },
      "execution_count": null,
      "outputs": [
        {
          "output_type": "display_data",
          "data": {
            "text/plain": [
              "<IPython.core.display.HTML object>"
            ],
            "text/html": [
              "<h1 style = \"background-color:yellow; \">문제 설명</h1>\n",
              "<p>사교육비 실태를 체계적으로 조사하여 공신력 있는 통계를 정기적으로 작성한 데이터입니다.</p>\n",
              "<p><a href =\"https://kosis.kr/statHtml/statHtml.do?orgId=101&tblId=DT_1PE003&vw_cd=MT_ZTITLE&list_id=H1_10_003&scrId=&seqNo=&lang_mode=ko&obj_var_id=&itm_id=&conn_path=MT_ZTITLE&path=%252FstatisticsList%252FstatisticsListIndex.do\" target = 'blank'>학교급별 사교육비 총액 </a></p>\n",
              "<p>2022년의 초등학교 과목별 사교육비 총액을 원그래프로 나타내봅시다.</p>\n",
              "<h2>데이터</h2>\n",
              "<p>학교급별(초등학교, 중학교, 고등학교)로 지역(대도시, 대도시이외), 과목(일반교과,예체능 등), 유형(과외, 학원 등)으로 구분되며 2013년부터 2022년까지의 데이터</p>\n",
              "<p>열 : 연도, 초등학교 과목, 중학교 과목, 고등학교 과목 등</p>\n",
              "<p>데이터 중 2022년에서 초등학교_일반교과, 초등학교_예체능, 초등학교_예체능, 초등학교_취업,초등학교_진로 데이터를 추출</p>\n",
              "<h2>그래프</h2>\n",
              "<p>그래프 제목 : 2022년 초등학교 과목별 사교육비</p>\n",
              "<p>백분율을 넣습니다.(autopct = '%1.f%%')</p>\n",
              "<p>일반교과 부분을 분리하여 강조합니다.(explode = [0.1, 0, 0, 0])</p>\n",
              "<HR>\n",
              "<div style = \"float:left;width:50%\">\n",
              "<h2>데이터 예시 </h2>\n",
              "<p>subject = ['일반교과', '예체능', '취업', '진로']</p>\n",
              "<p>price_sub = [74849, 43973, 0, 233]</p>\n",
              "</div>\n",
              "<div style = \"float:right;width:50%\">\n",
              "<h2>그래프 예시 </h2>\n",
              "<img src=\"https://github.com/GoHakNeung/jupyter_judge/blob/main/graph/answer_8532.png?raw=true\" width = 150% height = 150%>\n",
              "</div>\n"
            ]
          },
          "metadata": {}
        }
      ]
    },
    {
      "cell_type": "code",
      "source": [
        "Question(question_8533)"
      ],
      "metadata": {
        "colab": {
          "base_uri": "https://localhost:8080/",
          "height": 880
        },
        "id": "F7Q1ERsHq9Hy",
        "outputId": "d332ad20-d56a-4235-e071-55337925d4da"
      },
      "execution_count": null,
      "outputs": [
        {
          "output_type": "display_data",
          "data": {
            "text/plain": [
              "<IPython.core.display.HTML object>"
            ],
            "text/html": [
              "<h1 style = \"background-color:yellow; \">문제 설명</h1>\n",
              "<p>사교육비 실태를 체계적으로 조사하여 공신력 있는 통계를 정기적으로 작성한 데이터입니다.</p>\n",
              "<p><a href =\"https://kosis.kr/statHtml/statHtml.do?orgId=101&tblId=DT_1PE003&vw_cd=MT_ZTITLE&list_id=H1_10_003&scrId=&seqNo=&lang_mode=ko&obj_var_id=&itm_id=&conn_path=MT_ZTITLE&path=%252FstatisticsList%252FstatisticsListIndex.do\" target = 'blank'>학교급별 사교육비 총액 </a></p>\n",
              "<p>2022년의 초등학교 일반교과의 과목별 사교육비 총액을 원그래프로 나타내봅시다.</p>\n",
              "<h2>데이터</h2>\n",
              "<p>학교급별(초등학교, 중학교, 고등학교)로 지역(대도시, 대도시이외), 과목(일반교과,예체능 등), 유형(과외, 학원 등)으로 구분되며 2013년부터 2022년까지의 데이터</p>\n",
              "<p>열 : 연도, 초등학교 과목, 중학교 과목, 고등학교 과목 등</p>\n",
              "<p>데이터 중 2022년에서 초등학교_국어, 초등학교_영어, 초등학교_수학, 초등학교_사회과학,초등학교_논술, 초등학교_컴퓨터, 초등학교_제2외국어 데이터를 추출</p>\n",
              "<h2>그래프</h2>\n",
              "<p>그래프 제목 : 2022년 초등학교 일반교과 과목별 사교육비</p>\n",
              "<p>백분율을 넣습니다.(autopct = '%1.f%%')</p>\n",
              "<HR>\n",
              "<div style = \"float:left;width:50%\">\n",
              "<h2>데이터 예시 </h2>\n",
              "<p>gen_subject = ['국어' ,'영어', '수학', '사회과학', '논술', '컴퓨터', '제2외국어']</p>\n",
              "<p>gen_price = [7082, 34525, 22585, 2989, 5398, 914, 1357]</p>\n",
              "</div>\n",
              "<div style = \"float:right;width:50%\">\n",
              "<h2>그래프 예시 </h2>\n",
              "<img src=\"https://github.com/GoHakNeung/jupyter_judge/blob/main/graph/answer_8533.png?raw=true\" width = 150% height = 150%>\n",
              "</div>\n"
            ]
          },
          "metadata": {}
        }
      ]
    },
    {
      "cell_type": "code",
      "source": [
        "Question(question_8534)"
      ],
      "metadata": {
        "colab": {
          "base_uri": "https://localhost:8080/",
          "height": 880
        },
        "id": "ZiWnx3rzq-Qh",
        "outputId": "f2fcf5b5-8148-4dbd-ab6b-1d3f48d3941c"
      },
      "execution_count": null,
      "outputs": [
        {
          "output_type": "display_data",
          "data": {
            "text/plain": [
              "<IPython.core.display.HTML object>"
            ],
            "text/html": [
              "<h1 style = \"background-color:yellow; \">문제 설명</h1>\n",
              "<p>사교육비 실태를 체계적으로 조사하여 공신력 있는 통계를 정기적으로 작성한 데이터입니다.</p>\n",
              "<p><a href =\"https://kosis.kr/statHtml/statHtml.do?orgId=101&tblId=DT_1PE003&vw_cd=MT_ZTITLE&list_id=H1_10_003&scrId=&seqNo=&lang_mode=ko&obj_var_id=&itm_id=&conn_path=MT_ZTITLE&path=%252FstatisticsList%252FstatisticsListIndex.do\" target = 'blank'>학교급별 사교육비 총액 </a></p>\n",
              "<p>연도별 초등학교 사교육비 총액을 꺾은선 그래프로 나타내봅시다.</p>\n",
              "<h2>데이터</h2>\n",
              "<p>학교급별(초등학교, 중학교, 고등학교)로 지역(대도시, 대도시이외), 과목(일반교과,예체능 등), 유형(과외, 학원 등)으로 구분되며 2013년부터 2022년까지의 데이터</p>\n",
              "<p>열 : 연도, 초등학교 과목, 중학교 과목, 고등학교 과목 등</p>\n",
              "<h2>그래프</h2>\n",
              "<p>그래프 제목 : 연도별 초등학교 사교육비 총액</p>\n",
              "<p>가로축 제목 : 연도</p>\n",
              "<p>세로축 제목 : 사교육비(억원)</p>\n",
              "<HR>\n",
              "<div style = \"float:left;width:50%\">\n",
              "<h2>데이터 예시 </h2>\n",
              "<p>data = pd.read_csv('/content/jupyter_judge/csv_file/private_education_expense.csv')</p>\n",
              "<p>'연도', '초등학교_전체' 열에 있는 데이터를 사용해봅시다.</p>\n",
              "</div>\n",
              "<div style = \"float:right;width:50%\">\n",
              "<h2>그래프 예시 </h2>\n",
              "<img src=\"https://github.com/GoHakNeung/jupyter_judge/blob/main/graph/answer_8534.png?raw=true\" width = 150% height = 150%>\n",
              "</div>\n"
            ]
          },
          "metadata": {}
        }
      ]
    },
    {
      "cell_type": "code",
      "source": [
        "Question(question_8541)"
      ],
      "metadata": {
        "colab": {
          "base_uri": "https://localhost:8080/",
          "height": 880
        },
        "id": "Fscm5k5Pq_bJ",
        "outputId": "bde0d687-483d-420d-bc3b-c2184d476fd5"
      },
      "execution_count": null,
      "outputs": [
        {
          "output_type": "display_data",
          "data": {
            "text/plain": [
              "<IPython.core.display.HTML object>"
            ],
            "text/html": [
              "<h1 style = \"background-color:yellow; \">문제 설명</h1>\n",
              "<p>교통사고분석시스템(TAAS)는 경찰, 보험사 등이 교통사고 자료를 수집,통합,분석하여 교통안전 정책 수립 등에 활용될 수 있도록 교통사고 정보를 제공합니다.</p>\n",
              "<p><a href =\"https://taas.koroad.or.kr/sta/acs/gus/selectPopltnTfcacdSido.do?menuId=WEB_KMP_OVT_MVT_TAC_PTA\" target = 'blank'>인구 10만명당 교통사고 </a></p>\n",
              "<p>광역시에서 발생한 교통사고 건수를 원그래프로 나타내봅시다. </p>\n",
              "<h2>데이터</h2>\n",
              "<p>인구 10만명당 교통사고 수, 사망자 수를 지역별로 제공한 데이터</p>\n",
              "<p>열 : city_province, metropolitan_city, accident, death</p>\n",
              "<p>기존 데이터에서 행정구역(metropolitan_city)을 추가하고 부상자 수를 삭제함</p>\n",
              "<h2>그래프</h2>\n",
              "<p>그래프 제목 : 광역시에서 발생하는 교통사고</p>\n",
              "<p>백분율을 넣습니다.(autopct = '%1.f%%')</p>\n",
              "<HR>\n",
              "<div style = \"float:left;width:50%\">\n",
              "<h2>데이터 예시 </h2>\n",
              "<p>data = pd.read_csv('/content/jupyter_judge/csv_file/car_accident.csv')</p>\n",
              "<p>data_city = data[data['metropolitan_city'] == '광역시']</p>\n",
              "<p>city_province = data_city['city_province']</p>\n",
              "<p>amount = data_city['accident']</p>\n",
              "</div>\n",
              "<div style = \"float:right;width:50%\">\n",
              "<h2>그래프 예시 </h2>\n",
              "<img src=\"https://github.com/GoHakNeung/jupyter_judge/blob/main/graph/answer_8541.png?raw=true\" width = 150% height = 150%>\n",
              "</div>\n"
            ]
          },
          "metadata": {}
        }
      ]
    },
    {
      "cell_type": "code",
      "source": [
        "Question(question_8542)"
      ],
      "metadata": {
        "colab": {
          "base_uri": "https://localhost:8080/",
          "height": 880
        },
        "id": "QBT3HC-7rA6-",
        "outputId": "077d88e4-6b85-492b-f226-420fe135ced3"
      },
      "execution_count": null,
      "outputs": [
        {
          "output_type": "display_data",
          "data": {
            "text/plain": [
              "<IPython.core.display.HTML object>"
            ],
            "text/html": [
              "<h1 style = \"background-color:yellow; \">문제 설명</h1>\n",
              "<p>교통사고분석시스템(TAAS)는 경찰, 보험사 등이 교통사고 자료를 수집,통합,분석하여 교통안전 정책 수립 등에 활용될 수 있도록 교통사고 정보를 제공합니다.</p>\n",
              "<p><a href =\"https://taas.koroad.or.kr/sta/acs/gus/selectPopltnTfcacdSido.do?menuId=WEB_KMP_OVT_MVT_TAC_PTA\" target = 'blank'>인구 10만명당 교통사고 </a></p>\n",
              "<p>17개 시도에서 발생한 교통사고 사망자 수를 히스토그램으로 나타내봅시다.</p>\n",
              "<h2>데이터</h2>\n",
              "<p>인구 10만명당 교통사고 수, 사망자 수를 지역별로 제공한 데이터</p>\n",
              "<p>열 : city_province, metropolitan_city, accident, death</p>\n",
              "<p>기존 데이터에서 행정구역(metropolitan_city)을 추가하고 부상자 수를 삭제함</p>\n",
              "<h2>그래프</h2>\n",
              "<p>계급의 크기는 1이며, 계급은 bins = [2,3,4,5,6,7,8,9,10,11,12]입니다.</p>\n",
              "<p>그래프 제목 : 17개 시도에서 발생한 인구 10만명당 교통사고 사망자 히스토그램</p>\n",
              "<HR>\n",
              "<div style = \"float:left;width:50%\">\n",
              "<h2>데이터 예시 </h2>\n",
              "<p>data = pd.read_csv('/content/jupyter_judge/csv_file/car_accident.csv')</p>\n",
              "<p>death = data['death']\n",
              "</div>\n",
              "<div style = \"float:right;width:50%\">\n",
              "<h2>그래프 예시 </h2>\n",
              "<img src=\"https://github.com/GoHakNeung/jupyter_judge/blob/main/graph/answer_8542.png?raw=true\" width = 150% height = 150%>\n",
              "</div>\n"
            ]
          },
          "metadata": {}
        }
      ]
    },
    {
      "cell_type": "code",
      "source": [
        "Question(question_8551)"
      ],
      "metadata": {
        "colab": {
          "base_uri": "https://localhost:8080/",
          "height": 920
        },
        "id": "9FQOuMqXrEEa",
        "outputId": "3f060955-4873-4a03-a1f0-adaf4ca6b270"
      },
      "execution_count": null,
      "outputs": [
        {
          "output_type": "display_data",
          "data": {
            "text/plain": [
              "<IPython.core.display.HTML object>"
            ],
            "text/html": [
              "<h1 style = \"background-color:yellow; \">문제 설명</h1>\n",
              "<p>영화관입장권통합전산망(KOBIS:KOREA Box-office Information System)은 전국영화관 입장권 발권정보를 실시간으로 집계처리하는 시스템(서비스 플랫폼)으로, 신속하고 다양한 박스오피스 정보와 각종 영화산업 통계정보를 제공합니다.</p>\n",
              "<p><a href =\"https://www.kobis.or.kr/kobis/business/stat/boxs/findFormerBoxOfficeList.do\" target = 'blank'>대한민국에서 상영한 역대 박스오피스 </a></p>\n",
              "<p>1000만 관객을 넘은 영화를 대상으로 100만명을 단위로 한 히스토그램을 나타내봅시다.</p>\n",
              "<h2>데이터</h2>\n",
              "<p>영화 제목, 개봉일, 매출액, 관객수, 스크린수, 상영횟수를 제공한 데이터</p>\n",
              "<p>열 : rank, movie_title, sales, total_movigoer, total_screen, screening_times, sales_per_screening</p>\n",
              "<p>기존 데이터에서 개봉일을 제거하고 상영횟수 당 매출액을 추가함</p>\n",
              "<h2>그래프</h2>\n",
              "<p>그래프 제목 : 1000만 관객을 넘은 영화의 히스토그램</p>\n",
              "<p>계급의 크기는 1000000</p>\n",
              "<p>구간은 8(bins = 8), 범위는 10000000~18000000입니다.(range = (10000000, 18000000))</p>\n",
              "<HR>\n",
              "<div style = \"float:left;width:50%\">\n",
              "<h2>데이터 예시 </h2>\n",
              "<p>data = pd.read_csv('/content/jupyter_judge/csv_file/moviegoer.csv')</p>\n",
              "<p>movigoer = data['total_moviegoer']</p>\n",
              "</div>\n",
              "<div style = \"float:right;width:50%\">\n",
              "<h2>그래프 예시 </h2>\n",
              "<img src=\"https://github.com/GoHakNeung/jupyter_judge/blob/main/graph/answer_8551.png?raw=true\" width = 150% height = 150%>\n",
              "</div>\n"
            ]
          },
          "metadata": {}
        }
      ]
    },
    {
      "cell_type": "code",
      "source": [
        "Question(question_8552)"
      ],
      "metadata": {
        "colab": {
          "base_uri": "https://localhost:8080/",
          "height": 920
        },
        "id": "jqqBB7s4rHDQ",
        "outputId": "4007b96c-22fa-4fae-e811-7efa7cd1ca46"
      },
      "execution_count": null,
      "outputs": [
        {
          "output_type": "display_data",
          "data": {
            "text/plain": [
              "<IPython.core.display.HTML object>"
            ],
            "text/html": [
              "<h1 style = \"background-color:yellow; \">문제 설명</h1>\n",
              "<p>영화관입장권통합전산망(KOBIS:KOREA Box-office Information System)은 전국영화관 입장권 발권정보를 실시간으로 집계처리하는 시스템(서비스 플랫폼)으로, 신속하고 다양한 박스오피스 정보와 각종 영화산업 통계정보를 제공합니다.</p>\n",
              "<p><a href =\"https://www.kobis.or.kr/kobis/business/stat/boxs/findFormerBoxOfficeList.do\" target = 'blank'>대한민국에서 상영한 역대 박스오피스 </a></p>\n",
              "<p>1000만 관객을 넘은 영화를 대상으로 1회 상영당 매출액을 세로 막대그래프로 나타내봅시다.</p>\n",
              "<h2>데이터</h2>\n",
              "<p>영화 제목, 개봉일, 매출액, 관객수, 스크린수, 상영횟수를 제공한 데이터</p>\n",
              "<p>열 : rank, movie_title, sales, total_movigoer, total_screen, screening_times, sales_per_screening</p>\n",
              "<p>기존 데이터에서 개봉일을 제거하고 상영횟수 당 매출액을 추가함</p>\n",
              "<h2>그래프</h2>\n",
              "<p>1회 상영당 매출액이 상위 15개인 영화만 그래프로 나타냅니다.</p>\n",
              "<p>그래프 제목 : 1000만 관객 넘은 영화 중 1회 상영당 매출액</p>\n",
              "<p>가로축 이름 : 매출액(원/상영))</p>\n",
              "<HR>\n",
              "<div style = \"float:left;width:50%\">\n",
              "<h2>데이터 예시 </h2>\n",
              "<p>data = pd.read_csv('/content/jupyter_judge/csv_file/moviegoer.csv')</p>\n",
              "<p>data = data.sort_values('sales_per_screening', ascending = False)[:15]</p>\n",
              "<p>sales_per_screening = data['sales_per_screening']</p>\n",
              "<p>movie_title = data['movie_title']\n",
              "</div>\n",
              "<div style = \"float:right;width:50%\">\n",
              "<h2>그래프 예시 </h2>\n",
              "<img src=\"https://github.com/GoHakNeung/jupyter_judge/blob/main/graph/answer_8552.png?raw=true\" width = 150% height = 150%>\n",
              "</div>\n"
            ]
          },
          "metadata": {}
        }
      ]
    },
    {
      "cell_type": "code",
      "source": [
        "Question(question_8561)"
      ],
      "metadata": {
        "colab": {
          "base_uri": "https://localhost:8080/",
          "height": 995
        },
        "id": "LVTQ3nTjrJTe",
        "outputId": "8239d8e9-7830-4a9b-9c32-5987a7b60229"
      },
      "execution_count": null,
      "outputs": [
        {
          "output_type": "display_data",
          "data": {
            "text/plain": [
              "<IPython.core.display.HTML object>"
            ],
            "text/html": [
              "<h1 style = \"background-color:yellow; \">문제 설명</h1>\n",
              "<p>서울교통공사 1-8호선 30분 단위 평균 혼잡도로 30분간 지나는 열차들의 평균 혼잡도(정원대비 승차인원으로, 승차인과 좌석수가 일치할 경우를 혼잡도 34%로 산정) 입니다.(단위: %)</p>\n",
              "<p><a href =\"https://www.data.go.kr/data/15071311/fileData.do\" target = 'blank'>지하철 혼잡도</a></p>\n",
              "<p>평일 사당역 내선의 혼잡도를 히스토그램과 혼잡도의 평균을 수직선으로 나타내봅시다.</p>\n",
              "<h2>데이터</h2>\n",
              "<p>서울교통공사 혼잡도 데이터는 요일구분(평일, 토요일, 일요일), 호선, 역번호, 역명, 상하선구분, 30분단위 별 혼잡도 데이터로 구성되어 있습니다.</p>\n",
              "<p>열 : weekday_inner, weekday_outer, sat_inner, sat_outer, holiday_inner, holiday_outer</p>\n",
              "<p>기존 데이터에서 사당역만 추출하여 요일 구분과 내선 외선을 구분한 데이터로 수정함.</p>\n",
              "<h2>그래프</h2>\n",
              "<p>그래프 제목 : 평일 사당역 내선의 혼잡도 히스토그램 </p>\n",
              "<p>가로축 이름 : 혼잡도(%)</p>\n",
              "<p>세로축 이름 : 도수</p>\n",
              "<p>수직선 x좌표 : 혼잡도의 평균</p>\n",
              "<p>수직선의 y좌표 범위 : 0~12\n",
              "<p>수직선의 label : 평균\n",
              "<p>수직선의 색 : 빨간색</p>\n",
              "<HR>\n",
              "<div style = \"float:left;width:50%\">\n",
              "<h2>데이터 예시 </h2>\n",
              "<p>data = pd.read_csv('/content/jupyter_judge/csv_file/subway_congestion.csv')</p>\n",
              "<p>weekday_inner= data['weekday_inner']</p>\n",
              "<p>weekday_inner_mean = weekday_inner.mean()\n",
              "</div>\n",
              "<div style = \"float:right;width:50%\">\n",
              "<h2>그래프 예시 </h2>\n",
              "<img src=\"https://github.com/GoHakNeung/jupyter_judge/blob/main/graph/answer_8561.png?raw=true\" width = 150% height = 150%>\n",
              "</div>\n"
            ]
          },
          "metadata": {}
        }
      ]
    },
    {
      "cell_type": "code",
      "source": [
        "Question(question_8562)"
      ],
      "metadata": {
        "colab": {
          "base_uri": "https://localhost:8080/",
          "height": 903
        },
        "id": "tSrXgWLIrK21",
        "outputId": "0ccd5dca-32c4-4993-d4c7-11d3dd7cb548"
      },
      "execution_count": null,
      "outputs": [
        {
          "output_type": "display_data",
          "data": {
            "text/plain": [
              "<IPython.core.display.HTML object>"
            ],
            "text/html": [
              "<h1 style = \"background-color:yellow; \">문제 설명</h1>\n",
              "<p>서울교통공사 1-8호선 30분 단위 평균 혼잡도로 30분간 지나는 열차들의 평균 혼잡도(정원대비 승차인원으로, 승차인과 좌석수가 일치할 경우를 혼잡도 34%로 산정) 입니다.(단위: %)</p>\n",
              "<p><a href =\"https://www.data.go.kr/data/15071311/fileData.do\" target = 'blank'>지하철 혼잡도</a></p>\n",
              "<p>평일 사당역 내선과 외선의 상자그림을 나타내봅시다.</p>\n",
              "<h2>데이터</h2>\n",
              "<p>서울교통공사 혼잡도 데이터는 요일구분(평일, 토요일, 일요일), 호선, 역번호, 역명, 상하선구분, 30분단위 별 혼잡도 데이터로 구성되어 있습니다.</p>\n",
              "<p>열 : weekday_inner, weekday_outer, sat_inner, sat_outer, holiday_inner, holiday_outer</p>\n",
              "<p>기존 데이터에서 사당역만 추출하여 요일 구분과 내선 외선을 구분한 데이터로 수정함.</p>\n",
              "<h2>그래프</h2>\n",
              "<p>그래프 제목 : 평일 사당역 내선, 외선 상자그림 </p>\n",
              "<p>가로축 이름 : 내선, 외선</p>\n",
              "<p>세로축 이름 : 혼잡도(%)</p>\n",
              "<HR>\n",
              "<div style = \"float:left;width:50%\">\n",
              "<h2>데이터 예시 </h2>\n",
              "<p>data = pd.read_csv('/content/jupyter_judge/csv_file/subway_congestion.csv')</p>\n",
              "<p>weekday_inner = data['weekday_inner']</p>\n",
              "<p>weekday_outer = data['weekday_outer']</p>\n",
              "</div>\n",
              "<div style = \"float:right;width:50%\">\n",
              "<h2>그래프 예시 </h2>\n",
              "<img src=\"https://github.com/GoHakNeung/jupyter_judge/blob/main/graph/answer_8562.png?raw=true\" width = 150% height = 150%>\n",
              "</div>\n"
            ]
          },
          "metadata": {}
        }
      ]
    },
    {
      "cell_type": "code",
      "source": [
        "Question(question_8563)"
      ],
      "metadata": {
        "colab": {
          "base_uri": "https://localhost:8080/",
          "height": 880
        },
        "id": "6C-GTKIZrLye",
        "outputId": "83660872-3525-4c4a-a35d-a95d9bb28c6b"
      },
      "execution_count": null,
      "outputs": [
        {
          "output_type": "display_data",
          "data": {
            "text/plain": [
              "<IPython.core.display.HTML object>"
            ],
            "text/html": [
              "<h1 style = \"background-color:yellow; \">문제 설명</h1>\n",
              "<p>서울교통공사 1-8호선 30분 단위 평균 혼잡도로 30분간 지나는 열차들의 평균 혼잡도(정원대비 승차인원으로, 승차인과 좌석수가 일치할 경우를 혼잡도 34%로 산정) 입니다.(단위: %)</p>\n",
              "<p><a href =\"https://www.data.go.kr/data/15071311/fileData.do\" target = 'blank'>지하철 혼잡도</a></p>\n",
              "<p>평일 사당역 외선의 시간대별 혼잡도 세로 막대그래프를 나타내봅시다.</p>\n",
              "<h2>데이터</h2>\n",
              "<p>서울교통공사 혼잡도 데이터는 요일구분(평일, 토요일, 일요일), 호선, 역번호, 역명, 상하선구분, 30분단위 별 혼잡도 데이터로 구성되어 있습니다.</p>\n",
              "<p>열 : time, weekday_inner, weekday_outer, sat_inner, sat_outer, holiday_inner, holiday_outer</p>\n",
              "<p>기존 데이터에서 사당역만 추출하여 요일 구분과 내선 외선을 구분한 데이터로 수정함.</p>\n",
              "<h2>그래프</h2>\n",
              "<p>그래프 제목 : 시간대별 내선 혼잡도</p>\n",
              "<p>가로축 제목 : 혼잡도(%)</p>\n",
              "<HR>\n",
              "<div style = \"float:left;width:50%\">\n",
              "<h2>데이터 예시 </h2>\n",
              "<p>data = pd.read_csv('/content/jupyter_judge/csv_file/subway_congestion.csv')</p>\n",
              "<p>weekday_inner = data['weekday_inner']</p>\n",
              "<p>subway_time = data['time']</p>\n",
              "</div>\n",
              "<div style = \"float:right;width:50%\">\n",
              "<h2>그래프 예시 </h2>\n",
              "<img src=\"https://github.com/GoHakNeung/jupyter_judge/blob/main/graph/answer_8563.png?raw=true\" width = 150% height = 150%>\n",
              "</div>\n"
            ]
          },
          "metadata": {}
        }
      ]
    },
    {
      "cell_type": "code",
      "source": [
        "Question(question_8564)"
      ],
      "metadata": {
        "colab": {
          "base_uri": "https://localhost:8080/",
          "height": 880
        },
        "id": "Ne9tgN2OrMqu",
        "outputId": "4c25276a-655f-4ee6-d942-cb3ea91fe6fd"
      },
      "execution_count": null,
      "outputs": [
        {
          "output_type": "display_data",
          "data": {
            "text/plain": [
              "<IPython.core.display.HTML object>"
            ],
            "text/html": [
              "<h1 style = \"background-color:yellow; \">문제 설명</h1>\n",
              "<p>서울교통공사 1-8호선 30분 단위 평균 혼잡도로 30분간 지나는 열차들의 평균 혼잡도(정원대비 승차인원으로, 승차인과 좌석수가 일치할 경우를 혼잡도 34%로 산정) 입니다.(단위: %)</p>\n",
              "<p><a href =\"https://www.data.go.kr/data/15071311/fileData.do\" target = 'blank'>지하철 혼잡도</a></p>\n",
              "<p>평일 사당역 외선의 시간대별 혼잡도 세로 막대그래프를 나타내봅시다.</p>\n",
              "<h2>데이터</h2>\n",
              "<p>서울교통공사 혼잡도 데이터는 요일구분(평일, 토요일, 일요일), 호선, 역번호, 역명, 상하선구분, 30분단위 별 혼잡도 데이터로 구성되어 있습니다.</p>\n",
              "<p>열 : time, weekday_inner, weekday_outer, sat_inner, sat_outer, holiday_inner, holiday_outer</p>\n",
              "<p>기존 데이터에서 사당역만 추출하여 요일 구분과 내선 외선을 구분한 데이터로 수정함.</p>\n",
              "<h2>그래프</h2>\n",
              "<p>그래프 제목 : 평일 시간대별 외선 혼잡도</p>\n",
              "<p>가로축 제목 : 혼잡도(%)</p>\n",
              "<HR>\n",
              "<div style = \"float:left;width:50%\">\n",
              "<h2>데이터 예시 </h2>\n",
              "<p>data = pd.read_csv('/content/jupyter_judge/csv_file/subway_congestion.csv')</p>\n",
              "<p>weekday_inner = data['weekday_outer']</p>\n",
              "<p>subway_time = data['time']</p>\n",
              "</div>\n",
              "<div style = \"float:right;width:50%\">\n",
              "<h2>그래프 예시 </h2>\n",
              "<img src=\"https://github.com/GoHakNeung/jupyter_judge/blob/main/graph/answer_8564.png?raw=true\" width = 150% height = 150%>\n",
              "</div>\n"
            ]
          },
          "metadata": {}
        }
      ]
    },
    {
      "cell_type": "code",
      "source": [
        "Question(question_8571)"
      ],
      "metadata": {
        "colab": {
          "base_uri": "https://localhost:8080/",
          "height": 972
        },
        "id": "YmnWiz6HrN-5",
        "outputId": "00437b1c-25c9-4c85-cc51-507c9a374970"
      },
      "execution_count": null,
      "outputs": [
        {
          "output_type": "display_data",
          "data": {
            "text/plain": [
              "<IPython.core.display.HTML object>"
            ],
            "text/html": [
              "<h1 style = \"background-color:yellow; \">문제 설명</h1>\n",
              "<p>서울특별시 공공자전거 이용현황 데이터로 서울특별시에서 운영하는 공공자전거(따릉이)에 대한 일별 대여건수 데이터를 제공합니다.</p>\n",
              "<p><a href =\"https://www.data.go.kr/data/15051873/fileData.do\" target = 'blank'>서울특별시 공공자전거 이용현</a></p>\n",
              "<p>기상청 기상자료개방포털은 과거 기온, 기온현상일수 등을 제공합니다.\n",
              "<p><a href =\"https://data.kma.go.kr/cmmn/main.do\" target = 'blank'>기상자료 개방포털</a></p>\n",
              "<p>일별 대여건수를 상자그림으로 나타내봅시다.</p>\n",
              "<h2>데이터</h2>\n",
              "<p>서울시 공공자전거 데이터는 대여일시, 대여건수로 구성되어 있으며 6개월 단위로 제공됩니다.</p>\n",
              "<p>기상자료개방포털에서 기온, 미세먼지농도 데이터를 일일데이터로 제공됩니다.</p>\n",
              "<p>열 : day, rent, humidity, temperature, dust</p>\n",
              "<p>문제에서 제공하는 데이터는 공공데이터를 정리하여 2022년 1월부터 12월까지 서울시 공공자전거 대여건수와 기온, 미세먼지 농도로 재구성</p>\n",
              "<h2>그래프</h2>\n",
              "<p>그래프 제목 : 서울시 공공자전거 대여건수 상자그림 </p>\n",
              "<p>가로축 이름 : 대여</p>\n",
              "<p>세로축 이름 : 대여건수(건)</p>\n",
              "<HR>\n",
              "<div style = \"float:left;width:50%\">\n",
              "<h2>데이터 예시 </h2>\n",
              "<p>data = pd.read_csv('/content/jupyter_judge/csv_file/bike_seoul.csv')</p>\n",
              "<p>rent = data['rent']</p>\n",
              "</div>\n",
              "<div style = \"float:right;width:50%\">\n",
              "<h2>그래프 예시 </h2>\n",
              "<img src=\"https://github.com/GoHakNeung/jupyter_judge/blob/main/graph/answer_8571.png?raw=true\" width = 150% height = 150%>\n",
              "</div>\n"
            ]
          },
          "metadata": {}
        }
      ]
    },
    {
      "cell_type": "code",
      "source": [
        "Question(question_8572)"
      ],
      "metadata": {
        "colab": {
          "base_uri": "https://localhost:8080/",
          "height": 995
        },
        "id": "eTBMObsurOuZ",
        "outputId": "54e342fc-6ab9-408b-ef10-4c1e40776f5c"
      },
      "execution_count": null,
      "outputs": [
        {
          "output_type": "display_data",
          "data": {
            "text/plain": [
              "<IPython.core.display.HTML object>"
            ],
            "text/html": [
              "<h1 style = \"background-color:yellow; \">문제 설명</h1>\n",
              "<p>서울특별시 공공자전거 이용현황 데이터로 서울특별시에서 운영하는 공공자전거(따릉이)에 대한 일별 대여건수 데이터를 제공합니다.</p>\n",
              "<p><a href =\"https://www.data.go.kr/data/15051873/fileData.do\" target = 'blank'>서울특별시 공공자전거 이용현</a></p>\n",
              "<p>기상청 기상자료개방포털은 과거 기온, 기온현상일수 등을 제공합니다.\n",
              "<p><a href =\"https://data.kma.go.kr/cmmn/main.do\" target = 'blank'>기상자료 개방포털</a></p>\n",
              "<p>서울시 공공자전거 대여건수를 히스토그램으로 나타내고 평균을 수직선으로 나타내봅시다.</p>\n",
              "<h2>데이터</h2>\n",
              "<p>서울시 공공자전거 데이터는 대여일시, 대여건수로 구성되어 있으며 6개월 단위로 제공됩니다.</p>\n",
              "<p>기상자료개방포털에서 기온, 미세먼지농도 데이터를 일일데이터로 제공됩니다.</p>\n",
              "<p>열 : day, rent, humidity, temperature, dust</p>\n",
              "<p>문제에서 제공하는 데이터는 공공데이터를 정리하여 2022년 1월부터 12월까지 서울시 공공자전거 대여건수와 기온, 미세먼지 농도로 재구성</p>\n",
              "<h2>그래프</h2>\n",
              "<p>그래프 제목 : 서울시 공공자전거 대여건수 히스토그램 </p>\n",
              "<p>세로축 이름 : 도수</p>\n",
              "<p>수직선 범위 : 0 ~ 60</p>\n",
              "<p>수직선 색 : 빨강</p>\n",
              "<HR>\n",
              "<div style = \"float:left;width:50%\">\n",
              "<h2>데이터 예시 </h2>\n",
              "<p>data = pd.read_csv('/content/jupyter_judge/csv_file/bike_seoul.csv')</p>\n",
              "<p>rent = data['rent']</p>\n",
              "</div>\n",
              "<div style = \"float:right;width:50%\">\n",
              "<h2>그래프 예시 </h2>\n",
              "<img src=\"https://github.com/GoHakNeung/jupyter_judge/blob/main/graph/answer_8572.png?raw=true\" width = 150% height = 150%>\n",
              "</div>\n"
            ]
          },
          "metadata": {}
        }
      ]
    },
    {
      "cell_type": "code",
      "source": [
        "Question(question_8573)"
      ],
      "metadata": {
        "colab": {
          "base_uri": "https://localhost:8080/",
          "height": 972
        },
        "id": "YiZF5i0arQTc",
        "outputId": "d7c93402-ad4c-465b-b323-bc609e997f0e"
      },
      "execution_count": null,
      "outputs": [
        {
          "output_type": "display_data",
          "data": {
            "text/plain": [
              "<IPython.core.display.HTML object>"
            ],
            "text/html": [
              "<h1 style = \"background-color:yellow; \">문제 설명</h1>\n",
              "<p>서울특별시 공공자전거 이용현황 데이터로 서울특별시에서 운영하는 공공자전거(따릉이)에 대한 일별 대여건수 데이터를 제공합니다.</p>\n",
              "<p><a href =\"https://www.data.go.kr/data/15051873/fileData.do\" target = 'blank'>서울특별시 공공자전거 이용현</a></p>\n",
              "<p>기상청 기상자료개방포털은 과거 기온, 기온현상일수 등을 제공합니다.\n",
              "<p><a href =\"https://data.kma.go.kr/cmmn/main.do\" target = 'blank'>기상자료 개방포털</a></p>\n",
              "<p>일별 대여건수와 온도의 산점도와 회귀선을 나타내봅시다.</p>\n",
              "<h2>데이터</h2>\n",
              "<p>서울시 공공자전거 데이터는 대여일시, 대여건수로 구성되어 있으며 6개월 단위로 제공됩니다.</p>\n",
              "<p>기상자료개방포털에서 기온, 미세먼지농도 데이터를 일일데이터로 제공됩니다.</p>\n",
              "<p>열 : day, rent, humidity, temperature, dust</p>\n",
              "<p>2022년 1월부터 12월까지 서울시 공공자전거 대여건수와 기온, 미세먼지 농도로 재구성</p>\n",
              "<h2>그래프</h2>\n",
              "<p>그래프 제목 : 대여건수와 온도의 관계  </p>\n",
              "<p>가로축 이름 : 대여건수</p>\n",
              "<p>세로축 이름 : 온도</p>\n",
              "<HR>\n",
              "<div style = \"float:left;width:50%\">\n",
              "<h2>데이터 예시 </h2>\n",
              "<p>data = pd.read_csv('/content/jupyter_judge/csv_file/bike_seoul.csv')</p>\n",
              "<p>rent = data['rent']</p>\n",
              "<p>temperature = data['temperature']</p>\n",
              "</div>\n",
              "<div style = \"float:right;width:50%\">\n",
              "<h2>그래프 예시 </h2>\n",
              "<img src=\"https://github.com/GoHakNeung/jupyter_judge/blob/main/graph/answer_8573.png?raw=true\" width = 150% height = 150%>\n",
              "</div>\n"
            ]
          },
          "metadata": {}
        }
      ]
    },
    {
      "cell_type": "code",
      "source": [
        "Question(question_8574)"
      ],
      "metadata": {
        "id": "rJmoTpI_rSf7",
        "outputId": "2bf77e98-27a3-4ea5-82a8-5a83f371f8e6",
        "colab": {
          "base_uri": "https://localhost:8080/",
          "height": 972
        }
      },
      "execution_count": null,
      "outputs": [
        {
          "output_type": "display_data",
          "data": {
            "text/plain": [
              "<IPython.core.display.HTML object>"
            ],
            "text/html": [
              "<h1 style = \"background-color:yellow; \">문제 설명</h1>\n",
              "<p>서울특별시 공공자전거 이용현황 데이터로 서울특별시에서 운영하는 공공자전거(따릉이)에 대한 일별 대여건수 데이터를 제공합니다.</p>\n",
              "<p><a href =\"https://www.data.go.kr/data/15051873/fileData.do\" target = 'blank'>서울특별시 공공자전거 이용현황</a></p>\n",
              "<p>기상청 기상자료개방포털은 과거 기온, 기온현상일수 등을 제공합니다.\n",
              "<p><a href =\"https://data.kma.go.kr/cmmn/main.do\" target = 'blank'>기상자료 개방포털</a></p>\n",
              "<p>일별 대여건수와 미세먼지의 산점도와 회귀선을 나타내봅시다.</p>\n",
              "<h2>데이터</h2>\n",
              "<p>서울시 공공자전거 데이터는 대여일시, 대여건수로 구성되어 있으며 6개월 단위로 제공됩니다.</p>\n",
              "<p>기상자료개방포털에서 기온, 미세먼지농도 데이터를 일일데이터로 제공됩니다.</p>\n",
              "<p>열 : day, rent, humidity, temperature, dust</p>\n",
              "<p>2022년 1월부터 12월까지 서울시 공공자전거 대여건수와 기온, 미세먼지 농도로 재구성</p>\n",
              "<h2>그래프</h2>\n",
              "<p>그래프 제목 : 대여건수와 미세먼지 농도와의 관계  </p>\n",
              "<p>가로축 이름 : 대여건수</p>\n",
              "<p>세로축 이름 : 미세먼지 농도</p>\n",
              "<HR>\n",
              "<div style = \"float:left;width:50%\">\n",
              "<h2>데이터 예시 </h2>\n",
              "<p>data = pd.read_csv('/content/jupyter_judge/csv_file/bike_seoul.csv')</p>\n",
              "<p>rent = data['rent']</p>\n",
              "<p>dust = data['dust']</p>\n",
              "</div>\n",
              "<div style = \"float:right;width:50%\">\n",
              "<h2>그래프 예시 </h2>\n",
              "<img src=\"https://github.com/GoHakNeung/jupyter_judge/blob/main/graph/answer_8574.png?raw=true\" width = 150% height = 150%>\n",
              "</div>\n"
            ]
          },
          "metadata": {}
        }
      ]
    },
    {
      "cell_type": "code",
      "source": [
        "Question(question_8581)"
      ],
      "metadata": {
        "id": "ixb9ItaQrT-J",
        "outputId": "8266a3bb-a00b-48f5-b0e4-d30c81a46efe",
        "colab": {
          "base_uri": "https://localhost:8080/",
          "height": 972
        }
      },
      "execution_count": null,
      "outputs": [
        {
          "output_type": "display_data",
          "data": {
            "text/plain": [
              "<IPython.core.display.HTML object>"
            ],
            "text/html": [
              "<h1 style = \"background-color:yellow; \">문제 설명</h1>\n",
              "<p>국민연금에 가입한 지역가입자의 평균소득월액을 제공합니다.</p>\n",
              "<p><a href =\"https://www.data.go.kr/data/3046077/fileData.do\" target = 'blank'>국민연금공단_자격 시구신고 평균소득월액</a></p>\n",
              "<p>평균소득월액을 히스토그램으로 나타내고, 평균소득월액의 평균에 해당하는 부분에 수직선을 그려봅시다.</p>\n",
              "<h2>데이터</h2>\n",
              "<p>지역과 지역별 평균소득월액, 연령별 인구 및 백분율로 구성되어 있으며 지역별로 제공됩니다.</p>\n",
              "<p>열 : city_province, district, income, total_population, youth_population, production_population, old_population, youth_percentage, production_percentage, old_percentage</p>\n",
              "<p>국민연금 지역가입자의 평균소득월액과 지역별 인구 및 백분율을 합쳐 재구성하였다.</p>\n",
              "<h2>그래프</h2>\n",
              "<p>그래프 제목 : 지역별 평균소득월액 히스토그램 </p>\n",
              "<p>가로축 이름 : 평균소득월액</p>\n",
              "<p>세로축 이름 : 도수</p>\n",
              "<p>수직선 x좌표 : 평균소득월액</p>\n",
              "<p>수직선의 y좌표 범위 : 0~50</p>\n",
              "<p>수직선의 색 : 빨간색</p>\n",
              "<HR>\n",
              "<div style = \"float:left;width:50%\">\n",
              "<h2>데이터 예시 </h2>\n",
              "<p>data = pd.read_csv('/content/jupyter_judge/csv_file/income_and_population.csv')</p>\n",
              "<p>income = data['income']</p>\n",
              "<p>income_mean = income.mean()</p>\n",
              "</div>\n",
              "<div style = \"float:right;width:50%\">\n",
              "<h2>그래프 예시 </h2>\n",
              "<img src=\"https://github.com/GoHakNeung/jupyter_judge/blob/main/graph/answer_8581.png?raw=true\" width = 150% height = 150%>\n",
              "</div>\n"
            ]
          },
          "metadata": {}
        }
      ]
    },
    {
      "cell_type": "code",
      "source": [
        "Question(question_8582)"
      ],
      "metadata": {
        "id": "u4mPMmN4rU40",
        "outputId": "acfae458-2228-41c2-c81d-934b35c50874",
        "colab": {
          "base_uri": "https://localhost:8080/",
          "height": 903
        }
      },
      "execution_count": null,
      "outputs": [
        {
          "output_type": "display_data",
          "data": {
            "text/plain": [
              "<IPython.core.display.HTML object>"
            ],
            "text/html": [
              "<h1 style = \"background-color:yellow; \">문제 설명</h1>\n",
              "<p>국민연금에 가입한 지역가입자의 평균소득월액을 제공합니다.</p>\n",
              "<p><a href =\"https://www.data.go.kr/data/3046077/fileData.do\" target = 'blank'>국민연금공단_자격 시구신고 평균소득월액</a></p>\n",
              "<p>평균소득월액과 생산가능인구 백분율의 산점도와 회귀선을 나타내봅시다.</p>\n",
              "<h2>데이터</h2>\n",
              "<p>지역과 지역별 평균소득월액, 연령별 인구 및 백분율로 구성되어 있으며 지역별로 제공됩니다.</p>\n",
              "<p>열 : city_province, district, income, total_population, youth_population, production_population, old_population, youth_percentage, production_percentage, old_percentage</p>\n",
              "<p>국민연금 지역가입자의 평균소득월액과 지역별 인구 및 백분율을 합쳐 재구성하였다.</p>\n",
              "<h2>그래프</h2>\n",
              "<p>그래프 제목 : 지역별 평균소득월액과 생산가능 인구 관계 </p>\n",
              "<p>가로축 이름 : 평균소득월액</p>\n",
              "<p>세로축 이름 : 생산가능인구 백분율(%)</p>\n",
              "<HR>\n",
              "<div style = \"float:left;width:50%\">\n",
              "<h2>데이터 예시 </h2>\n",
              "<p>data = pd.read_csv('/content/jupyter_judge/csv_file/income_and_population.csv')</p>\n",
              "<p>income = data['income']</p>\n",
              "<p>production_percentage = data['production_percentage']\n",
              "</div>\n",
              "<div style = \"float:right;width:50%\">\n",
              "<h2>그래프 예시 </h2>\n",
              "<img src=\"https://github.com/GoHakNeung/jupyter_judge/blob/main/graph/answer_8582.png?raw=true\" width = 150% height = 150%>\n",
              "</div>\n"
            ]
          },
          "metadata": {}
        }
      ]
    },
    {
      "cell_type": "code",
      "source": [
        "Question(question_8583)"
      ],
      "metadata": {
        "id": "6VsFnfBqrWIh",
        "outputId": "8bb2e4de-0b62-4b61-e8c8-1806caaf6330",
        "colab": {
          "base_uri": "https://localhost:8080/",
          "height": 903
        }
      },
      "execution_count": null,
      "outputs": [
        {
          "output_type": "display_data",
          "data": {
            "text/plain": [
              "<IPython.core.display.HTML object>"
            ],
            "text/html": [
              "<h1 style = \"background-color:yellow; \">문제 설명</h1>\n",
              "<p>국민연금에 가입한 지역가입자의 평균소득월액을 제공합니다.</p>\n",
              "<p><a href =\"https://www.data.go.kr/data/3046077/fileData.do\" target = 'blank'>국민연금공단_자격 시구신고 평균소득월액</a></p>\n",
              "<p>평균소득월액과 노령인구 백분율의 산점도와 회귀선을 나타내봅시다.</p>\n",
              "<h2>데이터</h2>\n",
              "<p>지역과 지역별 평균소득월액, 연령별 인구 및 백분율로 구성되어 있으며 지역별로 제공됩니다.</p>\n",
              "<p>열 : city_province, district, income, total_population, youth_population, production_population, old_population, youth_percentage, production_percentage, old_percentage</p>\n",
              "<p>국민연금 지역가입자의 평균소득월액과 지역별 인구 및 백분율을 합쳐 재구성하였다.</p>\n",
              "<h2>그래프</h2>\n",
              "<p>그래프 제목 : 지역별 평균소득월액과 노령인구 관계 </p>\n",
              "<p>가로축 이름 : 평균소득월액</p>\n",
              "<p>세로축 이름 : 노령인구 백분율(%)</p>\n",
              "<HR>\n",
              "<div style = \"float:left;width:50%\">\n",
              "<h2>데이터 예시 </h2>\n",
              "<p>data = pd.read_csv('/content/jupyter_judge/csv_file/income_and_population.csv')</p>\n",
              "<p>income = data['income']</p>\n",
              "<p>old_percentage = data['old_percentage']\n",
              "</div>\n",
              "<div style = \"float:right;width:50%\">\n",
              "<h2>그래프 예시 </h2>\n",
              "<img src=\"https://github.com/GoHakNeung/jupyter_judge/blob/main/graph/answer_8583.png?raw=true\" width = 150% height = 150%>\n",
              "</div>\n"
            ]
          },
          "metadata": {}
        }
      ]
    },
    {
      "cell_type": "code",
      "source": [],
      "metadata": {
        "id": "BEcvm2CerW7T"
      },
      "execution_count": null,
      "outputs": []
    }
  ]
}