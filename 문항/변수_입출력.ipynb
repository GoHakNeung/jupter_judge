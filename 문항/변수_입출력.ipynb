{
  "nbformat": 4,
  "nbformat_minor": 0,
  "metadata": {
    "colab": {
      "provenance": []
    },
    "kernelspec": {
      "name": "python3",
      "display_name": "Python 3"
    },
    "language_info": {
      "name": "python"
    }
  },
  "cells": [
    {
      "cell_type": "code",
      "source": [
        "Question(question_2401)"
      ],
      "metadata": {
        "colab": {
          "base_uri": "https://localhost:8080/",
          "height": 383
        },
        "id": "RkfwxOi7_Olh",
        "outputId": "11ecd0b7-610e-443a-e494-e3419392ff5f"
      },
      "execution_count": 2,
      "outputs": [
        {
          "output_type": "display_data",
          "data": {
            "text/plain": [
              "<IPython.core.display.HTML object>"
            ],
            "text/html": [
              "<h2 style = \"background-color:yellow; \">문제 설명</h2>\n",
              "<p>사과와 귤의 개수를 입력받습니다. </p>\n",
              "<p>사과에 대한 귤의 비에서 기준량에 해당하는 숫자를 출력하는 프로그램을 만들어봅시다. </p>\n",
              "<HR>\n",
              "<h2> 입력\n",
              "</h2>\n",
              "<p>첫째 줄에 사과 개수가, 둘째 줄에 귤 개수가 주어진다.</p>\n",
              "<p>(사과와 귤의 개수는 1000이하의 숫자가 입력된다.)</p>\n",
              "<h2> 출력\n",
              "</h2>\n",
              "기준량에 해당하는 숫자를 출력한다.\n",
              "<HR>\n",
              "<div style = \"float:left;width:50%\">\n",
              "<h2> 입력 예시 </h2>\n",
              "<p> 10</p>\n",
              "<p> 15</p>\n",
              "</div>\n",
              "<div style = \"float:right;width:50%\">\n",
              "<h2> 출력 예시 </h2>\n",
              "<p>10</p>\n",
              "</div>\n"
            ]
          },
          "metadata": {}
        },
        {
          "output_type": "execute_result",
          "data": {
            "text/html": [
              "<img src=\"\"/>"
            ],
            "text/plain": [
              "<IPython.core.display.Image object>"
            ]
          },
          "metadata": {},
          "execution_count": 2
        }
      ]
    },
    {
      "cell_type": "code",
      "source": [
        "Question(question_2402)"
      ],
      "metadata": {
        "colab": {
          "base_uri": "https://localhost:8080/",
          "height": 372
        },
        "id": "lgcw7FyuCSw0",
        "outputId": "33e932bc-887b-4fb2-c4bd-6137860a584f"
      },
      "execution_count": 3,
      "outputs": [
        {
          "output_type": "display_data",
          "data": {
            "text/plain": [
              "<IPython.core.display.HTML object>"
            ],
            "text/html": [
              "<h1 style = \"background-color:yellow; \">문제 설</h1>\n",
              "<p>2개의 숫자를 입력받습니다. <span style = \"background-color:\t#E0E0E0;\">첫 번째 숫자</span>는 가득이네 반 학생 수이고 <span style = \"background-color:\t#E0E0E0;\">두 번째 숫자</span>는 축구를한 학생 수입니다. </p>\n",
              "<p>전체 학생 수에 대한 축구를 한 학생 수의 비에서 비교하는 양을 출력하는 프로그램을 만들어봅시다.  </p>\n",
              "<HR>\n",
              "<h2>입력</h2>\n",
              "<p>첫째 줄에는 가득이네 반 학생 수가 입력되고, 둘째 줄에는 축구를 한 학생 수가 입력됩니다.</p>\n",
              "<h2>출력</h2>\n",
              "<p>비교하는 양에 해당하는 숫자를 출력합니다.</p>\n",
              "<HR>\n",
              "<div style = \"float:left;width:50%\">\n",
              "<h2>입력 예시 </h2>\n",
              "<p>27</p>\n",
              "<p>19</p>\n",
              "</div>\n",
              "<div style = \"float:right;width:50%\">\n",
              "<h2>출력 예시 </h2>\n",
              "<p>19</p>\n",
              "</div>\n"
            ]
          },
          "metadata": {}
        },
        {
          "output_type": "execute_result",
          "data": {
            "text/html": [
              "<img src=\"\"/>"
            ],
            "text/plain": [
              "<IPython.core.display.Image object>"
            ]
          },
          "metadata": {},
          "execution_count": 3
        }
      ]
    },
    {
      "cell_type": "code",
      "source": [
        "Question(question_2403)"
      ],
      "metadata": {
        "colab": {
          "base_uri": "https://localhost:8080/",
          "height": 372
        },
        "id": "9bb3AR0UCTte",
        "outputId": "72c919c3-d65b-4343-b368-9646125c7a40"
      },
      "execution_count": 4,
      "outputs": [
        {
          "output_type": "display_data",
          "data": {
            "text/plain": [
              "<IPython.core.display.HTML object>"
            ],
            "text/html": [
              "<h1 style = \"background-color:yellow; \">문제 설명</h1>\n",
              "<p>2개의 숫자를 입력받습니다. <span style = \"background-color:\t#E0E0E0;\">첫 번째 숫자</span>는 사과 개수, <span style = \"background-color:\t#E0E0E0;\">두 번째 숫자</span>는 귤 개수입니다. </p>\n",
              "<p>사과와 귤의 비에서 기준량을 출력하는 프로그램을 만들어봅시다. </p>\n",
              "<HR>\n",
              "<h2>입력</h2>\n",
              "<p>첫째 줄에는 사과 개수가 입력되고, 둘째 줄에는 귤 개수가 입력됩니다.</p>\n",
              "<h2>출력</h2>\n",
              "<p>기준량에 해당하는 숫자를 출력합니다.</p>\n",
              "<HR>\n",
              "<div style = \"float:left;width:50%\">\n",
              "<h2>입력 예시 </h2>\n",
              "<p>10</p>\n",
              "<p>15</p>\n",
              "</div>\n",
              "<div style = \"float:right;width:50%\">\n",
              "<h2>출력 예시 </h2>\n",
              "<p>15</p>\n",
              "</div>\n"
            ]
          },
          "metadata": {}
        },
        {
          "output_type": "execute_result",
          "data": {
            "text/html": [
              "<img src=\"\"/>"
            ],
            "text/plain": [
              "<IPython.core.display.Image object>"
            ]
          },
          "metadata": {},
          "execution_count": 4
        }
      ]
    },
    {
      "cell_type": "code",
      "source": [
        "Question(question_2404)"
      ],
      "metadata": {
        "colab": {
          "base_uri": "https://localhost:8080/",
          "height": 385
        },
        "id": "1Lo4VHOsCUoM",
        "outputId": "231bb625-35fb-4595-a81f-cbe63dbc3ecd"
      },
      "execution_count": 5,
      "outputs": [
        {
          "output_type": "display_data",
          "data": {
            "text/plain": [
              "<IPython.core.display.HTML object>"
            ],
            "text/html": [
              "<h2 style = \"background-color:yellow; \">문제 설명</h2>\n",
              "<p>2개의 숫자를 입력 받습니다. <span style = \"background-color:\t#E0E0E0;\">첫 번째 숫자</span>는 복숭아 개수, <span style = \"background-color:\t#E0E0E0;\">두 번째 숫자</span>는 포도 개수입니다. </p>\n",
              "<p>복숭아와 포도의 비에서 비교하는 양을 출력하는 프로그램을 만들어봅시다. </p>\n",
              "<HR>\n",
              "<h2>입력</h2>\n",
              "<p>첫째 줄에 복숭아 개수가 입력되고, 둘째 줄에 포도 개수가 입력됩니다.</p>\n",
              "<p>(복숭아와 포도의 개수는 1000이하의 숫자가 입력된다.)</p>\n",
              "<h2>출력</h2>\n",
              "<p>비교하는 양에 해당하는 숫자를 출력합니다.</p>\n",
              "<HR>\n",
              "<div style = \"float:left;width:50%\">\n",
              "<h2>입력 예시 </h2>\n",
              "<p>20</p>\n",
              "<p>25</p>\n",
              "</div>\n",
              "<div style = \"float:right;width:50%\">\n",
              "<h2>출력 예시 </h2>\n",
              "<p>20</p>\n",
              "</div>\n"
            ]
          },
          "metadata": {}
        },
        {
          "output_type": "execute_result",
          "data": {
            "text/html": [
              "<img src=\"\"/>"
            ],
            "text/plain": [
              "<IPython.core.display.Image object>"
            ]
          },
          "metadata": {},
          "execution_count": 5
        }
      ]
    }
  ]
}