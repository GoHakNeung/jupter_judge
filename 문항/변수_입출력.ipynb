{
  "nbformat": 4,
  "nbformat_minor": 0,
  "metadata": {
    "colab": {
      "provenance": []
    },
    "kernelspec": {
      "name": "python3",
      "display_name": "Python 3"
    },
    "language_info": {
      "name": "python"
    }
  },
  "cells": [
    {
      "cell_type": "code",
      "source": [
        "Question(question_2401)"
      ],
      "metadata": {
        "colab": {
          "base_uri": "https://localhost:8080/",
          "height": 348
        },
        "id": "RkfwxOi7_Olh",
        "outputId": "405db0f9-ee12-48a5-b6f4-01061ffde847"
      },
      "execution_count": 11,
      "outputs": [
        {
          "output_type": "display_data",
          "data": {
            "text/plain": [
              "<IPython.core.display.HTML object>"
            ],
            "text/html": [
              "<h1 style = \"background-color:yellow; \">문제 설명</h1>\n",
              "<h2>\n",
              "<p>2개의 숫자를 입력받습니다.</p>\n",
              "<p><span style = \"background-color:\t#E0E0E0;\">첫번째 숫자</span>는 사과 개수, <span style = \"background-color:\t#E0E0E0;\">두번째 숫자</span>는 귤 개수입니다. </p>\n",
              "<p>사과에 대한 귤의 비에서 기준량을 출력하는 프로그램을 만들어봅시다. </p>\n",
              "<HR>\n",
              "<p>입력 예시 : <b>10 15</b></p>\n",
              "<h3>\n",
              "<p>1000이하의 숫자가 입력됩니다.</p>\n",
              "</h3>\n",
              "<h2>\n",
              "<p>출력 예시 : 10</p>\n",
              "<HR>\n",
              "</h2>"
            ]
          },
          "metadata": {}
        },
        {
          "output_type": "execute_result",
          "data": {
            "text/html": [
              "<img src=\"\"/>"
            ],
            "text/plain": [
              "<IPython.core.display.Image object>"
            ]
          },
          "metadata": {},
          "execution_count": 11
        }
      ]
    },
    {
      "cell_type": "code",
      "source": [
        "Question(question_2402)"
      ],
      "metadata": {
        "colab": {
          "base_uri": "https://localhost:8080/",
          "height": 348
        },
        "id": "lgcw7FyuCSw0",
        "outputId": "da3d4352-1018-4949-e497-a6bc6349463e"
      },
      "execution_count": 12,
      "outputs": [
        {
          "output_type": "display_data",
          "data": {
            "text/plain": [
              "<IPython.core.display.HTML object>"
            ],
            "text/html": [
              "<h1 style = \"background-color:yellow; \">문제 설명</h1>\n",
              "<h2>\n",
              "<p>2개의 숫자를 입력 받습니다.</p>\n",
              "<p><span style = \"background-color:\t#E0E0E0;\">첫번째 숫자</span>는 대호네 반 학생 수이고 <span style = \"background-color:\t#E0E0E0;\">두번째 숫자</span>는 아침 건강 달리기에 참여한 학생 수입니다. </p>\n",
              "<p>전체 학생 수에 대한 아침 건강 달리기에 참여한 학생 수의 비에서 비교하는 양을 출력하는 프로그램을 만들어봅시다.  </p>\n",
              "<HR>\n",
              "<p>입력 예시 : <b>27 19</b></p>\n",
              "<h3>\n",
              "<p>1000이하의 숫자가 입력됩니다.</p>\n",
              "</h3>\n",
              "<h2>\n",
              "<p>출력 예시 : 19</p>\n",
              "<HR>\n",
              "</h2>"
            ]
          },
          "metadata": {}
        },
        {
          "output_type": "execute_result",
          "data": {
            "text/html": [
              "<img src=\"\"/>"
            ],
            "text/plain": [
              "<IPython.core.display.Image object>"
            ]
          },
          "metadata": {},
          "execution_count": 12
        }
      ]
    },
    {
      "cell_type": "code",
      "source": [
        "Question(question_2403)"
      ],
      "metadata": {
        "colab": {
          "base_uri": "https://localhost:8080/",
          "height": 299
        },
        "id": "9bb3AR0UCTte",
        "outputId": "b85b61a1-6391-49a5-bd41-e7831573fc41"
      },
      "execution_count": 13,
      "outputs": [
        {
          "output_type": "display_data",
          "data": {
            "text/plain": [
              "<IPython.core.display.HTML object>"
            ],
            "text/html": [
              "<h1 style = \"background-color:yellow; \">문제 설명</h1>\n",
              "<h2>\n",
              "<p>2개의 숫자를 입력받습니다. </p> \n",
              "<p><span style = \"background-color:\t#E0E0E0;\">첫번째 숫자</span>는 사과 개수, <span style = \"background-color:\t#E0E0E0;\">두번째 숫자</span>는 귤 개수입니다. </p>\n",
              "<p>사과와 귤의 비에서 기준량을 출력하는 프로그램을 만들어봅시다. </p>\n",
              "<HR>\n",
              "<p>입력 예시 : <b>10 15</b></p>\n",
              "<p>출력 예시 : 15</p>\n",
              "<HR>\n",
              "</h2>"
            ]
          },
          "metadata": {}
        },
        {
          "output_type": "execute_result",
          "data": {
            "text/html": [
              "<img src=\"\"/>"
            ],
            "text/plain": [
              "<IPython.core.display.Image object>"
            ]
          },
          "metadata": {},
          "execution_count": 13
        }
      ]
    },
    {
      "cell_type": "code",
      "source": [
        "Question(question_2404)"
      ],
      "metadata": {
        "colab": {
          "base_uri": "https://localhost:8080/",
          "height": 348
        },
        "id": "1Lo4VHOsCUoM",
        "outputId": "995fdef2-0594-41c5-b4be-ac1d51d005a2"
      },
      "execution_count": 14,
      "outputs": [
        {
          "output_type": "display_data",
          "data": {
            "text/plain": [
              "<IPython.core.display.HTML object>"
            ],
            "text/html": [
              "<h1 style = \"background-color:yellow; \">문제 설명</h1>\n",
              "<h2>\n",
              "<p>2개의 숫자를 입력받습니다. </p> \n",
              "<p><span style = \"background-color:\t#E0E0E0;\">첫번째 숫자</span>는 복숭아 개수, <span style = \"background-color:\t#E0E0E0;\">두번째 숫자</span>는 포도 개수입니다. </p>\n",
              "<p>복숭아와 포도의 비에서 비교하는 양을 출력하는 프로그램을 만들어봅시다. </p>\n",
              "<HR>\n",
              "<p>입력 예시 : <b>20 25</b></p>\n",
              "<h3>\n",
              "<p>1000이하의 숫자가 입력됩니다.</p>\n",
              "</h3>\n",
              "<h2>\n",
              "<p>출력 예시 : 20</p>\n",
              "<HR>\n",
              "</h2>"
            ]
          },
          "metadata": {}
        },
        {
          "output_type": "execute_result",
          "data": {
            "text/html": [
              "<img src=\"\"/>"
            ],
            "text/plain": [
              "<IPython.core.display.Image object>"
            ]
          },
          "metadata": {},
          "execution_count": 14
        }
      ]
    }
  ]
}