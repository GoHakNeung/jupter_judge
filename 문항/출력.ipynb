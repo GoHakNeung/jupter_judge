{
  "nbformat": 4,
  "nbformat_minor": 0,
  "metadata": {
    "colab": {
      "provenance": []
    },
    "kernelspec": {
      "name": "python3",
      "display_name": "Python 3"
    },
    "language_info": {
      "name": "python"
    }
  },
  "cells": [
    {
      "cell_type": "code",
      "source": [
        "Question(question_1101)"
      ],
      "metadata": {
        "colab": {
          "base_uri": "https://localhost:8080/",
          "height": 235
        },
        "id": "RkfwxOi7_Olh",
        "outputId": "03f5e20b-400d-4059-eab7-b528f964ce49"
      },
      "execution_count": 3,
      "outputs": [
        {
          "output_type": "display_data",
          "data": {
            "text/plain": [
              "<IPython.core.display.HTML object>"
            ],
            "text/html": [
              "<h1 style = \"background-color:yellow; \">문제 설명</h1>\n",
              "<h2>\n",
              "<p>5.24에서 자연수 부분을 출력해봅시다.</p>\n",
              "<HR>\n",
              "<p>입력 예시 : 없음</p>\n",
              "<p>출력 예시 : 자연수 부분 숫자</p>\n",
              "<HR>\n",
              "</h2>"
            ]
          },
          "metadata": {}
        },
        {
          "output_type": "execute_result",
          "data": {
            "text/html": [
              "<img src=\"\"/>"
            ],
            "text/plain": [
              "<IPython.core.display.Image object>"
            ]
          },
          "metadata": {},
          "execution_count": 3
        }
      ]
    },
    {
      "cell_type": "code",
      "source": [
        "Question(question_1102)"
      ],
      "metadata": {
        "colab": {
          "base_uri": "https://localhost:8080/",
          "height": 235
        },
        "id": "lgcw7FyuCSw0",
        "outputId": "e9ab670e-8a40-4d89-a703-03a64e5bea63"
      },
      "execution_count": 4,
      "outputs": [
        {
          "output_type": "display_data",
          "data": {
            "text/plain": [
              "<IPython.core.display.HTML object>"
            ],
            "text/html": [
              "<h1 style = \"background-color:yellow; \">문제 설명</h1>\n",
              "<h2>\n",
              "<p>1.1+1.7에서 소수 부분을 출력해봅시다.</p>\n",
              "<HR>\n",
              "<p>입력 예시 : 없음</p>\n",
              "<p>출력 예시 : 소수 부분 숫자</p>\n",
              "<HR>\n",
              "</h2>"
            ]
          },
          "metadata": {}
        },
        {
          "output_type": "execute_result",
          "data": {
            "text/html": [
              "<img src=\"\"/>"
            ],
            "text/plain": [
              "<IPython.core.display.Image object>"
            ]
          },
          "metadata": {},
          "execution_count": 4
        }
      ]
    },
    {
      "cell_type": "code",
      "source": [
        "Question(question_1103)"
      ],
      "metadata": {
        "colab": {
          "base_uri": "https://localhost:8080/",
          "height": 299
        },
        "id": "9bb3AR0UCTte",
        "outputId": "48b6321a-a83a-4080-b1d1-7432d5e2d48d"
      },
      "execution_count": 5,
      "outputs": [
        {
          "output_type": "display_data",
          "data": {
            "text/plain": [
              "<IPython.core.display.HTML object>"
            ],
            "text/html": [
              "<h1 style = \"background-color:yellow; \">문제 설명</h1>\n",
              "<h2>\n",
              "<p>0.01이 429개 있을 때, 자연수 부분과 소수 부분을 줄바꿈하여 출력하는 프로그램을 만들어봅시다.</p>\n",
              "<HR>\n",
              "<p>입력 예시 : 없음</p>\n",
              "<p>출력 예시 : </p>\n",
              "<p>자연수 부분</p>\n",
              "<p>소수 부분</p>\n",
              "<HR>\n",
              "</h2>"
            ]
          },
          "metadata": {}
        },
        {
          "output_type": "execute_result",
          "data": {
            "text/html": [
              "<img src=\"\"/>"
            ],
            "text/plain": [
              "<IPython.core.display.Image object>"
            ]
          },
          "metadata": {},
          "execution_count": 5
        }
      ]
    },
    {
      "cell_type": "code",
      "source": [
        "Question(question_1201)"
      ],
      "metadata": {
        "colab": {
          "base_uri": "https://localhost:8080/",
          "height": 346
        },
        "id": "1Lo4VHOsCUoM",
        "outputId": "09cdc62d-5544-44ac-c8f0-27bed6d0c998"
      },
      "execution_count": 6,
      "outputs": [
        {
          "output_type": "display_data",
          "data": {
            "text/plain": [
              "<IPython.core.display.HTML object>"
            ],
            "text/html": [
              "<h1 style = \"background-color:yellow; \">문제 설명</h1>\n",
              "<h2>\n",
              "<p>아래 도형의 이름을 출력해봅시다.</p>\n",
              "<svg width = \"200\" height = \"100\"><polygon points = \"80,5 160,70 40,75\", fill = \"#FFFFFF\", stroke = \"#000000\", stroke-width = \"4\"></svg>\n",
              "<HR>\n",
              "<p>입력 예시 : 없음</p>\n",
              "<p>출력 예시 : </p>\n",
              "<HR>\n",
              "</h2>"
            ]
          },
          "metadata": {}
        },
        {
          "output_type": "execute_result",
          "data": {
            "text/html": [
              "<img src=\"\"/>"
            ],
            "text/plain": [
              "<IPython.core.display.Image object>"
            ]
          },
          "metadata": {},
          "execution_count": 6
        }
      ]
    },
    {
      "cell_type": "code",
      "source": [
        "Question(question_1202)"
      ],
      "metadata": {
        "colab": {
          "base_uri": "https://localhost:8080/",
          "height": 346
        },
        "id": "sPf8EV38CVlA",
        "outputId": "57a88a3e-118a-4ac6-b2cf-a00ddd3c88b1"
      },
      "execution_count": 7,
      "outputs": [
        {
          "output_type": "display_data",
          "data": {
            "text/plain": [
              "<IPython.core.display.HTML object>"
            ],
            "text/html": [
              "<h1 style = \"background-color:yellow; \">문제 설명</h1>\n",
              "<h2>\n",
              "<p>아래 도형의 이름을 출력해봅시다.</p>\n",
              "<svg width = \"200\" height = \"100\"><rect width = \"200\" height=\"100\", fill = \"#FFFFFF\", stroke = \"#000000\", stroke-width = \"4\"></rect></svg>\n",
              "<HR>\n",
              "<p>입력 예시 : 없음</p>\n",
              "<p>출력 예시 : </p>\n",
              "<HR>\n",
              "</h2>"
            ]
          },
          "metadata": {}
        },
        {
          "output_type": "execute_result",
          "data": {
            "text/html": [
              "<img src=\"\"/>"
            ],
            "text/plain": [
              "<IPython.core.display.Image object>"
            ]
          },
          "metadata": {},
          "execution_count": 7
        }
      ]
    },
    {
      "cell_type": "code",
      "source": [
        "Question(question_1203)"
      ],
      "metadata": {
        "colab": {
          "base_uri": "https://localhost:8080/",
          "height": 346
        },
        "id": "obVq0t06CWdn",
        "outputId": "32155880-9ed7-4808-e453-6af30a5d2573"
      },
      "execution_count": 9,
      "outputs": [
        {
          "output_type": "display_data",
          "data": {
            "text/plain": [
              "<IPython.core.display.HTML object>"
            ],
            "text/html": [
              "<h1 style = \"background-color:yellow; \">문제 설명</h1>\n",
              "<h2>\n",
              "<p>아래 도형에서 대각선 수를 출력해봅시다.</p>\n",
              "<svg width = \"200\" height = \"100\"><polygon points = \"100,5 160,40 130,80 70,80 40,40\", fill = \"#FFFFFF\", stroke = \"#000000\", stroke-width = \"4\"></svg>\n",
              "<HR>\n",
              "<p>입력 예시 : 없음</p>\n",
              "<p>출력 예시 : </p>\n",
              "<HR>\n",
              "</h2>"
            ]
          },
          "metadata": {}
        },
        {
          "output_type": "execute_result",
          "data": {
            "text/html": [
              "<img src=\"\"/>"
            ],
            "text/plain": [
              "<IPython.core.display.Image object>"
            ]
          },
          "metadata": {},
          "execution_count": 9
        }
      ]
    },
    {
      "cell_type": "code",
      "source": [
        "Question(question_1204)"
      ],
      "metadata": {
        "colab": {
          "base_uri": "https://localhost:8080/",
          "height": 346
        },
        "id": "qO3_TX1JCXP4",
        "outputId": "515c3670-746f-473f-8ebd-14fddedae6ba"
      },
      "execution_count": 10,
      "outputs": [
        {
          "output_type": "display_data",
          "data": {
            "text/plain": [
              "<IPython.core.display.HTML object>"
            ],
            "text/html": [
              "<h1 style = \"background-color:yellow; \">문제 설명</h1>\n",
              "<h2>\n",
              "<p>아래 도형에서 대각선 수를 출력해봅시다.</p>\n",
              "<svg width = \"200\" height = \"100\"><polygon points = \"70,5 160,5 190,50 160,90 70,90 30,50\", fill = \"#FFFFFF\", stroke = \"#000000\", stroke-width = \"4\"></svg>\n",
              "<HR>\n",
              "<p>입력 예시 : 없음</p>\n",
              "<p>출력 예시 : </p>\n",
              "<HR>\n",
              "</h2>"
            ]
          },
          "metadata": {}
        },
        {
          "output_type": "execute_result",
          "data": {
            "text/html": [
              "<img src=\"\"/>"
            ],
            "text/plain": [
              "<IPython.core.display.Image object>"
            ]
          },
          "metadata": {},
          "execution_count": 10
        }
      ]
    },
    {
      "cell_type": "code",
      "source": [],
      "metadata": {
        "id": "zebYKxw-CZLT"
      },
      "execution_count": null,
      "outputs": []
    }
  ]
}