{
  "nbformat": 4,
  "nbformat_minor": 0,
  "metadata": {
    "colab": {
      "provenance": []
    },
    "kernelspec": {
      "name": "python3",
      "display_name": "Python 3"
    },
    "language_info": {
      "name": "python"
    }
  },
  "cells": [
    {
      "cell_type": "code",
      "source": [
        "Question(question_1101)"
      ],
      "metadata": {
        "colab": {
          "base_uri": "https://localhost:8080/",
          "height": 315
        },
        "id": "RkfwxOi7_Olh",
        "outputId": "fbf1abc8-840c-4501-d5b3-8f4b4c496cbf"
      },
      "execution_count": 2,
      "outputs": [
        {
          "output_type": "display_data",
          "data": {
            "text/plain": [
              "<IPython.core.display.HTML object>"
            ],
            "text/html": [
              "<h2 style = \"background-color:yellow; \">문제 설명</h2>\n",
              "<p>5.24에서 자연수 부분을 출력해봅시다.</p>\n",
              "<HR>\n",
              "<h2> 입력\n",
              "</h2>\n",
              "<p>없음</p>\n",
              "<h2> 출력\n",
              "</h2>\n",
              "<p>자연수에 해당하는 숫자를 출력합니다.</p>\n",
              "<HR>\n",
              "<div style = \"float:left;width:50%\">\n",
              "<h2> 입력 예시 </h2>\n",
              "<p>없음</p>\n",
              "</div>\n",
              "<div style = \"float:right;width:50%\">\n",
              "<h2> 출력 예시 </h2>\n",
              "<p>5.24에서 자연수 부분</p>\n",
              "</div>\n"
            ]
          },
          "metadata": {}
        },
        {
          "output_type": "execute_result",
          "data": {
            "text/html": [
              "<img src=\"\"/>"
            ],
            "text/plain": [
              "<IPython.core.display.Image object>"
            ]
          },
          "metadata": {},
          "execution_count": 2
        }
      ]
    },
    {
      "cell_type": "code",
      "source": [
        "Question(question_1102)"
      ],
      "metadata": {
        "colab": {
          "base_uri": "https://localhost:8080/",
          "height": 325
        },
        "id": "lgcw7FyuCSw0",
        "outputId": "c758225b-52cb-4cb1-8c56-298c705d29d0"
      },
      "execution_count": 3,
      "outputs": [
        {
          "output_type": "display_data",
          "data": {
            "text/plain": [
              "<IPython.core.display.HTML object>"
            ],
            "text/html": [
              "<h1 style = \"background-color:yellow; \">문제 설명</h1>\n",
              "<p>1.1+1.7에서 소수 부분을 출력해봅시다.</p>\n",
              "<HR>\n",
              "<h2> 입력\n",
              "</h2>\n",
              "<p>없음</p>\n",
              "<h2> 출력\n",
              "</h2>\n",
              "<p>소수 부분 숫자</p>\n",
              "<HR>\n",
              "<div style = \"float:left;width:50%\">\n",
              "<h2> 입력 예시 </h2>\n",
              "<p>없음</p>\n",
              "</div>\n",
              "<div style = \"float:right;width:50%\">\n",
              "<h2> 출력 예시 </h2>\n",
              "<p>1.1+1.7에서 자연수가 아닌 부분 부분</p>\n",
              "</div>"
            ]
          },
          "metadata": {}
        },
        {
          "output_type": "execute_result",
          "data": {
            "text/html": [
              "<img src=\"\"/>"
            ],
            "text/plain": [
              "<IPython.core.display.Image object>"
            ]
          },
          "metadata": {},
          "execution_count": 3
        }
      ]
    },
    {
      "cell_type": "code",
      "source": [
        "Question(question_1103)"
      ],
      "metadata": {
        "colab": {
          "base_uri": "https://localhost:8080/",
          "height": 349
        },
        "id": "9bb3AR0UCTte",
        "outputId": "dc48dd63-9015-4942-babe-c95b00f0511b"
      },
      "execution_count": 4,
      "outputs": [
        {
          "output_type": "display_data",
          "data": {
            "text/plain": [
              "<IPython.core.display.HTML object>"
            ],
            "text/html": [
              "<h1 style = \"background-color:yellow; \">문제 설명</h1>\n",
              "<p>0.01이 429개 있을 때, 자연수 부분과 소수 부분을 줄바꿈하여 출력하는 프로그램을 만들어봅시다.</p>\n",
              "<HR>\n",
              "<h2> 입력\n",
              "</h2>\n",
              "<p>없음</p>\n",
              "<h2> 출력\n",
              "</h2>\n",
              "<p>첫째 줄에 자연수를, 둘째 줄에 소수를 출력합니다.</p>\n",
              "<HR>\n",
              "<div style = \"float:left;width:50%\">\n",
              "<h2> 입력 예시 </h2>\n",
              "<p>없음</p>\n",
              "</div>\n",
              "<div style = \"float:right;width:50%\">\n",
              "<h2> 출력 예시 </h2>\n",
              "<p>첫째 줄 : 자연수</p>\n",
              "<p>둘째 줄 : 소수</p>\n",
              "</div>"
            ]
          },
          "metadata": {}
        },
        {
          "output_type": "execute_result",
          "data": {
            "text/html": [
              "<img src=\"\"/>"
            ],
            "text/plain": [
              "<IPython.core.display.Image object>"
            ]
          },
          "metadata": {},
          "execution_count": 4
        }
      ]
    },
    {
      "cell_type": "code",
      "source": [
        "Question(question_1201)"
      ],
      "metadata": {
        "colab": {
          "base_uri": "https://localhost:8080/",
          "height": 434
        },
        "id": "1Lo4VHOsCUoM",
        "outputId": "81aad2cc-151e-4c66-bd99-3ee4fa09108b"
      },
      "execution_count": 5,
      "outputs": [
        {
          "output_type": "display_data",
          "data": {
            "text/plain": [
              "<IPython.core.display.HTML object>"
            ],
            "text/html": [
              "<h1 style = \"background-color:yellow; \">문제 설명</h1>\n",
              "<p>아래 도형의 이름을 출력해봅시다.</p>\n",
              "<svg width = \"200\" height = \"100\"><polygon points = \"80,5 160,70 40,75\", fill = \"#FFFFFF\", stroke = \"#000000\", stroke-width = \"4\"></svg>\n",
              "<HR>\n",
              "<h2>입력</h2>\n",
              "<p>없음</p>\n",
              "<h2>출력</h2>\n",
              "<p>도형의 이름을 출력합니다.</p>\n",
              "<HR>\n",
              "<div style = \"float:left;width:50%\">\n",
              "<h2>입력 예시 </h2>\n",
              "<p>없음</p>\n",
              "</div>\n",
              "<div style = \"float:right;width:50%\">\n",
              "<h2>출력 예시 </h2>\n",
              "<p>도형이름</p>\n",
              "</div>\n"
            ]
          },
          "metadata": {}
        },
        {
          "output_type": "execute_result",
          "data": {
            "text/html": [
              "<img src=\"\"/>"
            ],
            "text/plain": [
              "<IPython.core.display.Image object>"
            ]
          },
          "metadata": {},
          "execution_count": 5
        }
      ]
    },
    {
      "cell_type": "code",
      "source": [
        "Question(question_1202)"
      ],
      "metadata": {
        "colab": {
          "base_uri": "https://localhost:8080/",
          "height": 434
        },
        "id": "sPf8EV38CVlA",
        "outputId": "ad6bb611-3e37-4138-b3e1-06b1a556f430"
      },
      "execution_count": 6,
      "outputs": [
        {
          "output_type": "display_data",
          "data": {
            "text/plain": [
              "<IPython.core.display.HTML object>"
            ],
            "text/html": [
              "<h1 style = \"background-color:yellow; \">문제 설명</h1>\n",
              "<p>아래 도형의 이름을 출력해봅시다.</p>\n",
              "<svg width = \"200\" height = \"100\"><rect width = \"200\" height=\"100\", fill = \"#FFFFFF\", stroke = \"#000000\", stroke-width = \"4\"></rect></svg>\n",
              "<HR>\n",
              "<h2>입력</h2>\n",
              "<p>없음</p>\n",
              "<h2>출력</h2>\n",
              "<p>각도를 고려해서 도형의 이름을 출력합니다.</p>\n",
              "<HR>\n",
              "<div style = \"float:left;width:50%\">\n",
              "<h2>입력 예시 </h2>\n",
              "<p></p>\n",
              "</div>\n",
              "<div style = \"float:right;width:50%\">\n",
              "<h2> 출력 예시 </h2>\n",
              "<p>도형 이름</p>\n",
              "</div>\n"
            ]
          },
          "metadata": {}
        },
        {
          "output_type": "execute_result",
          "data": {
            "text/html": [
              "<img src=\"\"/>"
            ],
            "text/plain": [
              "<IPython.core.display.Image object>"
            ]
          },
          "metadata": {},
          "execution_count": 6
        }
      ]
    },
    {
      "cell_type": "code",
      "source": [
        "Question(question_1203)"
      ],
      "metadata": {
        "colab": {
          "base_uri": "https://localhost:8080/",
          "height": 434
        },
        "id": "obVq0t06CWdn",
        "outputId": "f7761ee5-7555-411d-fb0c-6a7f5c55ea6f"
      },
      "execution_count": 7,
      "outputs": [
        {
          "output_type": "display_data",
          "data": {
            "text/plain": [
              "<IPython.core.display.HTML object>"
            ],
            "text/html": [
              "<h1 style = \"background-color:yellow; \">문제 설명</h1>\n",
              "<p>아래 도형에서 대각선 수를 출력해봅시다.</p>\n",
              "<svg width = \"200\" height = \"100\"><polygon points = \"100,5 160,40 130,80 70,80 40,40\", fill = \"#FFFFFF\", stroke = \"#000000\", stroke-width = \"4\"></svg>\n",
              "<HR>\n",
              "<h2>입력</h2>\n",
              "<p>없음</p>\n",
              "<h2>출력</h2>\n",
              "<p>도형이 가지고 있는 대각선 숫자를 출력합니다.</p>\n",
              "<HR>\n",
              "<div style = \"float:left;width:50%\">\n",
              "<h2> 입력 예시 </h2>\n",
              "<p>없음</p>\n",
              "</div>\n",
              "<div style = \"float:right;width:50%\">\n",
              "<h2> 출력 예시 </h2>\n",
              "<p>대각선 숫자</p>\n",
              "</div>\n"
            ]
          },
          "metadata": {}
        },
        {
          "output_type": "execute_result",
          "data": {
            "text/html": [
              "<img src=\"\"/>"
            ],
            "text/plain": [
              "<IPython.core.display.Image object>"
            ]
          },
          "metadata": {},
          "execution_count": 7
        }
      ]
    },
    {
      "cell_type": "code",
      "source": [
        "Question(question_1204)"
      ],
      "metadata": {
        "colab": {
          "base_uri": "https://localhost:8080/",
          "height": 434
        },
        "id": "qO3_TX1JCXP4",
        "outputId": "8213c22a-e2db-4106-ee76-134ed0f01ee4"
      },
      "execution_count": 8,
      "outputs": [
        {
          "output_type": "display_data",
          "data": {
            "text/plain": [
              "<IPython.core.display.HTML object>"
            ],
            "text/html": [
              "<h1 style = \"background-color:yellow; \">문제 설명</h1>\n",
              "<p>아래 도형에서 대각선 수를 출력해봅시다.</p>\n",
              "<svg width = \"200\" height = \"100\"><polygon points = \"70,5 160,5 190,50 160,90 70,90 30,50\", fill = \"#FFFFFF\", stroke = \"#000000\", stroke-width = \"4\"></svg>\n",
              "<HR>\n",
              "<h2>입력</h2>\n",
              "<p>없음</p>\n",
              "<h2>출력</h2>\n",
              "<p>도형이 가지고 있는 대각선 숫자를 출력합니다.</p>\n",
              "<HR>\n",
              "<div style = \"float:left;width:50%\">\n",
              "<h2>입력 예시 </h2>\n",
              "<p>없음</p>\n",
              "</div>\n",
              "<div style = \"float:right;width:50%\">\n",
              "<h2>출력 예시 </h2>\n",
              "<p>대각선 숫자</p>\n",
              "</div>\n"
            ]
          },
          "metadata": {}
        },
        {
          "output_type": "execute_result",
          "data": {
            "text/html": [
              "<img src=\"\"/>"
            ],
            "text/plain": [
              "<IPython.core.display.Image object>"
            ]
          },
          "metadata": {},
          "execution_count": 8
        }
      ]
    },
    {
      "cell_type": "code",
      "source": [],
      "metadata": {
        "id": "zebYKxw-CZLT"
      },
      "execution_count": 8,
      "outputs": []
    }
  ]
}