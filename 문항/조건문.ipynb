{
  "nbformat": 4,
  "nbformat_minor": 0,
  "metadata": {
    "colab": {
      "provenance": []
    },
    "kernelspec": {
      "name": "python3",
      "display_name": "Python 3"
    },
    "language_info": {
      "name": "python"
    }
  },
  "cells": [
    {
      "cell_type": "code",
      "source": [
        "Question(question_6101)"
      ],
      "metadata": {
        "colab": {
          "base_uri": "https://localhost:8080/",
          "height": 315
        },
        "id": "RkfwxOi7_Olh",
        "outputId": "b3b44863-ee84-4ed2-a169-2cf52f4270e0"
      },
      "execution_count": 2,
      "outputs": [
        {
          "output_type": "display_data",
          "data": {
            "text/plain": [
              "<IPython.core.display.HTML object>"
            ],
            "text/html": [
              "<h2 style = \"background-color:yellow; \">문제 설명</h2>\n",
              "<p>입력받은 <span style = \"background-color:\t#E0E0E0;\">숫자</span>가 홀수인지 짝수인지 알려주는 프로그램을 만들어봅시다.</p>\n",
              "<HR>\n",
              "<h2> 입력\n",
              "</h2>\n",
              "<p>1000이하 숫자가 입력됩니다.</p>\n",
              "<h2> 출력\n",
              "</h2>\n",
              "<p>홀수 또는 짝수가 출력됩니다.</p>\n",
              "<HR>\n",
              "<div style = \"float:left;width:50%\">\n",
              "<h2> 입력 예시 </h2>\n",
              "<p>23</p>\n",
              "</div>\n",
              "<div style = \"float:right;width:50%\">\n",
              "<h2> 출력 예시 </h2>\n",
              "<p>홀수</p>\n",
              "</div>\n"
            ]
          },
          "metadata": {}
        }
      ]
    },
    {
      "cell_type": "code",
      "source": [
        "Question(question_6102)"
      ],
      "metadata": {
        "colab": {
          "base_uri": "https://localhost:8080/",
          "height": 338
        },
        "id": "XhkkvMWTEqHj",
        "outputId": "b6eef6f3-b912-493c-f989-5861ce3a8bd6"
      },
      "execution_count": 3,
      "outputs": [
        {
          "output_type": "display_data",
          "data": {
            "text/plain": [
              "<IPython.core.display.HTML object>"
            ],
            "text/html": [
              "<h2 style = \"background-color:yellow; \">문제 설명</h2>\n",
              "<p>입력받은 <span style = \"background-color:\t#E0E0E0;\">2개의 숫자</span> 중 크기가 큰 숫자를 출력하는 프로그램을 만들어봅시다.</p>\n",
              "<HR>\n",
              "<h2> 입력\n",
              "</h2>\n",
              "<p>첫째 줄에 첫 번째 숫자가 입력되고, 둘째 줄에 두 번째 숫자가 입력됩니다.</p>\n",
              "<h2> 출력\n",
              "</h2>\n",
              "<p>두 숫자 중 큰 숫자를 출력합니다.</p>\n",
              "<HR>\n",
              "<div style = \"float:left;width:50%\">\n",
              "<h2> 입력 예시 </h2>\n",
              "<p>12</p>\n",
              "<p>43</p>\n",
              "</div>\n",
              "<div style = \"float:right;width:50%\">\n",
              "<h2> 출력 예시 </h2>\n",
              "<p>43</p>\n",
              "</div>\n"
            ]
          },
          "metadata": {}
        }
      ]
    },
    {
      "cell_type": "code",
      "source": [
        "Question(question_6103)"
      ],
      "metadata": {
        "colab": {
          "base_uri": "https://localhost:8080/",
          "height": 395
        },
        "id": "QB0mYTOrEsOi",
        "outputId": "35a62027-bba3-4c39-be23-bd2d260a6f3b"
      },
      "execution_count": 4,
      "outputs": [
        {
          "output_type": "display_data",
          "data": {
            "text/plain": [
              "<IPython.core.display.HTML object>"
            ],
            "text/html": [
              "<h1 style = \"background-color:yellow; \">문제 설명</h1>\n",
              "<p>3개의 숫자를 입력받습니다. </p>\n",
              "<p>입력받은 <span style = \"background-color:\t#E0E0E0;\">3개의 숫자</span> 중 가장 큰 숫자를 출력하는 프로그램을 만들어봅시다.</p>\n",
              "<HR>\n",
              "<h2>입력</h2>\n",
              "<p>첫째 줄, 둘째 줄, 셋째 줄에 자연수를 입력받습니다.</p>\n",
              "<h2>출력</h2>\n",
              "<p>가장 큰 숫자를 출력합니다.</p>\n",
              "<HR>\n",
              "<div style = \"float:left;width:50%\">\n",
              "<h2>입력 예시 </h2>\n",
              "<p>3</p>\n",
              "<p>5</p>\n",
              "<p>2</p>\n",
              "</div>\n",
              "<div style = \"float:right;width:50%\">\n",
              "<h2>출력 예시 </h2>\n",
              "<p>5</p>\n",
              "</div>\n"
            ]
          },
          "metadata": {}
        }
      ]
    },
    {
      "cell_type": "code",
      "source": [
        "Question(question_6104)"
      ],
      "metadata": {
        "colab": {
          "base_uri": "https://localhost:8080/",
          "height": 395
        },
        "id": "SJZeaBc3EtNI",
        "outputId": "1f58b58c-542e-4b2f-8ff0-4a9fc89f4087"
      },
      "execution_count": 5,
      "outputs": [
        {
          "output_type": "display_data",
          "data": {
            "text/plain": [
              "<IPython.core.display.HTML object>"
            ],
            "text/html": [
              "<h1 style = \"background-color:yellow; \">문제 설명</h1>\n",
              "<p>3개의 숫자를 입력받습니다. </p>\n",
              "<p>입력받은 <span style = \"background-color:\t#E0E0E0;\">3개의 숫자</span> 중 가장 작은 숫자를 출력하는 프로그램을 만들어봅시다.</p>\n",
              "<HR>\n",
              "<h2>입력</h2>\n",
              "<p>첫째 줄, 둘째 줄, 셋째 줄에 자연수를 입력받습니다.</p>\n",
              "<h2>출력</h2>\n",
              "<p>가장 작은 숫자를 출력합니다.</p>\n",
              "<HR>\n",
              "<div style = \"float:left;width:50%\">\n",
              "<h2>입력 예시 </h2>\n",
              "<p>4</p>\n",
              "<p>6</p>\n",
              "<p>9</p>\n",
              "</div>\n",
              "<div style = \"float:right;width:50%\">\n",
              "<h2>출력 예시 </h2>\n",
              "<p>4</p>\n",
              "</div>\n"
            ]
          },
          "metadata": {}
        }
      ]
    },
    {
      "cell_type": "code",
      "source": [
        "Question(question_6105)"
      ],
      "metadata": {
        "colab": {
          "base_uri": "https://localhost:8080/",
          "height": 372
        },
        "id": "g8tGBepkXwII",
        "outputId": "1cc0e141-b561-4dd2-d1c1-e1eb5c13ee7b"
      },
      "execution_count": 7,
      "outputs": [
        {
          "output_type": "display_data",
          "data": {
            "text/plain": [
              "<IPython.core.display.HTML object>"
            ],
            "text/html": [
              "<h1 style = \"background-color:yellow; \">문제 설명</h1>\n",
              "<p>2개의 숫자를 입력받습니다.</p>\n",
              "<p><span style = \"background-color:\t#E0E0E0;\">첫 번째 숫자</span>는 소풍에 놀러 온 학생 숫자이고, <span style = \"background-color:\t#E0E0E0;\">두 번째 숫자</span>는 관람차에 탈 수 있는 정원입니다. 소풍 온 학생들이 모두 관람차를 타려면 관람차는 몇 대가 필요할까요?</p>\n",
              "<HR>\n",
              "<h2>입력</h2>\n",
              "<p>첫째 줄에는 소풍에 놀러 온 학생 숫자이고, 둘째 줄에는 관람차 정원 숫자가 입력됩니다.</p>\n",
              "<h2>출력</h2>\n",
              "<p>소풍에 놀러 온 학생들이 모두 관람차를 타기 위해서 필요한 관람차 개수</p>\n",
              "<HR>\n",
              "<div style = \"float:left;width:50%\">\n",
              "<h2>입력 예시 </h2>\n",
              "<p>36</p>\n",
              "<p>8</p>\n",
              "</div>\n",
              "<div style = \"float:right;width:50%\">\n",
              "<h2>출력 예시 </h2>\n",
              "<p>5</p>\n",
              "</div>\n"
            ]
          },
          "metadata": {}
        }
      ]
    },
    {
      "cell_type": "code",
      "source": [
        "Question(question_6201)"
      ],
      "metadata": {
        "colab": {
          "base_uri": "https://localhost:8080/",
          "height": 315
        },
        "id": "kT_iNmIJEtwV",
        "outputId": "d1159bf8-ec92-4aca-fefb-63e0943abe03"
      },
      "execution_count": 6,
      "outputs": [
        {
          "output_type": "display_data",
          "data": {
            "text/plain": [
              "<IPython.core.display.HTML object>"
            ],
            "text/html": [
              "<h2 style = \"background-color:yellow; \">문제 설명</h2>\n",
              "<p>입력 받은 1개의 <span style = \"background-color : #E0E0E0\">숫자(각도)</span>가 예각인지, 직각인지, 둔각인지 출력하도록 프로그램을 만들어봅시다.</p>\n",
              "<HR>\n",
              "<h2> 입력\n",
              "</h2>\n",
              "<p>1 ~ 179 사이 숫자가 입력됩니다.</p>\n",
              "<h2> 출력\n",
              "</h2>\n",
              "<p>예각, 직각, 둔각 중 하나를 출력합니다.</p>\n",
              "<HR>\n",
              "<div style = \"float:left;width:50%\">\n",
              "<h2> 입력 예시 </h2>\n",
              "<p>56</p>\n",
              "</div>\n",
              "<div style = \"float:right;width:50%\">\n",
              "<h2> 출력 예시 </h2>\n",
              "<p>예각</p>\n",
              "</div>\n"
            ]
          },
          "metadata": {}
        }
      ]
    },
    {
      "cell_type": "code",
      "source": [
        "Question(question_6202)"
      ],
      "metadata": {
        "colab": {
          "base_uri": "https://localhost:8080/",
          "height": 418
        },
        "id": "7PbXxtHuEuhh",
        "outputId": "cd2eb0bb-3b41-4f78-9c9d-3265626007bb"
      },
      "execution_count": 9,
      "outputs": [
        {
          "output_type": "display_data",
          "data": {
            "text/plain": [
              "<IPython.core.display.HTML object>"
            ],
            "text/html": [
              "<h1 style = \"background-color:yellow; \">문제 설명</h1>\n",
              "<p>입력 받은 <span style = \"background-color : #E0E0E0\">3개의 숫자(각도)</span>는 삼각형에서 세 각의 크기입니다. </p>\n",
              "<p>삼각형은 예각삼각형인지 직각삼각형인지 둔각삼각형인지 출력하는 프로그램을 만들어봅시다.</p>\n",
              "<HR>\n",
              "<h2>입력</h2>\n",
              "<p>삼각형 세 각의 크기가 줄바꿈하여 입력됩니다.</p>\n",
              "<p>(단위는 생략되고 입력됩니다.)</p>\n",
              "<h2>출력</h2>\n",
              "<p>예각삼각형, 직각삼각형, 둔각삼각형 중 하나를 출력합니다.</p>\n",
              "<HR>\n",
              "<div style = \"float:left;width:50%\">\n",
              "<h2>입력 예시 </h2>\n",
              "<p>43</p>\n",
              "<p>17</p>\n",
              "<p>120</p>\n",
              "</div>\n",
              "<div style = \"float:right;width:50%\">\n",
              "<h2>출력 예시 </h2>\n",
              "<p>둔각삼각형</p>\n",
              "</div>"
            ]
          },
          "metadata": {}
        }
      ]
    },
    {
      "cell_type": "code",
      "source": [
        "Question(question_6203)"
      ],
      "metadata": {
        "colab": {
          "base_uri": "https://localhost:8080/",
          "height": 362
        },
        "id": "21Ca6r5wEu-U",
        "outputId": "15815e13-43ed-4c00-a760-d8514682882f"
      },
      "execution_count": 8,
      "outputs": [
        {
          "output_type": "display_data",
          "data": {
            "text/plain": [
              "<IPython.core.display.HTML object>"
            ],
            "text/html": [
              "<h2 style = \"background-color:yellow; \">문제 설명</h2>\n",
              "<p>입력 받은 <span style = \"background-color:\t#E0E0E0;\">2개의 숫자(각도)</span>는 삼각형에서 두 각의 크기입니다. </p>\n",
              "<p>이등변삼각형이 될 수 있으면 '가능'을 출력하고 이등변 삼각형이 될 수 없으면 '불가능'을 출력하는 프로그램을 만들어봅시다.</p>\n",
              "<HR>\n",
              "<h2> 입력\n",
              "</h2>\n",
              "<p>삼각형에서 두 각이  입력됩니다.</p>\n",
              "<h2> 출력\n",
              "</h2>\n",
              "<p>가능 또는 불가능</p>\n",
              "<HR>\n",
              "<div style = \"float:left;width:50%\">\n",
              "<h2> 입력 예시 </h2>\n",
              "<p>50</p>\n",
              "<p>80</p>\n",
              "</div>\n",
              "<div style = \"float:right;width:50%\">\n",
              "<h2> 출력 예시 </h2>\n",
              "<p>가능</p>\n",
              "</div>\n"
            ]
          },
          "metadata": {}
        }
      ]
    },
    {
      "cell_type": "code",
      "source": [
        "Question(question_6301)"
      ],
      "metadata": {
        "colab": {
          "base_uri": "https://localhost:8080/",
          "height": 385
        },
        "id": "cGkF52OqEwbL",
        "outputId": "cfd99dc1-620e-4979-d0f6-cd8ecb1ae754"
      },
      "execution_count": 10,
      "outputs": [
        {
          "output_type": "display_data",
          "data": {
            "text/plain": [
              "<IPython.core.display.HTML object>"
            ],
            "text/html": [
              "<h2 style = \"background-color:yellow; \">문제 설명</h2>\n",
              "<p>입력받은 <span style = \"background-color:\t#E0E0E0;\">3개의 숫자(각도)</span>로 삼각형을 만들 수 있으면 '가능'을 출력하고 만들 수 없으면 '불가능'을 출력하는 프로그램을 만들어봅시다.</p>\n",
              "<HR>\n",
              "<h2> 입력\n",
              "</h2>\n",
              "<p>첫째 줄에는 첫 번째 숫자가 입력되고, 둘째 줄에는 두 번째 숫자가 입력되고 셋째 줄에는 세번째 숫자가 출력됩니다.</p>\n",
              "<p>1 ~ 179 사이 숫자가 입력됩니다.</p>\n",
              "<h2> 출력\n",
              "</h2>\n",
              "<p>가능 또는 불가능을 출력합니다.</p>\n",
              "<HR>\n",
              "<div style = \"float:left;width:50%\">\n",
              "<h2> 입력 예시 </h2>\n",
              "<p>34</p>\n",
              "<p>67</p>\n",
              "<p>79</p>\n",
              "</div>\n",
              "<div style = \"float:right;width:50%\">\n",
              "<h2> 출력 예시 </h2>\n",
              "<p>가능</p>\n",
              "</div>\n"
            ]
          },
          "metadata": {}
        }
      ]
    },
    {
      "cell_type": "code",
      "source": [
        "Question(question_6302)"
      ],
      "metadata": {
        "colab": {
          "base_uri": "https://localhost:8080/",
          "height": 362
        },
        "id": "ohWOFpSkExE9",
        "outputId": "158979ec-b11f-438f-c7a0-31dcf902f6f0"
      },
      "execution_count": 11,
      "outputs": [
        {
          "output_type": "display_data",
          "data": {
            "text/plain": [
              "<IPython.core.display.HTML object>"
            ],
            "text/html": [
              "<h2 style = \"background-color:yellow; \">문제 설명</h2>\n",
              "<p>숫자와 글자를 순서대로 입력받습니다.</p>\n",
              "<p>입력받은 <span style = \"background-color:\t#E0E0E0;\">십만 자리 숫자</span>를 입력받은 <span style = \"background-color:\t#E0E0E0;\">글자</span>에 맞게 올림 또는 내림하여 만 자리까지 나타내는 프로그램을 만들어봅시다.</p>\n",
              "<HR>\n",
              "<h2> 입력\n",
              "</h2>\n",
              "<p>첫째 줄에 십만 자리 숫자가 입력되고, 둘째 줄에 올림 또는 내림이 입력됩니다.</p>\n",
              "<h2> 출력\n",
              "</h2>\n",
              "<p>올림 또는 내림하여 만의 자리 까지 나타낸 수를 출력합니다.</p>\n",
              "<HR>\n",
              "<div style = \"float:left;width:50%\">\n",
              "<h2> 입력 예시 </h2>\n",
              "<p>123421</p>\n",
              "<p>올림</p>\n",
              "</div>\n",
              "<div style = \"float:right;width:50%\">\n",
              "<h2> 출력 예시 </h2>\n",
              "<p>130000</p>\n",
              "</div>\n"
            ]
          },
          "metadata": {}
        }
      ]
    },
    {
      "cell_type": "code",
      "source": [
        "Question(question_6303)"
      ],
      "metadata": {
        "id": "UlkInbCfEyWO",
        "outputId": "0424327a-3055-43c1-952d-041b7b6c8b05",
        "colab": {
          "base_uri": "https://localhost:8080/",
          "height": 395
        }
      },
      "execution_count": 12,
      "outputs": [
        {
          "output_type": "display_data",
          "data": {
            "text/plain": [
              "<IPython.core.display.HTML object>"
            ],
            "text/html": [
              "<h1 style = \"background-color:yellow; \">문제 설명</h1>\n",
              "<p>숫자와 글자를 순서대로 입력받습니다.</p>\n",
              "<p>m(미터)단위인 입력받은 <span style = \"background-color:\t#E0E0E0;\">숫자</span>를 입력받은 <span style = \"background-color:\t#E0E0E0;\">글자(단위)</span>에 맞게 바꾸는 프로그램을 만들어봅시다.</p>\n",
              "<p>글자는 cm 또는 mm를 입력받습니다.</p>\n",
              "<HR>\n",
              "<h2>입력</h2>\n",
              "<p>첫째 줄에 m 단위의 길이, 둘째 줄에 단위를 입력받습니다.</p>\n",
              "<h2>출력</h2>\n",
              "<p>입력 받은 숫자를 단위에 맞게 바꿔 출력합니다.</p>\n",
              "<HR>\n",
              "<div style = \"float:left;width:50%\">\n",
              "<h2>입력 예시 </h2>\n",
              "<p>25</p>\n",
              "<p>cm</p>\n",
              "</div>\n",
              "<div style = \"float:right;width:50%\">\n",
              "<h2>출력 예시 </h2>\n",
              "<p>2500</p>\n",
              "</div>\n"
            ]
          },
          "metadata": {}
        }
      ]
    }
  ]
}