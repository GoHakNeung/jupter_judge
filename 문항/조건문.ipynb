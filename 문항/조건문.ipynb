{
  "nbformat": 4,
  "nbformat_minor": 0,
  "metadata": {
    "colab": {
      "provenance": []
    },
    "kernelspec": {
      "name": "python3",
      "display_name": "Python 3"
    },
    "language_info": {
      "name": "python"
    }
  },
  "cells": [
    {
      "cell_type": "code",
      "source": [
        "Question(question_5101)"
      ],
      "metadata": {
        "colab": {
          "base_uri": "https://localhost:8080/",
          "height": 315
        },
        "id": "RkfwxOi7_Olh",
        "outputId": "661301d8-92a5-4dcb-d708-f9ac97d0ec16"
      },
      "execution_count": 2,
      "outputs": [
        {
          "output_type": "display_data",
          "data": {
            "text/plain": [
              "<IPython.core.display.HTML object>"
            ],
            "text/html": [
              "<h2 style = \"background-color:yellow; \">문제 설명</h2>\n",
              "<p>입력받은 <span style = \"background-color:\t#E0E0E0;\">숫자</span>가 홀수인지 짝수인지 알려주는 프로그램을 만들어봅시다.</p>\n",
              "<HR>\n",
              "<h2> 입력\n",
              "</h2>\n",
              "<p>1000이하 숫자가 입력됩니다.</p>\n",
              "<h2> 출력\n",
              "</h2>\n",
              "<p>홀수 또는 짝수가 출력됩니다.</p>\n",
              "<HR>\n",
              "<div style = \"float:left;width:50%\">\n",
              "<h2> 입력 예시 </h2>\n",
              "<p>23</p>\n",
              "</div>\n",
              "<div style = \"float:right;width:50%\">\n",
              "<h2> 출력 예시 </h2>\n",
              "<p>홀수</p>\n",
              "</div>\n"
            ]
          },
          "metadata": {}
        },
        {
          "output_type": "execute_result",
          "data": {
            "text/html": [
              "<img src=\"\"/>"
            ],
            "text/plain": [
              "<IPython.core.display.Image object>"
            ]
          },
          "metadata": {},
          "execution_count": 2
        }
      ]
    },
    {
      "cell_type": "code",
      "source": [
        "Question(question_5102)"
      ],
      "metadata": {
        "colab": {
          "base_uri": "https://localhost:8080/",
          "height": 339
        },
        "id": "XhkkvMWTEqHj",
        "outputId": "560afb68-29e7-4076-d4bd-3f293b9d58af"
      },
      "execution_count": 3,
      "outputs": [
        {
          "output_type": "display_data",
          "data": {
            "text/plain": [
              "<IPython.core.display.HTML object>"
            ],
            "text/html": [
              "<h2 style = \"background-color:yellow; \">문제 설명</h2>\n",
              "<p>입력받은 <span style = \"background-color:\t#E0E0E0;\">2개의 숫자</span> 중 크기가 큰 숫자를 출력하는 프로그램을 만들어봅시다.</p>\n",
              "<HR>\n",
              "<h2> 입력\n",
              "</h2>\n",
              "<p>첫째 줄에 첫 번째 숫자가 입력되고, 둘째 줄에 두 번째 숫자가 입력됩니다.</p>\n",
              "<h2> 출력\n",
              "</h2>\n",
              "<p>두 숫자 중 큰 숫자를 출력합니다.</p>\n",
              "<HR>\n",
              "<div style = \"float:left;width:50%\">\n",
              "<h2> 입력 예시 </h2>\n",
              "<p>12</p>\n",
              "<p>43</p>\n",
              "</div>\n",
              "<div style = \"float:right;width:50%\">\n",
              "<h2> 출력 예시 </h2>\n",
              "<p>43</p>\n",
              "</div>\n"
            ]
          },
          "metadata": {}
        },
        {
          "output_type": "execute_result",
          "data": {
            "text/html": [
              "<img src=\"\"/>"
            ],
            "text/plain": [
              "<IPython.core.display.Image object>"
            ]
          },
          "metadata": {},
          "execution_count": 3
        }
      ]
    },
    {
      "cell_type": "code",
      "source": [
        "Question(question_5103)"
      ],
      "metadata": {
        "colab": {
          "base_uri": "https://localhost:8080/",
          "height": 395
        },
        "id": "QB0mYTOrEsOi",
        "outputId": "3774dad8-fd10-4724-ea49-ddfe1ad47540"
      },
      "execution_count": 4,
      "outputs": [
        {
          "output_type": "display_data",
          "data": {
            "text/plain": [
              "<IPython.core.display.HTML object>"
            ],
            "text/html": [
              "<h1 style = \"background-color:yellow; \">문제 설명</h1>\n",
              "<p>3개의 숫자를 입력받습니다. </p>\n",
              "<p>입력받은 <span style = \"background-color:\t#E0E0E0;\">3개의 숫자</span> 중 가장 큰 숫자를 출력하는 프로그램을 만들어봅시다.</p>\n",
              "<HR>\n",
              "<h2>입력</h2>\n",
              "<p>첫째 줄, 둘째 줄, 셋째 줄에 자연수를 입력받습니다.</p>\n",
              "<h2>출력</h2>\n",
              "<p>가장 큰 숫자를 출력합니다.</p>\n",
              "<HR>\n",
              "<div style = \"float:left;width:50%\">\n",
              "<h2>입력 예시 </h2>\n",
              "<p>3</p>\n",
              "<p>5</p>\n",
              "<p>2</p>\n",
              "</div>\n",
              "<div style = \"float:right;width:50%\">\n",
              "<h2>출력 예시 </h2>\n",
              "<p>5</p>\n",
              "</div>\n"
            ]
          },
          "metadata": {}
        },
        {
          "output_type": "execute_result",
          "data": {
            "text/html": [
              "<img src=\"\"/>"
            ],
            "text/plain": [
              "<IPython.core.display.Image object>"
            ]
          },
          "metadata": {},
          "execution_count": 4
        }
      ]
    },
    {
      "cell_type": "code",
      "source": [
        "Question(question_5104)"
      ],
      "metadata": {
        "colab": {
          "base_uri": "https://localhost:8080/",
          "height": 395
        },
        "id": "SJZeaBc3EtNI",
        "outputId": "0531ef48-9cab-4407-9839-c612e83f265a"
      },
      "execution_count": 5,
      "outputs": [
        {
          "output_type": "display_data",
          "data": {
            "text/plain": [
              "<IPython.core.display.HTML object>"
            ],
            "text/html": [
              "<h1 style = \"background-color:yellow; \">문제 설명</h1>\n",
              "<p>3개의 숫자를 입력받습니다. </p>\n",
              "<p>입력받은 <span style = \"background-color:\t#E0E0E0;\">3개의 숫자</span> 중 가장 작은 숫자를 출력하는 프로그램을 만들어봅시다.</p>\n",
              "<HR>\n",
              "<h2>입력</h2>\n",
              "<p>첫째 줄, 둘째 줄, 셋째 줄에 자연수를 입력받습니다.</p>\n",
              "<h2>출력</h2>\n",
              "<p>가장 작은 숫자를 출력합니다.</p>\n",
              "<HR>\n",
              "<div style = \"float:left;width:50%\">\n",
              "<h2>입력 예시 </h2>\n",
              "<p>4</p>\n",
              "<p>6</p>\n",
              "<p>9</p>\n",
              "</div>\n",
              "<div style = \"float:right;width:50%\">\n",
              "<h2>출력 예시 </h2>\n",
              "<p>4</p>\n",
              "</div>\n"
            ]
          },
          "metadata": {}
        },
        {
          "output_type": "execute_result",
          "data": {
            "text/html": [
              "<img src=\"\"/>"
            ],
            "text/plain": [
              "<IPython.core.display.Image object>"
            ]
          },
          "metadata": {},
          "execution_count": 5
        }
      ]
    },
    {
      "cell_type": "code",
      "source": [
        "Question(question_5201)"
      ],
      "metadata": {
        "colab": {
          "base_uri": "https://localhost:8080/",
          "height": 315
        },
        "id": "kT_iNmIJEtwV",
        "outputId": "5e74ed6d-53bc-4449-bc20-dc92816c3feb"
      },
      "execution_count": 6,
      "outputs": [
        {
          "output_type": "display_data",
          "data": {
            "text/plain": [
              "<IPython.core.display.HTML object>"
            ],
            "text/html": [
              "<h2 style = \"background-color:yellow; \">문제 설명</h2>\n",
              "<p>입력 받은 1개의 <span style = \"background-color : #E0E0E0\">숫자(각도)</span>가 예각인지, 직각인지, 둔각인지 출력하도록 프로그램을 만들어봅시다.</p>\n",
              "<HR>\n",
              "<h2> 입력\n",
              "</h2>\n",
              "<p>1 ~ 179 사이 숫자가 입력됩니다.</p>\n",
              "<h2> 출력\n",
              "</h2>\n",
              "<p>예각, 직각, 둔각 중 하나를 출력합니다.</p>\n",
              "<HR>\n",
              "<div style = \"float:left;width:50%\">\n",
              "<h2> 입력 예시 </h2>\n",
              "<p>56</p>\n",
              "</div>\n",
              "<div style = \"float:right;width:50%\">\n",
              "<h2> 출력 예시 </h2>\n",
              "<p>예각</p>\n",
              "</div>\n"
            ]
          },
          "metadata": {}
        },
        {
          "output_type": "execute_result",
          "data": {
            "text/html": [
              "<img src=\"\"/>"
            ],
            "text/plain": [
              "<IPython.core.display.Image object>"
            ]
          },
          "metadata": {},
          "execution_count": 6
        }
      ]
    },
    {
      "cell_type": "code",
      "source": [
        "Question(question_5202)"
      ],
      "metadata": {
        "colab": {
          "base_uri": "https://localhost:8080/",
          "height": 419
        },
        "id": "7PbXxtHuEuhh",
        "outputId": "d02f0571-5057-453c-cc6c-7b573ef76da8"
      },
      "execution_count": 7,
      "outputs": [
        {
          "output_type": "display_data",
          "data": {
            "text/plain": [
              "<IPython.core.display.HTML object>"
            ],
            "text/html": [
              "<h1 style = \"background-color:yellow; \">문제 설명</h1>\n",
              "<p>입력 받은 <span style = \"background-color : #E0E0E0\">3개의 숫자(각도)</span>는 삼각형에서 세 각의 크기입니다. </p>\n",
              "<p>삼각형은 예각삼각형인지 직각삼각형인지 둔각삼각형인지 출력하는 프로그램을 만들어봅시다.</p>\n",
              "<HR>\n",
              "<h2>입력</h2>\n",
              "<p>삼각형 세 각의 크기가 줄바꿈하여 입력됩니다.</p>\n",
              "<p>(단위는 생략되고 입력됩니다.)</p>\n",
              "<h2>출력</h2>\n",
              "<p>예각삼각형, 직각삼각형, 둔각삼각형 중 하나를 출력합니다.</p>\n",
              "<HR>\n",
              "<div style = \"float:left;width:50%\">\n",
              "<h2>입력 예시 </h2>\n",
              "<p>43</p>\n",
              "<p>17</p>\n",
              "<p>120</p>\n",
              "</div>\n",
              "<div style = \"float:right;width:50%\">\n",
              "<h2>출력 예시 </h2>\n",
              "<p>둔각삼각형</p>\n",
              "</div>"
            ]
          },
          "metadata": {}
        },
        {
          "output_type": "execute_result",
          "data": {
            "text/html": [
              "<img src=\"\"/>"
            ],
            "text/plain": [
              "<IPython.core.display.Image object>"
            ]
          },
          "metadata": {},
          "execution_count": 7
        }
      ]
    },
    {
      "cell_type": "code",
      "source": [
        "Question(question_5203)"
      ],
      "metadata": {
        "colab": {
          "base_uri": "https://localhost:8080/",
          "height": 362
        },
        "id": "21Ca6r5wEu-U",
        "outputId": "dd69babb-7191-4030-eea3-cf6316d21459"
      },
      "execution_count": 8,
      "outputs": [
        {
          "output_type": "display_data",
          "data": {
            "text/plain": [
              "<IPython.core.display.HTML object>"
            ],
            "text/html": [
              "<h2 style = \"background-color:yellow; \">문제 설명</h2>\n",
              "<p>입력 받은 <span style = \"background-color:\t#E0E0E0;\">2개의 숫자(각도)</span>는 삼각형에서 두 각의 크기입니다. </p>\n",
              "<p>이등변삼각형이 될 수 있으면 '가능'을 출력하고 이등변 삼각형이 될 수 없으면 '불가능'을 출력하는 프로그램을 만들어봅시다.</p>\n",
              "<HR>\n",
              "<h2> 입력\n",
              "</h2>\n",
              "<p>삼각형에서 두 각이  입력됩니다.</p>\n",
              "<h2> 출력\n",
              "</h2>\n",
              "<p>가능 또는 불가능</p>\n",
              "<HR>\n",
              "<div style = \"float:left;width:50%\">\n",
              "<h2> 입력 예시 </h2>\n",
              "<p>50</p>\n",
              "<p>80</p>\n",
              "</div>\n",
              "<div style = \"float:right;width:50%\">\n",
              "<h2> 출력 예시 </h2>\n",
              "<p>가능</p>\n",
              "</div>\n"
            ]
          },
          "metadata": {}
        },
        {
          "output_type": "execute_result",
          "data": {
            "text/html": [
              "<img src=\"\"/>"
            ],
            "text/plain": [
              "<IPython.core.display.Image object>"
            ]
          },
          "metadata": {},
          "execution_count": 8
        }
      ]
    },
    {
      "cell_type": "code",
      "source": [
        "Question(question_5301)"
      ],
      "metadata": {
        "colab": {
          "base_uri": "https://localhost:8080/",
          "height": 385
        },
        "id": "cGkF52OqEwbL",
        "outputId": "e3cec0ef-43c2-4df8-bb6b-f05ed878351b"
      },
      "execution_count": 9,
      "outputs": [
        {
          "output_type": "display_data",
          "data": {
            "text/plain": [
              "<IPython.core.display.HTML object>"
            ],
            "text/html": [
              "<h2 style = \"background-color:yellow; \">문제 설명</h2>\n",
              "<p>입력받은 <span style = \"background-color:\t#E0E0E0;\">3개의 숫자(각도)</span>로 삼각형을 만들 수 있으면 '가능'을 출력하고 만들 수 없으면 '불가능'을 출력하는 프로그램을 만들어봅시다.</p>\n",
              "<HR>\n",
              "<h2> 입력\n",
              "</h2>\n",
              "<p>첫째 줄에는 첫 번째 숫자가 입력되고, 둘째 줄에는 두 번째 숫자가 입력되고 셋째 줄에는 세번째 숫자가 출력됩니다.</p>\n",
              "<p>1 ~ 179 사이 숫자가 입력됩니다.</p>\n",
              "<h2> 출력\n",
              "</h2>\n",
              "<p>가능 또는 불가능을 출력합니다.</p>\n",
              "<HR>\n",
              "<div style = \"float:left;width:50%\">\n",
              "<h2> 입력 예시 </h2>\n",
              "<p>34</p>\n",
              "<p>67</p>\n",
              "<p>79</p>\n",
              "</div>\n",
              "<div style = \"float:right;width:50%\">\n",
              "<h2> 출력 예시 </h2>\n",
              "<p>가능</p>\n",
              "</div>\n"
            ]
          },
          "metadata": {}
        },
        {
          "output_type": "execute_result",
          "data": {
            "text/html": [
              "<img src=\"\"/>"
            ],
            "text/plain": [
              "<IPython.core.display.Image object>"
            ]
          },
          "metadata": {},
          "execution_count": 9
        }
      ]
    },
    {
      "cell_type": "code",
      "source": [
        "Question(question_5302)"
      ],
      "metadata": {
        "colab": {
          "base_uri": "https://localhost:8080/",
          "height": 362
        },
        "id": "ohWOFpSkExE9",
        "outputId": "bee598b3-8fcb-4055-a06f-05bc8edec47a"
      },
      "execution_count": 10,
      "outputs": [
        {
          "output_type": "display_data",
          "data": {
            "text/plain": [
              "<IPython.core.display.HTML object>"
            ],
            "text/html": [
              "<h2 style = \"background-color:yellow; \">문제 설명</h2>\n",
              "<p>숫자와 글자를 순서대로 입력받습니다.</p>\n",
              "<p>입력받은 <span style = \"background-color:\t#E0E0E0;\">십만 자리 숫자</span>를 입력받은 <span style = \"background-color:\t#E0E0E0;\">글자</span>에 맞게 올림 또는 내림하여 만 자리까지 나타내는 프로그램을 만들어봅시다.</p>\n",
              "<HR>\n",
              "<h2> 입력\n",
              "</h2>\n",
              "<p>첫째 줄에 십만 자리 숫자가 입력되고, 둘째 줄에 올림 또는 내림이 입력됩니다.</p>\n",
              "<h2> 출력\n",
              "</h2>\n",
              "<p>올림 또는 내림하여 만의 자리 까지 나타낸 수를 출력합니다.</p>\n",
              "<HR>\n",
              "<div style = \"float:left;width:50%\">\n",
              "<h2> 입력 예시 </h2>\n",
              "<p>123421</p>\n",
              "<p>올림</p>\n",
              "</div>\n",
              "<div style = \"float:right;width:50%\">\n",
              "<h2> 출력 예시 </h2>\n",
              "<p>130000</p>\n",
              "</div>\n"
            ]
          },
          "metadata": {}
        },
        {
          "output_type": "execute_result",
          "data": {
            "text/html": [
              "<img src=\"\"/>"
            ],
            "text/plain": [
              "<IPython.core.display.Image object>"
            ]
          },
          "metadata": {},
          "execution_count": 10
        }
      ]
    },
    {
      "cell_type": "code",
      "source": [
        "Question(question_5303)"
      ],
      "metadata": {
        "id": "UlkInbCfEyWO",
        "outputId": "b6b576b9-e01a-4112-c1de-b426fa1b2d63",
        "colab": {
          "base_uri": "https://localhost:8080/",
          "height": 395
        }
      },
      "execution_count": 11,
      "outputs": [
        {
          "output_type": "display_data",
          "data": {
            "text/plain": [
              "<IPython.core.display.HTML object>"
            ],
            "text/html": [
              "<h1 style = \"background-color:yellow; \">문제 설명</h1>\n",
              "<p>숫자와 글자를 순서대로 입력받습니다.</p>\n",
              "<p>m(미터)단위인 입력받은 <span style = \"background-color:\t#E0E0E0;\">숫자</span>를 입력받은 <span style = \"background-color:\t#E0E0E0;\">글자(단위)</span>에 맞게 바꾸는 프로그램을 만들어봅시다.</p>\n",
              "<p>글자는 cm 또는 mm를 입력받습니다.</p>\n",
              "<HR>\n",
              "<h2>입력</h2>\n",
              "<p>첫째 줄에 m 단위의 길이, 둘째 줄에 단위를 입력받습니다.</p>\n",
              "<h2>출력</h2>\n",
              "<p>입력 받은 숫자를 단위에 맞게 바꿔 출력합니다.</p>\n",
              "<HR>\n",
              "<div style = \"float:left;width:50%\">\n",
              "<h2>입력 예시 </h2>\n",
              "<p>25</p>\n",
              "<p>cm</p>\n",
              "</div>\n",
              "<div style = \"float:right;width:50%\">\n",
              "<h2>출력 예시 </h2>\n",
              "<p>2500</p>\n",
              "</div>\n"
            ]
          },
          "metadata": {}
        },
        {
          "output_type": "execute_result",
          "data": {
            "text/html": [
              "<img src=\"\"/>"
            ],
            "text/plain": [
              "<IPython.core.display.Image object>"
            ]
          },
          "metadata": {},
          "execution_count": 11
        }
      ]
    },
    {
      "cell_type": "code",
      "source": [],
      "metadata": {
        "id": "cGXdBhBMEy8h"
      },
      "execution_count": 11,
      "outputs": []
    }
  ]
}