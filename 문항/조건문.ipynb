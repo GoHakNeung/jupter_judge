{
  "nbformat": 4,
  "nbformat_minor": 0,
  "metadata": {
    "colab": {
      "provenance": []
    },
    "kernelspec": {
      "name": "python3",
      "display_name": "Python 3"
    },
    "language_info": {
      "name": "python"
    }
  },
  "cells": [
    {
      "cell_type": "code",
      "source": [
        "Question(question_5101)"
      ],
      "metadata": {
        "colab": {
          "base_uri": "https://localhost:8080/",
          "height": 283
        },
        "id": "RkfwxOi7_Olh",
        "outputId": "10764bc3-eda0-43ed-b66f-66f61020a4ff"
      },
      "execution_count": 50,
      "outputs": [
        {
          "output_type": "display_data",
          "data": {
            "text/plain": [
              "<IPython.core.display.HTML object>"
            ],
            "text/html": [
              "<h1 style = \"background-color:yellow; \">문제 설명</h1>\n",
              "<h2>\n",
              "<p>입력받은 <span style = \"background-color:\t#E0E0E0;\">숫자</span>가 홀수인지 짝수인지 알려주는 프로그램을 만들어봅시다.</p>\n",
              "<HR>\n",
              "<p>입력 예시 : 23</p>\n",
              "<h3>\n",
              "<p>1000이하 숫자가 입력됩니다.</p>\n",
              "</h3>\n",
              "<h2>\n",
              "<p>출력 예시 : 홀수</p>\n",
              "<HR>\n",
              "</h2>"
            ]
          },
          "metadata": {}
        },
        {
          "output_type": "execute_result",
          "data": {
            "text/html": [
              "<img src=\"\"/>"
            ],
            "text/plain": [
              "<IPython.core.display.Image object>"
            ]
          },
          "metadata": {},
          "execution_count": 50
        }
      ]
    },
    {
      "cell_type": "code",
      "source": [
        "Question(question_5102)"
      ],
      "metadata": {
        "colab": {
          "base_uri": "https://localhost:8080/",
          "height": 315
        },
        "id": "XhkkvMWTEqHj",
        "outputId": "fd6c92c4-4ca5-4e77-c5e1-b0852b4bf047"
      },
      "execution_count": 51,
      "outputs": [
        {
          "output_type": "display_data",
          "data": {
            "text/plain": [
              "<IPython.core.display.HTML object>"
            ],
            "text/html": [
              "<h1 style = \"background-color:yellow; \">문제 설명</h1>\n",
              "<h2>\n",
              "<p>2개의 숫자를 입력받습니다. </p>\n",
              "<p>입력받은 <span style = \"background-color:\t#E0E0E0;\">2개의 숫자</span> 중 크기가 큰 숫자부터 출력하는 프로그램을 만들어봅시다.</p>\n",
              "<HR>\n",
              "<p>입력 예시 : 12 43</p>\n",
              "<h3>\n",
              "<p>1000이하 숫자가 입력됩니다.</p>\n",
              "</h3>\n",
              "<h2>\n",
              "<p>출력 예시 : 43 12</p>\n",
              "<HR>\n",
              "</h2>"
            ]
          },
          "metadata": {}
        },
        {
          "output_type": "execute_result",
          "data": {
            "text/html": [
              "<img src=\"\"/>"
            ],
            "text/plain": [
              "<IPython.core.display.Image object>"
            ]
          },
          "metadata": {},
          "execution_count": 51
        }
      ]
    },
    {
      "cell_type": "code",
      "source": [
        "Question(question_5103)"
      ],
      "metadata": {
        "colab": {
          "base_uri": "https://localhost:8080/",
          "height": 315
        },
        "id": "QB0mYTOrEsOi",
        "outputId": "8e3692f4-c08d-4341-b626-aae9fd02b38d"
      },
      "execution_count": 52,
      "outputs": [
        {
          "output_type": "display_data",
          "data": {
            "text/plain": [
              "<IPython.core.display.HTML object>"
            ],
            "text/html": [
              "<h1 style = \"background-color:yellow; \">문제 설명</h1>\n",
              "<h2>\n",
              "<p>3개의 숫자를 입력받습니다. </p>\n",
              "<p>입력받은 <span style = \"background-color:\t#E0E0E0;\">3개의 숫자</span> 중 가장 큰 숫자를 출력하는 프로그램을 만들어봅시다.</p>\n",
              "<HR>\n",
              "<p>입력 예시 : 3 5 2</p>\n",
              "<h3>\n",
              "<p>1000이하 숫자가 입력됩니다.</p>\n",
              "</h3>\n",
              "<h2>\n",
              "<p>출력 예시 : 5</p>\n",
              "<HR>\n",
              "</h2>"
            ]
          },
          "metadata": {}
        },
        {
          "output_type": "execute_result",
          "data": {
            "text/html": [
              "<img src=\"\"/>"
            ],
            "text/plain": [
              "<IPython.core.display.Image object>"
            ]
          },
          "metadata": {},
          "execution_count": 52
        }
      ]
    },
    {
      "cell_type": "code",
      "source": [
        "Question(question_5104)"
      ],
      "metadata": {
        "colab": {
          "base_uri": "https://localhost:8080/",
          "height": 315
        },
        "id": "SJZeaBc3EtNI",
        "outputId": "82bde6df-e274-44ad-bd4c-8bf76d8b378d"
      },
      "execution_count": 53,
      "outputs": [
        {
          "output_type": "display_data",
          "data": {
            "text/plain": [
              "<IPython.core.display.HTML object>"
            ],
            "text/html": [
              "<h1 style = \"background-color:yellow; \">문제 설명</h1>\n",
              "<h2>\n",
              "<p>3개의 숫자를 입력받습니다. </p>\n",
              "<p>입력받은 <span style = \"background-color:\t#E0E0E0;\">3개의 숫자</span> 중 가장 작은은 숫자를 출력하는 프로그램을 만들어봅시다.</p>\n",
              "<HR>\n",
              "<p>입력 예시 : 4 6 9</p>\n",
              "<h3>\n",
              "<p>10000이하 숫자가 입력됩니다.</p>\n",
              "</h3>\n",
              "<h2>\n",
              "<p>출력 예시 : 4</p>\n",
              "<HR>\n",
              "</h2>"
            ]
          },
          "metadata": {}
        },
        {
          "output_type": "execute_result",
          "data": {
            "text/html": [
              "<img src=\"\"/>"
            ],
            "text/plain": [
              "<IPython.core.display.Image object>"
            ]
          },
          "metadata": {},
          "execution_count": 53
        }
      ]
    },
    {
      "cell_type": "code",
      "source": [
        "Question(question_5201)"
      ],
      "metadata": {
        "colab": {
          "base_uri": "https://localhost:8080/",
          "height": 283
        },
        "id": "kT_iNmIJEtwV",
        "outputId": "bdb26069-e160-4696-e9b8-de68d264e513"
      },
      "execution_count": 54,
      "outputs": [
        {
          "output_type": "display_data",
          "data": {
            "text/plain": [
              "<IPython.core.display.HTML object>"
            ],
            "text/html": [
              "<h1 style = \"background-color:yellow; \">문제 설명</h1>\n",
              "<h2>\n",
              "<p>입력받은 1개의 <span style = \"background-color : #E0E0E0\">숫자(각도)</span>가 예각인지, 직각인지, 둔각인지 출력하도록 프로그램을 만들어봅시다.</p>\n",
              "<HR>\n",
              "<p>입력 예시 : <b>56</b></p>\n",
              "<h3>\n",
              "<p>입력되는 숫자는 1에서 179이하 숫자이며 단위는 &#176이다.</p>\n",
              "</h3>\n",
              "<h2>\n",
              "<p>출력 예시 : 예각</p>\n",
              "<HR>\n",
              "</h2>"
            ]
          },
          "metadata": {}
        },
        {
          "output_type": "execute_result",
          "data": {
            "text/html": [
              "<img src=\"\"/>"
            ],
            "text/plain": [
              "<IPython.core.display.Image object>"
            ]
          },
          "metadata": {},
          "execution_count": 54
        }
      ]
    },
    {
      "cell_type": "code",
      "source": [
        "Question(question_5202)"
      ],
      "metadata": {
        "colab": {
          "base_uri": "https://localhost:8080/",
          "height": 315
        },
        "id": "7PbXxtHuEuhh",
        "outputId": "39bfb0e0-98ad-40cb-e442-a6ab93bf8feb"
      },
      "execution_count": 55,
      "outputs": [
        {
          "output_type": "display_data",
          "data": {
            "text/plain": [
              "<IPython.core.display.HTML object>"
            ],
            "text/html": [
              "<h1 style = \"background-color:yellow; \">문제 설명</h1>\n",
              "<h2>\n",
              "<p>입력받은 <span style = \"background-color : #E0E0E0\">3개의 숫자(각도)</span>는 삼각형에서 세 각의 크기입니다. </p>\n",
              "<p>삼각형은 예각삼각형인지 직각삼각형인지 둔각삼각형인지 출력하는 프로그램을 만들어봅시다.</p>\n",
              "<HR>\n",
              "<p>입력 예시 : <b>43 17 120</b></p>\n",
              "<h3>\n",
              "<p>입력되는 숫자는 1에서 179이하 숫자이며 단위는 &#176이다.</p>\n",
              "</h3>\n",
              "<h2>\n",
              "<p>출력 예시 : 둔각삼각형</p>\n",
              "<HR>\n",
              "</h2>"
            ]
          },
          "metadata": {}
        },
        {
          "output_type": "execute_result",
          "data": {
            "text/html": [
              "<img src=\"\"/>"
            ],
            "text/plain": [
              "<IPython.core.display.Image object>"
            ]
          },
          "metadata": {},
          "execution_count": 55
        }
      ]
    },
    {
      "cell_type": "code",
      "source": [
        "Question(question_5203)"
      ],
      "metadata": {
        "colab": {
          "base_uri": "https://localhost:8080/",
          "height": 315
        },
        "id": "21Ca6r5wEu-U",
        "outputId": "30853545-ae82-4bf0-aba0-17bfa468b8db"
      },
      "execution_count": 56,
      "outputs": [
        {
          "output_type": "display_data",
          "data": {
            "text/plain": [
              "<IPython.core.display.HTML object>"
            ],
            "text/html": [
              "<h1 style = \"background-color:yellow; \">문제 설명</h1>\n",
              "<h2>\n",
              "<p>입력받은 <span style = \"background-color:\t#E0E0E0;\">2개의 숫자(각도)</span>는 삼각형에서 두 각의 크기입니다. </p>\n",
              "<p>이등변삼각형이 될 수 있으면 '가능'을 출력하고 이등변 삼각형이 될 수 없으면 '불가능'을 출력하는 프로그램을 만들어봅시다.</p>\n",
              "<HR>\n",
              "<p>입력 예시 : 50 80</p>\n",
              "<h3>\n",
              "<p>입력되는 숫자는 1에서 179이하 숫자이며 단위는 &#176이다.</p>\n",
              "</h3>\n",
              "<h2>\n",
              "<p>출력 예시 : 가능</p>\n",
              "<HR>\n",
              "</h2>"
            ]
          },
          "metadata": {}
        },
        {
          "output_type": "execute_result",
          "data": {
            "text/html": [
              "<img src=\"\"/>"
            ],
            "text/plain": [
              "<IPython.core.display.Image object>"
            ]
          },
          "metadata": {},
          "execution_count": 56
        }
      ]
    },
    {
      "cell_type": "code",
      "source": [
        "Question(question_5301)"
      ],
      "metadata": {
        "colab": {
          "base_uri": "https://localhost:8080/",
          "height": 315
        },
        "id": "cGkF52OqEwbL",
        "outputId": "df42edcd-334e-434a-ca28-7c9cdc220c99"
      },
      "execution_count": 57,
      "outputs": [
        {
          "output_type": "display_data",
          "data": {
            "text/plain": [
              "<IPython.core.display.HTML object>"
            ],
            "text/html": [
              "<h1 style = \"background-color:yellow; \">문제 설명</h1>\n",
              "<h2>\n",
              "<p>3개의 숫자를 입력받습니다.</p>\n",
              "<p>입력받은 <span style = \"background-color:\t#E0E0E0;\">3개의 숫자(각도)</span>로 삼각형을 만들 수 있으면 '가능'을 출력하고 만들 수 없으면 '불가능'을 출력하는 프로그램을 만들어봅시다.</p>\n",
              "<HR>\n",
              "<p>입력 예시 : 34 67 79</p>\n",
              "<h3>\n",
              "<p>입력되는 숫자는 1에서 179이하 숫자이며 단위는 &#176이다.</p>\n",
              "</h3>\n",
              "<h2>\n",
              "<p>출력 예시 : 가능</p>\n",
              "<HR>\n",
              "</h2>"
            ]
          },
          "metadata": {}
        },
        {
          "output_type": "execute_result",
          "data": {
            "text/html": [
              "<img src=\"\"/>"
            ],
            "text/plain": [
              "<IPython.core.display.Image object>"
            ]
          },
          "metadata": {},
          "execution_count": 57
        }
      ]
    },
    {
      "cell_type": "code",
      "source": [
        "Question(question_5302)"
      ],
      "metadata": {
        "colab": {
          "base_uri": "https://localhost:8080/",
          "height": 375
        },
        "id": "ohWOFpSkExE9",
        "outputId": "7c9ba126-5cd9-49f9-f071-b2d5f542b260"
      },
      "execution_count": 58,
      "outputs": [
        {
          "output_type": "display_data",
          "data": {
            "text/plain": [
              "<IPython.core.display.HTML object>"
            ],
            "text/html": [
              "<h1 style = \"background-color:yellow; \">문제 설명</h1>\n",
              "<h2>\n",
              "<p>숫자와 글자를 순서대로 입력받습니다.</p>\n",
              "<p>입력받은 <span style = \"background-color:\t#E0E0E0;\">십만 자리 숫자</span>를 입력받은 <span style = \"background-color:\t#E0E0E0;\">글자</span>에 맞게 올림 또는 내림하여 만 자리까지 나타내는 프로그램을 만들어봅시다.</p>\n",
              "<p>숫자는 십만 자리 숫자가 입력받고 글자는 올림 또는 내림을 입력받습니다.</p>\n",
              "<HR>\n",
              "<p>- 입력 예시 : </p>\n",
              "<p>123421 </p>\n",
              "<p>올림</p>\n",
              "<h2>\n",
              "<p>- 출력 예시 : 130000</p>\n",
              "<HR>\n",
              "</h2>"
            ]
          },
          "metadata": {}
        },
        {
          "output_type": "execute_result",
          "data": {
            "text/html": [
              "<img src=\"\"/>"
            ],
            "text/plain": [
              "<IPython.core.display.Image object>"
            ]
          },
          "metadata": {},
          "execution_count": 58
        }
      ]
    },
    {
      "cell_type": "code",
      "source": [
        "Question(question_5303)"
      ],
      "metadata": {
        "id": "UlkInbCfEyWO",
        "outputId": "47b084fb-980d-4844-f521-129a590d5199",
        "colab": {
          "base_uri": "https://localhost:8080/",
          "height": 375
        }
      },
      "execution_count": 59,
      "outputs": [
        {
          "output_type": "display_data",
          "data": {
            "text/plain": [
              "<IPython.core.display.HTML object>"
            ],
            "text/html": [
              "<h1 style = \"background-color:yellow; \">문제 설명</h1>\n",
              "<h2>\n",
              "<p>숫자와 글자를 순서대로 입력받습니다.</p>\n",
              "<p>m(미터)단위인 입력받은 <span style = \"background-color:\t#E0E0E0;\">숫자</span>를 입력받은 <span style = \"background-color:\t#E0E0E0;\">글자(단위)</span>에 맞게 바꾸는 프로그램을 만들어봅시다.</p>\n",
              "<p>글자는 cm 또는 mm를 입력받습니다.</p>\n",
              "<HR>\n",
              "<p>- 입력 예시 : </p>\n",
              "<p> 25 </p>\n",
              "<p> cm</p>\n",
              "<h2>\n",
              "<p>- 출력 예시 : 2500</p>\n",
              "<HR>\n",
              "</h2>"
            ]
          },
          "metadata": {}
        },
        {
          "output_type": "execute_result",
          "data": {
            "text/html": [
              "<img src=\"\"/>"
            ],
            "text/plain": [
              "<IPython.core.display.Image object>"
            ]
          },
          "metadata": {},
          "execution_count": 59
        }
      ]
    },
    {
      "cell_type": "code",
      "source": [],
      "metadata": {
        "id": "cGXdBhBMEy8h"
      },
      "execution_count": null,
      "outputs": []
    }
  ]
}