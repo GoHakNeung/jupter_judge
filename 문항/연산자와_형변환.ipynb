{
  "nbformat": 4,
  "nbformat_minor": 0,
  "metadata": {
    "colab": {
      "provenance": []
    },
    "kernelspec": {
      "name": "python3",
      "display_name": "Python 3"
    },
    "language_info": {
      "name": "python"
    }
  },
  "cells": [
    {
      "cell_type": "code",
      "source": [
        "!git clone https://github.com/GoHakNeung/jupyter_judge.git\n",
        "%run /content/jupyter_judge/code_check.py"
      ],
      "metadata": {
        "id": "RqyCFyKWbdfT",
        "outputId": "328e059b-f55a-4d21-bc3a-189b6f3c1861",
        "colab": {
          "base_uri": "https://localhost:8080/"
        }
      },
      "execution_count": null,
      "outputs": [
        {
          "output_type": "stream",
          "name": "stdout",
          "text": [
            "Cloning into 'jupyter_judge'...\n",
            "remote: Enumerating objects: 323, done.\u001b[K\n",
            "remote: Counting objects: 100% (209/209), done.\u001b[K\n",
            "remote: Compressing objects: 100% (123/123), done.\u001b[K\n",
            "remote: Total 323 (delta 137), reused 128 (delta 86), pack-reused 114\u001b[K\n",
            "Receiving objects: 100% (323/323), 138.36 KiB | 7.28 MiB/s, done.\n",
            "Resolving deltas: 100% (163/163), done.\n",
            "이름을 입력해주세요.asdf\n",
            "지금부터 공부를 시작합니다.\n"
          ]
        }
      ]
    },
    {
      "cell_type": "code",
      "source": [
        "Question(question_3101)"
      ],
      "metadata": {
        "colab": {
          "base_uri": "https://localhost:8080/",
          "height": 385
        },
        "id": "RkfwxOi7_Olh",
        "outputId": "4178bc39-e820-4e5d-87f8-cd9a1bd781d7"
      },
      "execution_count": null,
      "outputs": [
        {
          "output_type": "display_data",
          "data": {
            "text/plain": [
              "<IPython.core.display.HTML object>"
            ],
            "text/html": [
              "<h2 style = \"background-color:yellow; \">문제 설명</h2>\n",
              "<p>2개의 숫자를 입력받습니다.</p>\n",
              "<p><span style = \"background-color:\t#E0E0E0;\">첫 번째 숫자</span>와 <span style = \"background-color:\t#E0E0E0;\">두 번째 숫자</span>를 더한 결과를 출력하는 프로그램을 만들어봅시다.</p>\n",
              "<HR>\n",
              "<h2> 입력\n",
              "</h2>\n",
              "<p>첫째 줄에 첫번째 숫자가, 둘째 줄에 두번째 숫자가 주어집니다.</p>\n",
              "<p>(1000이하의 숫자가 입력됩니다.)</p>\n",
              "<h2> 출력\n",
              "</h2>\n",
              "<p>첫번째 숫자와 두번째 숫자를 더한 결과를 출력합니다.</p>\n",
              "<HR>\n",
              "<div style = \"float:left;width:50%\">\n",
              "<h2> 입력 예시 </h2>\n",
              "<p> 10</p>\n",
              "<p> 20</p>\n",
              "</div>\n",
              "<div style = \"float:right;width:50%\">\n",
              "<h2> 출력 예시 </h2>\n",
              "<p>30</p>\n",
              "</div>\n"
            ]
          },
          "metadata": {}
        },
        {
          "output_type": "execute_result",
          "data": {
            "text/html": [
              "<img src=\"\"/>"
            ],
            "text/plain": [
              "<IPython.core.display.Image object>"
            ]
          },
          "metadata": {},
          "execution_count": 2
        }
      ]
    },
    {
      "cell_type": "code",
      "source": [
        "Question(question_3102)"
      ],
      "metadata": {
        "colab": {
          "base_uri": "https://localhost:8080/",
          "height": 385
        },
        "id": "lgcw7FyuCSw0",
        "outputId": "946c4b31-faae-43b6-8776-bef6c1841e84"
      },
      "execution_count": null,
      "outputs": [
        {
          "output_type": "display_data",
          "data": {
            "text/plain": [
              "<IPython.core.display.HTML object>"
            ],
            "text/html": [
              "<h2 style = \"background-color:yellow; \">문제 설명</h2>\n",
              "<p>2개의 숫자를 입력받습니다.</p>\n",
              "<p><span style = \"background-color:\t#E0E0E0;\">첫번째 숫자</span>와 <span style = \"background-color:\t#E0E0E0;\">두번째 숫자</span>를 뺀 결과를 출력하는 프로그램을 만들어봅시다.</p>\n",
              "<HR>\n",
              "<h2> 입력\n",
              "</h2>\n",
              "<p>첫째 줄에 첫번째 숫자가, 둘째 줄에 두번째 숫자가 주어집니다.</p>\n",
              "<p>(1000이하의 숫자가 입력됩니다.)</p>\n",
              "<h2> 출력\n",
              "</h2>\n",
              "<p>첫번째 숫자와 두번째 숫자를 뺀 결과를 출력합니다.</p>\n",
              "<HR>\n",
              "<div style = \"float:left;width:50%\">\n",
              "<h2> 입력 예시 </h2>\n",
              "<p> 533</p>\n",
              "<p> 134</p>\n",
              "</div>\n",
              "<div style = \"float:right;width:50%\">\n",
              "<h2> 출력 예시 </h2>\n",
              "<p>399</p>\n",
              "</div>\n"
            ]
          },
          "metadata": {}
        },
        {
          "output_type": "execute_result",
          "data": {
            "text/html": [
              "<img src=\"\"/>"
            ],
            "text/plain": [
              "<IPython.core.display.Image object>"
            ]
          },
          "metadata": {},
          "execution_count": 3
        }
      ]
    },
    {
      "cell_type": "code",
      "source": [
        "Question(question_3103)"
      ],
      "metadata": {
        "colab": {
          "base_uri": "https://localhost:8080/",
          "height": 385
        },
        "id": "9bb3AR0UCTte",
        "outputId": "7f16466f-fa31-4837-9e38-67f7a73ab155"
      },
      "execution_count": null,
      "outputs": [
        {
          "output_type": "display_data",
          "data": {
            "text/plain": [
              "<IPython.core.display.HTML object>"
            ],
            "text/html": [
              "<h2 style = \"background-color:yellow; \">문제 설명</h2>\n",
              "<p>2개의 숫자를 입력받습니다.</p>\n",
              "<p><span style = \"background-color:\t#E0E0E0;\">첫번째 숫자</span>와 <span style = \"background-color:\t#E0E0E0;\">두번째 숫자</span>를 곱한 결과를 출력하는 프로그램을 만들어봅시다.</p>\n",
              "<HR>\n",
              "<h2> 입력\n",
              "</h2>\n",
              "<p>첫째 줄에 첫번째 숫자가, 둘째 줄에 두번째 숫자가 주어집니다.</p>\n",
              "<p>(1000이하의 숫자가 입력됩니다.)</p>\n",
              "<h2> 출력\n",
              "</h2>\n",
              "<p>첫번째 숫자와 두번째 숫자를 곱한 결과를 출력합니다.</p>\n",
              "<HR>\n",
              "<div style = \"float:left;width:50%\">\n",
              "<h2> 입력 예시 </h2>\n",
              "<p> 342</p>\n",
              "<p> 345</p>\n",
              "</div>\n",
              "<div style = \"float:right;width:50%\">\n",
              "<h2> 출력 예시 </h2>\n",
              "<p>117990</p>\n",
              "</div>\n"
            ]
          },
          "metadata": {}
        },
        {
          "output_type": "execute_result",
          "data": {
            "text/html": [
              "<img src=\"\"/>"
            ],
            "text/plain": [
              "<IPython.core.display.Image object>"
            ]
          },
          "metadata": {},
          "execution_count": 4
        }
      ]
    },
    {
      "cell_type": "code",
      "source": [
        "Question(question_3104)"
      ],
      "metadata": {
        "colab": {
          "base_uri": "https://localhost:8080/",
          "height": 385
        },
        "id": "1Lo4VHOsCUoM",
        "outputId": "969e269f-1d3f-4d46-ece5-7c31c4da87f0"
      },
      "execution_count": null,
      "outputs": [
        {
          "output_type": "display_data",
          "data": {
            "text/plain": [
              "<IPython.core.display.HTML object>"
            ],
            "text/html": [
              "<h2 style = \"background-color:yellow; \">문제 설명</h2>\n",
              "<p>2개의 숫자를 입력받습니다.</p>\n",
              "<p><span style = \"background-color:\t#E0E0E0;\">첫번째 숫자</span>와 <span style = \"background-color:\t#E0E0E0;\">두번째 숫자</span>를 나눈 결과를 출력하는 프로그램을 만들어봅시다.</p>\n",
              "<HR>\n",
              "<h2> 입력\n",
              "</h2>\n",
              "<p>첫째 줄에 첫번째 숫자가, 둘째 줄에 두번째 숫자가 주어집니다.</p>\n",
              "<p>(1000이하의 숫자가 입력됩니다.)</p>\n",
              "<h2> 출력\n",
              "</h2>\n",
              "<p>첫번째 숫자와 두번째 숫자를 나눈 결과를 출력합니다.</p>\n",
              "<HR>\n",
              "<div style = \"float:left;width:50%\">\n",
              "<h2> 입력 예시 </h2>\n",
              "<p> 4</p>\n",
              "<p> 2</p>\n",
              "</div>\n",
              "<div style = \"float:right;width:50%\">\n",
              "<h2> 출력 예시 </h2>\n",
              "<p>2.0</p>\n",
              "</div>\n"
            ]
          },
          "metadata": {}
        },
        {
          "output_type": "execute_result",
          "data": {
            "text/html": [
              "<img src=\"\"/>"
            ],
            "text/plain": [
              "<IPython.core.display.Image object>"
            ]
          },
          "metadata": {},
          "execution_count": 5
        }
      ]
    },
    {
      "cell_type": "code",
      "source": [
        "Question(question_3106)"
      ],
      "metadata": {
        "colab": {
          "base_uri": "https://localhost:8080/",
          "height": 419
        },
        "id": "gaqqBR4YDxO0",
        "outputId": "5b84a234-922a-4d79-e849-f784a0c26b90"
      },
      "execution_count": null,
      "outputs": [
        {
          "output_type": "display_data",
          "data": {
            "text/plain": [
              "<IPython.core.display.HTML object>"
            ],
            "text/html": [
              "<h1 style = \"background-color:yellow; \">문제 설명</h1>\n",
              "<p>2개의 숫자를 입력받습니다.</p>\n",
              "<p><span style = \"background-color:\t#E0E0E0;\">첫 번째 숫자</span>는 올 가을 수확한 사과 수이고, <span style = \"background-color:\t#E0E0E0;\">두 번째 숫자</span>는 한 상자에 담을 수 있는 사과 수입니다.</p>\n",
              "<p>사과를 상자에 담아 판매하려고 할 때, 몇 상자를 팔 수 있을지 프로그램을 만들어봅시다.</p>\n",
              "<p>(상자에는 사과가 가득 담겨있어야 판매할 수 있습니다.)</p>\n",
              "<HR>\n",
              "<h2>입력</h2>\n",
              "<p>첫째 줄에는 올 가을에 수확한 사과 숫자이고, 둘째 줄에는 한 상자에 담을 수 있는 사과 숫자가 입력됩니다.</p>\n",
              "<h2>출력</h2>\n",
              "<p>판매할 수 있는 상자 숫자</p>\n",
              "<HR>\n",
              "<div style = \"float:left;width:50%\">\n",
              "<h2>입력 예시 </h2>\n",
              "<p>67</p>\n",
              "<p>8</p>\n",
              "</div>\n",
              "<div style = \"float:right;width:50%\">\n",
              "<h2>출력 예시 </h2>\n",
              "<p>8</p>\n",
              "</div>\n"
            ]
          },
          "metadata": {}
        },
        {
          "output_type": "execute_result",
          "data": {
            "text/html": [
              "<img src=\"\"/>"
            ],
            "text/plain": [
              "<IPython.core.display.Image object>"
            ]
          },
          "metadata": {},
          "execution_count": 7
        }
      ]
    },
    {
      "cell_type": "code",
      "source": [
        "Question(question_3107)"
      ],
      "metadata": {
        "colab": {
          "base_uri": "https://localhost:8080/",
          "height": 442
        },
        "id": "T3eSFwn9DyHz",
        "outputId": "75809614-e502-44dd-b51e-652ff0535f6b"
      },
      "execution_count": null,
      "outputs": [
        {
          "output_type": "display_data",
          "data": {
            "text/plain": [
              "<IPython.core.display.HTML object>"
            ],
            "text/html": [
              "<h1 style = \"background-color:yellow; \">문제 설명</h1>\n",
              "<p>3개의 숫자를 입력받습니다.</p>\n",
              "<p><span style = \"background-color:\t#E0E0E0;\">첫 번째 숫자</span>는 가득이 나이이고, <span style = \"background-color:\t#E0E0E0;\">두 번째 숫자</span>는 가득이 동생 나이입니다. </p>\n",
              "<p>가득이 어머니 나이는 가득이 나이와 가득이 동생 나이를 합한 것의 2배보다 <span style = \"background-color:\t#E0E0E0;\">세 번째 숫자</span>만큼 많습니다. </p>\n",
              "<p>가득이 어머니 나이를 구하는 프로그램을 만들어봅시다.</p>\n",
              "<HR>\n",
              "<h2>입력</h2>\n",
              "<p>첫째 줄에는 가득이 나이 숫자가 입력되고, 둘째 줄에는 가득이 동생 숫자가 입력되고, 셋째 줄에는 숫자가 입력됩니다.</p>\n",
              "<h2>출력</h2>\n",
              "<p>가득이 엄마 나이가 출력됩니다.</p>\n",
              "<HR>\n",
              "<div style = \"float:left;width:50%\">\n",
              "<h2>입력 예시 </h2>\n",
              "<p>12</p>\n",
              "<p>10</p>\n",
              "<p>3</p>\n",
              "</div>\n",
              "<div style = \"float:right;width:50%\">\n",
              "<h2>출력 예시 </h2>\n",
              "<p>47</p>\n",
              "</div>\n"
            ]
          },
          "metadata": {}
        },
        {
          "output_type": "execute_result",
          "data": {
            "text/html": [
              "<img src=\"\"/>"
            ],
            "text/plain": [
              "<IPython.core.display.Image object>"
            ]
          },
          "metadata": {},
          "execution_count": 8
        }
      ]
    },
    {
      "cell_type": "code",
      "source": [
        "Question(question_3108)"
      ],
      "metadata": {
        "colab": {
          "base_uri": "https://localhost:8080/",
          "height": 419
        },
        "id": "R9KZ_C9wDzGW",
        "outputId": "e8f56781-c270-4309-fe78-b103da4f37c2"
      },
      "execution_count": null,
      "outputs": [
        {
          "output_type": "display_data",
          "data": {
            "text/plain": [
              "<IPython.core.display.HTML object>"
            ],
            "text/html": [
              "<h1 style = \"background-color:yellow; \">문제 설명</h1>\n",
              "<p>3개의 숫자를 입력받습니다.</p>\n",
              "<p>어떤 수에 <span style = \"background-color:\t#E0E0E0;\">첫번째 숫자</span>를 뺀 다음 <span style = \"background-color:\t#E0E0E0;\">두번째 숫자</span>를 나눈 뒤 <span style = \"background-color:\t#E0E0E0;\">세번째 숫자</span>를 더했더니 542가 나왔습니다.</p>\n",
              "<p>어떤 수를 구하는 프로그램을 만들어봅시다. </p>\n",
              "<HR>\n",
              "<h2>입력</h2>\n",
              "<p>3개의 숫자가 줄바꿈하여 입력됩니다.</p>\n",
              "<h2>출력</h2>\n",
              "<p>자연수에 해당하는 숫자를 출력합니다.</p>\n",
              "<HR>\n",
              "<div style = \"float:left;width:50%\">\n",
              "<h2>입력 예시 </h2>\n",
              "<p>2</p>\n",
              "<p>3</p>\n",
              "<p>10</p>\n",
              "</div>\n",
              "<div style = \"float:right;width:50%\">\n",
              "<h2>출력 예시 </h2>\n",
              "<p>1598</p>\n",
              "</div>\n"
            ]
          },
          "metadata": {}
        },
        {
          "output_type": "execute_result",
          "data": {
            "text/html": [
              "<img src=\"\"/>"
            ],
            "text/plain": [
              "<IPython.core.display.Image object>"
            ]
          },
          "metadata": {},
          "execution_count": 9
        }
      ]
    },
    {
      "cell_type": "code",
      "source": [
        "Question(question_3301)"
      ],
      "metadata": {
        "colab": {
          "base_uri": "https://localhost:8080/",
          "height": 395
        },
        "id": "AOxc-lSyDznD",
        "outputId": "066e96d0-7a56-41fe-fb1c-01abd1350524"
      },
      "execution_count": null,
      "outputs": [
        {
          "output_type": "display_data",
          "data": {
            "text/plain": [
              "<IPython.core.display.HTML object>"
            ],
            "text/html": [
              "<h1 style = \"background-color:yellow; \">문제 설명</h1>\n",
              "<p>2개의 숫자를 입력받습니다.</p>\n",
              "<p><span style = \"background-color:\t#E0E0E0;\">첫번째 숫자</span>의 단위는 km이고 <span style = \"background-color:\t#E0E0E0;\">두번째 숫자</span>의 단위는 m입니다. </p>\n",
              "<p>'<span style = \"background-color:\t#E0E0E0;\">첫번째 숫자</span>km <span style = \"background-color:\t#E0E0E0;\">두번째 숫자</span>m'인 길이를 m로 출력하는 프로그램을 만들어봅시다. </p>\n",
              "<HR>\n",
              "<h2>입력</h2>\n",
              "<p>첫째 줄에는 km에 해당하는 숫자가 입력되고, 둘째 줄에는 m에 해당하는 숫자가 입력됩니다.</p>\n",
              "<h2>출력</h2>\n",
              "<p>m로 단위를 바꾼 숫자가 출력됩니다.</p>\n",
              "<HR>\n",
              "<div style = \"float:left;width:50%\">\n",
              "<h2>입력 예시 </h2>\n",
              "<p>51</p>\n",
              "<p>102</p>\n",
              "</div>\n",
              "<div style = \"float:right;width:50%\">\n",
              "<h2>출력 예시 </h2>\n",
              "<p>51102</p>\n",
              "</div>\n"
            ]
          },
          "metadata": {}
        },
        {
          "output_type": "execute_result",
          "data": {
            "text/html": [
              "<img src=\"\"/>"
            ],
            "text/plain": [
              "<IPython.core.display.Image object>"
            ]
          },
          "metadata": {},
          "execution_count": 10
        }
      ]
    },
    {
      "cell_type": "code",
      "source": [
        "Question(question_3302)"
      ],
      "metadata": {
        "colab": {
          "base_uri": "https://localhost:8080/",
          "height": 372
        },
        "id": "XhpiqQkGD0UD",
        "outputId": "b9e216ed-c211-4a31-fa68-decbcf709dee"
      },
      "execution_count": null,
      "outputs": [
        {
          "output_type": "display_data",
          "data": {
            "text/plain": [
              "<IPython.core.display.HTML object>"
            ],
            "text/html": [
              "<h1 style = \"background-color:yellow; \">문제 설명</h1>\n",
              "<p>1개의 숫자를 입력받습니다.</p>\n",
              "<p>mL단위 <span style = \"background-color:\t#E0E0E0;\">숫자</span>를 '_L_mL' 단위로 바꾸어 L와 mL를 줄바꿈하여 출력하는 프로그램을 만들어봅시다.\n",
              "<HR>\n",
              "<h2>입력</h2>\n",
              "<p>mL 단위인 숫자가 입력됩니다.</p>\n",
              "<h2>출력</h2>\n",
              "<p>L와 mL로 단위롤 바꾸어 첫째 줄에는 L에 해당하는 숫자를, 둘째 줄에는 mL에 해당하는 숫자를 출력합니다.</p>\n",
              "<HR>\n",
              "<div style = \"float:left;width:50%\">\n",
              "<h2>입력 예시 </h2>\n",
              "<p>1812</p>\n",
              "</div>\n",
              "<div style = \"float:right;width:50%\">\n",
              "<h2>출력 예시 </h2>\n",
              "<p>1</p>\n",
              "<p>812</p>\n",
              "</div>\n"
            ]
          },
          "metadata": {}
        },
        {
          "output_type": "execute_result",
          "data": {
            "text/html": [
              "<img src=\"\"/>"
            ],
            "text/plain": [
              "<IPython.core.display.Image object>"
            ]
          },
          "metadata": {},
          "execution_count": 11
        }
      ]
    },
    {
      "cell_type": "code",
      "source": [
        "Question(question_3303)"
      ],
      "metadata": {
        "colab": {
          "base_uri": "https://localhost:8080/",
          "height": 395
        },
        "id": "0mGMuLmSD1Cw",
        "outputId": "f33f4a53-dec9-4b9a-e063-d42064dbb3c8"
      },
      "execution_count": null,
      "outputs": [
        {
          "output_type": "display_data",
          "data": {
            "text/plain": [
              "<IPython.core.display.HTML object>"
            ],
            "text/html": [
              "<h1 style = \"background-color:yellow; \">문제 설명</h1>\n",
              "<p>2개의 숫자를 입력받으며 <span style = \"background-color:\t#E0E0E0;\">첫번째 숫자</span>의 단위는 km이고 <span style = \"background-color:\t#E0E0E0;\">두번째 숫자</span>의 단위는 m입니다. </p>\n",
              "<p>가득이는 50km 떨어져 있는 할아버지 댁에 갔습니다. '<span style = \"background-color:\t#E0E0E0;\">첫 번째 숫자</span>km <span style = \"background-color:\t#E0E0E0;\">두번째 숫자</span>m'는 기차를 타고 나머지는 버스를 타고 갔습니다. </p>\n",
              "<p>가득이가 버스타고 간 거리 m로 출력하는 프로그램을 만들어봅시다.</p> \n",
              "<HR>\n",
              "<h2>입력</h2>\n",
              "<p>첫째 줄에는 km에 해당하는 숫자가 입력되고, 둘째 줄에는 m에 해당하는 숫자가 입력됩니다</p>\n",
              "<p></p>\n",
              "<h2>출력</h2>\n",
              "<p>버스를 타고 간 거리를 첫째 줄에는 km에 해당하는 숫자를 출력하고, 둘째 줄에는 m에 해당하는 숫자를 출력합니다.</p>\n",
              "<HR>\n",
              "<div style = \"float:left;width:50%\">\n",
              "<h2>입력 예시 </h2>\n",
              "<p>32</p>\n",
              "<p>150</p>\n",
              "</div>\n",
              "<div style = \"float:right;width:50%\">\n",
              "<h2>출력 예시 </h2>\n",
              "<p>17</p>\n",
              "<p>850</p>\n",
              "</div>\n"
            ]
          },
          "metadata": {}
        },
        {
          "output_type": "execute_result",
          "data": {
            "text/html": [
              "<img src=\"\"/>"
            ],
            "text/plain": [
              "<IPython.core.display.Image object>"
            ]
          },
          "metadata": {},
          "execution_count": 12
        }
      ]
    },
    {
      "cell_type": "code",
      "source": [
        "Question(question_3304)"
      ],
      "metadata": {
        "colab": {
          "base_uri": "https://localhost:8080/",
          "height": 372
        },
        "id": "7yLNjWOxD1rM",
        "outputId": "9732bdb3-1f08-49fa-f618-51237eead6ba"
      },
      "execution_count": null,
      "outputs": [
        {
          "output_type": "display_data",
          "data": {
            "text/plain": [
              "<IPython.core.display.HTML object>"
            ],
            "text/html": [
              "<h1 style = \"background-color:yellow; \">문제 설명</h1>\n",
              "<p>2개의 숫자를 입력받으며 <span style = \"background-color:\t#E0E0E0;\">첫번째 숫자</span>의 단위는 km이고 <span style = \"background-color:\t#E0E0E0;\">두번째 숫자</span>의 단위는 m입니다. </p>\n",
              "<p>km단위인 첫번째 숫자와 m단위인 두번째 숫자 크기 비교하여 첫 번째 숫자가 크면 True를 출력하고, 두 번째 숫자가 크면 False를 출력하는 프로그램을 만들어봅시다.</p>\n",
              "<HR>\n",
              "<h2>입력</h2>\n",
              "<p>첫째 줄에는 km 단위인 숫자가 입력되고, 둘째 줄에는 m 단위인 숫자가 입력됩니다.</p>\n",
              "<h2>출력</h2>\n",
              "<p>두 숫자의 크기비교를 하여 True 또는 False를 출력합니다.</p>\n",
              "<HR>\n",
              "<div style = \"float:left;width:50%\">\n",
              "<h2>입력 예시 </h2>\n",
              "<p>32</p>\n",
              "<p>31092</p>\n",
              "</div>\n",
              "<div style = \"float:right;width:50%\">\n",
              "<h2>출력 예시 </h2>\n",
              "<p>True</p>\n",
              "</div>\n"
            ]
          },
          "metadata": {}
        },
        {
          "output_type": "execute_result",
          "data": {
            "text/html": [
              "<img src=\"\"/>"
            ],
            "text/plain": [
              "<IPython.core.display.Image object>"
            ]
          },
          "metadata": {},
          "execution_count": 13
        }
      ]
    },
    {
      "cell_type": "code",
      "source": [
        "Question(question_3305)"
      ],
      "metadata": {
        "colab": {
          "base_uri": "https://localhost:8080/",
          "height": 372
        },
        "id": "l5UuYxBXD2pE",
        "outputId": "b20e993a-ed5b-4d32-ed3b-3fc83877910e"
      },
      "execution_count": null,
      "outputs": [
        {
          "output_type": "display_data",
          "data": {
            "text/plain": [
              "<IPython.core.display.HTML object>"
            ],
            "text/html": [
              "<h1 style = \"background-color:yellow; \">문제 설명</h1>\n",
              "<p>2개의 숫자를 입력받으며 <span style = \"background-color:\t#E0E0E0;\">첫 번째 숫자</span>는 세종이가 숙제하는데 걸린 시간이며 단위는 시간이고 <span style = \"background-color:\t#E0E0E0;\">두 번째 숫자</span>는 가득이가 숙제하는데 걸린 시간이며 단위는 분입니다.</p>\n",
              "<p>세종이가 숙제하는데 걸린 시간과 가득이가 숙제하는데 걸린 시간이 동일하면 True를 출력하고 다르면 False를 출력하는 프로그램을 만들어봅시다. </p>\n",
              "<HR>\n",
              "<h2>입력</h2>\n",
              "<p>첫째 줄에는 세종이가 숙제하는데 걸린 시간(시간 단위)이 입력되고, 둘째 줄에는 가득이가 숙제하는데 걸린 시간(분 단위)이 입력됩니다. </p>\n",
              "<h2>출력</h2>\n",
              "<p>True 또는 False를 출력합니다.</p>\n",
              "<HR>\n",
              "<div style = \"float:left;width:50%\">\n",
              "<h2>입력 예시 </h2>\n",
              "<p>3</p>\n",
              "<p>150</p>\n",
              "</div>\n",
              "<div style = \"float:right;width:50%\">\n",
              "<h2>출력 예시 </h2>\n",
              "<p>False</p>\n",
              "</div>\n"
            ]
          },
          "metadata": {}
        },
        {
          "output_type": "execute_result",
          "data": {
            "text/html": [
              "<img src=\"\"/>"
            ],
            "text/plain": [
              "<IPython.core.display.Image object>"
            ]
          },
          "metadata": {},
          "execution_count": 14
        }
      ]
    },
    {
      "cell_type": "code",
      "source": [
        "Question(question_3306)"
      ],
      "metadata": {
        "colab": {
          "base_uri": "https://localhost:8080/",
          "height": 378
        },
        "id": "I9CRhbNbD3L8",
        "outputId": "18c145f5-274c-4150-f315-10b37bfa662e"
      },
      "execution_count": null,
      "outputs": [
        {
          "output_type": "display_data",
          "data": {
            "text/plain": [
              "<IPython.core.display.HTML object>"
            ],
            "text/html": [
              "<h1 style = \"background-color:yellow; \">문제 설명</h1>\n",
              "<p>입력 받은 <span style = \"background-color:\t#E0E0E0;\">2개의 숫자</span>는 마름모에서 두 대각선의 길이입니다.</p>\n",
              "<p>마름모의 넓이가 50cm<sup>2</sup>보다 넓으면 True를 출력하고 작으면 False를 출력하는 프로그램을 만들어봅시다.</p>\n",
              "<HR>\n",
              "<h2>입력</h2>\n",
              "<p>첫째 줄에는 대각선의 길이가 입력되고, 둘째 줄에는 다른 대각선의 길이가 입력됩니다.</p>\n",
              "<h2>출력</h2>\n",
              "<p>마름모와 사다리꼴의 넓이(50cm<sup>2</sup>)를 비교하여 True 또는 False를 출력합니다.</p>\n",
              "<HR>\n",
              "<div style = \"float:left;width:50%\">\n",
              "<h2>입력 예시 </h2>\n",
              "<p>8</p>\n",
              "<p>9</p>\n",
              "</div>\n",
              "<div style = \"float:right;width:50%\">\n",
              "<h2>출력 예시 </h2>\n",
              "<p>False</p>\n",
              "</div>\n"
            ]
          },
          "metadata": {}
        },
        {
          "output_type": "execute_result",
          "data": {
            "text/html": [
              "<img src=\"\"/>"
            ],
            "text/plain": [
              "<IPython.core.display.Image object>"
            ]
          },
          "metadata": {},
          "execution_count": 15
        }
      ]
    },
    {
      "cell_type": "code",
      "source": [
        "Question(question_3307)"
      ],
      "metadata": {
        "colab": {
          "base_uri": "https://localhost:8080/",
          "height": 419
        },
        "id": "Gut97V1QD4N-",
        "outputId": "37bc1b48-4d71-4b17-ba7a-5a7d0bd7adce"
      },
      "execution_count": null,
      "outputs": [
        {
          "output_type": "display_data",
          "data": {
            "text/plain": [
              "<IPython.core.display.HTML object>"
            ],
            "text/html": [
              "<h1 style = \"background-color:yellow; \">문제 설명</h1>\n",
              "<p>2개의 숫자를 입력받습니다.</p>\n",
              "<p><span style = \"background-color:\t#E0E0E0;\">첫 번째 숫자</span>는 원의 지름이며 <span style = \"background-color:\t#E0E0E0;\">두 번째 숫자</span>는 정사각형의 한 변의 길이입니다.</p>\n",
              "<p>정사각형 둘레의 길이가 원주보다 길면 True를 출력하고 원주가 정사각형 둘레의 길이보다 길면 False를 출력하는 프로그램을 만들어봅시다.</p>\n",
              "<p>(원주율은 3.14로 계산합니다.)</p>\n",
              "<HR>\n",
              "<h2>입력</h2>\n",
              "<p>첫째 줄에는 원의 지름이 입력되고, 둘째 줄에는 정사각형의 한 변의 길이가 입력됩니다.</p>\n",
              "<h2>출력</h2>\n",
              "<p>정사각형 둘레의 길이와 원주를 비교하여 True 또는 False를 출력합니다.</p>\n",
              "<HR>\n",
              "<div style = \"float:left;width:50%\">\n",
              "<h2>입력 예시 </h2>\n",
              "<p>12</p>\n",
              "<p>10</p>\n",
              "</div>\n",
              "<div style = \"float:right;width:50%\">\n",
              "<h2>출력 예시 </h2>\n",
              "<p>True</p>\n",
              "</div>\n"
            ]
          },
          "metadata": {}
        },
        {
          "output_type": "execute_result",
          "data": {
            "text/html": [
              "<img src=\"\"/>"
            ],
            "text/plain": [
              "<IPython.core.display.Image object>"
            ]
          },
          "metadata": {},
          "execution_count": 16
        }
      ]
    },
    {
      "cell_type": "code",
      "source": [
        "Question(question_3308)"
      ],
      "metadata": {
        "colab": {
          "base_uri": "https://localhost:8080/",
          "height": 375
        },
        "id": "HPgiRXXRD4xH",
        "outputId": "5774ea5d-c166-4a1d-d8c5-03181e87b3c7"
      },
      "execution_count": null,
      "outputs": [
        {
          "output_type": "display_data",
          "data": {
            "text/plain": [
              "<IPython.core.display.HTML object>"
            ],
            "text/html": [
              "<h1 style = \"background-color:yellow; \">문제 설명</h1>\n",
              "<p>1개의 숫자를 입력받습니다.</p>\n",
              "<p>가로 20cm, 세로 15cm인 수조에 물이 담겨 있습니다. 수조에 돌을 넣었더니 <span style = \"background-color:\t#E0E0E0;\">입력 받은 숫자</span>만큼 높이가 늘어났습니다.</p>\n",
              "<p>이 돌의 부피를 구하는 프로그램을 만들어봅시다.</p>\n",
              "<HR>\n",
              "<h2>입력</h2>\n",
              "<p>늘어난 높이(cm 단위)가 입력됩니다.</p>\n",
              "<h2>출력</h2>\n",
              "<p>cm<sup>3</sup>단위인 돌의 부피를 출력합니다.</p>\n",
              "<HR>\n",
              "<div style = \"float:left;width:50%\">\n",
              "<h2>입력 예시 </h2>\n",
              "<p>5</p>\n",
              "</div>\n",
              "<div style = \"float:right;width:50%\">\n",
              "<h2>출력 예시 </h2>\n",
              "<p>1500</p>\n",
              "</div>\n"
            ]
          },
          "metadata": {}
        },
        {
          "output_type": "execute_result",
          "data": {
            "text/html": [
              "<img src=\"\"/>"
            ],
            "text/plain": [
              "<IPython.core.display.Image object>"
            ]
          },
          "metadata": {},
          "execution_count": 17
        }
      ]
    },
    {
      "cell_type": "code",
      "source": [
        "Question(question_3309)"
      ],
      "metadata": {
        "colab": {
          "base_uri": "https://localhost:8080/",
          "height": 442
        },
        "id": "uCMlNoPuD5je",
        "outputId": "7bd6d057-7a40-4c12-c9a6-d7f2042e09ca"
      },
      "execution_count": null,
      "outputs": [
        {
          "output_type": "display_data",
          "data": {
            "text/plain": [
              "<IPython.core.display.HTML object>"
            ],
            "text/html": [
              "<h1 style = \"background-color:yellow; \">문제 설명</h1>\n",
              "<p>cm단위의 3개의 숫자를 입력받습니다.</p>\n",
              "<p><span style = \"background-color:\t#E0E0E0;\">첫 번째 숫자</span>는 윗변의 길이, <span style = \"background-color:\t#E0E0E0;\">두 번째 숫자</span>는 아랫변의 길이, <span style = \"background-color:\t#E0E0E0;\">세 번째 숫자</spanu>는 높이입니다.</p>\n",
              "<p>사다리꼴의 넓이를 구하는 프로그램을 만들어봅시다.</p>\n",
              "<HR>\n",
              "<h2>입력</h2>\n",
              "<p>첫째 줄에는 윗변의 길이, 둘째 줄에는 아랫 변의 길이, 셋째 줄에는 높이가 입력됩니다.</p>\n",
              "<h2>출력</h2>\n",
              "<p>사다리꼴의 넓이가 출력됩니다.</p>\n",
              "<p>(단위 생략)</p>\n",
              "<HR>\n",
              "<div style = \"float:left;width:50%\">\n",
              "<h2>입력 예시 </h2>\n",
              "<p>5</p>\n",
              "<p>10</p>\n",
              "<p>20</p>\n",
              "</div>\n",
              "<div style = \"float:right;width:50%\">\n",
              "<h2>출력 예시 </h2>\n",
              "<p>1500</p>\n",
              "</div>\n",
              "<h2>\n"
            ]
          },
          "metadata": {}
        },
        {
          "output_type": "execute_result",
          "data": {
            "text/html": [
              "<img src=\"\"/>"
            ],
            "text/plain": [
              "<IPython.core.display.Image object>"
            ]
          },
          "metadata": {},
          "execution_count": 18
        }
      ]
    },
    {
      "cell_type": "code",
      "source": [
        "Question(question_3310)"
      ],
      "metadata": {
        "colab": {
          "base_uri": "https://localhost:8080/",
          "height": 395
        },
        "id": "vEyYEYrlD6DX",
        "outputId": "34e83e92-6da1-4f56-8f67-51aba8ed23ea"
      },
      "execution_count": null,
      "outputs": [
        {
          "output_type": "display_data",
          "data": {
            "text/plain": [
              "<IPython.core.display.HTML object>"
            ],
            "text/html": [
              "<h1 style = \"background-color:yellow; \">문제 설명</h1>\n",
              "<p><span  style = \"background-color:#E0E0E0; \">원의 지름</span>을 입력받아 원의 넓이를 구하는 프로그램을 만들어봅시다.</p>\n",
              "<p>(원주율은 3.14로 계산합니다.)</p>\n",
              "<HR>\n",
              "<h2>입력</h2>\n",
              "<p>자연수인 원의 지름을 입력받습니다.</p>\n",
              "<p>cm단위이며 단위는 생략하고 입력됩니다.</p>\n",
              "<h2>출력</h2>\n",
              "<p>원의 넓이를 출력합니다.</p>\n",
              "<p>단위는 생략합니다.</p>\n",
              "<HR>\n",
              "<div style = \"float:left;width:50%\">\n",
              "<h2>입력 예시 </h2>\n",
              "<p>6</p>\n",
              "</div>\n",
              "<div style = \"float:right;width:50%\">\n",
              "<h2>출력 예시 </h2>\n",
              "<p>28.26</p>\n",
              "</div>\n"
            ]
          },
          "metadata": {}
        },
        {
          "output_type": "execute_result",
          "data": {
            "text/html": [
              "<img src=\"\"/>"
            ],
            "text/plain": [
              "<IPython.core.display.Image object>"
            ]
          },
          "metadata": {},
          "execution_count": 19
        }
      ]
    },
    {
      "cell_type": "code",
      "source": [
        "Question(question_3311)"
      ],
      "metadata": {
        "colab": {
          "base_uri": "https://localhost:8080/",
          "height": 465
        },
        "id": "GnESTM6uD7GL",
        "outputId": "b1a83692-11ff-4730-aadf-240bec58c747"
      },
      "execution_count": null,
      "outputs": [
        {
          "output_type": "display_data",
          "data": {
            "text/plain": [
              "<IPython.core.display.HTML object>"
            ],
            "text/html": [
              "<h1 style = \"background-color:yellow; \">문제 설명</h1>\n",
              "<p><span style = \"background-color:\t#E0E0E0;\">원의 지름</span>을 입력받습니다. </p>\n",
              "<p>반지름과 원주, 원의 넓이를 구하는 프로그램을 만들어봅시다. </p>\n",
              "<p>원주율은 3.14로 계산합니다.</p>\n",
              "<HR>\n",
              "<h2>입력</h2>\n",
              "<p>자연수인 원의 지름을 입력받습니다.</p>\n",
              "<p>cm단위이며 단위는 생략하고 입력됩니다.</p>\n",
              "<h2>출력</h2>\n",
              "<p>첫째 줄에는 반지름, 둘째 줄에는 원주, 셋째 줄에는 원의 넓이를 출력합니다.</p>\n",
              "<p>단위는 생략합니다.</p>\n",
              "<HR>\n",
              "<div style = \"float:left;width:50%\">\n",
              "<h2>입력 예시 </h2>\n",
              "<p>8</p>\n",
              "</div>\n",
              "<div style = \"float:right;width:50%\">\n",
              "<h2>출력 예시 </h2>\n",
              "<p>4</p>\n",
              "<p>25.12</p>\n",
              "<p>50.24</p>\n",
              "</div>\n"
            ]
          },
          "metadata": {}
        },
        {
          "output_type": "execute_result",
          "data": {
            "text/html": [
              "<img src=\"\"/>"
            ],
            "text/plain": [
              "<IPython.core.display.Image object>"
            ]
          },
          "metadata": {},
          "execution_count": 20
        }
      ]
    },
    {
      "cell_type": "code",
      "source": [
        "Question(question_3312)"
      ],
      "metadata": {
        "colab": {
          "base_uri": "https://localhost:8080/",
          "height": 419
        },
        "id": "iKUg00LPD-U8",
        "outputId": "26bc1253-0627-438e-d654-3a51b933d06e"
      },
      "execution_count": null,
      "outputs": [
        {
          "output_type": "display_data",
          "data": {
            "text/plain": [
              "<IPython.core.display.HTML object>"
            ],
            "text/html": [
              "<h1 style = \"background-color:yellow; \">문제 설명</h1>\n",
              "<p>원기둥의 전개도에서 <span style = \"background-color:\t#E0E0E0;\">옆면의 둘레</span>를 입력받습니다. </p>\n",
              "<p>원기둥의 높이와 밑면의 지름이 같을 때, 원기둥의 높이를 구하는 프로그램을 만들어봅시다. </p>\n",
              "<p>원주율은 3으로 계산합니다.</p>\n",
              "<HR>\n",
              "<h2>입력</h2>\n",
              "<p>자연수인 옆면의 둘레를 입력받습니다.</p>\n",
              "<p>cm단위이며 단위는 생략하고 입력됩니다.</p>\n",
              "<h2>출력</h2>\n",
              "<p>원기둥의 높이를 출력합니다.</p>\n",
              "<p>단위는 생략합니다.</p>\n",
              "<HR>\n",
              "<div style = \"float:left;width:50%\">\n",
              "<h2>입력 예시 </h2>\n",
              "<p>40</p>\n",
              "</div>\n",
              "<div style = \"float:right;width:50%\">\n",
              "<h2>출력 예시 </h2>\n",
              "<p>5</p>\n",
              "</div>\n"
            ]
          },
          "metadata": {}
        },
        {
          "output_type": "execute_result",
          "data": {
            "text/html": [
              "<img src=\"\"/>"
            ],
            "text/plain": [
              "<IPython.core.display.Image object>"
            ]
          },
          "metadata": {},
          "execution_count": 21
        }
      ]
    },
    {
      "cell_type": "code",
      "source": [
        "Question(question_3313)"
      ],
      "metadata": {
        "colab": {
          "base_uri": "https://localhost:8080/",
          "height": 325
        },
        "id": "n27IqNQ2D-xZ",
        "outputId": "faccadb6-42e4-45e3-a9de-c71c79b40951"
      },
      "execution_count": null,
      "outputs": [
        {
          "output_type": "display_data",
          "data": {
            "text/plain": [
              "<IPython.core.display.HTML object>"
            ],
            "text/html": [
              "<h1 style = \"background-color:yellow; \">문제 설명</h1>\n",
              "<p>입력받은 <span style = 'background-color :#E0E0E0'>천의 자리 숫자</span>를 올림하여 천의 자리까지 나타내는 프로그램을 만들어봅시다.</p>\n",
              "<HR>\n",
              "<h2>입력</h2>\n",
              "<p>천의 자리 숫자가 입력됩니다.</p>\n",
              "<h2>출력</h2>\n",
              "<p>올림하여 천의 자리까지 나타낸 숫자를 출력합니다.</p>\n",
              "<HR>\n",
              "<div style = \"float:left;width:50%\">\n",
              "<h2>입력 예시 </h2>\n",
              "<p>2345</p>\n",
              "</div>\n",
              "<div style = \"float:right;width:50%\">\n",
              "<h2>출력 예시 </h2>\n",
              "<p>3000</p>\n",
              "</div>\n",
              "<h2>\n"
            ]
          },
          "metadata": {}
        },
        {
          "output_type": "execute_result",
          "data": {
            "text/html": [
              "<img src=\"\"/>"
            ],
            "text/plain": [
              "<IPython.core.display.Image object>"
            ]
          },
          "metadata": {},
          "execution_count": 22
        }
      ]
    },
    {
      "cell_type": "code",
      "source": [
        "Question(question_3314)"
      ],
      "metadata": {
        "colab": {
          "base_uri": "https://localhost:8080/",
          "height": 325
        },
        "id": "zfSCqnkID_Qx",
        "outputId": "fbf10ee8-db2e-48e5-c532-4f626bb3efb5"
      },
      "execution_count": null,
      "outputs": [
        {
          "output_type": "display_data",
          "data": {
            "text/plain": [
              "<IPython.core.display.HTML object>"
            ],
            "text/html": [
              "<h1 style = \"background-color:yellow; \">문제 설명</h1>\n",
              "<p>입력받은 <span style = 'background-color :#E0E0E0'>만의 자리 숫자</span>를 버림하여 만의 자리까지 나타내는 프로그램을 만들어봅시다.</p>\n",
              "<HR>\n",
              "<h2>입력</h2>\n",
              "<p>만의 자리 숫자가 입력됩니다.</p>\n",
              "<h2>출력</h2>\n",
              "<p>버림하여 만의 자리까지 나타낸 숫자를 출력합니다.</p>\n",
              "<HR>\n",
              "<div style = \"float:left;width:50%\">\n",
              "<h2>입력 예시 </h2>\n",
              "<p>12345</p>\n",
              "</div>\n",
              "<div style = \"float:right;width:50%\">\n",
              "<h2>출력 예시 </h2>\n",
              "<p>10000</p>\n",
              "</div>\n"
            ]
          },
          "metadata": {}
        },
        {
          "output_type": "execute_result",
          "data": {
            "text/html": [
              "<img src=\"\"/>"
            ],
            "text/plain": [
              "<IPython.core.display.Image object>"
            ]
          },
          "metadata": {},
          "execution_count": 23
        }
      ]
    },
    {
      "cell_type": "code",
      "source": [
        "Question(question_3401)"
      ],
      "metadata": {
        "colab": {
          "base_uri": "https://localhost:8080/",
          "height": 395
        },
        "id": "-XONzWayD_1-",
        "outputId": "564f9a8a-ddb7-4e51-df85-bda2212e9719"
      },
      "execution_count": null,
      "outputs": [
        {
          "output_type": "display_data",
          "data": {
            "text/plain": [
              "<IPython.core.display.HTML object>"
            ],
            "text/html": [
              "<h1 style = \"background-color:yellow; \">문제 설명</h1>\n",
              "<p>2개의 숫자를 입력받습니다. </p>\n",
              "<p>지민이와 유나가 <u style = \"background-color:\t#E0E0E0;\">첫 번째 숫자</u>와 <u style = \"background-color:\t#E0E0E0;\">두 번째 숫자</u> 비로 연필 144자루를 나눠갖기로 했습니다.</p>\n",
              "<p>지민이가 갖게 될 연필을 구하는 프로그램을 만들어봅시다.</p> \n",
              "<HR>\n",
              "<h2>입력</h2>\n",
              "<p>첫째 줄과 둘째 줄에 자연수인 숫자가 입력됩니다.</p>\n",
              "<h2>출력</h2>\n",
              "<p>지민이가 갖게 될 연필의 수를 출력합니다.</p>\n",
              "<HR>\n",
              "<div style = \"float:left;width:50%\">\n",
              "<h2>입력 예시 </h2>\n",
              "<p>1</p>\n",
              "<p>2</p>\n",
              "</div>\n",
              "<div style = \"float:right;width:50%\">\n",
              "<h2>출력 예시 </h2>\n",
              "<p>48.0</p>\n",
              "</div>\n"
            ]
          },
          "metadata": {}
        },
        {
          "output_type": "execute_result",
          "data": {
            "text/html": [
              "<img src=\"\"/>"
            ],
            "text/plain": [
              "<IPython.core.display.Image object>"
            ]
          },
          "metadata": {},
          "execution_count": 24
        }
      ]
    },
    {
      "cell_type": "code",
      "source": [
        "Question(question_3402)"
      ],
      "metadata": {
        "colab": {
          "base_uri": "https://localhost:8080/",
          "height": 419
        },
        "id": "hIR0HmewEBa3",
        "outputId": "5d532abd-019d-45a2-ac84-18f9c45b2460"
      },
      "execution_count": null,
      "outputs": [
        {
          "output_type": "display_data",
          "data": {
            "text/plain": [
              "<IPython.core.display.HTML object>"
            ],
            "text/html": [
              "<h1 style = \"background-color:yellow; \">문제 설명</h1>\n",
              "<p>3개의 숫자를 입력받습니다. </p>\n",
              "<p>지민이와 유나가 <span style = \"background-color:\t#E0E0E0;\">첫 번째 숫자</span>와 <span style = \"background-color:\t#E0E0E0;\">두 번째 숫자</span> 비로 <span style = \"background-color:\t#E0E0E0;\">세 번째 숫자</span>만큼의 연필을 나눠갖기로 했습니다.</p>\n",
              "<p>유나가 갖게 될 연필을 구하는 프로그램을 만들어봅시다.</p> \n",
              "<HR>\n",
              "<h2>입력</h2>\n",
              "<p>첫째 줄, 둘째 줄, 셋째 줄에 자연수인 숫자가 입력됩니다.</p>\n",
              "<h2>출력</h2>\n",
              "<p>유나가 갖게 될 연필의 수를 출력합니다.</p>\n",
              "<HR>\n",
              "<div style = \"float:left;width:50%\">\n",
              "<h2>입력 예시 </h2>\n",
              "<p>1</p>\n",
              "<p>2</p>\n",
              "<p>24</p>\n",
              "</div>\n",
              "<div style = \"float:right;width:50%\">\n",
              "<h2>출력 예시 </h2>\n",
              "<p>8.0</p>\n",
              "</div>\n"
            ]
          },
          "metadata": {}
        },
        {
          "output_type": "execute_result",
          "data": {
            "text/html": [
              "<img src=\"\"/>"
            ],
            "text/plain": [
              "<IPython.core.display.Image object>"
            ]
          },
          "metadata": {},
          "execution_count": 25
        }
      ]
    },
    {
      "cell_type": "code",
      "source": [
        "Question(question_3403)"
      ],
      "metadata": {
        "colab": {
          "base_uri": "https://localhost:8080/",
          "height": 554
        },
        "id": "VyUh95BdECAy",
        "outputId": "0a8bbd83-1850-470d-8220-402a39752e97"
      },
      "execution_count": null,
      "outputs": [
        {
          "output_type": "display_data",
          "data": {
            "text/plain": [
              "<IPython.core.display.HTML object>"
            ],
            "text/html": [
              "<h1 style = \"background-color:yellow; \">문제 설명</h1>\n",
              "<p>2개의 숫자를 입력받습니다. </p>\n",
              "<p>두 평행사변형 가(왼쪽), 나(오른쪽)의 넓이의 합은 832cm<sup>2</sup>입니다. </p>\n",
              "<p><span style = \"background-color:\t#E0E0E0;\">첫 번째 숫자</span>는 가 평행사변형의 밑면의 길이이고 <span style = \"background-color:\t#E0E0E0;\">두 번째 숫자</span>는 나 평행사변형의 길이입니다.</p>\n",
              "<p>평행사변형 가의 넓이를 구하는 프로그램을 만들어봅시다.</p> \n",
              "<svg width = \"400\" height = \"100\">\n",
              "<polygon points = \"5,5 395,5 300,5 340,95 250,95 210,5 155,5 125,95 45,95 75,5 45,95 5,95 395,95 340,95 300,5\", fill = \"#FFFFFF\", stroke = \"#000000\", stroke-width = \"4\">\n",
              "</svg>\n",
              "<HR>\n",
              "<h2>입력</h2>\n",
              "<p>첫째 줄에는 가(왼쪽) 평행사변형의 밑변의 길이가 입력되고, 둘째 줄에는 나(오른쪽) 평행사변형의 밑변의 길이가 입력됩니다.</p>\n",
              "<h2>출력</h2>\n",
              "<p>가(왼쪽) 평행사변형의 넓이를 출력합니다.</p>\n",
              "<p>단위는 생략합니다.</p>\n",
              "<HR>\n",
              "<div style = \"float:left;width:50%\">\n",
              "<h2>입력 예시 </h2>\n",
              "<p>3</p>\n",
              "<p>5</p>\n",
              "</div>\n",
              "<div style = \"float:right;width:50%\">\n",
              "<h2>출력 예시 </h2>\n",
              "<p>312.0</p>\n",
              "</div>\n"
            ]
          },
          "metadata": {}
        },
        {
          "output_type": "execute_result",
          "data": {
            "text/html": [
              "<img src=\"\"/>"
            ],
            "text/plain": [
              "<IPython.core.display.Image object>"
            ]
          },
          "metadata": {},
          "execution_count": 26
        }
      ]
    },
    {
      "cell_type": "code",
      "source": [],
      "metadata": {
        "id": "nnh5eDtWEChI"
      },
      "execution_count": null,
      "outputs": []
    }
  ]
}