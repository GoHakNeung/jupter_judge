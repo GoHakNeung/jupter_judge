{
  "nbformat": 4,
  "nbformat_minor": 0,
  "metadata": {
    "colab": {
      "provenance": []
    },
    "kernelspec": {
      "name": "python3",
      "display_name": "Python 3"
    },
    "language_info": {
      "name": "python"
    }
  },
  "cells": [
    {
      "cell_type": "code",
      "source": [
        "Question(question_3101)"
      ],
      "metadata": {
        "colab": {
          "base_uri": "https://localhost:8080/",
          "height": 315
        },
        "id": "RkfwxOi7_Olh",
        "outputId": "b65f1ff0-614d-4faa-e0be-48a7c63fc7a0"
      },
      "execution_count": 16,
      "outputs": [
        {
          "output_type": "display_data",
          "data": {
            "text/plain": [
              "<IPython.core.display.HTML object>"
            ],
            "text/html": [
              "<h1 style = \"background-color:yellow; \">문제 설명</h1>\n",
              "<h2>\n",
              "<p>2개의 숫자를 입력받습니다.</p>\n",
              "<p><span style = \"background-color:\t#E0E0E0;\">첫번째 숫자</span>와 <span style = \"background-color:\t#E0E0E0;\">두번째 숫자</span>를 더한 결과를 출력하는 프로그램을 만들어봅시다.</p>\n",
              "<HR>\n",
              "<p>입력 예시 : 10 20</p>\n",
              "<h3>\n",
              "<p>1000이하의 숫자가 입력됩니다.</p>\n",
              "</h3>\n",
              "<h2>\n",
              "<p>출력 예시 : 30</p>\n",
              "<HR>\n",
              "</h2>"
            ]
          },
          "metadata": {}
        },
        {
          "output_type": "execute_result",
          "data": {
            "text/html": [
              "<img src=\"\"/>"
            ],
            "text/plain": [
              "<IPython.core.display.Image object>"
            ]
          },
          "metadata": {},
          "execution_count": 16
        }
      ]
    },
    {
      "cell_type": "code",
      "source": [
        "Question(question_3102)"
      ],
      "metadata": {
        "colab": {
          "base_uri": "https://localhost:8080/",
          "height": 315
        },
        "id": "lgcw7FyuCSw0",
        "outputId": "6a8473ad-427f-40f0-f308-df141c8c1515"
      },
      "execution_count": 17,
      "outputs": [
        {
          "output_type": "display_data",
          "data": {
            "text/plain": [
              "<IPython.core.display.HTML object>"
            ],
            "text/html": [
              "<h1 style = \"background-color:yellow; \">문제 설명</h1>\n",
              "<h2>\n",
              "<p>2개의 숫자를 입력받습니다.</p>\n",
              "<p><span style = \"background-color:\t#E0E0E0;\">첫번째 숫자</span>와 <span style = \"background-color:\t#E0E0E0;\">두번째 숫자</span>를 뺀 결과를 출력하는 프로그램을 만들어봅시다.</p>\n",
              "<HR>\n",
              "<p>입력 예시 : <b>533 134</b></p>\n",
              "<h3>\n",
              "<p>1000이하의 숫자가 입력됩니다.</p>\n",
              "</h3>\n",
              "<h2>\n",
              "<p>출력 예시 : 399</p>\n",
              "<HR>\n",
              "</h2>"
            ]
          },
          "metadata": {}
        },
        {
          "output_type": "execute_result",
          "data": {
            "text/html": [
              "<img src=\"\"/>"
            ],
            "text/plain": [
              "<IPython.core.display.Image object>"
            ]
          },
          "metadata": {},
          "execution_count": 17
        }
      ]
    },
    {
      "cell_type": "code",
      "source": [
        "Question(question_3103)"
      ],
      "metadata": {
        "colab": {
          "base_uri": "https://localhost:8080/",
          "height": 315
        },
        "id": "9bb3AR0UCTte",
        "outputId": "08437b0c-c191-4db8-e872-6c096e726175"
      },
      "execution_count": 18,
      "outputs": [
        {
          "output_type": "display_data",
          "data": {
            "text/plain": [
              "<IPython.core.display.HTML object>"
            ],
            "text/html": [
              "<h1 style = \"background-color:yellow; \">문제 설명</h1>\n",
              "<h2>\n",
              "<p>2개의 숫자를 입력받습니다.</p>\n",
              "<p><span style = \"background-color:\t#E0E0E0;\">첫번째 숫자</span>와 <span style = \"background-color:\t#E0E0E0;\">두번째 숫자</span>를 곱한 결과를 출력하는 프로그램을 만들어봅시다.</p>\n",
              "<HR>\n",
              "<p>입력 예시 : 342 345</p>\n",
              "<h3>\n",
              "<p>1000이하의 숫자가 입력됩니다.</p>\n",
              "</h3>\n",
              "<h2>\n",
              "<p>출력 예시 : 117990</p>\n",
              "<HR>\n",
              "</h2>"
            ]
          },
          "metadata": {}
        },
        {
          "output_type": "execute_result",
          "data": {
            "text/html": [
              "<img src=\"\"/>"
            ],
            "text/plain": [
              "<IPython.core.display.Image object>"
            ]
          },
          "metadata": {},
          "execution_count": 18
        }
      ]
    },
    {
      "cell_type": "code",
      "source": [
        "Question(question_3104)"
      ],
      "metadata": {
        "colab": {
          "base_uri": "https://localhost:8080/",
          "height": 315
        },
        "id": "1Lo4VHOsCUoM",
        "outputId": "d21580ed-6443-4c0e-9364-6703fe4b87fe"
      },
      "execution_count": 19,
      "outputs": [
        {
          "output_type": "display_data",
          "data": {
            "text/plain": [
              "<IPython.core.display.HTML object>"
            ],
            "text/html": [
              "<h1 style = \"background-color:yellow; \">문제 설명</h1>\n",
              "<h2>\n",
              "<p>2개의 숫자를 입력받습니다.</p>\n",
              "<p><span style = \"background-color:\t#E0E0E0;\">첫번째 숫자</span>와 <span style = \"background-color:\t#E0E0E0;\">두번째 숫자</span>를 나눈 결과를 출력하는 프로그램을 만들어봅시다.</p>\n",
              "<HR>\n",
              "<p>입력 예시 : <b>4 2</b></p>\n",
              "<h3>\n",
              "<p>1000이하의 숫자가 입력됩니다.</p>\n",
              "</h3>\n",
              "<h2>\n",
              "<p>출력 예시 : 2.0</p>\n",
              "<HR>\n",
              "</h2>"
            ]
          },
          "metadata": {}
        },
        {
          "output_type": "execute_result",
          "data": {
            "text/html": [
              "<img src=\"\"/>"
            ],
            "text/plain": [
              "<IPython.core.display.Image object>"
            ]
          },
          "metadata": {},
          "execution_count": 19
        }
      ]
    },
    {
      "cell_type": "code",
      "source": [
        "Question(question_3105)"
      ],
      "metadata": {
        "colab": {
          "base_uri": "https://localhost:8080/",
          "height": 348
        },
        "id": "ctyF8rzbDuWq",
        "outputId": "721ded63-d4a7-4220-9b06-5d4ad734f8ea"
      },
      "execution_count": 20,
      "outputs": [
        {
          "output_type": "display_data",
          "data": {
            "text/plain": [
              "<IPython.core.display.HTML object>"
            ],
            "text/html": [
              "<h1 style = \"background-color:yellow; \">문제 설명</h1>\n",
              "<h2>\n",
              "<p>2개의 숫자를 입력받습니다.</p>\n",
              "<p><span style = \"background-color:\t#E0E0E0;\">첫번째 숫자</span>는 소풍에 놀러 온 학생 숫자이고, <span style = \"background-color:\t#E0E0E0;\">두번째 숫자</span>는 관람차에 탈 수 있는 정원입니다.</p>\n",
              "<p>소풍 온 학생들이 모두 관람차를 타려면 몇 대가 필요할까요?</p>\n",
              "<HR>\n",
              "<p>입력 예시 : <b>36 8</b></p>\n",
              "<h3>\n",
              "<p>1000보다 작은 숫자가 입력됩니다.</p>\n",
              "</h3>\n",
              "<h2>\n",
              "<p>출력 예시 : 5</p>\n",
              "<HR>\n",
              "</h2>"
            ]
          },
          "metadata": {}
        },
        {
          "output_type": "execute_result",
          "data": {
            "text/html": [
              "<img src=\"\"/>"
            ],
            "text/plain": [
              "<IPython.core.display.Image object>"
            ]
          },
          "metadata": {},
          "execution_count": 20
        }
      ]
    },
    {
      "cell_type": "code",
      "source": [
        "Question(question_3106)"
      ],
      "metadata": {
        "colab": {
          "base_uri": "https://localhost:8080/",
          "height": 380
        },
        "id": "gaqqBR4YDxO0",
        "outputId": "43b1227c-e9d3-446a-b73b-83f91a5ca358"
      },
      "execution_count": 21,
      "outputs": [
        {
          "output_type": "display_data",
          "data": {
            "text/plain": [
              "<IPython.core.display.HTML object>"
            ],
            "text/html": [
              "<h1 style = \"background-color:yellow; \">문제 설명</h1>\n",
              "<h2>\n",
              "<p>2개의 숫자를 입력받습니다.</p>\n",
              "<p><span style = \"background-color:\t#E0E0E0;\">첫번째 숫자</span>는 올 가을 수확한 사과 수이고, <span style = \"background-color:\t#E0E0E0;\">두번째 숫자</span>는 한 상자에 담을 수 있는 사과 수입니다.</p>\n",
              "<p>사과를 상자에 담아 판매하려고 할 때, 몇 상자를 팔 수 있을지 프로그램을 만들어봅시다.</p>\n",
              "<p>(상자에는 사과가 정량으로 담겨있어야 판매가 가능합니다.)</p>\n",
              "<HR>\n",
              "<p>입력 예시 : <b>67 8</b></p>\n",
              "<h3>\n",
              "<p>1000보다 작은 숫자가 입력됩니다.</p>\n",
              "</h3>\n",
              "<h2>\n",
              "<p>출력 예시 : 8</p>\n",
              "<HR>\n",
              "</h2>"
            ]
          },
          "metadata": {}
        },
        {
          "output_type": "execute_result",
          "data": {
            "text/html": [
              "<img src=\"\"/>"
            ],
            "text/plain": [
              "<IPython.core.display.Image object>"
            ]
          },
          "metadata": {},
          "execution_count": 21
        }
      ]
    },
    {
      "cell_type": "code",
      "source": [
        "Question(question_3107)"
      ],
      "metadata": {
        "colab": {
          "base_uri": "https://localhost:8080/",
          "height": 380
        },
        "id": "T3eSFwn9DyHz",
        "outputId": "0ff97c22-d911-4e5d-d82e-9e85f2936a50"
      },
      "execution_count": 22,
      "outputs": [
        {
          "output_type": "display_data",
          "data": {
            "text/plain": [
              "<IPython.core.display.HTML object>"
            ],
            "text/html": [
              "<h1 style = \"background-color:yellow; \">문제 설명</h1>\n",
              "<h2>\n",
              "<p>3개의 숫자를 입력받습니다.</p>\n",
              "<p><span style = \"background-color:\t#E0E0E0;\">첫번째 숫자</span>는 철수 나이이고, <span style = \"background-color:\t#E0E0E0;\">두번째 숫자</span>는 철수 동생 나이입니다. </p>\n",
              "<p>철수 어머니 나이는 철수 나이와 철수 동생 나이를 합한 것의 2배보다 <span style = \"background-color:\t#E0E0E0;\">세번째 숫자</span>만큼 많습니다. </p>\n",
              "<p>철수 어머니 나이를 구하는 프로그램을 만들어봅시다.</p>\n",
              "<HR>\n",
              "<p>입력 예시 : 12 10 3</p>\n",
              "<h3>\n",
              "<p>20보다 작은 숫자가 출력됩니다.</p>\n",
              "</h3>\n",
              "<h2>\n",
              "<p>출력 예시 : 47</p>\n",
              "<HR>\n",
              "</h2>"
            ]
          },
          "metadata": {}
        },
        {
          "output_type": "execute_result",
          "data": {
            "text/html": [
              "<img src=\"\"/>"
            ],
            "text/plain": [
              "<IPython.core.display.Image object>"
            ]
          },
          "metadata": {},
          "execution_count": 22
        }
      ]
    },
    {
      "cell_type": "code",
      "source": [
        "Question(question_3108)"
      ],
      "metadata": {
        "colab": {
          "base_uri": "https://localhost:8080/",
          "height": 348
        },
        "id": "R9KZ_C9wDzGW",
        "outputId": "0147c7ec-7700-4775-ac7e-e50ebad1c28a"
      },
      "execution_count": 23,
      "outputs": [
        {
          "output_type": "display_data",
          "data": {
            "text/plain": [
              "<IPython.core.display.HTML object>"
            ],
            "text/html": [
              "<h1 style = \"background-color:yellow; \">문제 설명</h1>\n",
              "<h2>\n",
              "<p>3개의 숫자를 입력받습니다.</p>\n",
              "<p>어떤 수에 <span style = \"background-color:\t#E0E0E0;\">첫번째 숫자</span>를 뺀 다음 <span style = \"background-color:\t#E0E0E0;\">두번째 숫자</span>를 나눈 뒤 <span style = \"background-color:\t#E0E0E0;\">세번째 숫자</span>를 더했더니 542가 나왔습니다.</p>\n",
              "<p>어떤 수를 구하는 프로그램을 만들어봅시다. </p>\n",
              "<HR>\n",
              "<p>입력 예시 : <b>2 3 10</b></p>\n",
              "<h3>\n",
              "<p>1000이하의 숫자가 입력됩니다.</p>\n",
              "</h3>\n",
              "<h2>\n",
              "<p>출력 예시 : 1598</p>\n",
              "<HR>\n",
              "</h2>"
            ]
          },
          "metadata": {}
        },
        {
          "output_type": "execute_result",
          "data": {
            "text/html": [
              "<img src=\"\"/>"
            ],
            "text/plain": [
              "<IPython.core.display.Image object>"
            ]
          },
          "metadata": {},
          "execution_count": 23
        }
      ]
    },
    {
      "cell_type": "code",
      "source": [
        "Question(question_3301)"
      ],
      "metadata": {
        "colab": {
          "base_uri": "https://localhost:8080/",
          "height": 377
        },
        "id": "AOxc-lSyDznD",
        "outputId": "58009600-8ec6-4309-ec03-6af116a05970"
      },
      "execution_count": 24,
      "outputs": [
        {
          "output_type": "display_data",
          "data": {
            "text/plain": [
              "<IPython.core.display.HTML object>"
            ],
            "text/html": [
              "<h1 style = \"background-color:yellow; \">문제 설명</h1>\n",
              "<h2>\n",
              "<p>2개의 숫자를 입력받습니다.</p>\n",
              "<p><span style = \"background-color:\t#E0E0E0;\">첫번째 숫자</span>의 단위는 km이고 <span style = \"background-color:\t#E0E0E0;\">두번째 숫자</span>의 단위는 m입니다. </p>\n",
              "<p>'<span style = \"background-color:\t#E0E0E0;\">첫번째 숫자</span>km <span style = \"background-color:\t#E0E0E0;\">두번째 숫자</span>m'인 길이를 m로 출력하는 프로그램을 만들어봅시다. </p>\n",
              "<HR>\n",
              "<p>입력 예시 : 51 102</p>\n",
              "<h3>\n",
              "<p>1000이하의 숫자가 입력됩니다.</p>\n",
              "</h3>\n",
              "<h2>\n",
              "<p>출력 예시 : 51102</p>\n",
              "<h3>\n",
              "<p>m단위는 생략하고 숫자만 출력합니다.</p>\n",
              "</h3>\n",
              "<HR>\n",
              "</h2>"
            ]
          },
          "metadata": {}
        },
        {
          "output_type": "execute_result",
          "data": {
            "text/html": [
              "<img src=\"\"/>"
            ],
            "text/plain": [
              "<IPython.core.display.Image object>"
            ]
          },
          "metadata": {},
          "execution_count": 24
        }
      ]
    },
    {
      "cell_type": "code",
      "source": [
        "Question(question_3302)"
      ],
      "metadata": {
        "colab": {
          "base_uri": "https://localhost:8080/",
          "height": 409
        },
        "id": "XhpiqQkGD0UD",
        "outputId": "39cea71b-42a3-423d-983b-5d8af8f20ef5"
      },
      "execution_count": 25,
      "outputs": [
        {
          "output_type": "display_data",
          "data": {
            "text/plain": [
              "<IPython.core.display.HTML object>"
            ],
            "text/html": [
              "<h1 style = \"background-color:yellow; \">문제 설명</h1>\n",
              "<h2>\n",
              "<p>1개의 숫자를 입력받습니다.</p>\n",
              "<p>mL단위 <span style = \"background-color:\t#E0E0E0;\">숫자</span>를 '_L_mL' 단위로 바꾸어 L와 mL를 줄바꿈하여 출력하는 프로그램을 만들어봅시다.\n",
              "<HR>\n",
              "<p>입력 예시 : 1812</p>\n",
              "<h3>\n",
              "<p>100000이하의 숫자가 입력됩니다.</p>\n",
              "</h3>\n",
              "<h2>\n",
              "<p>출력 예시 : </p>\n",
              "<p> 1 </p>\n",
              "<p> 812 </p>\n",
              "<h3>\n",
              "<p>L단위를 출력하고 mL를 출력합니다. </p>\n",
              "</h3>\n",
              "<HR>\n",
              "</h2>"
            ]
          },
          "metadata": {}
        },
        {
          "output_type": "execute_result",
          "data": {
            "text/html": [
              "<img src=\"\"/>"
            ],
            "text/plain": [
              "<IPython.core.display.Image object>"
            ]
          },
          "metadata": {},
          "execution_count": 25
        }
      ]
    },
    {
      "cell_type": "code",
      "source": [
        "Question(question_3303)"
      ],
      "metadata": {
        "colab": {
          "base_uri": "https://localhost:8080/",
          "height": 377
        },
        "id": "0mGMuLmSD1Cw",
        "outputId": "39b4aab1-6c74-4d53-bbbc-ba660dafa2ea"
      },
      "execution_count": 26,
      "outputs": [
        {
          "output_type": "display_data",
          "data": {
            "text/plain": [
              "<IPython.core.display.HTML object>"
            ],
            "text/html": [
              "<h1 style = \"background-color:yellow; \">문제 설명</h1>\n",
              "<h2>\n",
              "<p>2개의 숫자를 입력받으며 <span style = \"background-color:\t#E0E0E0;\">첫번째 숫자</span>의 단위는 km이고 <span style = \"background-color:\t#E0E0E0;\">두번째 숫자</span>의 단위는 m입니다. </p>\n",
              "<p>유진이는 41km 떨어져 있는 할머니 댁에 갔습니다. '<span style = \"background-color:\t#E0E0E0;\">첫번째 숫자</span>km <span style = \"background-color:\t#E0E0E0;\">두번째 숫자</span>m'는 버스를 타고 나머지는 걸어갔습니다. </p>\n",
              "<p>유진이가 걸어간 거리 m로 출력하는 프로그램을 만들어봅시다.</p> \n",
              "<HR>\n",
              "<p>입력 예시 : 32 150</p>\n",
              "<h3>\n",
              "<p>첫번째 숫자는 40미만의 숫자가 입력되고, 두번째 숫자는 1000미만의 숫자가 입력됩니다.</p>\n",
              "</h3>\n",
              "<h2>\n",
              "<p>출력 예시 : 8850</p>\n",
              "<h3>\n",
              "<p>m단위는 생략하고 숫자만 출력합니다. </p>\n",
              "</h3>\n",
              "<HR>\n",
              "</h2>"
            ]
          },
          "metadata": {}
        },
        {
          "output_type": "execute_result",
          "data": {
            "text/html": [
              "<img src=\"\"/>"
            ],
            "text/plain": [
              "<IPython.core.display.Image object>"
            ]
          },
          "metadata": {},
          "execution_count": 26
        }
      ]
    },
    {
      "cell_type": "code",
      "source": [
        "Question(question_3304)"
      ],
      "metadata": {
        "colab": {
          "base_uri": "https://localhost:8080/",
          "height": 318
        },
        "id": "7yLNjWOxD1rM",
        "outputId": "6fc49a99-b2c3-42ad-b516-c9df5921f8e7"
      },
      "execution_count": 27,
      "outputs": [
        {
          "output_type": "display_data",
          "data": {
            "text/plain": [
              "<IPython.core.display.HTML object>"
            ],
            "text/html": [
              "<h1 style = \"background-color:yellow; \">문제 설명</h1>\n",
              "<h2>\n",
              "<p>2개의 숫자를 입력받으며 <span style = \"background-color:\t#E0E0E0;\">첫번째 숫자</span>의 단위는 km이고 <span style = \"background-color:\t#E0E0E0;\">두번째 숫자</span>의 단위는 m입니다. </p>\n",
              "<p>km단위인 첫번째 숫자와 m단위인 두번째 숫자 크기 비교하여 첫번째 숫자가 크면 True를 출력하고, 두번째 숫자가 크면 False를 출력하는 프로그램을 만들어봅시다.</p>\n",
              "<HR>\n",
              "<p>입력 예시 : 32 31092</p>\n",
              "<h3>\n",
              "<p>첫번째 숫자는 100미만의 숫자가 입력되고, 두번째 숫자는 100000미만의 숫자가 입력됩니다.</p>\n",
              "</h3>\n",
              "<h2>\n",
              "<p>출력 예시 : True</p>\n",
              "<h3>\n",
              "</h3>\n",
              "<HR>\n",
              "</h2>"
            ]
          },
          "metadata": {}
        },
        {
          "output_type": "execute_result",
          "data": {
            "text/html": [
              "<img src=\"\"/>"
            ],
            "text/plain": [
              "<IPython.core.display.Image object>"
            ]
          },
          "metadata": {},
          "execution_count": 27
        }
      ]
    },
    {
      "cell_type": "code",
      "source": [
        "Question(question_3305)"
      ],
      "metadata": {
        "colab": {
          "base_uri": "https://localhost:8080/",
          "height": 382
        },
        "id": "l5UuYxBXD2pE",
        "outputId": "4d360b59-d214-4274-9132-252d43f7ab76"
      },
      "execution_count": 28,
      "outputs": [
        {
          "output_type": "display_data",
          "data": {
            "text/plain": [
              "<IPython.core.display.HTML object>"
            ],
            "text/html": [
              "<h1 style = \"background-color:yellow; \">문제 설명</h1>\n",
              "<h2>\n",
              "<p>2개의 숫자를 입력받습니다.</p>\n",
              "<p><span style = \"background-color:\t#E0E0E0;\">첫번째 숫자</span>는 세종이가 숙제하는데 걸린 시간이며 단위는 시간입니다.</p>\n",
              "<p><span style = \"background-color:\t#E0E0E0;\">두번째 숫자</span>는 가득이가 숙제하는데 걸린 시간이며 단위는 분입니다.</p>\n",
              "<p>세종이가 숙제하는데 걸린 시간과 가득이가 숙제하는데 걸린 시간이 동일하면 True를 출력하고 다르면 False를 출력하는 프로그램을 만들어봅시다. </p>\n",
              "<HR>\n",
              "<p>입력 예시 : 3 150</p>\n",
              "<h3>\n",
              "<p>첫번째 숫자는 12미만의 숫자가 입력되고, 두번째 숫자는 720미만의 숫자가 입력됩니다.</p>\n",
              "</h3>\n",
              "<h2>\n",
              "<p>출력 예시 : False</p>\n",
              "<h3>\n",
              "</h3>\n",
              "<HR>\n",
              "</h2>"
            ]
          },
          "metadata": {}
        },
        {
          "output_type": "execute_result",
          "data": {
            "text/html": [
              "<img src=\"\"/>"
            ],
            "text/plain": [
              "<IPython.core.display.Image object>"
            ]
          },
          "metadata": {},
          "execution_count": 28
        }
      ]
    },
    {
      "cell_type": "code",
      "source": [
        "Question(question_3306)"
      ],
      "metadata": {
        "colab": {
          "base_uri": "https://localhost:8080/",
          "height": 322
        },
        "id": "I9CRhbNbD3L8",
        "outputId": "3d20b8f7-1762-4ad4-b359-80b6eaaff4c1"
      },
      "execution_count": 29,
      "outputs": [
        {
          "output_type": "display_data",
          "data": {
            "text/plain": [
              "<IPython.core.display.HTML object>"
            ],
            "text/html": [
              "<h1 style = \"background-color:yellow; \">문제 설명</h1>\n",
              "<h2>\n",
              "<p>입력받은 <span style = \"background-color:\t#E0E0E0;\">2개의 숫자</span>는 마름모에서 두 대각선의 길이입니다.</p>\n",
              "<p>마름모의 넓이가 50cm<sup>2</sup>보다 넓으면 True를 출력하고 작으면 False를 출력하는 프로그램을 만들어봅시다.</p>\n",
              "<HR>\n",
              "<p>입력 예시 : 8 9</p>\n",
              "<h3>\n",
              "<p>단위는 cm이며 단위는 생략되서 입력됩니다.</p>\n",
              "</h3>\n",
              "<h2>\n",
              "<p>출력 예시 : False</p>\n",
              "<h3>\n",
              "</h3>\n",
              "<HR>\n",
              "</h2>"
            ]
          },
          "metadata": {}
        },
        {
          "output_type": "execute_result",
          "data": {
            "text/html": [
              "<img src=\"\"/>"
            ],
            "text/plain": [
              "<IPython.core.display.Image object>"
            ]
          },
          "metadata": {},
          "execution_count": 29
        }
      ]
    },
    {
      "cell_type": "code",
      "source": [
        "Question(question_3307)"
      ],
      "metadata": {
        "colab": {
          "base_uri": "https://localhost:8080/",
          "height": 382
        },
        "id": "Gut97V1QD4N-",
        "outputId": "52d5c825-e551-41ea-cf34-cc7a5e1b6b0d"
      },
      "execution_count": 30,
      "outputs": [
        {
          "output_type": "display_data",
          "data": {
            "text/plain": [
              "<IPython.core.display.HTML object>"
            ],
            "text/html": [
              "<h1 style = \"background-color:yellow; \">문제 설명</h1>\n",
              "<h2>\n",
              "<p>2개의 숫자를 입력받습니다.</p>\n",
              "<p><span style = \"background-color:\t#E0E0E0;\">첫번째 숫자</span>는 원의 지름이며 <span style = \"background-color:\t#E0E0E0;\">두번째 숫자</span>는 정사각형의 한 변의 길이입니다.</p>\n",
              "<p>정사각형 둘레의 길이가 원주보다 길면 True를 출력하고 원주가 정사각형 둘레의 길이보다 길면 False를 출력하는 프로그램을 만들어봅시다.</p>\n",
              "<p>원주율은 3.14로 계산합니다.</p>\n",
              "<HR>\n",
              "<p>입력 예시 : 12 10</p>\n",
              "<h3>\n",
              "<p>단위는 cm이며 단위는 생략되서 입력됩니다.</p>\n",
              "</h3>\n",
              "<h2>\n",
              "<p>출력 예시 : True</p>\n",
              "<h3>\n",
              "</h3>\n",
              "<HR>\n",
              "</h2>"
            ]
          },
          "metadata": {}
        },
        {
          "output_type": "execute_result",
          "data": {
            "text/html": [
              "<img src=\"\"/>"
            ],
            "text/plain": [
              "<IPython.core.display.Image object>"
            ]
          },
          "metadata": {},
          "execution_count": 30
        }
      ]
    },
    {
      "cell_type": "code",
      "source": [
        "Question(question_3308)"
      ],
      "metadata": {
        "colab": {
          "base_uri": "https://localhost:8080/",
          "height": 381
        },
        "id": "HPgiRXXRD4xH",
        "outputId": "4a4eb739-f68a-4c29-e121-9c339e2941d9"
      },
      "execution_count": 31,
      "outputs": [
        {
          "output_type": "display_data",
          "data": {
            "text/plain": [
              "<IPython.core.display.HTML object>"
            ],
            "text/html": [
              "<h1 style = \"background-color:yellow; \">문제 설명</h1>\n",
              "<h2>\n",
              "<p>1개의 숫자를 입력받습니다.</p>\n",
              "<p>가로 20cm, 세로 15cm인 수조에 물이 담겨 있습니다. 수조에 돌을 넣었더니 <span style = \"background-color:\t#E0E0E0;\">입력받은 숫자</span>만큼 높이가 늘어났습니다.</p>\n",
              "<p>이 돌의 부피를 구하는 프로그램을 만들어봅시다.</p>\n",
              "<HR>\n",
              "<p>입력 예시 : 5</p>\n",
              "<h3>\n",
              "<p>1000이하의 숫자가 입력되며 단위는 cm입니다.</p>\n",
              "</h3>\n",
              "<h2>\n",
              "<p>출력 예시 : 1500</p>\n",
              "<h3>\n",
              "<p>cm<sup>3</sup>단위는 생략하고 숫자만 출력합니다.</p>\n",
              "</h3>\n",
              "<HR>\n",
              "</h2>"
            ]
          },
          "metadata": {}
        },
        {
          "output_type": "execute_result",
          "data": {
            "text/html": [
              "<img src=\"\"/>"
            ],
            "text/plain": [
              "<IPython.core.display.Image object>"
            ]
          },
          "metadata": {},
          "execution_count": 31
        }
      ]
    },
    {
      "cell_type": "code",
      "source": [
        "Question(question_3309)"
      ],
      "metadata": {
        "colab": {
          "base_uri": "https://localhost:8080/",
          "height": 381
        },
        "id": "uCMlNoPuD5je",
        "outputId": "b8551744-8d2a-4240-af04-057b18ba8a49"
      },
      "execution_count": 34,
      "outputs": [
        {
          "output_type": "display_data",
          "data": {
            "text/plain": [
              "<IPython.core.display.HTML object>"
            ],
            "text/html": [
              "<h1 style = \"background-color:yellow; \">문제 설명</h1>\n",
              "<h2>\n",
              "<p>3개의 숫자를 입력받습니다.</p>\n",
              "<p><span style = \"background-color:\t#E0E0E0;\">첫번째 숫자</span>는 윗변의 길이, <span style = \"background-color:\t#E0E0E0;\">두번째 숫자</span>는 아래변의 길이, <span style = \"background-color:\t#E0E0E0;\">세번째 숫자</spanu>는 높이입니다.</p>\n",
              "<p>사다리꼴의 넓이를 구하는 프로그램을 만들어봅시다.</p>\n",
              "<HR>\n",
              "<p>- 입력 예시 : 5 10 20</p>\n",
              "<h3>\n",
              "<p>입력되는 숫자는 1에서 100이하 숫자이며 cm단위이다.</p>\n",
              "</h3>\n",
              "<h2>\n",
              "<p>- 출력 예시 : 1500</p>\n",
              "<h3>\n",
              "<p>cm<sup>2</sup>단위는 생략하고 숫자만 출력합니다.</p>\n",
              "</h3>\n",
              "<HR>\n",
              "</h2>"
            ]
          },
          "metadata": {}
        },
        {
          "output_type": "execute_result",
          "data": {
            "text/html": [
              "<img src=\"\"/>"
            ],
            "text/plain": [
              "<IPython.core.display.Image object>"
            ]
          },
          "metadata": {},
          "execution_count": 34
        }
      ]
    },
    {
      "cell_type": "code",
      "source": [
        "Question(question_3310)"
      ],
      "metadata": {
        "colab": {
          "base_uri": "https://localhost:8080/",
          "height": 349
        },
        "id": "vEyYEYrlD6DX",
        "outputId": "47bbb5d3-3a22-4467-bfc9-3e486ce8adfb"
      },
      "execution_count": 33,
      "outputs": [
        {
          "output_type": "display_data",
          "data": {
            "text/plain": [
              "<IPython.core.display.HTML object>"
            ],
            "text/html": [
              "<h1 style = \"background-color:yellow; \">문제 설명</h1>\n",
              "<h2>\n",
              "<p><span  style = \"background-color:#E0E0E0; \">원의 지름</span>을 입력받아 원의 넓이를 구하는 프로그램을 만들어봅시다.</p>\n",
              "<p>(원주율은 3.14로 계산합니다.)</p>\n",
              "<HR>\n",
              "<p>- 입력 예시 : 6</p>\n",
              "<h3>\n",
              "<p>입력되는 숫자는 1에서 100이하 숫자이며 cm단위이다.</p>\n",
              "</h3>\n",
              "<h2>\n",
              "<p>- 출력 예시 : 28.26</p>\n",
              "<h3>\n",
              "<p>cm<sup>2</sup>단위는 생략하고 숫자만 출력합니다.</p>\n",
              "</h3>\n",
              "<HR>\n",
              "</h2>"
            ]
          },
          "metadata": {}
        },
        {
          "output_type": "execute_result",
          "data": {
            "text/html": [
              "<img src=\"\"/>"
            ],
            "text/plain": [
              "<IPython.core.display.Image object>"
            ]
          },
          "metadata": {},
          "execution_count": 33
        }
      ]
    },
    {
      "cell_type": "code",
      "source": [
        "Question(question_3311)"
      ],
      "metadata": {
        "colab": {
          "base_uri": "https://localhost:8080/",
          "height": 473
        },
        "id": "GnESTM6uD7GL",
        "outputId": "fcc1d33d-086f-4b52-e190-128fb3449612"
      },
      "execution_count": 35,
      "outputs": [
        {
          "output_type": "display_data",
          "data": {
            "text/plain": [
              "<IPython.core.display.HTML object>"
            ],
            "text/html": [
              "<h1 style = \"background-color:yellow; \">문제 설명</h1>\n",
              "<h2>\n",
              "<p><span style = \"background-color:\t#E0E0E0;\">원의 지름</span>을 입력받습니다. </p>\n",
              "<p>반지름과 원주, 원의 넓이를 구하는 프로그램을 만들어봅시다. </p>\n",
              "<p>원주율은 3.14로 계산합니다.</p>\n",
              "<HR>\n",
              "<p>- 입력 예시 : 8</p>\n",
              "<h3>\n",
              "<p>입력되는 숫자는 100이하 숫자이며 단위는 cm입니다.</p>\n",
              "</h3>\n",
              "<h2>\n",
              "<p>- 출력 예시 : </p>\n",
              "<p>4</p>\n",
              "<p>25.12</p>\n",
              "<p>50.24</p>\n",
              "</p>\n",
              "<h3>\n",
              "<p>단위는 생략하고 계산한 결과는 줄바꿈하여 출력합니다.</p>\n",
              "</h3>\n",
              "<HR>\n",
              "</h2>"
            ]
          },
          "metadata": {}
        },
        {
          "output_type": "execute_result",
          "data": {
            "text/html": [
              "<img src=\"\"/>"
            ],
            "text/plain": [
              "<IPython.core.display.Image object>"
            ]
          },
          "metadata": {},
          "execution_count": 35
        }
      ]
    },
    {
      "cell_type": "code",
      "source": [
        "Question(question_3312)"
      ],
      "metadata": {
        "colab": {
          "base_uri": "https://localhost:8080/",
          "height": 377
        },
        "id": "iKUg00LPD-U8",
        "outputId": "e3b8d9b7-0b80-4036-e0ac-0fb3789af1aa"
      },
      "execution_count": 36,
      "outputs": [
        {
          "output_type": "display_data",
          "data": {
            "text/plain": [
              "<IPython.core.display.HTML object>"
            ],
            "text/html": [
              "<h1 style = \"background-color:yellow; \">문제 설명</h1>\n",
              "<h2>\n",
              "<p>원기둥의 전개도에서 <span style = \"background-color:\t#E0E0E0;\">옆면의 둘레</span>를 입력받습니다. </p>\n",
              "<p>원기둥의 높이와 밑면의 지름이 같을 때, 원기둥의 높이를 구하는 프로그램을 만들어봅시다. </p>\n",
              "<p>원주율은 3으로 계산합니다.</p>\n",
              "<HR>\n",
              "<p>- 입력 예시 : 40</p>\n",
              "<h3>\n",
              "<p>입력되는 숫자는 1000이하 숫자이며 단위는 cm입니다.</p>\n",
              "</h3>\n",
              "<h2>\n",
              "<p>- 출력 예시 : 5</p>\n",
              "<h3>\n",
              "<p>cm단위는 생략하고 숫자만 출력합니다.</p>\n",
              "</h3>\n",
              "<HR>\n",
              "</h2>"
            ]
          },
          "metadata": {}
        },
        {
          "output_type": "execute_result",
          "data": {
            "text/html": [
              "<img src=\"\"/>"
            ],
            "text/plain": [
              "<IPython.core.display.Image object>"
            ]
          },
          "metadata": {},
          "execution_count": 36
        }
      ]
    },
    {
      "cell_type": "code",
      "source": [
        "Question(question_3313)"
      ],
      "metadata": {
        "colab": {
          "base_uri": "https://localhost:8080/",
          "height": 286
        },
        "id": "n27IqNQ2D-xZ",
        "outputId": "5caa4700-d372-4739-ca61-43fa3ba43425"
      },
      "execution_count": 37,
      "outputs": [
        {
          "output_type": "display_data",
          "data": {
            "text/plain": [
              "<IPython.core.display.HTML object>"
            ],
            "text/html": [
              "<h1 style = \"background-color:yellow; \">문제 설명</h1>\n",
              "<h2>\n",
              "<p>입력받은 <span style = 'background-color :#E0E0E0'>천의 자리 숫자</span>를 올림하여 천의 자리까지 나타내는 프로그램을 만들어봅시다.</p>\n",
              "<HR>\n",
              "<p>- 입력 예시 : <b>2345</b></p>\n",
              "<h3>\n",
              "<p>입력되는 숫자는 천의 자리 숫자입니다.</p>\n",
              "</h3>\n",
              "<h2>\n",
              "<p>- 출력 예시 : 3000</p>\n",
              "<h3>\n",
              "</h3>\n",
              "<HR>\n",
              "</h2>"
            ]
          },
          "metadata": {}
        },
        {
          "output_type": "execute_result",
          "data": {
            "text/html": [
              "<img src=\"\"/>"
            ],
            "text/plain": [
              "<IPython.core.display.Image object>"
            ]
          },
          "metadata": {},
          "execution_count": 37
        }
      ]
    },
    {
      "cell_type": "code",
      "source": [
        "Question(question_3314)"
      ],
      "metadata": {
        "colab": {
          "base_uri": "https://localhost:8080/",
          "height": 286
        },
        "id": "zfSCqnkID_Qx",
        "outputId": "aba97506-f5fe-43a6-df35-5e5140bf9200"
      },
      "execution_count": 38,
      "outputs": [
        {
          "output_type": "display_data",
          "data": {
            "text/plain": [
              "<IPython.core.display.HTML object>"
            ],
            "text/html": [
              "<h1 style = \"background-color:yellow; \">문제 설명</h1>\n",
              "<h2>\n",
              "<p>입력받은 <span style = 'background-color :#E0E0E0'>만의 자리 숫자</span>를 내림하여 만의 자리까지 나타내는 프로그램을 만들어봅시다.</p>\n",
              "<HR>\n",
              "<p>- 입력 예시 : <b>12345</b></p>\n",
              "<h3>\n",
              "<p>입력되는 숫자는 만만의 자리 숫자입니다.</p>\n",
              "</h3>\n",
              "<h2>\n",
              "<p>- 출력 예시 : 10000</p>\n",
              "<h3>\n",
              "</h3>\n",
              "<HR>\n",
              "</h2>"
            ]
          },
          "metadata": {}
        },
        {
          "output_type": "execute_result",
          "data": {
            "text/html": [
              "<img src=\"\"/>"
            ],
            "text/plain": [
              "<IPython.core.display.Image object>"
            ]
          },
          "metadata": {},
          "execution_count": 38
        }
      ]
    },
    {
      "cell_type": "code",
      "source": [
        "Question(question_3401)"
      ],
      "metadata": {
        "colab": {
          "base_uri": "https://localhost:8080/",
          "height": 348
        },
        "id": "-XONzWayD_1-",
        "outputId": "446386b9-2282-4ae2-e948-286cdb9d0a28"
      },
      "execution_count": 39,
      "outputs": [
        {
          "output_type": "display_data",
          "data": {
            "text/plain": [
              "<IPython.core.display.HTML object>"
            ],
            "text/html": [
              "<h1 style = \"background-color:yellow; \">문제 설명</h1>\n",
              "<h2>\n",
              "<p>2개의 숫자를 입력받습니다. </p>\n",
              "<p>지민이와 유나가 <u style = \"background-color:\t#E0E0E0;\">첫번째 숫자</u>와 <u style = \"background-color:\t#E0E0E0;\">두번째 숫자</u> 비로 연필 144자루를 나눠갖기로 했습니다.</p>\n",
              "<p>지민이가 갖게 될 연필을 구하는 프로그램을 만들어봅시다.</p> \n",
              "<HR>\n",
              "<p>입력 예시 : 1 2</p>\n",
              "<h3>\n",
              "<p>입력되는 숫자는 1이상 144이하 숫자입니다.</p>\n",
              "</h3>\n",
              "<h2>\n",
              "<p>출력 예시 : 48.0</p>\n",
              "<HR>\n",
              "</h2>"
            ]
          },
          "metadata": {}
        },
        {
          "output_type": "execute_result",
          "data": {
            "text/html": [
              "<img src=\"\"/>"
            ],
            "text/plain": [
              "<IPython.core.display.Image object>"
            ]
          },
          "metadata": {},
          "execution_count": 39
        }
      ]
    },
    {
      "cell_type": "code",
      "source": [
        "Question(question_3402)"
      ],
      "metadata": {
        "colab": {
          "base_uri": "https://localhost:8080/",
          "height": 348
        },
        "id": "hIR0HmewEBa3",
        "outputId": "d97f6329-bdf1-4214-bb17-99c5a3bf6d26"
      },
      "execution_count": 40,
      "outputs": [
        {
          "output_type": "display_data",
          "data": {
            "text/plain": [
              "<IPython.core.display.HTML object>"
            ],
            "text/html": [
              "<h1 style = \"background-color:yellow; \">문제 설명</h1>\n",
              "<h2>\n",
              "<p>3개의 숫자를 입력받습니다. </p>\n",
              "<p>지민이와 유나가 <span style = \"background-color:\t#E0E0E0;\">첫번째 숫자</span>와 <span style = \"background-color:\t#E0E0E0;\">두번째 숫자</span> 비로 <span style = \"background-color:\t#E0E0E0;\">세번째 숫자</span>만큼의 연필을 나눠갖기로 했습니다.</p>\n",
              "<p>유나가 갖게 될 연필을 구하는 프로그램을 만들어봅시다.</p> \n",
              "<HR>\n",
              "<p>입력 예시 : 1 2 24</p>\n",
              "<h3>\n",
              "<p>입력되는 숫자는 100이하 숫자입니다.</p>\n",
              "</h3>\n",
              "<h2>\n",
              "<p>출력 예시 : 8.0</p>\n",
              "<HR>\n",
              "</h2>"
            ]
          },
          "metadata": {}
        },
        {
          "output_type": "execute_result",
          "data": {
            "text/html": [
              "<img src=\"\"/>"
            ],
            "text/plain": [
              "<IPython.core.display.Image object>"
            ]
          },
          "metadata": {},
          "execution_count": 40
        }
      ]
    },
    {
      "cell_type": "code",
      "source": [
        "Question(question_3403)"
      ],
      "metadata": {
        "colab": {
          "base_uri": "https://localhost:8080/",
          "height": 418
        },
        "id": "VyUh95BdECAy",
        "outputId": "e599bcad-7456-4116-fa81-93094901fd5a"
      },
      "execution_count": 41,
      "outputs": [
        {
          "output_type": "display_data",
          "data": {
            "text/plain": [
              "<IPython.core.display.HTML object>"
            ],
            "text/html": [
              "<h1 style = \"background-color:yellow; \">문제 설명</h1>\n",
              "<h2>\n",
              "<p>2개의 숫자를 입력받습니다. </p>\n",
              "<p>두 평행사변형 가, 나의 넓이의 합은 416cm<sup>2</sup>입니다. </p>\n",
              "<p><span style = \"background-color:\t#E0E0E0;\">첫번째 숫자</span>는 가 평행사변형의 밑면의 길이이고 <span style = \"background-color:\t#E0E0E0;\">두번째 숫자</span>는 나 평행사변형의 길이입니다.</p>\n",
              "<p>평행사변형 가의 넓이를 구하는 프로그램을 만들어봅시다.</p> \n",
              "<HR>\n",
              "<p>입력 예시 : 3 5</p>\n",
              "<h3>\n",
              "<p>입력되는 숫자는 416이하 숫자입니다.</p>\n",
              "</h3>\n",
              "<h2>\n",
              "<p>출력 예시 : 156.0</p>\n",
              "<h3>\n",
              "<p>cm<sup>2</sup>단위는 생략하고 숫자만 출력합니다.</p>\n",
              "</h3>\n",
              "<HR>\n",
              "</h2>"
            ]
          },
          "metadata": {}
        },
        {
          "output_type": "execute_result",
          "data": {
            "text/html": [
              "<img src=\"\"/>"
            ],
            "text/plain": [
              "<IPython.core.display.Image object>"
            ]
          },
          "metadata": {},
          "execution_count": 41
        }
      ]
    },
    {
      "cell_type": "code",
      "source": [],
      "metadata": {
        "id": "nnh5eDtWEChI"
      },
      "execution_count": null,
      "outputs": []
    }
  ]
}