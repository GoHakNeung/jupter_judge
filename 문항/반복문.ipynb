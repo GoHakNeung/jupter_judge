{
  "nbformat": 4,
  "nbformat_minor": 0,
  "metadata": {
    "colab": {
      "provenance": []
    },
    "kernelspec": {
      "name": "python3",
      "display_name": "Python 3"
    },
    "language_info": {
      "name": "python"
    }
  },
  "cells": [
    {
      "cell_type": "code",
      "source": [
        "Question(question_6101)"
      ],
      "metadata": {
        "colab": {
          "base_uri": "https://localhost:8080/",
          "height": 372
        },
        "id": "RkfwxOi7_Olh",
        "outputId": "0c6d9fa6-d5e2-4abe-94a8-eb79d05946ac"
      },
      "execution_count": 2,
      "outputs": [
        {
          "output_type": "display_data",
          "data": {
            "text/plain": [
              "<IPython.core.display.HTML object>"
            ],
            "text/html": [
              "<h1 style = \"background-color:yellow; \">문제 설명</h1>\n",
              "<p>입력받은 <span style = \"background-color:\t#E0E0E0;\">숫자</span>를 자리 수로 분리해서 리스트로 만드는 프로그램을 만들어봅시다.</p>\n",
              "<p>일의 자리에 해당하는 숫자가 맨 마지막에 위치하도록 합니다.</p>\n",
              "<HR>\n",
              "<h2>입력</h2>\n",
              "<p>자연수를 입력받습니다.</p>\n",
              "<h2>출력</h2>\n",
              "<p>자리 수에 해당하는 숫자를 리스트에 저장해서 리스트를 출력합니다.</p>\n",
              "<p>일의 자리에 해당하는 숫자가 맨 마지막에 위치하도록 합니다.</p>\n",
              "<HR>\n",
              "<div style = \"float:left;width:50%\">\n",
              "<h2>입력 예시 </h2>\n",
              "<p>1234</p>\n",
              "</div>\n",
              "<div style = \"float:right;width:50%\">\n",
              "<h2>출력 예시 </h2>\n",
              "<p>[1,2,3,4]</p>\n",
              "</div>\n"
            ]
          },
          "metadata": {}
        },
        {
          "output_type": "execute_result",
          "data": {
            "text/html": [
              "<img src=\"\"/>"
            ],
            "text/plain": [
              "<IPython.core.display.Image object>"
            ]
          },
          "metadata": {},
          "execution_count": 2
        }
      ]
    },
    {
      "cell_type": "code",
      "source": [
        "Question(question_6102)"
      ],
      "metadata": {
        "colab": {
          "base_uri": "https://localhost:8080/",
          "height": 535
        },
        "id": "hCdeZUfIE4Lk",
        "outputId": "933ac6fd-f3cf-48d9-813c-b88470479171"
      },
      "execution_count": 3,
      "outputs": [
        {
          "output_type": "display_data",
          "data": {
            "text/plain": [
              "<IPython.core.display.HTML object>"
            ],
            "text/html": [
              "<h1 style = \"background-color:yellow; \">문제 설명</h1>\n",
              "<p>1부터 10까지 출력하는 프로그램을 만들어봅시다.</p>\n",
              "<HR>\n",
              "<h2>입력</h2>\n",
              "<p>없음</p>\n",
              "<h2>출력</h2>\n",
              "<p>1부터 10까지 줄바꿈하여 출력합니다.</p>\n",
              "<HR>\n",
              "<div style = \"float:left;width:50%\">\n",
              "<h2>입력 예시 </h2>\n",
              "<p>없음</p>\n",
              "</div>\n",
              "<div style = \"float:right;width:50%\">\n",
              "<h2>출력 예시 </h2>\n",
              "<p>1</p>\n",
              "<p>2</p>\n",
              "<p>3</p>\n",
              "<p>4</p>\n",
              "<p>5</p>\n",
              "<p>6</p>\n",
              "<p>7</p>\n",
              "<p>8</p>\n",
              "<p>9</p>\n",
              "<p>10</p>\n",
              "</div>\n"
            ]
          },
          "metadata": {}
        },
        {
          "output_type": "execute_result",
          "data": {
            "text/html": [
              "<img src=\"\"/>"
            ],
            "text/plain": [
              "<IPython.core.display.Image object>"
            ]
          },
          "metadata": {},
          "execution_count": 3
        }
      ]
    },
    {
      "cell_type": "code",
      "source": [
        "Question(question_6103)"
      ],
      "metadata": {
        "colab": {
          "base_uri": "https://localhost:8080/",
          "height": 549
        },
        "id": "lJDf7YqvE4w0",
        "outputId": "06f7202b-07e1-4843-9c67-851dbcaf8d14"
      },
      "execution_count": 4,
      "outputs": [
        {
          "output_type": "display_data",
          "data": {
            "text/plain": [
              "<IPython.core.display.HTML object>"
            ],
            "text/html": [
              "<h2 style = \"background-color:yellow; \">문제 설명</h2>\n",
              "<p>1부터 21까지 2씩 띄어서 출력하는 프로그램을 만들어봅시다.</p>\n",
              "<HR>\n",
              "<h2> 입력\n",
              "</h2>\n",
              "<p>없음</p>\n",
              "<h2> 출력\n",
              "</h2>\n",
              "<p>1, 3, 5, ... , 21을 줄바꿈하여 출력합니다.</p>\n",
              "<HR>\n",
              "<div style = \"float:left;width:50%\">\n",
              "<h2> 입력 예시 </h2>\n",
              "<p>없음</p>\n",
              "</div>\n",
              "<div style = \"float:right;width:50%\">\n",
              "<h2> 출력 예시 </h2>\n",
              "<p>1</p>\n",
              "<p>3</p>\n",
              "<p>5</p>\n",
              "<p>7</p>\n",
              "<p>9</p>\n",
              "<p>11</p>\n",
              "<p>13</p>\n",
              "<p>15</p>\n",
              "<p>17</p>\n",
              "<p>19</p>\n",
              "<p>21</p>\n",
              "</div>\n"
            ]
          },
          "metadata": {}
        },
        {
          "output_type": "execute_result",
          "data": {
            "text/html": [
              "<img src=\"\"/>"
            ],
            "text/plain": [
              "<IPython.core.display.Image object>"
            ]
          },
          "metadata": {},
          "execution_count": 4
        }
      ]
    },
    {
      "cell_type": "code",
      "source": [
        "Question(question_6104)"
      ],
      "metadata": {
        "colab": {
          "base_uri": "https://localhost:8080/",
          "height": 502
        },
        "id": "5mFM3MMSE56p",
        "outputId": "96e7cb97-a2d0-4338-e03e-66cc8d0bed2d"
      },
      "execution_count": 5,
      "outputs": [
        {
          "output_type": "display_data",
          "data": {
            "text/plain": [
              "<IPython.core.display.HTML object>"
            ],
            "text/html": [
              "<h2 style = \"background-color:yellow; \">문제 설명</h2>\n",
              "<p>입력받은 <span style = \"background-color:\t#E0E0E0;\">숫자</span>의 구구단을 출력하는 프로그램을 만들어봅시다.</p>\n",
              "<HR>\n",
              "<h2> 입력\n",
              "</h2>\n",
              "<p>2 ~ 19사이 숫자가 입력됩니다.</p>\n",
              "<h2> 출력\n",
              "</h2>\n",
              "<p>입력한 숫자에 해당하는 구구단이 출력됩니다.</p>\n",
              "<HR>\n",
              "<div style = \"float:left;width:50%\">\n",
              "<h2> 입력 예시 </h2>\n",
              "<p>5</p>\n",
              "</div>\n",
              "<div style = \"float:right;width:50%\">\n",
              "<h2> 출력 예시 </h2>\n",
              "<p>5</p>\n",
              "<p>10</p>\n",
              "<p>15</p>\n",
              "<p>20</p>\n",
              "<p>25</p>\n",
              "<p>30</p>\n",
              "<p>35</p>\n",
              "<p>40</p>\n",
              "<p>45</p>\n",
              "</div>\n"
            ]
          },
          "metadata": {}
        },
        {
          "output_type": "execute_result",
          "data": {
            "text/html": [
              "<img src=\"\"/>"
            ],
            "text/plain": [
              "<IPython.core.display.Image object>"
            ]
          },
          "metadata": {},
          "execution_count": 5
        }
      ]
    },
    {
      "cell_type": "code",
      "source": [
        "Question(question_6105)"
      ],
      "metadata": {
        "colab": {
          "base_uri": "https://localhost:8080/",
          "height": 409
        },
        "id": "3TPJ6oD3E8l5",
        "outputId": "44071181-4835-4544-8feb-aa54105ced7a"
      },
      "execution_count": 6,
      "outputs": [
        {
          "output_type": "display_data",
          "data": {
            "text/plain": [
              "<IPython.core.display.HTML object>"
            ],
            "text/html": [
              "<h2 style = \"background-color:yellow; \">문제 설명</h2>\n",
              "<p>10씩 띄어세기 하는 <span style = \"background-color:\t#E0E0E0;\">숫자 모음(리스트)</span>을 입력받아 숫자 모음에 저장된 숫자를 순서대로 출력하는 프로그램을 만들어봅시다.</p>\n",
              "<HR>\n",
              "<h2> 입력\n",
              "</h2>\n",
              "<p>숫자모음(리스트)가 입력됩니다.</p>\n",
              "<h2> 출력\n",
              "</h2>\n",
              "<p>숫자모음(리스트)에 저장된 숫자가 순서대로 출력합니다.</p>\n",
              "<HR>\n",
              "<div style = \"float:left;width:50%\">\n",
              "<h2> 입력 예시 </h2>\n",
              "<p> 10, 20, 30, 40, 50</p>\n",
              "</div>\n",
              "<div style = \"float:right;width:50%\">\n",
              "<h2> 출력 예시 </h2>\n",
              "<p>10</p>\n",
              "<p>20</p>\n",
              "<p>30</p>\n",
              "<p>40</p>\n",
              "<p>50</p>\n",
              "</div>\n"
            ]
          },
          "metadata": {}
        },
        {
          "output_type": "execute_result",
          "data": {
            "text/html": [
              "<img src=\"\"/>"
            ],
            "text/plain": [
              "<IPython.core.display.Image object>"
            ]
          },
          "metadata": {},
          "execution_count": 6
        }
      ]
    }
  ]
}