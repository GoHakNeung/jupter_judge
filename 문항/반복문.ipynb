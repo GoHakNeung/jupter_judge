{
  "nbformat": 4,
  "nbformat_minor": 0,
  "metadata": {
    "colab": {
      "provenance": []
    },
    "kernelspec": {
      "name": "python3",
      "display_name": "Python 3"
    },
    "language_info": {
      "name": "python"
    }
  },
  "cells": [
    {
      "cell_type": "code",
      "source": [
        "Question(question_5101)"
      ],
      "metadata": {
        "colab": {
          "base_uri": "https://localhost:8080/",
          "height": 372
        },
        "id": "RkfwxOi7_Olh",
        "outputId": "b52a7077-22fa-427c-f31e-a1b25b68e0d2"
      },
      "execution_count": 9,
      "outputs": [
        {
          "output_type": "display_data",
          "data": {
            "text/plain": [
              "<IPython.core.display.HTML object>"
            ],
            "text/html": [
              "<h1 style = \"background-color:yellow; \">문제 설명</h1>\n",
              "<p>입력받은 <span style = \"background-color:\t#E0E0E0;\">숫자</span>를 자리 수로 분리해서 리스트로 만드는 프로그램을 만들어봅시다.</p>\n",
              "<p>일의 자리에 해당하는 숫자가 맨 마지막에 위치하도록 합니다.</p>\n",
              "<HR>\n",
              "<h2>입력</h2>\n",
              "<p>자연수를 입력받습니다.</p>\n",
              "<h2>출력</h2>\n",
              "<p>자리 수에 해당하는 숫자를 리스트에 저장해서 리스트를 출력합니다.</p>\n",
              "<p>일의 자리에 해당하는 숫자가 맨 마지막에 위치하도록 합니다.</p>\n",
              "<HR>\n",
              "<div style = \"float:left;width:50%\">\n",
              "<h2>입력 예시 </h2>\n",
              "<p>1234</p>\n",
              "</div>\n",
              "<div style = \"float:right;width:50%\">\n",
              "<h2>출력 예시 </h2>\n",
              "<p>[1,2,3,4]</p>\n",
              "</div>\n"
            ]
          },
          "metadata": {}
        }
      ]
    },
    {
      "cell_type": "code",
      "source": [
        "Question(question_5102)"
      ],
      "metadata": {
        "colab": {
          "base_uri": "https://localhost:8080/",
          "height": 535
        },
        "id": "hCdeZUfIE4Lk",
        "outputId": "03a678c2-3f11-4a8a-c9e3-e860490824c2"
      },
      "execution_count": 10,
      "outputs": [
        {
          "output_type": "display_data",
          "data": {
            "text/plain": [
              "<IPython.core.display.HTML object>"
            ],
            "text/html": [
              "<h1 style = \"background-color:yellow; \">문제 설명</h1>\n",
              "<p>1부터 10까지 출력하는 프로그램을 만들어봅시다.</p>\n",
              "<HR>\n",
              "<h2>입력</h2>\n",
              "<p>없음</p>\n",
              "<h2>출력</h2>\n",
              "<p>1부터 10까지 줄바꿈하여 출력합니다.</p>\n",
              "<HR>\n",
              "<div style = \"float:left;width:50%\">\n",
              "<h2>입력 예시 </h2>\n",
              "<p>없음</p>\n",
              "</div>\n",
              "<div style = \"float:right;width:50%\">\n",
              "<h2>출력 예시 </h2>\n",
              "<p>1</p>\n",
              "<p>2</p>\n",
              "<p>3</p>\n",
              "<p>4</p>\n",
              "<p>5</p>\n",
              "<p>6</p>\n",
              "<p>7</p>\n",
              "<p>8</p>\n",
              "<p>9</p>\n",
              "<p>10</p>\n",
              "</div>\n"
            ]
          },
          "metadata": {}
        }
      ]
    },
    {
      "cell_type": "code",
      "source": [
        "Question(question_5103)"
      ],
      "metadata": {
        "colab": {
          "base_uri": "https://localhost:8080/",
          "height": 548
        },
        "id": "lJDf7YqvE4w0",
        "outputId": "ebd3a2c9-0389-4df9-f89e-c08be09b2b53"
      },
      "execution_count": 11,
      "outputs": [
        {
          "output_type": "display_data",
          "data": {
            "text/plain": [
              "<IPython.core.display.HTML object>"
            ],
            "text/html": [
              "<h2 style = \"background-color:yellow; \">문제 설명</h2>\n",
              "<p>1부터 21까지 2씩 띄어서 출력하는 프로그램을 만들어봅시다.</p>\n",
              "<HR>\n",
              "<h2> 입력\n",
              "</h2>\n",
              "<p>없음</p>\n",
              "<h2> 출력\n",
              "</h2>\n",
              "<p>1, 3, 5, ... , 21을 줄바꿈하여 출력합니다.</p>\n",
              "<HR>\n",
              "<div style = \"float:left;width:50%\">\n",
              "<h2> 입력 예시 </h2>\n",
              "<p>없음</p>\n",
              "</div>\n",
              "<div style = \"float:right;width:50%\">\n",
              "<h2> 출력 예시 </h2>\n",
              "<p>1</p>\n",
              "<p>3</p>\n",
              "<p>5</p>\n",
              "<p>7</p>\n",
              "<p>9</p>\n",
              "<p>11</p>\n",
              "<p>13</p>\n",
              "<p>15</p>\n",
              "<p>17</p>\n",
              "<p>19</p>\n",
              "<p>21</p>\n",
              "</div>\n"
            ]
          },
          "metadata": {}
        }
      ]
    },
    {
      "cell_type": "code",
      "source": [
        "Question(question_5104)"
      ],
      "metadata": {
        "colab": {
          "base_uri": "https://localhost:8080/",
          "height": 502
        },
        "id": "5mFM3MMSE56p",
        "outputId": "e1ec332d-e390-4cdb-f88c-219e51b39ba8"
      },
      "execution_count": 12,
      "outputs": [
        {
          "output_type": "display_data",
          "data": {
            "text/plain": [
              "<IPython.core.display.HTML object>"
            ],
            "text/html": [
              "<h2 style = \"background-color:yellow; \">문제 설명</h2>\n",
              "<p>입력받은 <span style = \"background-color:\t#E0E0E0;\">숫자</span>의 구구단을 출력하는 프로그램을 만들어봅시다.</p>\n",
              "<HR>\n",
              "<h2> 입력\n",
              "</h2>\n",
              "<p>2 ~ 19사이 숫자가 입력됩니다.</p>\n",
              "<h2> 출력\n",
              "</h2>\n",
              "<p>입력한 숫자에 해당하는 구구단이 출력됩니다.</p>\n",
              "<HR>\n",
              "<div style = \"float:left;width:50%\">\n",
              "<h2> 입력 예시 </h2>\n",
              "<p>5</p>\n",
              "</div>\n",
              "<div style = \"float:right;width:50%\">\n",
              "<h2> 출력 예시 </h2>\n",
              "<p>5</p>\n",
              "<p>10</p>\n",
              "<p>15</p>\n",
              "<p>20</p>\n",
              "<p>25</p>\n",
              "<p>30</p>\n",
              "<p>35</p>\n",
              "<p>40</p>\n",
              "<p>45</p>\n",
              "</div>\n"
            ]
          },
          "metadata": {}
        }
      ]
    },
    {
      "cell_type": "code",
      "source": [
        "Question(question_5105)"
      ],
      "metadata": {
        "colab": {
          "base_uri": "https://localhost:8080/",
          "height": 408
        },
        "id": "3TPJ6oD3E8l5",
        "outputId": "eb84ce2b-6bcd-4247-85ef-09641a04a344"
      },
      "execution_count": 13,
      "outputs": [
        {
          "output_type": "display_data",
          "data": {
            "text/plain": [
              "<IPython.core.display.HTML object>"
            ],
            "text/html": [
              "<h2 style = \"background-color:yellow; \">문제 설명</h2>\n",
              "<p>10씩 띄어세기 하는 <span style = \"background-color:\t#E0E0E0;\">숫자 모음(리스트)</span>을 입력받아 숫자 모음에 저장된 숫자를 순서대로 출력하는 프로그램을 만들어봅시다.</p>\n",
              "<HR>\n",
              "<h2> 입력\n",
              "</h2>\n",
              "<p>숫자모음(리스트)가 입력됩니다.</p>\n",
              "<h2> 출력\n",
              "</h2>\n",
              "<p>숫자모음(리스트)에 저장된 숫자가 순서대로 출력합니다.</p>\n",
              "<HR>\n",
              "<div style = \"float:left;width:50%\">\n",
              "<h2> 입력 예시 </h2>\n",
              "<p> 10, 20, 30, 40, 50</p>\n",
              "</div>\n",
              "<div style = \"float:right;width:50%\">\n",
              "<h2> 출력 예시 </h2>\n",
              "<p>10</p>\n",
              "<p>20</p>\n",
              "<p>30</p>\n",
              "<p>40</p>\n",
              "<p>50</p>\n",
              "</div>\n"
            ]
          },
          "metadata": {}
        }
      ]
    },
    {
      "cell_type": "code",
      "source": [
        "Question(question_5201)"
      ],
      "metadata": {
        "colab": {
          "base_uri": "https://localhost:8080/",
          "height": 424
        },
        "id": "5BgyX6LPXP5-",
        "outputId": "cf657e95-467c-4b35-d585-60e86fdbff02"
      },
      "execution_count": 2,
      "outputs": [
        {
          "output_type": "display_data",
          "data": {
            "text/plain": [
              "<IPython.core.display.HTML object>"
            ],
            "text/html": [
              "<h2 style = \"background-color:yellow; \">문제 설명</h2>\n",
              "<p>길이가 <span style = \"background-color:\t#E0E0E0;\">100</span>인 정사각형을 그려봅시다.</p>\n",
              "<svg width = \"200\" height = \"100\"><polygon points = \"5,5 95,5 95,95 5 95\", fill = \"#FFFFFF\", stroke = \"#000000\", stroke-width = \"4\"></svg>\n",
              "<HR>\n",
              "<h2> 입력 </h2>\n",
              "<p>없음</p>\n",
              "<h2> 출력 </h2>\n",
              "<p>forward(), left()를 이용해서 정사각형을 그립니다..</p>\n",
              "<HR>\n",
              "<div style = \"float:left;width:50%\">\n",
              "<h2> 입력 예시 </h2>\n",
              "<p> 없음</p>\n",
              "</div>\n",
              "<div style = \"float:right;width:50%\">\n",
              "<h2> 출력 예시 </h2>\n",
              "<p>길이가 100인 정사각형</p>\n",
              "</div>\n"
            ]
          },
          "metadata": {}
        }
      ]
    },
    {
      "cell_type": "code",
      "source": [
        "Question(question_5202)"
      ],
      "metadata": {
        "colab": {
          "base_uri": "https://localhost:8080/",
          "height": 524
        },
        "id": "PPHXt2iAXSAN",
        "outputId": "c5691509-dd1f-404d-a4bd-04b15e06cc6f"
      },
      "execution_count": 3,
      "outputs": [
        {
          "output_type": "display_data",
          "data": {
            "text/plain": [
              "<IPython.core.display.HTML object>"
            ],
            "text/html": [
              "<h2 style = \"background-color:yellow; \">문제 설명</h2>\n",
              "<p>길이가 <span style = \"background-color:\t#E0E0E0;\">150</span>인 정삼각형을 그려봅시다.</p>\n",
              "<svg width = \"200\" height = \"200\"><polygon points = \"100,5 5,167 195,167\", fill = \"#FFFFFF\", stroke = \"#000000\", stroke-width = \"4\"></svg>\n",
              "<HR>\n",
              "<h2> 입력 </h2>\n",
              "<p>없음</p>\n",
              "<h2> 출력 </h2>\n",
              "<p>forward(), left()를 이용해서 정삼각형을 그립니다..</p>\n",
              "<HR>\n",
              "<div style = \"float:left;width:50%\">\n",
              "<h2> 입력 예시 </h2>\n",
              "<p> 없음</p>\n",
              "</div>\n",
              "<div style = \"float:right;width:50%\">\n",
              "<h2> 출력 예시 </h2>\n",
              "<p>길이가 150인 정삼각형</p>\n",
              "</div>\n"
            ]
          },
          "metadata": {}
        }
      ]
    },
    {
      "cell_type": "code",
      "source": [
        "Question(question_5203)"
      ],
      "metadata": {
        "colab": {
          "base_uri": "https://localhost:8080/",
          "height": 534
        },
        "id": "YZA0Uq0RXSp9",
        "outputId": "ef29f3c2-4c45-4537-ff1a-b091b7c119ef"
      },
      "execution_count": 4,
      "outputs": [
        {
          "output_type": "display_data",
          "data": {
            "text/plain": [
              "<IPython.core.display.HTML object>"
            ],
            "text/html": [
              "<h2 style = \"background-color:yellow; \">문제 설명</h2>\n",
              "<p>길이가 <span style = \"background-color:\t#E0E0E0;\">75</span>인 정육각형을 그려봅시다.</p>\n",
              "<svg width = \"210\" height = \"210\"><polygon points = \"55,5 155,5 205,90 155,175 55,175 5,90\", fill = \"#FFFFFF\", stroke = \"#000000\", stroke-width = \"4\"></svg>\n",
              "<HR>\n",
              "<h2> 입력 </h2>\n",
              "<p>없음</p>\n",
              "<h2> 출력 </h2>\n",
              "<p>forward(), left()를 이용해서 정육각형을 그립니다..</p>\n",
              "<HR>\n",
              "<div style = \"float:left;width:50%\">\n",
              "<h2> 입력 예시 </h2>\n",
              "<p> 없음</p>\n",
              "</div>\n",
              "<div style = \"float:right;width:50%\">\n",
              "<h2> 출력 예시 </h2>\n",
              "<p>길이가 75인 정육각형</p>\n",
              "</div>\n"
            ]
          },
          "metadata": {}
        }
      ]
    },
    {
      "cell_type": "code",
      "source": [
        "Question(question_5204)"
      ],
      "metadata": {
        "colab": {
          "base_uri": "https://localhost:8080/",
          "height": 534
        },
        "id": "_dqQ5z0kXTJV",
        "outputId": "d1447ca5-c499-4bed-8773-951f1d8c3515"
      },
      "execution_count": 5,
      "outputs": [
        {
          "output_type": "display_data",
          "data": {
            "text/plain": [
              "<IPython.core.display.HTML object>"
            ],
            "text/html": [
              "<h2 style = \"background-color:yellow; \">문제 설명</h2>\n",
              "<p>길이가 <span style = \"background-color:\t#E0E0E0;\">100</span>인 별을 그려봅시다.</p>\n",
              "<svg width = \"210\" height = \"210\"><polygon points = \"5,75 195,75 40,185 100,5 160,185 \", fill = \"#FFFFFF\", stroke = \"#000000\", stroke-width = \"4\"></svg>\n",
              "<HR>\n",
              "<h2> 입력 </h2>\n",
              "<p>없음</p>\n",
              "<h2> 출력 </h2>\n",
              "<p>forward(), right()를 이용해서 별을 그립니다..</p>\n",
              "<HR>\n",
              "<div style = \"float:left;width:50%\">\n",
              "<h2> 입력 예시 </h2>\n",
              "<p> 없음</p>\n",
              "</div>\n",
              "<div style = \"float:right;width:50%\">\n",
              "<h2> 출력 예시 </h2>\n",
              "<p>길이가 100인 별</p>\n",
              "</div>\n"
            ]
          },
          "metadata": {}
        }
      ]
    },
    {
      "cell_type": "code",
      "source": [
        "Question(question_5205)"
      ],
      "metadata": {
        "colab": {
          "base_uri": "https://localhost:8080/",
          "height": 424
        },
        "id": "cWrwV3EnXTpV",
        "outputId": "a9c43f54-8ed2-41fc-948f-c6c7e1294d45"
      },
      "execution_count": 6,
      "outputs": [
        {
          "output_type": "display_data",
          "data": {
            "text/plain": [
              "<IPython.core.display.HTML object>"
            ],
            "text/html": [
              "<h2 style = \"background-color:yellow; \">문제 설명</h2>\n",
              "<p>길이가 <span style = \"background-color:\t#E0E0E0;\">120</span>이고 한 각이 <span style = \"background-color:\t#E0E0E0;\">45</span>&#176인 마름모를 그려봅시다.</p>\n",
              "<svg width = \"200\" height = \"100\"><polygon points = \"5,75 105,75 175,5 75,5\", fill = \"#FFFFFF\", stroke = \"#000000\", stroke-width = \"4\"></svg>\n",
              "<HR>\n",
              "<h2> 입력 </h2>\n",
              "<p>없음</p>\n",
              "<h2> 출력 </h2>\n",
              "<p>forward(), left(), right() 등을 이용해서 마름모를 그립니다.</p>\n",
              "<HR>\n",
              "<div style = \"float:left;width:50%\">\n",
              "<h2> 입력 예시 </h2>\n",
              "<p> 없음</p>\n",
              "</div>\n",
              "<div style = \"float:right;width:50%\">\n",
              "<h2> 출력 예시 </h2>\n",
              "<p>길이가 120이고 한 각이 45&#176인 마름모</p>\n",
              "</div>\n"
            ]
          },
          "metadata": {}
        }
      ]
    },
    {
      "cell_type": "code",
      "source": [
        "Question(question_5206)"
      ],
      "metadata": {
        "colab": {
          "base_uri": "https://localhost:8080/",
          "height": 524
        },
        "id": "-gnQpqolXUGV",
        "outputId": "8ca18576-f038-492b-9f4b-2567172d5859"
      },
      "execution_count": 7,
      "outputs": [
        {
          "output_type": "display_data",
          "data": {
            "text/plain": [
              "<IPython.core.display.HTML object>"
            ],
            "text/html": [
              "<h2 style = \"background-color:yellow; \">문제 설명</h2>\n",
              "<p>길이가 <span style = \"background-color:\t#E0E0E0;\">100</span>인 다음과 같은 정삼각형을 상하로 뒤집었을 때, 나오는 도형을 그려봅시다.  </p>\n",
              "<svg width = \"150\" height = \"200\"><polygon points = \"5,50 55,135 105,50\", fill = \"#FFFFFF\", stroke = \"#000000\", stroke-width = \"4\"></svg>\n",
              "<HR>\n",
              "<h2> 입력 </h2>\n",
              "<p>없음</p>\n",
              "<h2> 출력 </h2>\n",
              "<p>forward(), left(), right() 등을 이용해서 도형을 그립니다.</p>\n",
              "<HR>\n",
              "<div style = \"float:left;width:50%\">\n",
              "<h2> 입력 예시 </h2>\n",
              "<p> 없음</p>\n",
              "</div>\n",
              "<div style = \"float:right;width:50%\">\n",
              "<h2> 출력 예시 </h2>\n",
              "<p>제시된 삼각형과 상하 뒤집어진 삼각형</p>\n",
              "</div>\n"
            ]
          },
          "metadata": {}
        }
      ]
    },
    {
      "cell_type": "code",
      "source": [],
      "metadata": {
        "id": "2pIlNsPOXVZ1"
      },
      "execution_count": null,
      "outputs": []
    }
  ]
}