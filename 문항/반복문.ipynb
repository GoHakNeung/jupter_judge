{
  "nbformat": 4,
  "nbformat_minor": 0,
  "metadata": {
    "colab": {
      "provenance": []
    },
    "kernelspec": {
      "name": "python3",
      "display_name": "Python 3"
    },
    "language_info": {
      "name": "python"
    }
  },
  "cells": [
    {
      "cell_type": "code",
      "source": [
        "Question(question_6101)"
      ],
      "metadata": {
        "colab": {
          "base_uri": "https://localhost:8080/",
          "height": 267
        },
        "id": "RkfwxOi7_Olh",
        "outputId": "0894cdfd-a1ca-4534-805e-682aebc2becd"
      },
      "execution_count": 60,
      "outputs": [
        {
          "output_type": "display_data",
          "data": {
            "text/plain": [
              "<IPython.core.display.HTML object>"
            ],
            "text/html": [
              "<h1 style = \"background-color:yellow; \">문제 설명</h1>\n",
              "<h2>\n",
              "<p>입력받은 <span style = \"background-color:\t#E0E0E0;\">숫자</span>를 자리 수로 분리해서 리스트로 만드는 프로그램을 만들어봅시다.</p>\n",
              "<p>일의 자리에 해당하는 숫자가 맨 마지막에 위치하도록 합니다.</p>\n",
              "<HR>\n",
              "<p>- 입력 예시 : 1234</p>\n",
              "<p>- 출력 예시 : [1,2,3,4]]</p>\n",
              "<HR>\n",
              "</h2>"
            ]
          },
          "metadata": {}
        },
        {
          "output_type": "execute_result",
          "data": {
            "text/html": [
              "<img src=\"\"/>"
            ],
            "text/plain": [
              "<IPython.core.display.Image object>"
            ]
          },
          "metadata": {},
          "execution_count": 60
        }
      ]
    },
    {
      "cell_type": "code",
      "source": [
        "Question(question_6102)"
      ],
      "metadata": {
        "colab": {
          "base_uri": "https://localhost:8080/",
          "height": 396
        },
        "id": "hCdeZUfIE4Lk",
        "outputId": "42841843-6b97-40b0-94b2-f93a43d1e5e8"
      },
      "execution_count": 61,
      "outputs": [
        {
          "output_type": "display_data",
          "data": {
            "text/plain": [
              "<IPython.core.display.HTML object>"
            ],
            "text/html": [
              "<h1 style = \"background-color:yellow; \">문제 설명</h1>\n",
              "<h2>\n",
              "<p>1부터 10까지 출력하는 프로그램을 만들어봅시다.</p>\n",
              "<HR>\n",
              "<p>- 입력 예시 : 없음</p>\n",
              "<p>- 출력 예시 : </p>\n",
              "<p>1</p>\n",
              "<p>2</p>\n",
              "<p>3</p>\n",
              "<p>4</p>\n",
              "<p>5</p>\n",
              "<HR>\n",
              "</h2>"
            ]
          },
          "metadata": {}
        },
        {
          "output_type": "execute_result",
          "data": {
            "text/html": [
              "<img src=\"\"/>"
            ],
            "text/plain": [
              "<IPython.core.display.Image object>"
            ]
          },
          "metadata": {},
          "execution_count": 61
        }
      ]
    },
    {
      "cell_type": "code",
      "source": [
        "Question(question_6103)"
      ],
      "metadata": {
        "colab": {
          "base_uri": "https://localhost:8080/",
          "height": 588
        },
        "id": "lJDf7YqvE4w0",
        "outputId": "ad36d28c-f872-499d-a3ee-d4076578f574"
      },
      "execution_count": 63,
      "outputs": [
        {
          "output_type": "display_data",
          "data": {
            "text/plain": [
              "<IPython.core.display.HTML object>"
            ],
            "text/html": [
              "<h1 style = \"background-color:yellow; \">문제 설명</h1>\n",
              "<h2>\n",
              "<p>1부터 21까지 2씩 띄어서 출력하는 프로그램을 만들어봅시다.</p>\n",
              "<HR>\n",
              "<p>- 입력 예시 : 없음</p>\n",
              "<p>- 출력 예시 : </p>\n",
              "<p>1</p>\n",
              "<p>3</p>\n",
              "<p>5</p>\n",
              "<p>7</p>\n",
              "<p>9</p>\n",
              "<p>11</p>\n",
              "<p>13</p>\n",
              "<p>15</p>\n",
              "<p>17</p>\n",
              "<p>19</p>\n",
              "<p>21</p>\n",
              "<HR>\n",
              "</h2>"
            ]
          },
          "metadata": {}
        },
        {
          "output_type": "execute_result",
          "data": {
            "text/html": [
              "<img src=\"\"/>"
            ],
            "text/plain": [
              "<IPython.core.display.Image object>"
            ]
          },
          "metadata": {},
          "execution_count": 63
        }
      ]
    },
    {
      "cell_type": "code",
      "source": [
        "Question(question_6104)"
      ],
      "metadata": {
        "colab": {
          "base_uri": "https://localhost:8080/",
          "height": 572
        },
        "id": "5mFM3MMSE56p",
        "outputId": "3cbabade-951e-40a1-b067-82e5c3b064f1"
      },
      "execution_count": 64,
      "outputs": [
        {
          "output_type": "display_data",
          "data": {
            "text/plain": [
              "<IPython.core.display.HTML object>"
            ],
            "text/html": [
              "<h1 style = \"background-color:yellow; \">문제 설명</h1>\n",
              "<h2>\n",
              "<p>입력받은 <span style = \"background-color:\t#E0E0E0;\">숫자</span>의 구구단을 출력하는 프로그램을 만들어봅시다.</p>\n",
              "<HR>\n",
              "<p>- 입력 예시 : 5</p>\n",
              "<h3>\n",
              "<p>19이하 숫자가 입력됩니다.</p>\n",
              "</h3>\n",
              "<h2>\n",
              "<p>- 출력 예시 : </p>\n",
              "<p>5</p>\n",
              "<p>10</p>\n",
              "<p>15</p>\n",
              "<p>20</p>\n",
              "<p>25</p>\n",
              "<p>30</p>\n",
              "<p>35</p>\n",
              "<p>40</p>\n",
              "<p>45</p>\n",
              "<HR>\n",
              "</h2>"
            ]
          },
          "metadata": {}
        },
        {
          "output_type": "execute_result",
          "data": {
            "text/html": [
              "<img src=\"\"/>"
            ],
            "text/plain": [
              "<IPython.core.display.Image object>"
            ]
          },
          "metadata": {},
          "execution_count": 64
        }
      ]
    },
    {
      "cell_type": "code",
      "source": [
        "Question(question_6105)"
      ],
      "metadata": {
        "colab": {
          "base_uri": "https://localhost:8080/",
          "height": 267
        },
        "id": "3TPJ6oD3E8l5",
        "outputId": "38c52b98-2318-4895-90b0-4ef058e03702"
      },
      "execution_count": 65,
      "outputs": [
        {
          "output_type": "display_data",
          "data": {
            "text/plain": [
              "<IPython.core.display.HTML object>"
            ],
            "text/html": [
              "<h1 style = \"background-color:yellow; \">문제 설명</h1>\n",
              "<h2>\n",
              "<p>입력받은 <span style = \"background-color:\t#E0E0E0;\">숫자</span>를 자리 수로 분리해서 리스트로 만드는 프로그램을 만들어봅시다.</p>\n",
              "<p>일의 자리에 해당하는 숫자가 맨 마지막에 위치하도록 합니다.</p>\n",
              "<HR>\n",
              "<p>- 입력 예시 : 1234</p>\n",
              "<p>- 출력 예시 : [1,2,3,4]</p>\n",
              "<HR>\n",
              "</h2>"
            ]
          },
          "metadata": {}
        },
        {
          "output_type": "execute_result",
          "data": {
            "text/html": [
              "<img src=\"\"/>"
            ],
            "text/plain": [
              "<IPython.core.display.Image object>"
            ]
          },
          "metadata": {},
          "execution_count": 65
        }
      ]
    },
    {
      "cell_type": "code",
      "source": [
        "Question(question_6106)"
      ],
      "metadata": {
        "colab": {
          "base_uri": "https://localhost:8080/",
          "height": 483
        },
        "id": "NvgJumcdE954",
        "outputId": "8705523b-d292-418c-ed64-6feb0edcb3ce"
      },
      "execution_count": 66,
      "outputs": [
        {
          "output_type": "display_data",
          "data": {
            "text/plain": [
              "<IPython.core.display.HTML object>"
            ],
            "text/html": [
              "<h1 style = \"background-color:yellow; \">문제 설명</h1>\n",
              "<h2>\n",
              "<p>10씩 띄어세기 하는 <span style = \"background-color:\t#E0E0E0;\">숫자 모음(리스트)</span>을 입력받습니다.</p>\n",
              "<p>숫자 모음을 순서대로 출력하는 프로그램을 만들어봅시다.</p>\n",
              "<HR>\n",
              "<p>- 입력 예시 : 10, 20, 30, 40, 50</p>\n",
              "<h2>\n",
              "<p>- 출력 예시 : </p>\n",
              "<p>10</p>\n",
              "<p>20</p>\n",
              "<p>30</p>\n",
              "<p>40</p>\n",
              "<p>50</p>\n",
              "<h3>\n",
              "<p>줄바꿈하여 출력합니다.</p>\n",
              "</h3>\n",
              "<h2>\n",
              "<HR>\n",
              "</h2>"
            ]
          },
          "metadata": {}
        },
        {
          "output_type": "execute_result",
          "data": {
            "text/html": [
              "<img src=\"\"/>"
            ],
            "text/plain": [
              "<IPython.core.display.Image object>"
            ]
          },
          "metadata": {},
          "execution_count": 66
        }
      ]
    }
  ]
}