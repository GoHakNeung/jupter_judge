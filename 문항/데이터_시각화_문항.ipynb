{
  "nbformat": 4,
  "nbformat_minor": 0,
  "metadata": {
    "colab": {
      "provenance": []
    },
    "kernelspec": {
      "name": "python3",
      "display_name": "Python 3"
    },
    "language_info": {
      "name": "python"
    }
  },
  "cells": [
    {
      "cell_type": "code",
      "execution_count": 1,
      "metadata": {
        "id": "41BllycEmyHU"
      },
      "outputs": [],
      "source": [
        "!git clone https://github.com/GoHakNeung/jupyter_judge.git\n",
        "%run /content/jupyter_judge/code_check.py"
      ]
    },
    {
      "cell_type": "code",
      "source": [
        "Question(question_8501)"
      ],
      "metadata": {
        "colab": {
          "base_uri": "https://localhost:8080/",
          "height": 796
        },
        "id": "dNLBA3r6myn-",
        "outputId": "f9e8fd93-7485-4600-9f3f-601e0d419ae3"
      },
      "execution_count": null,
      "outputs": [
        {
          "output_type": "display_data",
          "data": {
            "text/plain": [
              "<IPython.core.display.HTML object>"
            ],
            "text/html": [
              "<h1 style = \"background-color:yellow; \">문제 설명</h1>\n",
              "<h2>관련 뉴스</h2>\n",
              "<p>음식물 쓰레기는 환경적인 문제와 경제적인 문제를 모두 가지고 있습니다.</p>\n",
              "<p>다음 뉴스를 보고 음식물쓰레기의 문제점을 생각해봅시다.<a href =\"http://www.greenpostkorea.co.kr/news/articleView.html?idxno=120801\" target = 'blank'>음식물 쓰레기 관련 뉴스</a></p>\n",
              "<hr>\n",
              "<h2>데이터</h2>\n",
              "<p>문제에서 제공하는 데이터는 경상남도는 경상남도 시군에서 발생한 <a href =\"https://www.data.go.kr/data/15088741/fileData.do\" target = 'blank'>1년간 음식물 쓰레기량(톤)</a>과 <a href =\"https://bigdata.gyeongnam.go.kr/index.gn?menuCd=DOM_000000115001006000\" target = 'blank'>인구 데이터</a>를 바탕으로 경상남도 시별 음식물 쓰레기량과 1인당 음식물 쓰레기량으로 구성되어 있습니다.</p>\n",
              "<p>열 : city_province(시), emission(배출량), population(인구), emission_per_person(1인당 음식물 쓰레기 배출량) </p>\n",
              "<h2>그래프</h2>\n",
              "<p>경상남도 시에서 제공하는 시군구별 음식물 쓰레기 및 인구와 관련하여 막대 그래프로 그려봅시다.</p>\n",
              "<p>그래프 제목 : '경상남도 시에서 발생하는 음식물 쓰레기량'</p>\n",
              "<p>가로축 제목 : '경상남도 시'</p>\n",
              "<p>세로축 제목 : '음식물 쓰레기량(단위:톤)'</p>\n",
              "<HR>\n",
              "<div style = \"float:left;width:50%\">\n",
              "<h2>데이터 예시 </h2>\n",
              "<p>data = pd.read_csv('/content/jupyter_judge/csv_file/food_waste.csv')</p>\n",
              "<p>'city_province', 'emission' 열에 있는 데이터를 사용해봅시다.</p>\n",
              "\n",
              "</p>\n",
              "</div>\n",
              "<div style = \"float:right;width:50%\">\n",
              "<h2>그래프 예시 </h2>\n",
              "<img src=\"https://github.com/GoHakNeung/jupyter_judge/blob/main/graph/answer_8501.png?raw=true\" width = 150% height = 150%>\n",
              "</div>\n"
            ]
          },
          "metadata": {}
        }
      ]
    },
    {
      "cell_type": "code",
      "source": [
        "Question(question_8502)"
      ],
      "metadata": {
        "colab": {
          "base_uri": "https://localhost:8080/",
          "height": 820
        },
        "id": "0ZDTOG-vm886",
        "outputId": "82b05399-1729-4962-bcd5-d598f5c70e7e"
      },
      "execution_count": null,
      "outputs": [
        {
          "output_type": "display_data",
          "data": {
            "text/plain": [
              "<IPython.core.display.HTML object>"
            ],
            "text/html": [
              "<h1 style = \"background-color:yellow; \">문제 설명</h1>\n",
              "<h2>관련 뉴스</h2>\n",
              "<p>음식물 쓰레기는 환경적인 문제와 경제적인 문제를 모두 가지고 있습니다.</p>\n",
              "<p>다음 뉴스를 보고 음식물쓰레기의 문제점을 생각해봅시다.<a href =\"http://www.greenpostkorea.co.kr/news/articleView.html?idxno=120801\" target = 'blank'>음식물 쓰레기 관련 뉴스</a></p>\n",
              "<hr>\n",
              "<h2>데이터</h2>\n",
              "<p>문제에서 제공하는 데이터는 경상남도는 경상남도 시군에서 발생한 <a href =\"https://www.data.go.kr/data/15088741/fileData.do\" target = 'blank'>1년간 음식물 쓰레기량(톤)</a>과 <a href =\"https://bigdata.gyeongnam.go.kr/index.gn?menuCd=DOM_000000115001006000\" target = 'blank'>인구 데이터</a>를 바탕으로 경상남도 시별 음식물 쓰레기량과 1인당 음식물 쓰레기량으로 구성되어 있습니다.</p>\n",
              "<p>열 : city_province(시), emission(배출량), population(인구), emission_per_person(1인당 음식물 쓰레기 배출량) </p>\n",
              "<h2>그래프</h2>\n",
              "<p>가로 축에는 경상남도 시 이름, 세로 축에는 1명당 발생하는 음식물 쓰레기량을 막대 그래프로 나타냅니다.</p>\n",
              "<p>그래프 제목 : '경상남도 시에서 발생하는 1인당 음식물 쓰레기량'</p>\n",
              "<p>가로축 제목 : '경상남도 시'</p>\n",
              "<p>세로축 제목 : '1인당 발생하는 음식물 쓰레기량(단위 : 톤/명)'</p>\n",
              "<p>색 : 초록색</p>\n",
              "<HR>\n",
              "<div style = \"float:left;width:50%\">\n",
              "<h2>데이터 예시 </h2>\n",
              "<p>data = pd.read_csv('/content/jupyter_judge/csv_file/food_waste.csv')</p>\n",
              "<p>'city_province', 'emission_per_person' 열에 있는 데이터를 사용해봅시다.</p>\n",
              "\n",
              "</p>\n",
              "</div>\n",
              "<div style = \"float:right;width:50%\">\n",
              "<h2>그래프 예시 </h2>\n",
              "<img src=\"https://github.com/GoHakNeung/jupyter_judge/blob/main/graph/answer_8502.png?raw=true\" width = 150% height = 150%>\n",
              "</div>\n"
            ]
          },
          "metadata": {}
        }
      ]
    },
    {
      "cell_type": "code",
      "source": [
        "Question(question_8511)"
      ],
      "metadata": {
        "colab": {
          "base_uri": "https://localhost:8080/",
          "height": 820
        },
        "id": "4-WiSWipm9oA",
        "outputId": "562306e2-c384-4fc3-a3b1-3e106409d054"
      },
      "execution_count": null,
      "outputs": [
        {
          "output_type": "display_data",
          "data": {
            "text/plain": [
              "<IPython.core.display.HTML object>"
            ],
            "text/html": [
              "<h1 style = \"background-color:yellow; \">문제 설명</h1>\n",
              "<h2>관련 뉴스</h2>\n",
              "<p>2050년 탄소중립을 달성하기 위해 전력 생산의 많은 비중을 차지하는 화석연료를 재생에너지, 신에너지로의 전환 문제를 다루고 있는 신문기사입니다.</p>\n",
              "<p>다음 뉴스를 보고 탄소중립과 발전하는데 사용하는 에너지원을 생각해봅시다. <a href =\"https://www.etnews.com/20210416000107\" target = 'blank'>발전 관련 뉴스</a></p>\n",
              "<hr>\n",
              "<h2>데이터</h2>\n",
              "<p>문제에서 제공하는 데이터는 한전에서 제공하는 <a href =\"https://epsis.kpx.or.kr/epsisnew/selectEkgeGepTotChart.do?menuId=060101\" target = 'blank'>전원별 발전량</a>을 바탕으로 연도별, 전원별 발전량로 구성되어 있습니다.</p>\n",
              "<p>열 : year(연도), thermal(화력), LNG(천연가스), nuclear(원자력), renewable(신재생), other(기타), individual(개별발전) </p>\n",
              "<h2>그래프</h2>\n",
              "<p>2022년 에너지원별 발전량을 막대그래프로 그려봅시다.</p>\n",
              "<p>2022년 전원별 발전량을 가로 축에는 전원별 이름, 세로 축에는 발전량(MWh)으로 막대그래프로 나타내봅시다.</p>\n",
              "<p>그래프 제목 : 에너지원별 발전량</p>\n",
              "<p>가로축 제목 : 에너지원</p>\n",
              "<p>세로축 제목 : 발전량(MWh)</p>\n",
              "<HR>\n",
              "<div style = \"float:left;width:50%\">\n",
              "<h2>데이터 예시 </h2>\n",
              "<p>energy_source = ['thermal', 'LNG', 'nuclear', 'renewable', 'other', 'individual']</p>\n",
              "<p>amount = [188476694,123995839,176054012,47266256, 58156521, 30650791]</p>\n",
              "</div>\n",
              "<div style = \"float:right;width:50%\">\n",
              "<h2>그래프 예시 </h2>\n",
              "<img src=\"https://github.com/GoHakNeung/jupyter_judge/blob/main/graph/answer_8511.png?raw=true\" width = 150% height = 150%>\n",
              "</div>\n"
            ]
          },
          "metadata": {}
        }
      ]
    },
    {
      "cell_type": "code",
      "source": [
        "Question(question_8512)"
      ],
      "metadata": {
        "colab": {
          "base_uri": "https://localhost:8080/",
          "height": 820
        },
        "id": "l-e3VoK7m-Ny",
        "outputId": "e4c0f4ef-1804-4d98-dc34-a4d517a60015"
      },
      "execution_count": null,
      "outputs": [
        {
          "output_type": "display_data",
          "data": {
            "text/plain": [
              "<IPython.core.display.HTML object>"
            ],
            "text/html": [
              "<h1 style = \"background-color:yellow; \">문제 설명</h1>\n",
              "<h2>관련 뉴스</h2>\n",
              "<p>2050년 탄소중립을 달성하기 위해 전력 생산의 많은 비중을 차지하는 화석연료를 재생에너지, 신에너지로의 전환 문제를 다루고 있는 신문기사입니다.</p>\n",
              "<p>다음 뉴스를 보고 탄소중립과 발전하는데 사용하는 에너지원을 생각해봅시다. <a href =\"https://www.etnews.com/20210416000107\" target = 'blank'>발전 관련 뉴스</a></p>\n",
              "<hr>\n",
              "<h2>데이터</h2>\n",
              "<p>문제에서 제공하는 데이터는 한전에서 제공하는 <a href =\"https://epsis.kpx.or.kr/epsisnew/selectEkgeGepTotChart.do?menuId=060101\" target = 'blank'>전원별 발전량</a>을 바탕으로 연도별, 전원별 발전량로 구성되어 있습니다.</p>\n",
              "<p>열 : year(연도), thermal(화력), LNG(천연가스), nuclear(원자력), renewable(신재생), other(기타), individual(개별발전) </p>\n",
              "<h2>그래프</h2>\n",
              "<p>가로 축에는 연도, 세로 축에는 신재생 에너지 발전량(MWh)으로 꺾은선 그래프를 나타냅니다.</p>\n",
              "<p>그래프 제목 : 연도별 신재생 에너지 발전량</p>\n",
              "<p>가로축 제목 : 연도</p>\n",
              "<p>세로축 제목 : 신재생 에너지 발전량(MWh)</p>\n",
              "<p>가로축 범위 : 2010 ~ 2022</p>\n",
              "<HR>\n",
              "<div style = \"float:left;width:50%\">\n",
              "<h2>데이터 예시 </h2>\n",
              "data = pd.read_csv('/content/jupyter_judge/csv_file/output_by_the_material.csv')\n",
              "'year', 'renewable_power' 열에 있는 데이터를 사용해봅시다.\n",
              "</div>\n",
              "<div style = \"float:right;width:50%\">\n",
              "<h2>그래프 예시 </h2>\n",
              "<img src=\"https://github.com/GoHakNeung/jupyter_judge/blob/main/graph/answer_8512.png?raw=true\" width = 150% height = 150%>\n",
              "</div>\n"
            ]
          },
          "metadata": {}
        }
      ]
    },
    {
      "cell_type": "code",
      "source": [
        "Question(question_8513)"
      ],
      "metadata": {
        "colab": {
          "base_uri": "https://localhost:8080/",
          "height": 1000
        },
        "id": "NUHPyqgwm_FP",
        "outputId": "afaf9cd4-cc5b-4461-b05e-2bc1ebd86e0b"
      },
      "execution_count": 2,
      "outputs": [
        {
          "output_type": "display_data",
          "data": {
            "text/plain": [
              "<IPython.core.display.HTML object>"
            ],
            "text/html": [
              "<h1 style = \"background-color:yellow; \">문제 설명</h1>\n",
              "<h2>관련 뉴스</h2>\n",
              "<p>2050년 탄소중립을 달성하기 위해 전력 생산의 많은 비중을 차지하는 화석연료를 재생에너지, 신에너지로의 전환 문제를 다루고 있는 신문기사입니다.</p>\n",
              "<p>다음 뉴스를 보고 탄소중립과 발전하는데 사용하는 에너지원을 생각해봅시다. <a href =\"https://www.etnews.com/20210416000107\" target = 'blank'>발전 관련 뉴스</a></p>\n",
              "<hr>\n",
              "<h2>데이터</h2>\n",
              "<p>문제에서 제공하는 데이터는 한전에서 제공하는 <a href =\"https://epsis.kpx.or.kr/epsisnew/selectEkgeGepTotChart.do?menuId=060101\" target = 'blank'>전원별 발전량</a>을 바탕으로 연도별, 전원별 발전량로 구성되어 있습니다.</p>\n",
              "<p>열 : year(연도), thermal(화력), LNG(천연가스), nuclear(원자력), renewable(신재생), other(기타), individual(개별발전) </p>\n",
              "<h2>그래프</h2>\n",
              "<p>가로 축에는 연도, 세로 축에는 화력 발전량(MWh)과 신재생 에너지 발전량(MWh)으로 꺾은선 그래프를 나타냅니다.</p>\n",
              "<p>그래프 제목 : 연도별 신재생 및 화력 에너지 발전량</p>\n",
              "<p>가로축 제목 : 연도</p>\n",
              "<p>세로축 제목 : 에너지 발전량(MWh)</p>\n",
              "<HR>\n",
              "<div style = \"float:left;width:50%\">\n",
              "<h2>데이터 예시 </h2>\n",
              "<p>data = pd.read_csv('/content/jupyter_judge/csv_file/output_by_the_material.csv')</p>\n",
              "<p>'year', 'renewable_power', 'thermal_power' 열에 있는 데이터를 사용해봅시다.</p>\n",
              "</div>\n",
              "<div style = \"float:right;width:50%\">\n",
              "<h2>그래프 예시 </h2>\n",
              "<img src=\"https://github.com/GoHakNeung/jupyter_judge/blob/main/graph/answer_8513.png?raw=true\" width = 150% height = 150%>\n",
              "</div>\n"
            ]
          },
          "metadata": {}
        }
      ]
    },
    {
      "cell_type": "code",
      "source": [
        "Question(question_8521)"
      ],
      "metadata": {
        "colab": {
          "base_uri": "https://localhost:8080/",
          "height": 802
        },
        "id": "XHliDWLYm_lH",
        "outputId": "c2e5929b-f96c-4cb0-b713-30cb5255389d"
      },
      "execution_count": null,
      "outputs": [
        {
          "output_type": "display_data",
          "data": {
            "text/plain": [
              "<IPython.core.display.HTML object>"
            ],
            "text/html": [
              "<h1 style = \"background-color:yellow; \">문제 설명</h1>\n",
              "<h2>관련 뉴스</h2>\n",
              "<p>양성평등 사회로 나아가기 위한 방법 중 하나인 아빠의 육아와 관련된 신문기사입니다.</p>\n",
              "<p>다음 뉴스를 보고 아빠의 육아와 양성평등을 생각해봅시다. <a href =\"https://www.sisain.co.kr/news/articleView.html?idxno=49406\" target = 'blank'>아빠의 육아</a></p>\n",
              "<hr>\n",
              "<h2>데이터</h2>\n",
              "<p>문제에서 제공하는 데이터는 KOSIS에서 육아휴직과 관련하여 제공하는 <a href =\"https://kosis.kr/statHtml/statHtml.do?orgId=101&tblId=DT_CC2020B001&vw_cd=MT_ZTITLE&list_id=D_002_002_001&seqNo=&lang_mode=ko&language=kor&obj_var_id=&itm_id=&conn_path=MT_ZTITLE\" target = 'blank'>출생아 100명당 출생아 부,모 중 육아휴직자</a>수입니다.</p>\n",
              "<p>열 : year(연도), father(아빠의 육아휴직자 수), mother(엄마의 육아휴직자 수), total(합계) </p>\n",
              "<h2>그래프</h2>\n",
              "<p>연도별 엄마의 육아휴직자 수를 꺾은선 그래프로 나타내봅시다.</p>\n",
              "<p>그래프 제목 : 출생아 100명당 엄마 육아휴직자 수의 연도별 변화</p>\n",
              "<p>가로축 제목 : 연도</p>\n",
              "<p>세로축 제목 : 육아휴직자 수(명)</p>\n",
              "<p>label : mother</p>\n",
              "<HR>\n",
              "<div style = \"float:left;width:50%\">\n",
              "<h2>데이터 예시 </h2>\n",
              "<p>data = pd.read_csv('/content/jupyter_judge/csv_file/babybreak.csv')</p>\n",
              "<p>'year', 'mother' 열에 있는 데이터를 사용해봅시다.</p>\n",
              "</div>\n",
              "<div style = \"float:right;width:50%\">\n",
              "<h2>그래프 예시 </h2>\n",
              "<img src=\"https://github.com/GoHakNeung/jupyter_judge/blob/main/graph/answer_8521.png?raw=true\" width = 150% height = 150%>\n",
              "</div>\n"
            ]
          },
          "metadata": {}
        }
      ]
    },
    {
      "cell_type": "code",
      "source": [
        "Question(question_8522)"
      ],
      "metadata": {
        "colab": {
          "base_uri": "https://localhost:8080/",
          "height": 802
        },
        "id": "Ro50UhqDnAbb",
        "outputId": "ccc2129d-ad03-4336-afc4-f9b4f28afd26"
      },
      "execution_count": null,
      "outputs": [
        {
          "output_type": "display_data",
          "data": {
            "text/plain": [
              "<IPython.core.display.HTML object>"
            ],
            "text/html": [
              "<h1 style = \"background-color:yellow; \">문제 설명</h1>\n",
              "<h2>관련 뉴스</h2>\n",
              "<p>양성평등 사회로 나아가기 위한 방법 중 하나인 아빠의 육아와 관련된 신문기사입니다.</p>\n",
              "<p>다음 뉴스를 보고 아빠의 육아와 양성평등을 생각해봅시다. <a href =\"https://www.sisain.co.kr/news/articleView.html?idxno=49406\" target = 'blank'>아빠의 육아</a></p>\n",
              "<hr>\n",
              "<h2>데이터</h2>\n",
              "<p>문제에서 제공하는 데이터는 KOSIS에서 육아휴직과 관련하여 제공하는 <a href =\"https://kosis.kr/statHtml/statHtml.do?orgId=101&tblId=DT_CC2020B001&vw_cd=MT_ZTITLE&list_id=D_002_002_001&seqNo=&lang_mode=ko&language=kor&obj_var_id=&itm_id=&conn_path=MT_ZTITLE\" target = 'blank'>출생아 100명당 출생아 부,모 중 육아휴직자</a>수입니다.</p>\n",
              "<p>열 : year(연도), father(아빠의 육아휴직자 수), mother(엄마의 육아휴직자 수), total(합계) </p>\n",
              "<h2>그래프</h2>\n",
              "<p>연도별 아빠의 육아휴직자 수를 꺾은선 그래프로 나타내봅시다.</p>\n",
              "<p>그래프 제목 : 출생아 100명당 아빠 육아휴직자 수의 연도별 변화</p>\n",
              "<p>가로축 제목 : 연도</p>\n",
              "<p>세로축 제목 : 육아휴직자 수(명)</p>\n",
              "<p>label : father</p>\n",
              "<HR>\n",
              "<div style = \"float:left;width:50%\">\n",
              "<h2>데이터 예시 </h2>\n",
              "<p>data = pd.read_csv('/content/jupyter_judge/csv_file/babybreak.csv')</p>\n",
              "<p>'year', 'father' 열에 있는 데이터를 사용해봅시다.</p>\n",
              "</div>\n",
              "<div style = \"float:right;width:50%\">\n",
              "<h2>그래프 예시 </h2>\n",
              "<img src=\"https://github.com/GoHakNeung/jupyter_judge/blob/main/graph/answer_8522.png?raw=true\" width = 150% height = 150%>\n",
              "</div>\n"
            ]
          },
          "metadata": {}
        }
      ]
    },
    {
      "cell_type": "code",
      "source": [
        "Question(question_8523)"
      ],
      "metadata": {
        "colab": {
          "base_uri": "https://localhost:8080/",
          "height": 802
        },
        "id": "sOZtime0nA-C",
        "outputId": "27e23a68-63c3-48ab-ca97-f49ab3352358"
      },
      "execution_count": null,
      "outputs": [
        {
          "output_type": "display_data",
          "data": {
            "text/plain": [
              "<IPython.core.display.HTML object>"
            ],
            "text/html": [
              "<h1 style = \"background-color:yellow; \">문제 설명</h1>\n",
              "<h2>관련 뉴스</h2>\n",
              "<p>양성평등 사회로 나아가기 위한 방법 중 하나인 아빠의 육아와 관련된 신문기사입니다.</p>\n",
              "<p>다음 뉴스를 보고 아빠의 육아와 양성평등을 생각해봅시다. <a href =\"https://www.sisain.co.kr/news/articleView.html?idxno=49406\" target = 'blank'>아빠의 육아</a></p>\n",
              "<hr>\n",
              "<h2>데이터</h2>\n",
              "<p>문제에서 제공하는 데이터는 KOSIS에서 육아휴직과 관련하여 제공하는 <a href =\"https://kosis.kr/statHtml/statHtml.do?orgId=101&tblId=DT_CC2020B001&vw_cd=MT_ZTITLE&list_id=D_002_002_001&seqNo=&lang_mode=ko&language=kor&obj_var_id=&itm_id=&conn_path=MT_ZTITLE\" target = 'blank'>출생아 100명당 출생아 부,모 중 육아휴직자</a>수입니다.</p>\n",
              "<p>열 : year(연도), father(아빠의 육아휴직자 수), mother(엄마의 육아휴직자 수), total(합계) </p>\n",
              "<h2>그래프</h2>\n",
              "<p>연도별 엄마와 아빠의 육아휴직자 수를 꺾은선 그래프로 나타내봅시다.</p>\n",
              "<p>그래프 제목 : 연도별 출생아 100명당 육아휴직자 수</p>\n",
              "<p>가로축 제목 : 연도</p>\n",
              "<p>세로축 제목 : 육아휴직자 수(명)</p>\n",
              "<p>label : mother, father이며 그래프에 범례를 표시합니다.</p>\n",
              "<HR>\n",
              "<div style = \"float:left;width:50%\">\n",
              "<h2>데이터 예시 </h2>\n",
              "<p>data = pd.read_csv('/content/jupyter_judge/csv_file/babybreak.csv')</p>\n",
              "<p>'year', 'mother', 'father' 열에 있는 데이터를 사용해봅시다.</p>\n",
              "</div>\n",
              "<div style = \"float:right;width:50%\">\n",
              "<h2>그래프 예시 </h2>\n",
              "<img src=\"https://github.com/GoHakNeung/jupyter_judge/blob/main/graph/answer_8523.png?raw=true\" width = 150% height = 150%>\n",
              "</div>\n"
            ]
          },
          "metadata": {}
        }
      ]
    },
    {
      "cell_type": "code",
      "source": [
        "Question(question_8531)"
      ],
      "metadata": {
        "colab": {
          "base_uri": "https://localhost:8080/",
          "height": 796
        },
        "id": "Xc0BWF1tnB1l",
        "outputId": "1c4ee6dc-ace1-495f-f788-6b5262a7ca20"
      },
      "execution_count": null,
      "outputs": [
        {
          "output_type": "display_data",
          "data": {
            "text/plain": [
              "<IPython.core.display.HTML object>"
            ],
            "text/html": [
              "<h1 style = \"background-color:yellow; \">문제 설명</h1>\n",
              "<h2>관련 뉴스</h2>\n",
              "<p>코로나 19로 인한 발생한 학습 결손을 해결하기 위해 늘어나고 있는 사교육비와 관련된 신문기사입니다.</p>\n",
              "<p>다음 뉴스를 보고 코로나와 사교육비를 생각해봅시다. <a href =\"https://www.yna.co.kr/view/AKR20230307079000530\" target = 'blank'>늘어나는 사교육비</a></p>\n",
              "<hr>\n",
              "<h2>데이터</h2>\n",
              "<p>문제에서 제공하는 데이터는 KOSIS에서 사교육비 실태를 조사하여 제공하는 <a href =\"https://kosis.kr/statHtml/statHtml.do?orgId=101&tblId=DT_1PE003&vw_cd=MT_ZTITLE&list_id=H1_10_003&scrId=&seqNo=&lang_mode=ko&obj_var_id=&itm_id=&conn_path=MT_ZTITLE&path=%252FstatisticsList%252FstatisticsListIndex.do\" target = 'blank'>연도별 학교급별 사교육비 총액</a>에서 초등학교만 나타낸 데이터입니다.</p>\n",
              "<p>열 : 연도, 초등학교 과목, 중학교 과목, 고등학교 과목 등</p>\n",
              "<h2>그래프</h2>\n",
              "<p>2022년의 초등학교, 중학교, 고등학교 사교육비를 원그래프로 나타내봅시다.</p>\n",
              "<p>그래프 제목 : 학교급별 사교육비 총액</p>\n",
              "<p>백분율을 넣습니다.</p>\n",
              "<p>초등학교 부분을 분리하여 강조합니다.(explode = [0.1, 0, 0])</p>\n",
              "<HR>\n",
              "<div style = \"float:left;width:50%\">\n",
              "<h2>데이터 예시 </h2>\n",
              "<p>school = ['초등학교', '중학교', '고등학교']</p>\n",
              "<p>amount = [119055, 70832, 69651]\n",
              "</div>\n",
              "<div style = \"float:right;width:50%\">\n",
              "<h2>그래프 예시 </h2>\n",
              "<img src=\"https://github.com/GoHakNeung/jupyter_judge/blob/main/graph/answer_8531.png?raw=true\" width = 150% height = 150%>\n",
              "</div>\n"
            ]
          },
          "metadata": {}
        }
      ]
    },
    {
      "cell_type": "code",
      "source": [
        "Question(question_8532)"
      ],
      "metadata": {
        "colab": {
          "base_uri": "https://localhost:8080/",
          "height": 796
        },
        "id": "y0C08W4HnCZv",
        "outputId": "58d655b6-08ca-4b00-b185-526c0df24fbe"
      },
      "execution_count": null,
      "outputs": [
        {
          "output_type": "display_data",
          "data": {
            "text/plain": [
              "<IPython.core.display.HTML object>"
            ],
            "text/html": [
              "<h1 style = \"background-color:yellow; \">문제 설명</h1>\n",
              "<h2>관련 뉴스</h2>\n",
              "<p>코로나 19로 인한 발생한 학습 결손을 해결하기 위해 늘어나고 있는 사교육비와 관련된 신문기사입니다.</p>\n",
              "<p>다음 뉴스를 보고 코로나와 사교육비를 생각해봅시다. <a href =\"https://www.yna.co.kr/view/AKR20230307079000530\" target = 'blank'>늘어나는 사교육비</a></p>\n",
              "<hr>\n",
              "<h2>데이터</h2>\n",
              "<p>문제에서 제공하는 데이터는 KOSIS에서 사교육비 실태를 조사하여 제공하는 <a href =\"https://kosis.kr/statHtml/statHtml.do?orgId=101&tblId=DT_1PE003&vw_cd=MT_ZTITLE&list_id=H1_10_003&scrId=&seqNo=&lang_mode=ko&obj_var_id=&itm_id=&conn_path=MT_ZTITLE&path=%252FstatisticsList%252FstatisticsListIndex.do\" target = 'blank'>연도별 학교급별 사교육비 총액</a>에서 초등학교만 나타낸 데이터입니다.</p>\n",
              "<p>열 : 연도, 초등학교 과목, 중학교 과목, 고등학교 과목 등</p>\n",
              "<h2>그래프</h2>\n",
              "<p>2022년의 초등학교 과목별 사교육비 총액을 원그래프로 나타내봅시다.</p>\n",
              "<p>그래프 제목 : 2022년 초등학교 과목별 사교육비</p>\n",
              "<p>백분율을 넣습니다.(autopct = '%1.f%%')</p>\n",
              "<p>일반교과 부분을 분리하여 강조합니다.(explode = [0.1, 0, 0, 0])</p>\n",
              "<HR>\n",
              "<div style = \"float:left;width:50%\">\n",
              "<h2>데이터 예시 </h2>\n",
              "<p>subject = ['일반교과', '예체능', '취업', '진로']</p>\n",
              "<p>price_sub = [74849, 43973, 0, 233]</p>\n",
              "</div>\n",
              "<div style = \"float:right;width:50%\">\n",
              "<h2>그래프 예시 </h2>\n",
              "<img src=\"https://github.com/GoHakNeung/jupyter_judge/blob/main/graph/answer_8532.png?raw=true\" width = 150% height = 150%>\n",
              "</div>\n"
            ]
          },
          "metadata": {}
        }
      ]
    },
    {
      "cell_type": "code",
      "source": [
        "Question(question_8533)"
      ],
      "metadata": {
        "colab": {
          "base_uri": "https://localhost:8080/",
          "height": 773
        },
        "id": "gX21Bb8xnC4b",
        "outputId": "0716bc2e-ea6a-4fe8-a564-bc47abc187f8"
      },
      "execution_count": null,
      "outputs": [
        {
          "output_type": "display_data",
          "data": {
            "text/plain": [
              "<IPython.core.display.HTML object>"
            ],
            "text/html": [
              "<h1 style = \"background-color:yellow; \">문제 설명</h1>\n",
              "<h2>관련 뉴스</h2>\n",
              "<p>코로나 19로 인한 발생한 학습 결손을 해결하기 위해 늘어나고 있는 사교육비와 관련된 신문기사입니다.</p>\n",
              "<p>다음 뉴스를 보고 코로나와 사교육비를 생각해봅시다. <a href =\"https://www.yna.co.kr/view/AKR20230307079000530\" target = 'blank'>늘어나는 사교육비</a></p>\n",
              "<hr>\n",
              "<h2>데이터</h2>\n",
              "<p>문제에서 제공하는 데이터는 KOSIS에서 사교육비 실태를 조사하여 제공하는 <a href =\"https://kosis.kr/statHtml/statHtml.do?orgId=101&tblId=DT_1PE003&vw_cd=MT_ZTITLE&list_id=H1_10_003&scrId=&seqNo=&lang_mode=ko&obj_var_id=&itm_id=&conn_path=MT_ZTITLE&path=%252FstatisticsList%252FstatisticsListIndex.do\" target = 'blank'>연도별 학교급별 사교육비 총액</a>에서 초등학교만 나타낸 데이터입니다.</p>\n",
              "<p>열 : 연도, 초등학교 과목, 중학교 과목, 고등학교 과목 등</p>\n",
              "<h2>그래프</h2>\n",
              "<p>2022년의 초등학교 일반교과의 과목별 사교육비 총액을 원그래프로 나타내봅시다.</p>\n",
              "<p>그래프 제목 : 2022년 초등학교 일반교과 과목별 사교육비</p>\n",
              "<p>백분율을 넣습니다.(autopct = '%1.f%%')</p>\n",
              "<HR>\n",
              "<div style = \"float:left;width:50%\">\n",
              "<h2>데이터 예시 </h2>\n",
              "<p>gen_subject = ['국어' ,'영어', '수학', '사회과학', '논술', '컴퓨터', '제2외국어']</p>\n",
              "<p>gen_price = [7082, 34525, 22585, 2989, 5398, 914, 1357]</p>\n",
              "</div>\n",
              "<div style = \"float:right;width:50%\">\n",
              "<h2>그래프 예시 </h2>\n",
              "<img src=\"https://github.com/GoHakNeung/jupyter_judge/blob/main/graph/answer_8533.png?raw=true\" width = 150% height = 150%>\n",
              "</div>\n"
            ]
          },
          "metadata": {}
        }
      ]
    },
    {
      "cell_type": "code",
      "source": [
        "Question(question_8534)"
      ],
      "metadata": {
        "colab": {
          "base_uri": "https://localhost:8080/",
          "height": 796
        },
        "id": "zJuV1WEVnD1Q",
        "outputId": "8bd84840-16ce-4420-95c9-22ee3d07213e"
      },
      "execution_count": null,
      "outputs": [
        {
          "output_type": "display_data",
          "data": {
            "text/plain": [
              "<IPython.core.display.HTML object>"
            ],
            "text/html": [
              "<h1 style = \"background-color:yellow; \">문제 설명</h1>\n",
              "<h2>관련 뉴스</h2>\n",
              "<p>코로나 19로 인한 발생한 학습 결손을 해결하기 위해 늘어나고 있는 사교육비와 관련된 신문기사입니다.</p>\n",
              "<p>다음 뉴스를 보고 코로나와 사교육비를 생각해봅시다. <a href =\"https://www.yna.co.kr/view/AKR20230307079000530\" target = 'blank'>늘어나는 사교육비</a></p>\n",
              "<hr>\n",
              "<h2>데이터</h2>\n",
              "<p>문제에서 제공하는 데이터는 KOSIS에서 사교육비 실태를 조사하여 제공하는 <a href =\"https://kosis.kr/statHtml/statHtml.do?orgId=101&tblId=DT_1PE003&vw_cd=MT_ZTITLE&list_id=H1_10_003&scrId=&seqNo=&lang_mode=ko&obj_var_id=&itm_id=&conn_path=MT_ZTITLE&path=%252FstatisticsList%252FstatisticsListIndex.do\" target = 'blank'>연도별 학교급별 사교육비 총액</a>에서 초등학교만 나타낸 데이터입니다.</p>\n",
              "<p>열 : 연도, 초등학교 과목, 중학교 과목, 고등학교 과목 등</p>\n",
              "<h2>그래프</h2>\n",
              "<p>연도별 초등학교 사교육비 총액을 꺾은선 그래프로 나타내봅시다.</p>\n",
              "<p>그래프 제목 : 연도별 초등학교 사교육비 총액</p>\n",
              "<p>가로축 제목 : 연도</p>\n",
              "<p>세로축 제목 : 사교육비(억원)</p>\n",
              "<HR>\n",
              "<div style = \"float:left;width:50%\">\n",
              "<h2>데이터 예시 </h2>\n",
              "<p>data = pd.read_csv('/content/jupyter_judge/csv_file/private_education_expense.csv')</p>\n",
              "<p>'연도', '초등학교_전체' 열에 있는 데이터를 사용해봅시다.</p>\n",
              "</div>\n",
              "<div style = \"float:right;width:50%\">\n",
              "<h2>그래프 예시 </h2>\n",
              "<img src=\"https://github.com/GoHakNeung/jupyter_judge/blob/main/graph/answer_8534.png?raw=true\" width = 150% height = 150%>\n",
              "</div>\n"
            ]
          },
          "metadata": {}
        }
      ]
    },
    {
      "cell_type": "code",
      "source": [
        "Question(question_8541)"
      ],
      "metadata": {
        "colab": {
          "base_uri": "https://localhost:8080/",
          "height": 802
        },
        "id": "cmiPJRE9nEVW",
        "outputId": "6955af92-58de-46ed-df59-fd6ba33a9726"
      },
      "execution_count": null,
      "outputs": [
        {
          "output_type": "display_data",
          "data": {
            "text/plain": [
              "<IPython.core.display.HTML object>"
            ],
            "text/html": [
              "<h1 style = \"background-color:yellow; \">문제 설명</h1>\n",
              "<h2>관련 뉴스</h2>\n",
              "<p>교통사고로 인해 발생하는 사회비용(사상자의 물리적 손실비용과 정신적 고통 비용)을 다루는 신문기사입니다.</p>\n",
              "<p>다음 뉴스를 보고 지역별 교통사고 현황과 그 이유를 생각해봅시다. <a href =\"https://www.etoday.co.kr/news/view/1912232\" target = 'blank'>지역별로 차이나는 교통사고</a></p>\n",
              "<hr>\n",
              "<h2>데이터</h2>\n",
              "<p>문제에서 제공하는 데이터는 교통사고분석시스템(TAAS)에서 제공하는 <a href =\"https://kosis.kr/statHtml/statHtml.do?orgId=101&tblId=DT_1PE003&vw_cd=MT_ZTITLE&list_id=H1_10_003&scrId=&seqNo=&lang_mode=ko&obj_var_id=&itm_id=&conn_path=MT_ZTITLE&path=%252FstatisticsList%252FstatisticsListIndex.do\" target = 'blank'>인구 10만명당 교통사고</a>에 권역을 추가했습니다.</p>\n",
              "<p>열 : city_province(시도 이름), metropolitan_city(권역 이름),accident(교통사고 발생건수), death(교통사고 사망자 수)</p>\n",
              "<p>기존 데이터에서 권역(metropolitan_city)을 추가하고 부상자 수를 삭제함</p>\n",
              "\n",
              "<h2>그래프</h2>\n",
              "<p>경상도에서 발생한 교통사고 사망자 수를 막대그래프로 나타내봅시다. </p>\n",
              "<p>그래프 제목 : 경상도에서 발생하는 인구 10만명당 교통사고 사망자 수</p>\n",
              "<p>가로축 제목 : 경상도 시도</p>\n",
              "<p>세로축 제목 : 사망자 수(명)</p>\n",
              "\n",
              "<HR>\n",
              "<div style = \"float:left;width:50%\">\n",
              "<h2>데이터 예시 </h2>\n",
              "<p>data = pd.read_csv('/content/jupyter_judge/csv_file/car_accident.csv')</p>\n",
              "<p>data_city = data[data['metropolitan_city'] == '경상도']</p>\n",
              "<p>city_province = data_city['city_province']</p>\n",
              "<p>death = data_city['death']</p>\n",
              "</div>\n",
              "<div style = \"float:right;width:50%\">\n",
              "<h2>그래프 예시 </h2>\n",
              "<img src=\"https://github.com/GoHakNeung/jupyter_judge/blob/main/graph/answer_8541.png?raw=true\" width = 150% height = 150%>\n",
              "</div>\n"
            ]
          },
          "metadata": {}
        }
      ]
    },
    {
      "cell_type": "code",
      "source": [
        "Question(question_8542)"
      ],
      "metadata": {
        "colab": {
          "base_uri": "https://localhost:8080/",
          "height": 779
        },
        "id": "IEuxZDD1nE4V",
        "outputId": "94dc7204-13ea-4d87-ae10-59e1c23965c2"
      },
      "execution_count": null,
      "outputs": [
        {
          "output_type": "display_data",
          "data": {
            "text/plain": [
              "<IPython.core.display.HTML object>"
            ],
            "text/html": [
              "<h1 style = \"background-color:yellow; \">문제 설명</h1>\n",
              "<h2>관련 뉴스</h2>\n",
              "<p>교통사고로 인해 발생하는 사회비용(사상자의 물리적 손실비용과 정신적 고통 비용)을 다루는 신문기사입니다.</p>\n",
              "<p>다음 뉴스를 보고 지역별 교통사고 현황과 그 이유를 생각해봅시다. <a href =\"https://www.etoday.co.kr/news/view/1912232\" target = 'blank'>지역별로 차이나는 교통사고</a></p>\n",
              "<hr>\n",
              "<h2>데이터</h2>\n",
              "<p>문제에서 제공하는 데이터는 교통사고분석시스템(TAAS)에서 제공하는 <a href =\"https://kosis.kr/statHtml/statHtml.do?orgId=101&tblId=DT_1PE003&vw_cd=MT_ZTITLE&list_id=H1_10_003&scrId=&seqNo=&lang_mode=ko&obj_var_id=&itm_id=&conn_path=MT_ZTITLE&path=%252FstatisticsList%252FstatisticsListIndex.do\" target = 'blank'>인구 10만명당 교통사고</a>에 권역을 추가했습니다.</p>\n",
              "<p>열 : city_province(시도 이름), metropolitan_city(권역 이름), accident(교통사고 발생건수), death(교통사고 사망자 수)</p>\n",
              "<p>기존 데이터에서 권역(metropolitan_city)을 추가하고 부상자 수를 삭제함</p>\n",
              "<h2>그래프</h2>\n",
              "<p>17개 시도에서 발생한 교통사고 사망자 수를 히스토그램으로 나타내봅시다.</p>\n",
              "<p>계급의 크기는 1이며, 계급은 bins = [2,3,4,5,6,7,8,9,10,11,12]입니다.</p>\n",
              "<p>그래프 제목 : 17개 시도에서 발생한 인구 10만명당 교통사고 사망자 히스토그램</p>\n",
              "<HR>\n",
              "<div style = \"float:left;width:50%\">\n",
              "<h2>데이터 예시 </h2>\n",
              "<p>data = pd.read_csv('/content/jupyter_judge/csv_file/car_accident.csv')</p>\n",
              "<p>death = data['death']\n",
              "</div>\n",
              "<div style = \"float:right;width:50%\">\n",
              "<h2>그래프 예시 </h2>\n",
              "<img src=\"https://github.com/GoHakNeung/jupyter_judge/blob/main/graph/answer_8542.png?raw=true\" width = 150% height = 150%>\n",
              "</div>\n"
            ]
          },
          "metadata": {}
        }
      ]
    },
    {
      "cell_type": "code",
      "source": [
        "Question(question_8551)"
      ],
      "metadata": {
        "colab": {
          "base_uri": "https://localhost:8080/",
          "height": 837
        },
        "id": "S9uyPEXInFPh",
        "outputId": "ccb592ac-8294-492c-b636-4f64135710d9"
      },
      "execution_count": null,
      "outputs": [
        {
          "output_type": "display_data",
          "data": {
            "text/plain": [
              "<IPython.core.display.HTML object>"
            ],
            "text/html": [
              "<h1 style = \"background-color:yellow; \">문제 설명</h1>\n",
              "<h2>관련 뉴스</h2>\n",
              "<p>화를 관객수로만 평가하는 것이 아니라 상영횟수를 고려해야 한다는 신문기사입니다.</p>\n",
              "<p>다음 뉴스를 보고 영화 매출액을 어떻게 평가하면 좋을지 생각해봅시다. <a href =\"https://www.etoday.co.kr/news/view/1912232\" target = 'blank'>영화 관객수와 영화 상영횟수</a></p>\n",
              "<hr>\n",
              "<h2>데이터</h2>\n",
              "<p>문제에서 제공하는 데이터는 영화관입장권통합전산망(KOBIS)에서 제공하는 <a href =\"https://www.kobis.or.kr/kobis/business/stat/boxs/findFormerBoxOfficeList.do\" target = 'blank'>역대 박스오피스</a>에서 1000만 관객을 돌파한 영화로 구성했습니다.</p>\n",
              "<p>열 : rank(순위), movie_title(영화제목), sales(매출액), total_movigoer(관객수), total_screen(상영 스크린수), screening_times(상영횟수), sales_per_screening(1회 상영당 매출액)</p>\n",
              "<p>기존 데이터에서 개봉일을 제거하고 1회 상영당 매출액을 추가함</p>\n",
              "<h2>그래프</h2>\n",
              "<p>1000만 관객을 넘은 영화를 대상으로 100만명을 단위로 한 히스토그램을 나타내봅시다.</p>\n",
              "<p>그래프 제목 : 1000만 관객을 넘은 영화의 히스토그램</p>\n",
              "<p>계급의 크기는 1000000</p>\n",
              "<p>구간은 8(bins = 8), 범위는 10000000~18000000입니다.(range = (10000000, 18000000))</p>\n",
              "<HR>\n",
              "<div style = \"float:left;width:50%\">\n",
              "<h2>데이터 예시 </h2>\n",
              "<p>data = pd.read_csv('/content/jupyter_judge/csv_file/moviegoer.csv')</p>\n",
              "<p>movigoer = data['total_moviegoer']</p>\n",
              "</div>\n",
              "<div style = \"float:right;width:50%\">\n",
              "<h2>그래프 예시 </h2>\n",
              "<img src=\"https://github.com/GoHakNeung/jupyter_judge/blob/main/graph/answer_8551.png?raw=true\" width = 150% height = 150%>\n",
              "</div>\n"
            ]
          },
          "metadata": {}
        }
      ]
    },
    {
      "cell_type": "code",
      "source": [
        "Question(question_8552)"
      ],
      "metadata": {
        "colab": {
          "base_uri": "https://localhost:8080/",
          "height": 831
        },
        "id": "ZdpHy9QOnGOI",
        "outputId": "0e109b25-3a58-4a35-9217-0108ab79b0ae"
      },
      "execution_count": null,
      "outputs": [
        {
          "output_type": "display_data",
          "data": {
            "text/plain": [
              "<IPython.core.display.HTML object>"
            ],
            "text/html": [
              "<h1 style = \"background-color:yellow; \">문제 설명</h1>\n",
              "<h2>관련 뉴스</h2>\n",
              "<p>화를 관객수로만 평가하는 것이 아니라 상영횟수를 고려해야 한다는 신문기사입니다.</p>\n",
              "<p>다음 뉴스를 보고 영화 매출액을 어떻게 평가하면 좋을지 생각해봅시다. <a href =\"https://www.etoday.co.kr/news/view/1912232\" target = 'blank'>영화 관객수와 영화 상영횟수</a></p>\n",
              "<hr>\n",
              "<h2>데이터</h2>\n",
              "<p>문제에서 제공하는 데이터는 영화관입장권통합전산망(KOBIS)에서 제공하는 <a href =\"https://www.kobis.or.kr/kobis/business/stat/boxs/findFormerBoxOfficeList.do\" target = 'blank'>역대 박스오피스</a>에서 1000만 관객을 돌파한 영화로 구성했습니다.</p>\n",
              "<p>열 : rank(순위), movie_title(영화제목), sales(매출액), total_movigoer(관객수), total_screen(상영 스크린수), screening_times(상영횟수), sales_per_screening(1회 상영당 매출액)</p>\n",
              "<p>기존 데이터에서 개봉일을 제거하고 1회 상영당 매출액을 추가함</p>\n",
              "<h2>그래프</h2>\n",
              "<p>1000만 관객을 넘은 영화 중 1회 상영당 매출액이 상위 15개의 영화에 대해서 1회 상영당 매출액을 세로 막대그래프로 나타내봅시다.</p>\n",
              "<p>그래프 제목 : 1000만 관객 넘은 영화 중 1회 상영당 매출액</p>\n",
              "<p>가로축 이름 : 매출액(원/상영))</p>\n",
              "<HR>\n",
              "<div style = \"float:left;width:50%\">\n",
              "<h2>데이터 예시 </h2>\n",
              "<p>data = pd.read_csv('/content/jupyter_judge/csv_file/moviegoer.csv')</p>\n",
              "<p>data = data.sort_values('sales_per_screening', ascending = False)[:15]</p>\n",
              "<p>sales_per_screening = data['sales_per_screening']</p>\n",
              "<p>movie_title = data['movie_title']\n",
              "</div>\n",
              "<div style = \"float:right;width:50%\">\n",
              "<h2>그래프 예시 </h2>\n",
              "<img src=\"https://github.com/GoHakNeung/jupyter_judge/blob/main/graph/answer_8552.png?raw=true\" width = 150% height = 150%>\n",
              "</div>\n"
            ]
          },
          "metadata": {}
        }
      ]
    },
    {
      "cell_type": "code",
      "source": [
        "Question(question_8561)"
      ],
      "metadata": {
        "colab": {
          "base_uri": "https://localhost:8080/",
          "height": 948
        },
        "id": "SvWdFOCunGtz",
        "outputId": "1752ed94-10f1-43df-e753-0158acfe2fdf"
      },
      "execution_count": null,
      "outputs": [
        {
          "output_type": "display_data",
          "data": {
            "text/plain": [
              "<IPython.core.display.HTML object>"
            ],
            "text/html": [
              "<h1 style = \"background-color:yellow; \">문제 설명</h1>\n",
              "<h2>관련 뉴스</h2>\n",
              "<p>지하철 역중에서 사고가 많이 나는 역과 사고 유형을 조사한 신문기사 입니다.</p>\n",
              "<p>이용객이 많은 역 중 하나인 사당역에서 언제 사고가 많이 발생할지 생각해봅시다. <a href =\"https://biz.sbs.co.kr/article/20000136368\" target = 'blank'>출퇴근길에 특히 조심해야 할 역은?</a></p>\n",
              "<hr>\n",
              "<h2>데이터</h2>\n",
              "<p>문제에서 제공하는 데이터는 서울교통공사가 제공하는 <a href =\"https://www.data.go.kr/data/15071311/fileData.do\" target = 'blank'>요일별, 시간대별, 지하철 역별 혼잡도</a>에서 요일별 사당역 데이터로 구성했습니다.</p>\n",
              "<p>서울교통공사 1-8호선 30분 단위 평균 혼잡도로 30분간 지나는 열차들의 평균 혼잡도(정원대비 승차인원으로, 승차인과 좌석수가 일치할 경우를 혼잡도 34%로 산정) 입니다.(단위: %)</p>\n",
              "<p>열 : weekday_inner(평일 내선), weekday_outer(평일 외선), sat_inner(토요일 내선), sat_outer(토요일 외선), holiday_inner(공휴일 내선), holiday_outer(공휴일 외선)</p>\n",
              "<h2>그래프</h2>\n",
              "<p>평일 사당역 내선의 혼잡도를 히스토그램과 혼잡도의 평균을 수직선으로 나타내봅시다.</p>\n",
              "<p>그래프 제목 : 평일 사당역 내선의 혼잡도 히스토그램 </p>\n",
              "<p>가로축 이름 : 혼잡도(%)</p>\n",
              "<p>세로축 이름 : 도수</p>\n",
              "<p>수직선 x좌표 : 혼잡도의 평균</p>\n",
              "<p>수직선의 y좌표 범위 : 0~12\n",
              "<p>수직선의 label : 평균\n",
              "<p>수직선의 색 : 빨간색</p>\n",
              "<HR>\n",
              "<div style = \"float:left;width:50%\">\n",
              "<h2>데이터 예시 </h2>\n",
              "<p>data = pd.read_csv('/content/jupyter_judge/csv_file/subway_congestion.csv')</p>\n",
              "<p>weekday_inner= data['weekday_inner']</p>\n",
              "<p>weekday_inner_mean = weekday_inner.mean()\n",
              "</div>\n",
              "<div style = \"float:right;width:50%\">\n",
              "<h2>그래프 예시 </h2>\n",
              "<img src=\"https://github.com/GoHakNeung/jupyter_judge/blob/main/graph/answer_8561.png?raw=true\" width = 150% height = 150%>\n",
              "</div>\n"
            ]
          },
          "metadata": {}
        }
      ]
    },
    {
      "cell_type": "code",
      "source": [
        "Question(question_8562)"
      ],
      "metadata": {
        "colab": {
          "base_uri": "https://localhost:8080/",
          "height": 854
        },
        "id": "IyXaOxDqnH3B",
        "outputId": "e10da619-0096-4863-8bdd-7e00c087b0dc"
      },
      "execution_count": null,
      "outputs": [
        {
          "output_type": "display_data",
          "data": {
            "text/plain": [
              "<IPython.core.display.HTML object>"
            ],
            "text/html": [
              "<h1 style = \"background-color:yellow; \">문제 설명</h1>\n",
              "<h2>관련 뉴스</h2>\n",
              "<p>지하철 역중에서 사고가 많이 나는 역과 사고 유형을 조사한 신문기사 입니다.</p>\n",
              "<p>이용객이 많은 역 중 하나인 사당역에서 언제 사고가 많이 발생할지 생각해봅시다. <a href =\"https://biz.sbs.co.kr/article/20000136368\" target = 'blank'>출퇴근길에 특히 조심해야 할 역은?</a></p>\n",
              "<hr>\n",
              "<h2>데이터</h2>\n",
              "<p>문제에서 제공하는 데이터는 서울교통공사가 제공하는 <a href =\"https://www.data.go.kr/data/15071311/fileData.do\" target = 'blank'>요일별, 시간대별, 지하철 역별 혼잡도</a>에서 요일별 사당역 데이터로 구성했습니다.</p>\n",
              "<p>서울교통공사 1-8호선 30분 단위 평균 혼잡도로 30분간 지나는 열차들의 평균 혼잡도(정원대비 승차인원으로, 승차인과 좌석수가 일치할 경우를 혼잡도 34%로 산정) 입니다.(단위: %)</p>\n",
              "<p>열 : weekday_inner(평일 내선), weekday_outer(평일 외선), sat_inner(토요일 내선), sat_outer(토요일 외선), holiday_inner(공휴일 내선), holiday_outer(공휴일 외선)</p>\n",
              "<h2>그래프</h2>\n",
              "<p>평일 사당역 내선과 외선의 상자그림을 나타내봅시다.</p>\n",
              "<p>그래프 제목 : 평일 사당역 내선, 외선 상자그림 </p>\n",
              "<p>가로축 이름 : 내선, 외선</p>\n",
              "<p>세로축 이름 : 혼잡도(%)</p>\n",
              "<HR>\n",
              "<div style = \"float:left;width:50%\">\n",
              "<h2>데이터 예시 </h2>\n",
              "<p>data = pd.read_csv('/content/jupyter_judge/csv_file/subway_congestion.csv')</p>\n",
              "<p>weekday_inner = data['weekday_inner']</p>\n",
              "<p>weekday_outer = data['weekday_outer']</p>\n",
              "</div>\n",
              "<div style = \"float:right;width:50%\">\n",
              "<h2>그래프 예시 </h2>\n",
              "<img src=\"https://github.com/GoHakNeung/jupyter_judge/blob/main/graph/answer_8562.png?raw=true\" width = 150% height = 150%>\n",
              "</div>\n"
            ]
          },
          "metadata": {}
        }
      ]
    },
    {
      "cell_type": "code",
      "source": [
        "Question(question_8563)"
      ],
      "metadata": {
        "colab": {
          "base_uri": "https://localhost:8080/",
          "height": 831
        },
        "id": "JfEBXx-EnITv",
        "outputId": "fea066ea-0b1b-47b9-c12e-5fe6b6296e60"
      },
      "execution_count": null,
      "outputs": [
        {
          "output_type": "display_data",
          "data": {
            "text/plain": [
              "<IPython.core.display.HTML object>"
            ],
            "text/html": [
              "<h1 style = \"background-color:yellow; \">문제 설명</h1>\n",
              "<h2>관련 뉴스</h2>\n",
              "<p>지하철 역중에서 사고가 많이 나는 역과 사고 유형을 조사한 신문기사 입니다.</p>\n",
              "<p>이용객이 많은 역 중 하나인 사당역에서 언제 사고가 많이 발생할지 생각해봅시다. <a href =\"https://biz.sbs.co.kr/article/20000136368\" target = 'blank'>출퇴근길에 특히 조심해야 할 역은?</a></p>\n",
              "<hr>\n",
              "<h2>데이터</h2>\n",
              "<p>문제에서 제공하는 데이터는 서울교통공사가 제공하는 <a href =\"https://www.data.go.kr/data/15071311/fileData.do\" target = 'blank'>요일별, 시간대별, 지하철 역별 혼잡도</a>에서 요일별 사당역 데이터로 구성했습니다.</p>\n",
              "<p>서울교통공사 1-8호선 30분 단위 평균 혼잡도로 30분간 지나는 열차들의 평균 혼잡도(정원대비 승차인원으로, 승차인과 좌석수가 일치할 경우를 혼잡도 34%로 산정) 입니다.(단위: %)</p>\n",
              "<p>열 : weekday_inner(평일 내선), weekday_outer(평일 외선), sat_inner(토요일 내선), sat_outer(토요일 외선), holiday_inner(공휴일 내선), holiday_outer(공휴일 외선)</p>\n",
              "<h2>그래프</h2>\n",
              "<p>평일 사당역 내선의 시간대별 혼잡도 세로 막대그래프를 나타내봅시다.</p>\n",
              "<p>그래프 제목 : 시간대별 내선 혼잡도</p>\n",
              "<p>가로축 제목 : 혼잡도(%)</p>\n",
              "<HR>\n",
              "<div style = \"float:left;width:50%\">\n",
              "<h2>데이터 예시 </h2>\n",
              "<p>data = pd.read_csv('/content/jupyter_judge/csv_file/subway_congestion.csv')</p>\n",
              "<p>weekday_inner = data['weekday_inner']</p>\n",
              "<p>subway_time = data['time']</p>\n",
              "</div>\n",
              "<div style = \"float:right;width:50%\">\n",
              "<h2>그래프 예시 </h2>\n",
              "<img src=\"https://github.com/GoHakNeung/jupyter_judge/blob/main/graph/answer_8563.png?raw=true\" width = 150% height = 150%>\n",
              "</div>\n"
            ]
          },
          "metadata": {}
        }
      ]
    },
    {
      "cell_type": "code",
      "source": [
        "Question(question_8564)"
      ],
      "metadata": {
        "colab": {
          "base_uri": "https://localhost:8080/",
          "height": 831
        },
        "id": "nblWqFhXnIs4",
        "outputId": "a137b326-4cfd-479c-b39b-ad8f704e48b4"
      },
      "execution_count": null,
      "outputs": [
        {
          "output_type": "display_data",
          "data": {
            "text/plain": [
              "<IPython.core.display.HTML object>"
            ],
            "text/html": [
              "<h1 style = \"background-color:yellow; \">문제 설명</h1>\n",
              "<h2>관련 뉴스</h2>\n",
              "<p>지하철 역중에서 사고가 많이 나는 역과 사고 유형을 조사한 신문기사 입니다.</p>\n",
              "<p>이용객이 많은 역 중 하나인 사당역에서 언제 사고가 많이 발생할지 생각해봅시다. <a href =\"https://biz.sbs.co.kr/article/20000136368\" target = 'blank'>출퇴근길에 특히 조심해야 할 역은?</a></p>\n",
              "<hr>\n",
              "<h2>데이터</h2>\n",
              "<p>문제에서 제공하는 데이터는 서울교통공사가 제공하는 <a href =\"https://www.data.go.kr/data/15071311/fileData.do\" target = 'blank'>요일별, 시간대별, 지하철 역별 혼잡도</a>에서 요일별 사당역 데이터로 구성했습니다.</p>\n",
              "<p>서울교통공사 1-8호선 30분 단위 평균 혼잡도로 30분간 지나는 열차들의 평균 혼잡도(정원대비 승차인원으로, 승차인과 좌석수가 일치할 경우를 혼잡도 34%로 산정) 입니다.(단위: %)</p>\n",
              "<p>열 : weekday_inner(평일 내선), weekday_outer(평일 외선), sat_inner(토요일 내선), sat_outer(토요일 외선), holiday_inner(공휴일 내선), holiday_outer(공휴일 외선)</p>\n",
              "<h2>그래프</h2>\n",
              "<p>평일 사당역 외선의 시간대별 혼잡도 세로 막대그래프를 나타내봅시다.</p>\n",
              "<p>그래프 제목 : 평일 시간대별 외선 혼잡도</p>\n",
              "<p>가로축 제목 : 혼잡도(%)</p>\n",
              "<HR>\n",
              "<div style = \"float:left;width:50%\">\n",
              "<h2>데이터 예시 </h2>\n",
              "<p>data = pd.read_csv('/content/jupyter_judge/csv_file/subway_congestion.csv')</p>\n",
              "<p>weekday_inner = data['weekday_outer']</p>\n",
              "<p>subway_time = data['time']</p>\n",
              "</div>\n",
              "<div style = \"float:right;width:50%\">\n",
              "<h2>그래프 예시 </h2>\n",
              "<img src=\"https://github.com/GoHakNeung/jupyter_judge/blob/main/graph/answer_8564.png?raw=true\" width = 150% height = 150%>\n",
              "</div>\n"
            ]
          },
          "metadata": {}
        }
      ]
    },
    {
      "cell_type": "code",
      "source": [
        "Question(question_8571)"
      ],
      "metadata": {
        "colab": {
          "base_uri": "https://localhost:8080/",
          "height": 837
        },
        "id": "mtnfn7BznJff",
        "outputId": "10beb4f4-8bd1-4aa8-ddfc-be329dbfa588"
      },
      "execution_count": null,
      "outputs": [
        {
          "output_type": "display_data",
          "data": {
            "text/plain": [
              "<IPython.core.display.HTML object>"
            ],
            "text/html": [
              "<h1 style = \"background-color:yellow; \">문제 설명</h1>\n",
              "<h2>관련 뉴스</h2>\n",
              "<p>다음은 따릉이 대여건수에 영향을 주는 것을 조사한 신문기사 입니다.</p>\n",
              "<p>따릉이 대여건수에 영향을 주는 것은 무엇일지 생각해봅시다. <a href =\"https://www.newspim.com/news/view/20221114000868\" target = 'blank'>따릉이 대여와 관련있는 것은?</a></p>\n",
              "<hr>\n",
              "<h2>데이터</h2>\n",
              "<p>문제에서 제공하는 데이터는 서울특별시에서 제공하는 <a href =\"https://www.data.go.kr/data/15051873/fileData.do\" target = 'blank'>따릉이 대여건수</a>와 기상청에서 제공하는 <a href =\"https://data.kma.go.kr/cmmn/main.do\" target = 'blank'>서울특별시 기상정보(온도, 습도, 미세먼지)</a>로 구성했습니다.</p>\n",
              "<p>열 : day(일), rent(대여건수), humidity(습도), temperature(온도), dust(미세먼지)</p>\n",
              "<p>문제에서 제공하는 데이터는 공공데이터를 정리하여 2022년 1월부터 12월까지 서울시 공공자전거 대여건수와 습도, 기온, 미세먼지 농도로 재구성</p>\n",
              "<h2>그래프</h2>\n",
              "<p>일별 대여건수를 상자그림으로 나타내봅시다</p>\n",
              "<p>그래프 제목 : 서울시 공공자전거 대여건수 상자그림 </p>\n",
              "<p>가로축 이름 : 대여</p>\n",
              "<p>세로축 이름 : 대여건수(건)</p>\n",
              "<HR>\n",
              "<div style = \"float:left;width:50%\">\n",
              "<h2>데이터 예시 </h2>\n",
              "<p>data = pd.read_csv('/content/jupyter_judge/csv_file/bike_seoul.csv')</p>\n",
              "<p>rent = data['rent']</p>\n",
              "</div>\n",
              "<div style = \"float:right;width:50%\">\n",
              "<h2>그래프 예시 </h2>\n",
              "<img src=\"https://github.com/GoHakNeung/jupyter_judge/blob/main/graph/answer_8571.png?raw=true\" width = 150% height = 150%>\n",
              "</div>\n"
            ]
          },
          "metadata": {}
        }
      ]
    },
    {
      "cell_type": "code",
      "source": [
        "Question(question_8572)"
      ],
      "metadata": {
        "colab": {
          "base_uri": "https://localhost:8080/",
          "height": 860
        },
        "id": "Bkv2-vOnnKKD",
        "outputId": "c97c1a3f-fd3a-412c-e3ac-997e8e49aa84"
      },
      "execution_count": null,
      "outputs": [
        {
          "output_type": "display_data",
          "data": {
            "text/plain": [
              "<IPython.core.display.HTML object>"
            ],
            "text/html": [
              "<h1 style = \"background-color:yellow; \">문제 설명</h1>\n",
              "<h2>관련 뉴스</h2>\n",
              "<p>다음은 따릉이 대여건수에 영향을 주는 것을 조사한 신문기사 입니다.</p>\n",
              "<p>따릉이 대여건수에 영향을 주는 것은 무엇일지 생각해봅시다. <a href =\"https://www.newspim.com/news/view/20221114000868\" target = 'blank'>따릉이 대여와 관련있는 것은?</a></p>\n",
              "<hr>\n",
              "<h2>데이터</h2>\n",
              "<p>문제에서 제공하는 데이터는 서울특별시에서 제공하는 <a href =\"https://www.data.go.kr/data/15051873/fileData.do\" target = 'blank'>따릉이 대여건수</a>와 기상청에서 제공하는 <a href =\"https://data.kma.go.kr/cmmn/main.do\" target = 'blank'>서울특별시 기상정보(온도, 습도, 미세먼지)</a>로 구성했습니다.</p>\n",
              "<p>열 : day(일), rent(대여건수), humidity(습도), temperature(온도), dust(미세먼지)</p>\n",
              "<p>문제에서 제공하는 데이터는 공공데이터를 정리하여 2022년 1월부터 12월까지 서울시 공공자전거 대여건수와 습도, 기온, 미세먼지 농도로 재구성</p>\n",
              "<h2>그래프</h2>\n",
              "<p>서울시 공공자전거 대여건수를 히스토그램으로 나타내고 평균을 수직선으로 나타내봅시다.</p>\n",
              "<p>그래프 제목 : 서울시 공공자전거 대여건수 히스토그램 </p>\n",
              "<p>세로축 이름 : 도수</p>\n",
              "<p>수직선 범위 : 0 ~ 60</p>\n",
              "<p>수직선 색 : 빨강</p>\n",
              "<HR>\n",
              "<div style = \"float:left;width:50%\">\n",
              "<h2>데이터 예시 </h2>\n",
              "<p>data = pd.read_csv('/content/jupyter_judge/csv_file/bike_seoul.csv')</p>\n",
              "<p>rent = data['rent']</p>\n",
              "</div>\n",
              "<div style = \"float:right;width:50%\">\n",
              "<h2>그래프 예시 </h2>\n",
              "<img src=\"https://github.com/GoHakNeung/jupyter_judge/blob/main/graph/answer_8572.png?raw=true\" width = 150% height = 150%>\n",
              "</div>\n"
            ]
          },
          "metadata": {}
        }
      ]
    },
    {
      "cell_type": "code",
      "source": [
        "Question(question_8573)"
      ],
      "metadata": {
        "colab": {
          "base_uri": "https://localhost:8080/",
          "height": 837
        },
        "id": "ujYzIX2UnK_3",
        "outputId": "678dd3fe-067a-4dda-8918-ae90c18f8fad"
      },
      "execution_count": null,
      "outputs": [
        {
          "output_type": "display_data",
          "data": {
            "text/plain": [
              "<IPython.core.display.HTML object>"
            ],
            "text/html": [
              "<h1 style = \"background-color:yellow; \">문제 설명</h1>\n",
              "<h2>관련 뉴스</h2>\n",
              "<p>다음은 따릉이 대여건수에 영향을 주는 것을 조사한 신문기사 입니다.</p>\n",
              "<p>따릉이 대여건수에 영향을 주는 것은 무엇일지 생각해봅시다. <a href =\"https://www.newspim.com/news/view/20221114000868\" target = 'blank'>따릉이 대여와 관련있는 것은?</a></p>\n",
              "<hr>\n",
              "<h2>데이터</h2>\n",
              "<p>문제에서 제공하는 데이터는 서울특별시에서 제공하는 <a href =\"https://www.data.go.kr/data/15051873/fileData.do\" target = 'blank'>따릉이 대여건수</a>와 기상청에서 제공하는 <a href =\"https://data.kma.go.kr/cmmn/main.do\" target = 'blank'>서울특별시 기상정보(온도, 습도, 미세먼지)</a>로 구성했습니다.</p>\n",
              "<p>열 : day(일), rent(대여건수), humidity(습도), temperature(온도), dust(미세먼지)</p>\n",
              "<p>문제에서 제공하는 데이터는 공공데이터를 정리하여 2022년 1월부터 12월까지 서울시 공공자전거 대여건수와 습도, 기온, 미세먼지 농도로 재구성</p>\n",
              "<h2>그래프</h2>\n",
              "<p>일별 대여건수와 온도의 산점도를 나타내봅시다.</p>\n",
              "\n",
              "<p>그래프 제목 : 대여건수와 온도의 관계  </p>\n",
              "<p>가로축 이름 : 대여건수</p>\n",
              "<p>세로축 이름 : 온도</p>\n",
              "<HR>\n",
              "<div style = \"float:left;width:50%\">\n",
              "<h2>데이터 예시 </h2>\n",
              "<p>data = pd.read_csv('/content/jupyter_judge/csv_file/bike_seoul.csv')</p>\n",
              "<p>rent = data['rent']</p>\n",
              "<p>temperature = data['temperature']</p>\n",
              "</div>\n",
              "<div style = \"float:right;width:50%\">\n",
              "<h2>그래프 예시 </h2>\n",
              "<img src=\"https://github.com/GoHakNeung/jupyter_judge/blob/main/graph/answer_8573.png?raw=true\" width = 150% height = 150%>\n",
              "</div>\n"
            ]
          },
          "metadata": {}
        }
      ]
    },
    {
      "cell_type": "code",
      "source": [
        "Question(question_8574)"
      ],
      "metadata": {
        "colab": {
          "base_uri": "https://localhost:8080/",
          "height": 837
        },
        "id": "yHn-kFKInLel",
        "outputId": "202e0e3e-92c6-408f-da19-9a95a2e28eae"
      },
      "execution_count": null,
      "outputs": [
        {
          "output_type": "display_data",
          "data": {
            "text/plain": [
              "<IPython.core.display.HTML object>"
            ],
            "text/html": [
              "<h1 style = \"background-color:yellow; \">문제 설명</h1>\n",
              "<h2>관련 뉴스</h2>\n",
              "<p>다음은 따릉이 대여건수에 영향을 주는 것을 조사한 신문기사 입니다.</p>\n",
              "<p>따릉이 대여건수에 영향을 주는 것은 무엇일지 생각해봅시다. <a href =\"https://www.newspim.com/news/view/20221114000868\" target = 'blank'>따릉이 대여와 관련있는 것은?</a></p>\n",
              "<hr>\n",
              "<h2>데이터</h2>\n",
              "<p>문제에서 제공하는 데이터는 서울특별시에서 제공하는 <a href =\"https://www.data.go.kr/data/15051873/fileData.do\" target = 'blank'>따릉이 대여건수</a>와 기상청에서 제공하는 <a href =\"https://data.kma.go.kr/cmmn/main.do\" target = 'blank'>서울특별시 기상정보(온도, 습도, 미세먼지)</a>로 구성했습니다.</p>\n",
              "<p>열 : day(일), rent(대여건수), humidity(습도), temperature(온도), dust(미세먼지)</p>\n",
              "<p>문제에서 제공하는 데이터는 공공데이터를 정리하여 2022년 1월부터 12월까지 서울시 공공자전거 대여건수와 습도, 기온, 미세먼지 농도로 재구성</p>\n",
              "<h2>그래프</h2>\n",
              "<p>일별 대여건수와 미세먼지의 산점도를 나타내봅시다.</p>\n",
              "<p>그래프 제목 : 대여건수와 미세먼지 농도와의 관계  </p>\n",
              "<p>가로축 이름 : 대여건수</p>\n",
              "<p>세로축 이름 : 미세먼지 농도</p>\n",
              "<HR>\n",
              "<div style = \"float:left;width:50%\">\n",
              "<h2>데이터 예시 </h2>\n",
              "<p>data = pd.read_csv('/content/jupyter_judge/csv_file/bike_seoul.csv')</p>\n",
              "<p>rent = data['rent']</p>\n",
              "<p>dust = data['dust']</p>\n",
              "</div>\n",
              "<div style = \"float:right;width:50%\">\n",
              "<h2>그래프 예시 </h2>\n",
              "<img src=\"https://github.com/GoHakNeung/jupyter_judge/blob/main/graph/answer_8574.png?raw=true\" width = 150% height = 150%>\n",
              "</div>\n"
            ]
          },
          "metadata": {}
        }
      ]
    },
    {
      "cell_type": "code",
      "source": [
        "Question(question_8581)"
      ],
      "metadata": {
        "colab": {
          "base_uri": "https://localhost:8080/",
          "height": 925
        },
        "id": "eaLu0Ps0nMZy",
        "outputId": "ceabafbb-0311-489b-ed66-ff05d338e055"
      },
      "execution_count": null,
      "outputs": [
        {
          "output_type": "display_data",
          "data": {
            "text/plain": [
              "<IPython.core.display.HTML object>"
            ],
            "text/html": [
              "<h1 style = \"background-color:yellow; \">문제 설명</h1>\n",
              "<h2>관련 뉴스</h2>\n",
              "<p>청년층은 도시로 이동하고 시골은 고령화가 심화되는 문제를 제시한 신문기사입니다.</p>\n",
              "<p>도시가 고령화되면 어떤 특징이 있을지 생각해봅시다. <a href =\"https://www.ajunews.com/view/20201117125912110\" target = 'blank'>고령 인구 늘어나는 시골</a></p>\n",
              "<hr>\n",
              "<h2>데이터</h2>\n",
              "<p>문제에서 제공하는 데이터는 국민연금공단에서 제공하는 <a href =\"https://www.data.go.kr/data/3046077/fileData.do\" target = 'blank'>지역가입자 평균소득월액</a>과 행정안전부에서 제공하는 <a href =\"https://www.data.go.kr/data/15099158/fileData.do\" target = 'blank'>지역별 성별 연령별 주민등록 인구수</a>에서 지역별 평균소득월액과 유소년인구, 생산가능인구, 고령인구로 구성했습니다.</p>\n",
              "<p>열 : city_province(시도), district(시군구), income(평균소득), total_population(총 인구), youth_population(유소년 인구), production_population(생산가능 인구), old_population(고령 인구), youth_percentage(유소년 인구 비율), production_percentage(생산가능 인구 비율), old_percentage(고령 인구 비율)</p>\n",
              "<p>국민연금 지역가입자의 평균소득월액과 지역별 인구 및 백분율을 합쳐 재구성하였다.</p>\n",
              "<h2>그래프</h2>\n",
              "<p>평균소득월액을 히스토그램으로 나타내고, 평균소득월액의 평균에 해당하는 부분에 수직선을 그려봅시다.</p>\n",
              "<p>그래프 제목 : 지역별 평균소득월액 히스토그램 </p>\n",
              "<p>가로축 이름 : 평균소득월액</p>\n",
              "<p>세로축 이름 : 도수</p>\n",
              "<p>수직선 x좌표 : 평균소득월액</p>\n",
              "<p>수직선의 y좌표 범위 : 0~50</p>\n",
              "<p>수직선의 색 : 빨간색</p>\n",
              "<HR>\n",
              "<div style = \"float:left;width:50%\">\n",
              "<h2>데이터 예시 </h2>\n",
              "<p>data = pd.read_csv('/content/jupyter_judge/csv_file/income_and_population.csv')</p>\n",
              "<p>income = data['income']</p>\n",
              "<p>income_mean = income.mean()</p>\n",
              "</div>\n",
              "<div style = \"float:right;width:50%\">\n",
              "<h2>그래프 예시 </h2>\n",
              "<img src=\"https://github.com/GoHakNeung/jupyter_judge/blob/main/graph/answer_8581.png?raw=true\" width = 150% height = 150%>\n",
              "</div>\n"
            ]
          },
          "metadata": {}
        }
      ]
    },
    {
      "cell_type": "code",
      "source": [
        "Question(question_8582)"
      ],
      "metadata": {
        "colab": {
          "base_uri": "https://localhost:8080/",
          "height": 854
        },
        "id": "OsSh7lHxnM2b",
        "outputId": "649c10ef-0ff8-4c41-95d4-bf335a36ba1a"
      },
      "execution_count": null,
      "outputs": [
        {
          "output_type": "display_data",
          "data": {
            "text/plain": [
              "<IPython.core.display.HTML object>"
            ],
            "text/html": [
              "<h1 style = \"background-color:yellow; \">문제 설명</h1>\n",
              "<h2>관련 뉴스</h2>\n",
              "<p>청년층은 도시로 이동하고 시골은 고령화가 심화되는 문제를 제시한 신문기사입니다.</p>\n",
              "<p>도시가 고령화되면 어떤 특징이 있을지 생각해봅시다. <a href =\"https://www.ajunews.com/view/20201117125912110\" target = 'blank'>고령 인구 늘어나는 시골</a></p>\n",
              "<hr>\n",
              "<h2>데이터</h2>\n",
              "<p>문제에서 제공하는 데이터는 국민연금공단에서 제공하는 <a href =\"https://www.data.go.kr/data/3046077/fileData.do\" target = 'blank'>지역가입자 평균소득월액</a>과 행정안전부에서 제공하는 <a href =\"https://www.data.go.kr/data/15099158/fileData.do\" target = 'blank'>지역별 성별 연령별 주민등록 인구수</a>에서 지역별 평균소득월액과 유소년인구, 생산가능인구, 고령인구로 구성했습니다.</p>\n",
              "<p>열 : city_province(시도), district(시군구), income(평균소득), total_population(총 인구), youth_population(유소년 인구), production_population(생산가능 인구), old_population(고령 인구), youth_percentage(유소년 인구 비율), production_percentage(생산가능 인구 비율), old_percentage(고령 인구 비율)</p>\n",
              "<p>국민연금 지역가입자의 평균소득월액과 지역별 인구 및 백분율을 합쳐 재구성하였다.</p>\n",
              "<h2>그래프</h2>\n",
              "<p>평균소득월액과 생산가능인구 백분율의 산점도를 나타내봅시다.</p>\n",
              "<p>그래프 제목 : 지역별 평균소득월액과 생산가능 인구 관계 </p>\n",
              "<p>가로축 이름 : 평균소득월액</p>\n",
              "<p>세로축 이름 : 생산가능인구 백분율(%)</p>\n",
              "<HR>\n",
              "<div style = \"float:left;width:50%\">\n",
              "<h2>데이터 예시 </h2>\n",
              "<p>data = pd.read_csv('/content/jupyter_judge/csv_file/income_and_population.csv')</p>\n",
              "<p>income = data['income']</p>\n",
              "<p>production_percentage = data['production_percentage']\n",
              "</div>\n",
              "<div style = \"float:right;width:50%\">\n",
              "<h2>그래프 예시 </h2>\n",
              "<img src=\"https://github.com/GoHakNeung/jupyter_judge/blob/main/graph/answer_8582.png?raw=true\" width = 150% height = 150%>\n",
              "</div>\n"
            ]
          },
          "metadata": {}
        }
      ]
    },
    {
      "cell_type": "code",
      "source": [
        "Question(question_8583)"
      ],
      "metadata": {
        "colab": {
          "base_uri": "https://localhost:8080/",
          "height": 854
        },
        "id": "HQM_Qm8YnNTc",
        "outputId": "968ddc3e-759a-4629-a5d8-4cee3c1c02fd"
      },
      "execution_count": null,
      "outputs": [
        {
          "output_type": "display_data",
          "data": {
            "text/plain": [
              "<IPython.core.display.HTML object>"
            ],
            "text/html": [
              "<h1 style = \"background-color:yellow; \">문제 설명</h1>\n",
              "<h2>관련 뉴스</h2>\n",
              "<p>청년층은 도시로 이동하고 시골은 고령화가 심화되는 문제를 제시한 신문기사입니다.</p>\n",
              "<p>도시가 고령화되면 어떤 특징이 있을지 생각해봅시다. <a href =\"https://www.ajunews.com/view/20201117125912110\" target = 'blank'>고령 인구 늘어나는 시골</a></p>\n",
              "<hr>\n",
              "<h2>데이터</h2>\n",
              "<p>문제에서 제공하는 데이터는 국민연금공단에서 제공하는 <a href =\"https://www.data.go.kr/data/3046077/fileData.do\" target = 'blank'>지역가입자 평균소득월액</a>과 행정안전부에서 제공하는 <a href =\"https://www.data.go.kr/data/15099158/fileData.do\" target = 'blank'>지역별 성별 연령별 주민등록 인구수</a>에서 지역별 평균소득월액과 유소년인구, 생산가능인구, 고령인구로 구성했습니다.</p>\n",
              "<p>열 : city_province(시도), district(시군구), income(평균소득), total_population(총 인구), youth_population(유소년 인구), production_population(생산가능 인구), old_population(고령 인구), youth_percentage(유소년 인구 비율), production_percentage(생산가능 인구 비율), old_percentage(고령 인구 비율)</p>\n",
              "<p>국민연금 지역가입자의 평균소득월액과 지역별 인구 및 백분율을 합쳐 재구성하였다.</p>\n",
              "<h2>그래프</h2>\n",
              "<p>평균소득월액과 노령인구 백분율의 산점도를 나타내봅시다.</p>\n",
              "<p>그래프 제목 : 지역별 평균소득월액과 노령인구 관계 </p>\n",
              "<p>가로축 이름 : 평균소득월액</p>\n",
              "<p>세로축 이름 : 노령인구 백분율(%)</p>\n",
              "<HR>\n",
              "<div style = \"float:left;width:50%\">\n",
              "<h2>데이터 예시 </h2>\n",
              "<p>data = pd.read_csv('/content/jupyter_judge/csv_file/income_and_population.csv')</p>\n",
              "<p>income = data['income']</p>\n",
              "<p>old_percentage = data['old_percentage']\n",
              "</div>\n",
              "<div style = \"float:right;width:50%\">\n",
              "<h2>그래프 예시 </h2>\n",
              "<img src=\"https://github.com/GoHakNeung/jupyter_judge/blob/main/graph/answer_8583.png?raw=true\" width = 150% height = 150%>\n",
              "</div>\n"
            ]
          },
          "metadata": {}
        }
      ]
    },
    {
      "cell_type": "code",
      "source": [],
      "metadata": {
        "id": "aRC5MYhZnNuz"
      },
      "execution_count": null,
      "outputs": []
    }
  ]
}