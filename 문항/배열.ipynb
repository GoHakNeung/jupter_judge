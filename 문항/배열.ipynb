{
  "nbformat": 4,
  "nbformat_minor": 0,
  "metadata": {
    "colab": {
      "provenance": []
    },
    "kernelspec": {
      "name": "python3",
      "display_name": "Python 3"
    },
    "language_info": {
      "name": "python"
    }
  },
  "cells": [
    {
      "cell_type": "code",
      "source": [
        "Question(question_4101)"
      ],
      "metadata": {
        "colab": {
          "base_uri": "https://localhost:8080/",
          "height": 345
        },
        "id": "RkfwxOi7_Olh",
        "outputId": "e8b8da5f-0ee8-49a6-d6ec-a7012ac86443"
      },
      "execution_count": 42,
      "outputs": [
        {
          "output_type": "display_data",
          "data": {
            "text/plain": [
              "<IPython.core.display.HTML object>"
            ],
            "text/html": [
              "<h1 style = \"background-color:yellow; \">문제 설명</h1>\n",
              "<h2>\n",
              "<p>15000에서 <span style = \"background-color:\t#E0E0E0;\">입력받은 숫자</span>만큼 띄어세는 수를 리스트로 만들어서 출력하는 프로그램을 만들어봅시다.</p>\n",
              "<p>리스트에 숫자는 10개를 저장합니다.</p>\n",
              "<HR>\n",
              "<p>입력 예시 : 100</p>\n",
              "<h3>\n",
              "<p>입력되는 숫자는 10000이하 숫자입니다.</p>\n",
              "</h3>\n",
              "<h2>\n",
              "<p>출력 예시 : [15000, 15100, 15200, 15300, 15400, 15500, 15600, 15700, 15800, 15900]</p>\n",
              "<h3>\n",
              "<p>리스트로 출력합니다.</p>\n",
              "</h3>\n",
              "<HR>\n",
              "</h2>"
            ]
          },
          "metadata": {}
        },
        {
          "output_type": "execute_result",
          "data": {
            "text/html": [
              "<img src=\"\"/>"
            ],
            "text/plain": [
              "<IPython.core.display.Image object>"
            ]
          },
          "metadata": {},
          "execution_count": 42
        }
      ]
    },
    {
      "cell_type": "code",
      "source": [
        "Question(question_4102)"
      ],
      "metadata": {
        "colab": {
          "base_uri": "https://localhost:8080/",
          "height": 377
        },
        "id": "kv7Efo-mEe37",
        "outputId": "dcc5b81e-5306-49c3-9063-7b7cd1cbf811"
      },
      "execution_count": 43,
      "outputs": [
        {
          "output_type": "display_data",
          "data": {
            "text/plain": [
              "<IPython.core.display.HTML object>"
            ],
            "text/html": [
              "<h1 style = \"background-color:yellow; \">문제 설명</h1>\n",
              "<h2>\n",
              "<p>2개의 숫자를 입력받습니다.</p>\n",
              "<p><span style = \"background-color:\t#E0E0E0;\">첫번째 숫자</span>에서 <span style = \"background-color:\t#E0E0E0;\">두번째 숫자</span>만큼 띄어세는 수를 만들어서 리스트로 출력하는 프로그램을 만들어봅시다. </p>\n",
              "<p>리스트에 숫자는 10개를 저장합니다.</p>\n",
              "<HR>\n",
              "<p>입력 예시 : 100 10</p>\n",
              "<h3>\n",
              "<p>입력되는 숫자는 10000이하 숫자입니다.</p>\n",
              "</h3>\n",
              "<h2>\n",
              "<p>출력 예시 : [100, 110, 120, 130, 140, 150, 160, 170, 180, 190]</p>\n",
              "<h3>\n",
              "<p>리스트로 출력합니다.</p>\n",
              "</h3>\n",
              "<HR>\n",
              "</h2>"
            ]
          },
          "metadata": {}
        },
        {
          "output_type": "execute_result",
          "data": {
            "text/html": [
              "<img src=\"\"/>"
            ],
            "text/plain": [
              "<IPython.core.display.Image object>"
            ]
          },
          "metadata": {},
          "execution_count": 43
        }
      ]
    },
    {
      "cell_type": "code",
      "source": [
        "Question(question_4103)"
      ],
      "metadata": {
        "colab": {
          "base_uri": "https://localhost:8080/",
          "height": 345
        },
        "id": "eHOyPeRKEfvd",
        "outputId": "40a32975-20ce-47ef-ee9b-857f5c6cb85e"
      },
      "execution_count": 44,
      "outputs": [
        {
          "output_type": "display_data",
          "data": {
            "text/plain": [
              "<IPython.core.display.HTML object>"
            ],
            "text/html": [
              "<h1 style = \"background-color:yellow; \">문제 설명</h1>\n",
              "<h2>\n",
              "<p><span style = \"background-color:\t#E0E0E0;\">입력 받은 숫자</span>의 배수를 리스트로 만들어서 출력하는 프로그램을 만들어봅시다. </p>\n",
              "<p>배수는 총 10개를 구하고 가장 작은 수부터 차례대로 커지도록 만듭니다.</p>\n",
              "<HR>\n",
              "<p>입력 예시 : <b>5</b></p>\n",
              "<h3>\n",
              "<p>100보다 작은 숫자가 입력됩니다.</p>\n",
              "</h3>\n",
              "<h2>\n",
              "<p>출력 예시 : '[5, 10, 15, 20, 25, 30, 35, 40, 45, 50]'</p>\n",
              "<h3>\n",
              "<p>배수는 총 10개를 구합니다.</p>\n",
              "</h3>\n",
              "<HR>\n",
              "</h2>"
            ]
          },
          "metadata": {}
        },
        {
          "output_type": "execute_result",
          "data": {
            "text/html": [
              "<img src=\"\"/>"
            ],
            "text/plain": [
              "<IPython.core.display.Image object>"
            ]
          },
          "metadata": {},
          "execution_count": 44
        }
      ]
    },
    {
      "cell_type": "code",
      "source": [
        "Question(question_4104)"
      ],
      "metadata": {
        "colab": {
          "base_uri": "https://localhost:8080/",
          "height": 315
        },
        "id": "koMiMoKEEgiy",
        "outputId": "64db5782-2f96-40ae-a814-478f0cea8f15"
      },
      "execution_count": 45,
      "outputs": [
        {
          "output_type": "display_data",
          "data": {
            "text/plain": [
              "<IPython.core.display.HTML object>"
            ],
            "text/html": [
              "<h1 style = \"background-color:yellow; \">문제 설명</h1>\n",
              "<h2>\n",
              "<p>2개의 숫자를 입력받습니다. </p>\n",
              "<p><span style = \"background-color:\t#E0E0E0;\">첫번째 숫자</span>초과 <span style = \"background-color:\t#E0E0E0;\">두번째 숫자</span>이하인 수를 리스트로 만들어서 출력하는 프로그램을 만들어봅시다. </p>\n",
              "<HR>\n",
              "<p>입력 예시 : <b>5 12</b></p>\n",
              "<h3>\n",
              "<p>100보다 작은 숫자가 입력됩니다.</p>\n",
              "</h3>\n",
              "<h2>\n",
              "<p>출력 예시 : '[6, 7, 8, 9, 10, 11, 12]'</p>\n",
              "<HR>\n",
              "</h2>"
            ]
          },
          "metadata": {}
        },
        {
          "output_type": "execute_result",
          "data": {
            "text/html": [
              "<img src=\"\"/>"
            ],
            "text/plain": [
              "<IPython.core.display.Image object>"
            ]
          },
          "metadata": {},
          "execution_count": 45
        }
      ]
    },
    {
      "cell_type": "code",
      "source": [
        "Question(question_4105)"
      ],
      "metadata": {
        "colab": {
          "base_uri": "https://localhost:8080/",
          "height": 441
        },
        "id": "FGB-Y8HtEhHB",
        "outputId": "6e7fcde2-07fd-4f5a-903b-ea0bbadcf4ff"
      },
      "execution_count": 46,
      "outputs": [
        {
          "output_type": "display_data",
          "data": {
            "text/plain": [
              "<IPython.core.display.HTML object>"
            ],
            "text/html": [
              "<h1 style = \"background-color:yellow; \">문제 설명</h1>\n",
              "<h2>\n",
              "<table border=\"1\"\n",
              "       cellspacing=\"0\"\n",
              "       width = 10\n",
              "       height = 10>\n",
              "\n",
              "    <tr>\n",
              "    \t<td>2</td>\n",
              "      <td>4</td>\n",
              "      <td>6</td>\n",
              "      <td>...</td>\n",
              "    </tr>\n",
              "    <tr>\n",
              "    \t<td>4</td>\n",
              "      <td>6</td>\n",
              "      <td>8</td>\n",
              "      <td>...</td>      \n",
              "    </tr>\n",
              "    <tr>\n",
              "    \t<td>6</td>\n",
              "      <td>8</td>\n",
              "      <td>10</td>\n",
              "      <td>...</td>      \n",
              "    </tr>\n",
              "      <td>...</td>\n",
              "      <td>...</td>\n",
              "      <td>...</td>\n",
              "      <td>...</td>                  \n",
              "</table>\n",
              "<p>그림과 같이 대각선(2,6,10...)으로 규칙을 갖는 숫자모음에서 <span style = \"background-color:\t#E0E0E0;\">입력받은 숫자</span>의 길이만큼 리스트를를 출력하는 프로그램을 만들어봅시다.</p>\n",
              "<HR>\n",
              "<p>입력 예시 : <b>5</b></p>\n",
              "<h3>\n",
              "<p>100보다 작은 숫자가 입력됩니다.</p>\n",
              "</h3>\n",
              "<h2>\n",
              "<p>출력 예시 : '[2,6,10,14,18]'</p>\n",
              "<h3>\n",
              "<p>배수는 총 10개를 구합니다.</p>\n",
              "</h3>\n",
              "<HR>\n",
              "</h2>"
            ]
          },
          "metadata": {}
        },
        {
          "output_type": "execute_result",
          "data": {
            "text/html": [
              "<img src=\"\"/>"
            ],
            "text/plain": [
              "<IPython.core.display.Image object>"
            ]
          },
          "metadata": {},
          "execution_count": 46
        }
      ]
    },
    {
      "cell_type": "code",
      "source": [
        "Question(question_4106)"
      ],
      "metadata": {
        "colab": {
          "base_uri": "https://localhost:8080/",
          "height": 386
        },
        "id": "SwvP1x_7Ehm_",
        "outputId": "bc9e5388-fac3-47f6-a803-d7ab61f862e7"
      },
      "execution_count": 49,
      "outputs": [
        {
          "output_type": "display_data",
          "data": {
            "text/plain": [
              "<IPython.core.display.HTML object>"
            ],
            "text/html": [
              "<h1 style = \"background-color:yellow; \">문제 설명</h1>\n",
              "<h2>\n",
              "<p>5씩 커지는 <span style = \"background-color:\t#E0E0E0;\">숫자 모음(리스트)</span>를 입력받습니다.</p>\n",
              "<p>5번째에 들어있는 값과 숫자 모음에 포함되어 있는 숫자 개수를 출력하는 프로그램을 구해봅시다.</p> \n",
              "<HR>\n",
              "<p>입력 예시 : 1,6,11,16,21,26,31,36,41,46,51</p>\n",
              "<h2>\n",
              "<p>출력 예시 : </p>\n",
              "<p>21</p>\n",
              "<p>11</p>\n",
              "<h3>\n",
              "<p>줄바꿈하여 출력합니다.</p>\n",
              "</h3>\n",
              "<h2>\n",
              "<HR>\n",
              "</h2>"
            ]
          },
          "metadata": {}
        },
        {
          "output_type": "execute_result",
          "data": {
            "text/html": [
              "<img src=\"\"/>"
            ],
            "text/plain": [
              "<IPython.core.display.Image object>"
            ]
          },
          "metadata": {},
          "execution_count": 49
        }
      ]
    },
    {
      "cell_type": "code",
      "source": [
        "Question(question_4107)"
      ],
      "metadata": {
        "colab": {
          "base_uri": "https://localhost:8080/",
          "height": 279
        },
        "id": "Nsi-CohtEiPf",
        "outputId": "f0f4a179-71d8-481f-c292-38dd444642f3"
      },
      "execution_count": 48,
      "outputs": [
        {
          "output_type": "display_data",
          "data": {
            "text/plain": [
              "<IPython.core.display.HTML object>"
            ],
            "text/html": [
              "<h1 style = \"background-color:yellow; \">문제 설명</h1>\n",
              "<h2>\n",
              "<p>101씩 띄어세기 하는 <span style = \"background-color:\t#E0E0E0;\">숫자 모음(리스트)</span>을 입력받습니다.</p>\n",
              "<p>숫자 모음에 다음에 올 수를 추가하여 리스트를 출력하는 프로그램을 만들어봅시다.</p>\n",
              "<HR>\n",
              "<p>입력 예시 : 1,102,203,304,405</p>\n",
              "<h2>\n",
              "<p>출력 예시 : [1,102,203,304,405,506]</p>\n",
              "<HR>\n",
              "</h2>"
            ]
          },
          "metadata": {}
        },
        {
          "output_type": "execute_result",
          "data": {
            "text/html": [
              "<img src=\"\"/>"
            ],
            "text/plain": [
              "<IPython.core.display.Image object>"
            ]
          },
          "metadata": {},
          "execution_count": 48
        }
      ]
    },
    {
      "cell_type": "code",
      "source": [],
      "metadata": {
        "id": "qi_SkAgGEi5n"
      },
      "execution_count": null,
      "outputs": []
    }
  ]
}