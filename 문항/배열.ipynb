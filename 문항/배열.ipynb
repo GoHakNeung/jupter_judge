{
  "nbformat": 4,
  "nbformat_minor": 0,
  "metadata": {
    "colab": {
      "provenance": []
    },
    "kernelspec": {
      "name": "python3",
      "display_name": "Python 3"
    },
    "language_info": {
      "name": "python"
    }
  },
  "cells": [
    {
      "cell_type": "code",
      "source": [
        "Question(question_4101)"
      ],
      "metadata": {
        "colab": {
          "base_uri": "https://localhost:8080/",
          "height": 362
        },
        "id": "RkfwxOi7_Olh",
        "outputId": "3eb1775a-53ef-4890-b831-477f23d98a9a"
      },
      "execution_count": 2,
      "outputs": [
        {
          "output_type": "display_data",
          "data": {
            "text/plain": [
              "<IPython.core.display.HTML object>"
            ],
            "text/html": [
              "<h2 style = \"background-color:yellow; \">문제 설명</h2>\n",
              "<p>15000에서  <span style = \"background-color:\t#E0E0E0;\">입력받은 숫자</span>만큼 띄어세는 수를 리스트로 만들어서 출력하는 프로그램을 만들어봅시다. </p>\n",
              "<p>리스트에 10개의 숫자를 저장합니다. </p>\n",
              "<HR>\n",
              "<h2> 입력\n",
              "</h2>\n",
              "<p>인접한 두 숫자의 간격</p>\n",
              "<p>(10000이하의 숫자가 입력됩니다.)</p>\n",
              "<h2> 출력\n",
              "</h2>\n",
              "<p>입력한 숫자만큼 띄어세기 한 리스트(리스트 길이는 10)를 출력합니다.</p>\n",
              "<HR>\n",
              "<div style = \"float:left;width:50%\">\n",
              "<h2> 입력 예시 </h2>\n",
              "<p> 100</p>\n",
              "</div>\n",
              "<div style = \"float:right;width:50%\">\n",
              "<h2> 출력 예시 </h2>\n",
              "<p>[15000, 15100, 15200, 15300, 15400, 15500, 15600, 15700, 15800, 15900]</p>\n",
              "</div>\n"
            ]
          },
          "metadata": {}
        },
        {
          "output_type": "execute_result",
          "data": {
            "text/html": [
              "<img src=\"\"/>"
            ],
            "text/plain": [
              "<IPython.core.display.Image object>"
            ]
          },
          "metadata": {},
          "execution_count": 2
        }
      ]
    },
    {
      "cell_type": "code",
      "source": [
        "Question(question_4102)"
      ],
      "metadata": {
        "colab": {
          "base_uri": "https://localhost:8080/",
          "height": 395
        },
        "id": "kv7Efo-mEe37",
        "outputId": "24ede0e6-05c4-49ba-97dd-dd302c4feb3b"
      },
      "execution_count": 3,
      "outputs": [
        {
          "output_type": "display_data",
          "data": {
            "text/plain": [
              "<IPython.core.display.HTML object>"
            ],
            "text/html": [
              "<h1 style = \"background-color:yellow; \">문제 설명</h1>\n",
              "<p>2개의 숫자를 입력받습니다.</p>\n",
              "<p><span style = \"background-color:\t#E0E0E0;\">첫 번째 숫자</span>에서 <span style = \"background-color:\t#E0E0E0;\">두 번째 숫자</span>만큼 띄어세는 수를 만들어서 리스트로 출력하는 프로그램을 만들어봅시다. </p>\n",
              "<p>리스트의 길이는 10입니다.</p>\n",
              "<HR>\n",
              "<h2>입력</h2>\n",
              "<p>첫째 줄에는 시작하는 숫자, 둘째 줄에는 두 숫자 사이의 간격에 해당하는 숫자가 입력됩니다.</p>\n",
              "<h2>출력</h2>\n",
              "<p>길이가 10인 리스트가 출력됩니다.</p>\n",
              "<HR>\n",
              "<div style = \"float:left;width:50%\">\n",
              "<h2>입력 예시 </h2>\n",
              "<p>100</p>\n",
              "<p>10</p>\n",
              "</div>\n",
              "<div style = \"float:right;width:50%\">\n",
              "<h2>출력 예시 </h2>\n",
              "<p>[100, 110, 120, 130, 140, 150, 160, 170, 180, 190]</p>\n",
              "</div>\n"
            ]
          },
          "metadata": {}
        },
        {
          "output_type": "execute_result",
          "data": {
            "text/html": [
              "<img src=\"\"/>"
            ],
            "text/plain": [
              "<IPython.core.display.Image object>"
            ]
          },
          "metadata": {},
          "execution_count": 3
        }
      ]
    },
    {
      "cell_type": "code",
      "source": [
        "Question(question_4103)"
      ],
      "metadata": {
        "colab": {
          "base_uri": "https://localhost:8080/",
          "height": 372
        },
        "id": "eHOyPeRKEfvd",
        "outputId": "45190dae-9a4f-4034-f976-0346c5e91ccf"
      },
      "execution_count": 4,
      "outputs": [
        {
          "output_type": "display_data",
          "data": {
            "text/plain": [
              "<IPython.core.display.HTML object>"
            ],
            "text/html": [
              "<h1 style = \"background-color:yellow; \">문제 설명</h1>\n",
              "<p><span style = \"background-color:\t#E0E0E0;\">입력 받은 숫자의</span>의 배수를 10개를 리스트로 만들어서 출력하는 프로그램을 만들어봅시다. </p>\n",
              "<p>첫 번째 숫자는 포함하지 않으며 작은 수부터 차례대로 커지도록 만듭니다.</p>\n",
              "<HR>\n",
              "<h2>입력</h2>\n",
              "<p>자연수가 입력됩니다..</p>\n",
              "<h2>출력</h2>\n",
              "<p>길이가 10인 리스트가 출력됩니다.</p>\n",
              "<HR>\n",
              "<div style = \"float:left;width:50%\">\n",
              "<h2>입력 예시 </h2>\n",
              "<p>5</p>\n",
              "<p>7</p>\n",
              "</div>\n",
              "<div style = \"float:right;width:50%\">\n",
              "<h2>출력 예시 </h2>\n",
              "<p>[10,15,20,25,30,35,40,45,50,55]</p>\n",
              "</div>\n"
            ]
          },
          "metadata": {}
        },
        {
          "output_type": "execute_result",
          "data": {
            "text/html": [
              "<img src=\"\"/>"
            ],
            "text/plain": [
              "<IPython.core.display.Image object>"
            ]
          },
          "metadata": {},
          "execution_count": 4
        }
      ]
    },
    {
      "cell_type": "code",
      "source": [
        "Question(question_4104)"
      ],
      "metadata": {
        "colab": {
          "base_uri": "https://localhost:8080/",
          "height": 372
        },
        "id": "koMiMoKEEgiy",
        "outputId": "ad3b90c0-eff4-4b17-9314-8c8ac6bfe1b8"
      },
      "execution_count": 5,
      "outputs": [
        {
          "output_type": "display_data",
          "data": {
            "text/plain": [
              "<IPython.core.display.HTML object>"
            ],
            "text/html": [
              "<h1 style = \"background-color:yellow; \">문제 설명</h1>\n",
              "<p>2개의 숫자를 입력받습니다. </p>\n",
              "<p><span style = \"background-color:\t#E0E0E0;\">첫 번째 숫자</span>초과 <span style = \"background-color:\t#E0E0E0;\">두 번째 숫자</span>이하인 수를 리스트로 만들어서 출력하는 프로그램을 만들어봅시다. </p>\n",
              "<HR>\n",
              "<h2>입력</h2>\n",
              "<p>첫째 줄과 둘째 줄에 자연수가 입력됩니다.</p>\n",
              "<h2>출력</h2>\n",
              "<p>범위에 해당하는 자연수를 리스트로 출력합니다.</p>\n",
              "<HR>\n",
              "<div style = \"float:left;width:50%\">\n",
              "<h2>입력 예시 </h2>\n",
              "<p>5</p>\n",
              "<p>12</p>\n",
              "</div>\n",
              "<div style = \"float:right;width:50%\">\n",
              "<h2>출력 예시 </h2>\n",
              "<p>[6, 7, 8, 9, 10, 11, 12]</p>\n",
              "</div>\n"
            ]
          },
          "metadata": {}
        },
        {
          "output_type": "execute_result",
          "data": {
            "text/html": [
              "<img src=\"\"/>"
            ],
            "text/plain": [
              "<IPython.core.display.Image object>"
            ]
          },
          "metadata": {},
          "execution_count": 5
        }
      ]
    },
    {
      "cell_type": "code",
      "source": [
        "Question(question_4105)"
      ],
      "metadata": {
        "colab": {
          "base_uri": "https://localhost:8080/",
          "height": 417
        },
        "id": "FGB-Y8HtEhHB",
        "outputId": "52e01180-9147-4a37-ef04-179e7ba69c81"
      },
      "execution_count": 6,
      "outputs": [
        {
          "output_type": "display_data",
          "data": {
            "text/plain": [
              "<IPython.core.display.HTML object>"
            ],
            "text/html": [
              "<h1 style = \"background-color:yellow; \">문제 설명</h1>\n",
              "<table border=\"1\"\n",
              "       cellspacing=\"0\"\n",
              "       width = 10\n",
              "       height = 10>\n",
              "\n",
              "    <tr>\n",
              "    \t<td>2</td>\n",
              "      <td>4</td>\n",
              "      <td>6</td>\n",
              "      <td>...</td>\n",
              "    </tr>\n",
              "    <tr>\n",
              "    \t<td>4</td>\n",
              "      <td>6</td>\n",
              "      <td>8</td>\n",
              "      <td>...</td>      \n",
              "    </tr>\n",
              "    <tr>\n",
              "    \t<td>6</td>\n",
              "      <td>8</td>\n",
              "      <td>10</td>\n",
              "      <td>...</td>      \n",
              "    </tr>\n",
              "      <td>...</td>\n",
              "      <td>...</td>\n",
              "      <td>...</td>\n",
              "      <td>...</td>                  \n",
              "</table>\n",
              "<p>그림과 같이 대각선(2,6,10...)으로 규칙을 갖는 숫자모음에서 <span style = \"background-color:\t#E0E0E0;\">입력받은 숫자</span>의 길이만큼 리스트를를 출력하는 프로그램을 만들어봅시다.</p>\n",
              "<HR>\n",
              "<h2>입력</h2>\n",
              "<p>자연수가 입력됩니다.</p>\n",
              "<h2>출력</h2>\n",
              "<p>리스트가 출력됩니다.</p>\n",
              "<HR>\n",
              "<div style = \"float:left;width:50%\">\n",
              "<h2>입력 예시 </h2>\n",
              "<p>5</p>\n",
              "</div>\n",
              "<div style = \"float:right;width:50%\">\n",
              "<h2>출력 예시 </h2>\n",
              "<p>[2,6,10,14,18]</p>\n",
              "</div>\n"
            ]
          },
          "metadata": {}
        },
        {
          "output_type": "execute_result",
          "data": {
            "text/html": [
              "<img src=\"\"/>"
            ],
            "text/plain": [
              "<IPython.core.display.Image object>"
            ]
          },
          "metadata": {},
          "execution_count": 6
        }
      ]
    },
    {
      "cell_type": "code",
      "source": [
        "Question(question_4106)"
      ],
      "metadata": {
        "colab": {
          "base_uri": "https://localhost:8080/",
          "height": 372
        },
        "id": "SwvP1x_7Ehm_",
        "outputId": "15605f62-9661-4c46-8f52-9f31792fcff1"
      },
      "execution_count": 7,
      "outputs": [
        {
          "output_type": "display_data",
          "data": {
            "text/plain": [
              "<IPython.core.display.HTML object>"
            ],
            "text/html": [
              "<h1 style = \"background-color:yellow; \">문제 설명</h1>\n",
              "<p>5씩 커지는 <span style = \"background-color:\t#E0E0E0;\">숫자 모음(리스트)</span>를 입력받습니다.</p>\n",
              "<p>5번째에 들어있는 값과 숫자 모음에 포함되어 있는 숫자 개수를 출력하는 프로그램을 구해봅시다.</p> \n",
              "<HR>\n",
              "<h2>입력</h2>\n",
              "<p>5씩 커지는 리스트가 입력됩니다.</p>\n",
              "<h2>출력</h2>\n",
              "<p>첫째 줄에 리스트에 있는 5번째 값을 출력하고 둘째 줄에 리스트 길이를 출력합니다.</p>\n",
              "<HR>\n",
              "<div style = \"float:left;width:50%\">\n",
              "<h2>입력 예시 </h2>\n",
              "<p>[1,6,11,16,21,26,31,36,41,46,51]</p>\n",
              "</div>\n",
              "<div style = \"float:right;width:50%\">\n",
              "<h2>출력 예시 </h2>\n",
              "<p>21</p>\n",
              "<p>11</p>\n",
              "</div>\n"
            ]
          },
          "metadata": {}
        },
        {
          "output_type": "execute_result",
          "data": {
            "text/html": [
              "<img src=\"\"/>"
            ],
            "text/plain": [
              "<IPython.core.display.Image object>"
            ]
          },
          "metadata": {},
          "execution_count": 7
        }
      ]
    },
    {
      "cell_type": "code",
      "source": [
        "Question(question_4107)"
      ],
      "metadata": {
        "colab": {
          "base_uri": "https://localhost:8080/",
          "height": 349
        },
        "id": "Nsi-CohtEiPf",
        "outputId": "a64c8df6-9746-4093-f38a-f8e223eabedc"
      },
      "execution_count": 8,
      "outputs": [
        {
          "output_type": "display_data",
          "data": {
            "text/plain": [
              "<IPython.core.display.HTML object>"
            ],
            "text/html": [
              "<h1 style = \"background-color:yellow; \">문제 설명</h1>\n",
              "<p>101씩 띄어세기 하는 <span style = \"background-color:\t#E0E0E0;\">숫자 모음(리스트)</span>을 입력받습니다.</p>\n",
              "<p>숫자 모음에 다음에 올 수를 추가하여 리스트를 출력하는 프로그램을 만들어봅시다.</p>\n",
              "<HR>\n",
              "<h2>입력</h2>\n",
              "<p>리스트를 입력받습니다.</p>\n",
              "<h2>출력</h2>\n",
              "<p>리스트를 출력합니다.</p>\n",
              "<HR>\n",
              "<div style = \"float:left;width:50%\">\n",
              "<h2>입력 예시 </h2>\n",
              "<p>[1,102,203,304,405]</p>\n",
              "</div>\n",
              "<div style = \"float:right;width:50%\">\n",
              "<h2>출력 예시 </h2>\n",
              "<p>[1,102,203,304,405,506]</p>\n",
              "</div>\n"
            ]
          },
          "metadata": {}
        },
        {
          "output_type": "execute_result",
          "data": {
            "text/html": [
              "<img src=\"\"/>"
            ],
            "text/plain": [
              "<IPython.core.display.Image object>"
            ]
          },
          "metadata": {},
          "execution_count": 8
        }
      ]
    },
    {
      "cell_type": "code",
      "source": [],
      "metadata": {
        "id": "qi_SkAgGEi5n"
      },
      "execution_count": 8,
      "outputs": []
    }
  ]
}