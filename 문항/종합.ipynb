{
  "nbformat": 4,
  "nbformat_minor": 0,
  "metadata": {
    "colab": {
      "provenance": []
    },
    "kernelspec": {
      "name": "python3",
      "display_name": "Python 3"
    },
    "language_info": {
      "name": "python"
    }
  },
  "cells": [
    {
      "cell_type": "code",
      "source": [
        "Question(question_7101)"
      ],
      "metadata": {
        "colab": {
          "base_uri": "https://localhost:8080/",
          "height": 348
        },
        "id": "RkfwxOi7_Olh",
        "outputId": "4c2af7f2-9468-4061-960b-0322085b7a0d"
      },
      "execution_count": 68,
      "outputs": [
        {
          "output_type": "display_data",
          "data": {
            "text/plain": [
              "<IPython.core.display.HTML object>"
            ],
            "text/html": [
              "<h1 style = \"background-color:yellow; \">문제 설명</h1>\n",
              "<h2>\n",
              "<p>2개의 숫자를 입력받습니다.</p>\n",
              "<p>입력받은 <span style = \"background-color:\t#E0E0E0;\">숫자</span>를 나누어 떨어지게 하는 숫자를 모두 출력하는 프로그램을 만들어봅시다.</p>\n",
              "<p>작은 숫자부터 출력하도록 합니다.</p>\n",
              "<HR>\n",
              "<p>입력 예시 : 12</p>\n",
              "<h3>\n",
              "<p>1000000보다 작은 숫자가 입력됩니다.</p>\n",
              "</h3>\n",
              "<h2>\n",
              "<p>출력 예시 : 1,2,3,4,6,12</p>\n",
              "<HR>\n",
              "</h2>"
            ]
          },
          "metadata": {}
        },
        {
          "output_type": "execute_result",
          "data": {
            "text/html": [
              "<img src=\"\"/>"
            ],
            "text/plain": [
              "<IPython.core.display.Image object>"
            ]
          },
          "metadata": {},
          "execution_count": 68
        }
      ]
    },
    {
      "cell_type": "code",
      "source": [
        "Question(question_7102)"
      ],
      "metadata": {
        "colab": {
          "base_uri": "https://localhost:8080/",
          "height": 348
        },
        "id": "ElHgLE7CFFHK",
        "outputId": "b009b3d9-ba8e-4201-91c1-1479e10cf185"
      },
      "execution_count": 69,
      "outputs": [
        {
          "output_type": "display_data",
          "data": {
            "text/plain": [
              "<IPython.core.display.HTML object>"
            ],
            "text/html": [
              "<h1 style = \"background-color:yellow; \">문제 설명</h1>\n",
              "<h2>\n",
              "<p>2개의 숫자를 입력받습니다.</p>\n",
              "<p>입력받은 <span style = \"background-color:\t#E0E0E0;\">2개의 숫자</span>를 모두 나누어 떨어지게 하는 숫자를 모두 출력하는 프로그램을 만들어봅시다.</p>\n",
              "<p>작은 숫자부터 출력하도록 합니다.</p>\n",
              "<HR>\n",
              "<p>입력 예시 : 20 12</p>\n",
              "<h3>\n",
              "<p>1000000보다 작은 숫자가 입력됩니다.</p>\n",
              "</h3>\n",
              "<h2>\n",
              "<p>출력 예시 : 1, 2, 4</p>\n",
              "<HR>\n",
              "</h2>"
            ]
          },
          "metadata": {}
        },
        {
          "output_type": "execute_result",
          "data": {
            "text/html": [
              "<img src=\"\"/>"
            ],
            "text/plain": [
              "<IPython.core.display.Image object>"
            ]
          },
          "metadata": {},
          "execution_count": 69
        }
      ]
    },
    {
      "cell_type": "code",
      "source": [
        "Question(question_7103)"
      ],
      "metadata": {
        "colab": {
          "base_uri": "https://localhost:8080/",
          "height": 348
        },
        "id": "jJoNK5YzFFqo",
        "outputId": "d1322e1d-d009-4529-b737-b3e8ab83ace0"
      },
      "execution_count": 70,
      "outputs": [
        {
          "output_type": "display_data",
          "data": {
            "text/plain": [
              "<IPython.core.display.HTML object>"
            ],
            "text/html": [
              "<h1 style = \"background-color:yellow; \">문제 설명</h1>\n",
              "<h2>\n",
              "<p>2개의 숫자를 입력받습니다.</p>\n",
              "<p><span style = \"background-color:\t#E0E0E0;\">첫번째 숫자</span>는 색종이 수이고 <span style = \"background-color:\t#E0E0E0;\">두번째 숫자</span>는 색도화지 수입니다. </p> \n",
              "<p>최대한 많은 사람에게 남김없이 똑같이 나누어주려고 할 때, 최대 몇 명까지 나누어 줄 수 있는지 출력하는 프로그램을 만들어봅시다.</p>\n",
              "\n",
              "<HR>\n",
              "<p>입력 예시 : <b>40 64</b></p>\n",
              "<h3>\n",
              "<p>100보다 작은 숫자가 입력됩니다.</p>\n",
              "</h3>\n",
              "<h2>\n",
              "<p>출력 예시 : 8</p>\n",
              "<HR>\n",
              "</h2>"
            ]
          },
          "metadata": {}
        },
        {
          "output_type": "execute_result",
          "data": {
            "text/html": [
              "<img src=\"\"/>"
            ],
            "text/plain": [
              "<IPython.core.display.Image object>"
            ]
          },
          "metadata": {},
          "execution_count": 70
        }
      ]
    },
    {
      "cell_type": "code",
      "source": [
        "Question(question_7104)"
      ],
      "metadata": {
        "colab": {
          "base_uri": "https://localhost:8080/",
          "height": 348
        },
        "id": "pFdSXnhMFGFX",
        "outputId": "958efe01-f2f4-4914-fb03-132a68c8c75a"
      },
      "execution_count": 71,
      "outputs": [
        {
          "output_type": "display_data",
          "data": {
            "text/plain": [
              "<IPython.core.display.HTML object>"
            ],
            "text/html": [
              "<h1 style = \"background-color:yellow; \">문제 설명</h1>\n",
              "<h2>\n",
              "<p>2개의 숫자를 입력받습니다.</p>\n",
              "<p>입력받은 <span style = \"background-color:\t#E0E0E0;\">2개 숫자</span>의 공배수를 모두 출력하는 프로그램을 만들어봅시다.</p>\n",
              "<p>작은 숫자부터 10개를 출력하도록 합니다.</p>\n",
              "<HR>\n",
              "<p>입력 예시 : 20 12</p>\n",
              "<h3>\n",
              "<p>1000000보다 작은 숫자가 입력됩니다.</p>\n",
              "</h3>\n",
              "<h2>\n",
              "<p>출력 예시 : 60, 120, 180, 240, 300, 360, 420, 480, 540, 600, 660, 720, 780, 840, 900, 960</p>\n",
              "<HR>\n",
              "</h2>"
            ]
          },
          "metadata": {}
        },
        {
          "output_type": "execute_result",
          "data": {
            "text/html": [
              "<img src=\"\"/>"
            ],
            "text/plain": [
              "<IPython.core.display.Image object>"
            ]
          },
          "metadata": {},
          "execution_count": 71
        }
      ]
    },
    {
      "cell_type": "code",
      "source": [
        "Question(question_7105)"
      ],
      "metadata": {
        "colab": {
          "base_uri": "https://localhost:8080/",
          "height": 315
        },
        "id": "Hq3G9afPFGxq",
        "outputId": "26a3543d-f277-45dc-d4f2-709a9a30dba4"
      },
      "execution_count": 73,
      "outputs": [
        {
          "output_type": "display_data",
          "data": {
            "text/plain": [
              "<IPython.core.display.HTML object>"
            ],
            "text/html": [
              "<h1 style = \"background-color:yellow; \">문제 설명</h1>\n",
              "<h2>\n",
              "<p>2개의 숫자를 입력받습니다.</p>\n",
              "<p>입력받은 <span style = \"background-color:\t#E0E0E0;\">2개 숫자</span>의 최소공배수를 출력하는 프로그램을 만들어봅시다.</p>\n",
              "\n",
              "<HR>\n",
              "<p>입력 예시 : 20 12</p>\n",
              "<h3>\n",
              "<p>1000000보다 작은 숫자가 입력됩니다.</p>\n",
              "</h3>\n",
              "<h2>\n",
              "<p>출력 예시 : 60</p>\n",
              "<HR>\n",
              "</h2>"
            ]
          },
          "metadata": {}
        },
        {
          "output_type": "execute_result",
          "data": {
            "text/html": [
              "<img src=\"\"/>"
            ],
            "text/plain": [
              "<IPython.core.display.Image object>"
            ]
          },
          "metadata": {},
          "execution_count": 73
        }
      ]
    },
    {
      "cell_type": "code",
      "source": [
        "Question(question_7501)"
      ],
      "metadata": {
        "colab": {
          "base_uri": "https://localhost:8080/",
          "height": 315
        },
        "id": "jGPYWbLpFHPL",
        "outputId": "5cd65b35-8410-4c0b-9bd3-d4dbdf0b3c9a"
      },
      "execution_count": 74,
      "outputs": [
        {
          "output_type": "display_data",
          "data": {
            "text/plain": [
              "<IPython.core.display.HTML object>"
            ],
            "text/html": [
              "<h1 style = \"background-color:yellow; \">문제 설명</h1>\n",
              "<h2>\n",
              "<p>숫자 개수가 정해지지 않은 <span style = \"background-color : #E0E0E0\">숫자 모음</span>을 리스트로 입력받습니다.</p>\n",
              "<p>숫자 모음의 평균을 출력하는 프로그램을 만들어봅시다. </p>\n",
              "<HR>\n",
              "<p>입력 예시 : 4 6 9 12 5 2 6 4</p>\n",
              "<h3>\n",
              "<p>100개 이하 숫자가 입력되며, 각각의 숫자는 1000이하인 숫자가 입력됩니다.</p>\n",
              "</h3>\n",
              "<h2>\n",
              "<p>출력 예시 : 6.0</p>\n",
              "<HR>\n",
              "</h2>"
            ]
          },
          "metadata": {}
        },
        {
          "output_type": "execute_result",
          "data": {
            "text/html": [
              "<img src=\"\"/>"
            ],
            "text/plain": [
              "<IPython.core.display.Image object>"
            ]
          },
          "metadata": {},
          "execution_count": 74
        }
      ]
    },
    {
      "cell_type": "code",
      "source": [
        "Question(question_7502)"
      ],
      "metadata": {
        "colab": {
          "base_uri": "https://localhost:8080/",
          "height": 315
        },
        "id": "j-WC3ebAFJj5",
        "outputId": "d92faade-2399-4ebf-e423-cd57fcc3e748"
      },
      "execution_count": 75,
      "outputs": [
        {
          "output_type": "display_data",
          "data": {
            "text/plain": [
              "<IPython.core.display.HTML object>"
            ],
            "text/html": [
              "<h1 style = \"background-color:yellow; \">문제 설명</h1>\n",
              "<h2>\n",
              "<p>숫자 개수가 정해지지 않은 <span style = \"background-color : #E0E0E0\">숫자 모음</span>을 리스트로 입력받습니다.</p>\n",
              "<p>숫자 모음에서 숫자 하나를 선택했을 때 짝수일 가능성을 구하는 프로그램을 만들어봅시다.</p>\n",
              "<HR>\n",
              "<p>입력 예시 : 4 61 9 12 1 43 2 8</p>\n",
              "<h3>\n",
              "<p>100개 이하 숫자가 입력되며, 각각의 숫자는 1000이하인 숫자가 입력됩니다.</p>\n",
              "</h3>\n",
              "<h2>\n",
              "<p>출력 예시 : 0.5</p>\n",
              "<HR>\n",
              "</h2>"
            ]
          },
          "metadata": {}
        },
        {
          "output_type": "execute_result",
          "data": {
            "text/html": [
              "<img src=\"\"/>"
            ],
            "text/plain": [
              "<IPython.core.display.Image object>"
            ]
          },
          "metadata": {},
          "execution_count": 75
        }
      ]
    }
  ]
}