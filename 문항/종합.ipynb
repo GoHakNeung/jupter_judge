{
  "nbformat": 4,
  "nbformat_minor": 0,
  "metadata": {
    "colab": {
      "provenance": []
    },
    "kernelspec": {
      "name": "python3",
      "display_name": "Python 3"
    },
    "language_info": {
      "name": "python"
    }
  },
  "cells": [
    {
      "cell_type": "code",
      "source": [
        "Question(question_7101)"
      ],
      "metadata": {
        "colab": {
          "base_uri": "https://localhost:8080/",
          "height": 362
        },
        "id": "RkfwxOi7_Olh",
        "outputId": "5f85b38f-fdde-4b3e-bcfb-5c47b88960bd"
      },
      "execution_count": 2,
      "outputs": [
        {
          "output_type": "display_data",
          "data": {
            "text/plain": [
              "<IPython.core.display.HTML object>"
            ],
            "text/html": [
              "<h2 style = \"background-color:yellow; \">문제 설명</h2>\n",
              "<p>2개의 숫자를 입력받습니다.</p>\n",
              "<p>입력받은 <span style = \"background-color:\t#E0E0E0;\">숫자</span>를 나누어 떨어지게 하는 숫자를 모두 출력하는 프로그램을 만들어봅시다.</p>\n",
              "<p>작은 숫자부터 출력하도록 합니다.</p>\n",
              "<HR>\n",
              "<h2> 입력\n",
              "</h2>\n",
              "<p>1000000보다 작은 숫자가 입력됩니다.</p>\n",
              "<h2> 출력\n",
              "</h2>\n",
              "<p>약수가 리스트로 출력됩니다.</p>\n",
              "<HR>\n",
              "<div style = \"float:left;width:50%\">\n",
              "<h2> 입력 예시 </h2>\n",
              "<p>12</p>\n",
              "</div>\n",
              "<div style = \"float:right;width:50%\">\n",
              "<h2> 출력 예시 </h2>\n",
              "<p>[1,2,3,4,6,12]</p>\n",
              "</div>\n"
            ]
          },
          "metadata": {}
        },
        {
          "output_type": "execute_result",
          "data": {
            "text/html": [
              "<img src=\"\"/>"
            ],
            "text/plain": [
              "<IPython.core.display.Image object>"
            ]
          },
          "metadata": {},
          "execution_count": 2
        }
      ]
    },
    {
      "cell_type": "code",
      "source": [
        "Question(question_7102)"
      ],
      "metadata": {
        "colab": {
          "base_uri": "https://localhost:8080/",
          "height": 362
        },
        "id": "ElHgLE7CFFHK",
        "outputId": "3ee22e5a-431c-4de1-95f3-4e4caacf5c35"
      },
      "execution_count": 3,
      "outputs": [
        {
          "output_type": "display_data",
          "data": {
            "text/plain": [
              "<IPython.core.display.HTML object>"
            ],
            "text/html": [
              "<h2 style = \"background-color:yellow; \">문제 설명</h2>\n",
              "<p>입력받은 <span style = \"background-color:\t#E0E0E0;\">2개의 숫자</span>를 모두 나누어 떨어지게 하는 숫자를 리스트로 출력하는 프로그램을 만들어봅시다.</p>\n",
              "<HR>\n",
              "<h2> 입력\n",
              "</h2>\n",
              "<p>첫째 줄에 첫번째 숫자가, 둘째 줄에 두번째 숫자가 입력됩니다.</p>\n",
              "<p>(2개의 숫자는 1000000보다 작은 숫자가 입력됩니다.)</p>\n",
              "<h2> 출력\n",
              "</h2>\n",
              "<p>두 숫자를 모두 나누어 떨어지게 하는 숫자를 리스트로 출력합니다. \n",
              "<HR>\n",
              "<div style = \"float:left;width:50%\">\n",
              "<h2> 입력 예시 </h2>\n",
              "<p> 20</p>\n",
              "<p> 12</p>\n",
              "</div>\n",
              "<div style = \"float:right;width:50%\">\n",
              "<h2> 출력 예시 </h2>\n",
              "<p>[1,2,4]</p>\n",
              "</div>\n"
            ]
          },
          "metadata": {}
        },
        {
          "output_type": "execute_result",
          "data": {
            "text/html": [
              "<img src=\"\"/>"
            ],
            "text/plain": [
              "<IPython.core.display.Image object>"
            ]
          },
          "metadata": {},
          "execution_count": 3
        }
      ]
    },
    {
      "cell_type": "code",
      "source": [
        "Question(question_7103)"
      ],
      "metadata": {
        "colab": {
          "base_uri": "https://localhost:8080/",
          "height": 395
        },
        "id": "jJoNK5YzFFqo",
        "outputId": "d8a10668-8e2f-4d6b-ec69-10dc778109fe"
      },
      "execution_count": 4,
      "outputs": [
        {
          "output_type": "display_data",
          "data": {
            "text/plain": [
              "<IPython.core.display.HTML object>"
            ],
            "text/html": [
              "<h1 style = \"background-color:yellow; \">문제 설명</h1>\n",
              "<p>2개의 숫자를 입력받습니다.</p>\n",
              "<p><span style = \"background-color:\t#E0E0E0;\">첫 번째 숫자</span>는 색종이 수이고 <span style = \"background-color:\t#E0E0E0;\">두 번째 숫자</span>는 색도화지 수입니다. </p> \n",
              "<p>최대한 많은 사람에게 남김없이 똑같이 나누어주려고 할 때, 최대 몇 명까지 나누어 줄 수 있는지 출력하는 프로그램을 만들어봅시다.</p>\n",
              "<HR>\n",
              "<h2>입력</h2>\n",
              "<p>첫째 줄에 색종이 수가 입력되고 둘째 줄에 색도화지 수가 입력됩니다.</p>\n",
              "<h2>출력</h2>\n",
              "<p>나누어 줄 수 있는 사람 수가 출력됩니다.</p>\n",
              "<HR>\n",
              "<div style = \"float:left;width:50%\">\n",
              "<h2>입력 예시 </h2>\n",
              "<p>40</p>\n",
              "<p>64</p>\n",
              "</div>\n",
              "<div style = \"float:right;width:50%\">\n",
              "<h2>출력 예시 </h2>\n",
              "<p>8</p>\n",
              "</div>\n"
            ]
          },
          "metadata": {}
        },
        {
          "output_type": "execute_result",
          "data": {
            "text/html": [
              "<img src=\"\"/>"
            ],
            "text/plain": [
              "<IPython.core.display.Image object>"
            ]
          },
          "metadata": {},
          "execution_count": 4
        }
      ]
    },
    {
      "cell_type": "code",
      "source": [
        "Question(question_7104)"
      ],
      "metadata": {
        "colab": {
          "base_uri": "https://localhost:8080/",
          "height": 419
        },
        "id": "pFdSXnhMFGFX",
        "outputId": "1910ea67-49a1-4161-ef04-fa34e3f0b77a"
      },
      "execution_count": 5,
      "outputs": [
        {
          "output_type": "display_data",
          "data": {
            "text/plain": [
              "<IPython.core.display.HTML object>"
            ],
            "text/html": [
              "<h1 style = \"background-color:yellow; \">문제 설명</h1>\n",
              "<p>2개의 숫자를 입력받습니다.</p>\n",
              "<p>입력받은 <span style = \"background-color:\t#E0E0E0;\">2개 숫자</span>의 공배수를 리스트로 출력하는 프로그램을 만들어봅시다.</p>\n",
              "<p>작은 숫자부터 10개를 출력하도록 합니다.</p>\n",
              "<HR>\n",
              "<h2>입력</h2>\n",
              "<p>두 자연수를 줄바꿈하여 입력받습니다.</p>\n",
              "<h2>출력</h2>\n",
              "<p>10개의 공배수가 포함된 리스트를 출력합니다. </p>\n",
              "<p>공배수는 작은 숫자부터 10개를 출력하도록 합니다. </p>\n",
              "<HR>\n",
              "<div style = \"float:left;width:50%\">\n",
              "<h2>입력 예시 </h2>\n",
              "<p>20</p>\n",
              "<p>12</p>\n",
              "</div>\n",
              "<div style = \"float:right;width:50%\">\n",
              "<h2>출력 예시 </h2>\n",
              "<p>[60, 120, 180, 240, 300, 360, 420, 480, 540, 600]</p>\n",
              "</div>"
            ]
          },
          "metadata": {}
        },
        {
          "output_type": "execute_result",
          "data": {
            "text/html": [
              "<img src=\"\"/>"
            ],
            "text/plain": [
              "<IPython.core.display.Image object>"
            ]
          },
          "metadata": {},
          "execution_count": 5
        }
      ]
    },
    {
      "cell_type": "code",
      "source": [
        "Question(question_7105)"
      ],
      "metadata": {
        "colab": {
          "base_uri": "https://localhost:8080/",
          "height": 372
        },
        "id": "Hq3G9afPFGxq",
        "outputId": "4b5ecdf3-1fb5-4348-eec6-1e5e9578f4cd"
      },
      "execution_count": 6,
      "outputs": [
        {
          "output_type": "display_data",
          "data": {
            "text/plain": [
              "<IPython.core.display.HTML object>"
            ],
            "text/html": [
              "<h1 style = \"background-color:yellow; \">문제 설명</h1>\n",
              "<p>2개의 숫자를 입력받습니다.</p>\n",
              "<p>입력받은 <span style = \"background-color:\t#E0E0E0;\">2개 숫자</span>의 최소공배수를 출력하는 프로그램을 만들어봅시다.</p>\n",
              "<HR>\n",
              "<h2>입력</h2>\n",
              "<p>두 자연수가 줄바꿈하여 입력됩니다.</p>\n",
              "<h2>출력</h2>\n",
              "<p>최소공배수를 출력합니다.</p>\n",
              "<HR>\n",
              "<div style = \"float:left;width:50%\">\n",
              "<h2>입력 예시 </h2>\n",
              "<p>20</p>\n",
              "<p>12</p>\n",
              "</div>\n",
              "<div style = \"float:right;width:50%\">\n",
              "<h2>출력 예시 </h2>\n",
              "<p>60</p>\n",
              "</div>\n",
              "<h2>\n"
            ]
          },
          "metadata": {}
        },
        {
          "output_type": "execute_result",
          "data": {
            "text/html": [
              "<img src=\"\"/>"
            ],
            "text/plain": [
              "<IPython.core.display.Image object>"
            ]
          },
          "metadata": {},
          "execution_count": 6
        }
      ]
    },
    {
      "cell_type": "code",
      "source": [
        "Question(question_7501)"
      ],
      "metadata": {
        "colab": {
          "base_uri": "https://localhost:8080/",
          "height": 349
        },
        "id": "jGPYWbLpFHPL",
        "outputId": "d7265769-4f08-4eae-c1f8-bc200bb56115"
      },
      "execution_count": 7,
      "outputs": [
        {
          "output_type": "display_data",
          "data": {
            "text/plain": [
              "<IPython.core.display.HTML object>"
            ],
            "text/html": [
              "<h1 style = \"background-color:yellow; \">문제 설명</h1>\n",
              "<p><span style = \"background-color : #E0E0E0\">숫자 모음</span>을 리스트로 입력받습니다.</p>\n",
              "<p>숫자 모음의 평균을 출력하는 프로그램을 만들어봅시다. </p>\n",
              "<HR>\n",
              "<h2>입력</h2>\n",
              "<p>리스트를 입력받습니다.</p>\n",
              "<h2>출력</h2>\n",
              "<p>리스트에 저장된 숫자의 평균을 출력합니다.</p>\n",
              "<HR>\n",
              "<div style = \"float:left;width:50%\">\n",
              "<h2>입력 예시 </h2>\n",
              "<p>[4,6,9,12,5,2,6,4]</p>\n",
              "</div>\n",
              "<div style = \"float:right;width:50%\">\n",
              "<h2>출력 예시 </h2>\n",
              "<p>6.0</p>\n",
              "</div>\n"
            ]
          },
          "metadata": {}
        },
        {
          "output_type": "execute_result",
          "data": {
            "text/html": [
              "<img src=\"\"/>"
            ],
            "text/plain": [
              "<IPython.core.display.Image object>"
            ]
          },
          "metadata": {},
          "execution_count": 7
        }
      ]
    },
    {
      "cell_type": "code",
      "source": [
        "Question(question_7502)"
      ],
      "metadata": {
        "colab": {
          "base_uri": "https://localhost:8080/",
          "height": 349
        },
        "id": "j-WC3ebAFJj5",
        "outputId": "7b2bb032-a01b-4cd3-bd6c-794cd209afdc"
      },
      "execution_count": 8,
      "outputs": [
        {
          "output_type": "display_data",
          "data": {
            "text/plain": [
              "<IPython.core.display.HTML object>"
            ],
            "text/html": [
              "<h1 style = \"background-color:yellow; \">문제 설명</h1>\n",
              "<p>숫자 개수가 정해지지 않은 <span style = \"background-color : #E0E0E0\">숫자 모음</span>을 리스트로 입력받습니다.</p>\n",
              "<p>숫자 모음에서 숫자 하나를 선택했을 때 짝수일 가능성을 구하는 프로그램을 만들어봅시다.</p>\n",
              "<HR>\n",
              "<h2>입력</h2>\n",
              "<p>리스트를 입력받습니다.</p>\n",
              "<h2>출력</h2>\n",
              "<p>리스트에 저장된 숫자에서 하나의 숫자를 선택했을 때 짝수일 가능성을 출력합니다.</p>\n",
              "<HR>\n",
              "<div style = \"float:left;width:50%\">\n",
              "<h2>입력 예시 </h2>\n",
              "<p>[4, 61, 9, 12, 1, 43, 2, 8]</p>\n",
              "</div>\n",
              "<div style = \"float:right;width:50%\">\n",
              "<h2>출력 예시 </h2>\n",
              "<p>0.5</p>\n",
              "</div>\n"
            ]
          },
          "metadata": {}
        },
        {
          "output_type": "execute_result",
          "data": {
            "text/html": [
              "<img src=\"\"/>"
            ],
            "text/plain": [
              "<IPython.core.display.Image object>"
            ]
          },
          "metadata": {},
          "execution_count": 8
        }
      ]
    }
  ]
}