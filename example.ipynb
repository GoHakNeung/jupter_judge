{
  "nbformat": 4,
  "nbformat_minor": 0,
  "metadata": {
    "colab": {
      "provenance": []
    },
    "kernelspec": {
      "name": "python3",
      "display_name": "Python 3"
    },
    "language_info": {
      "name": "python"
    }
  },
  "cells": [
    {
      "cell_type": "code",
      "execution_count": 2,
      "metadata": {
        "colab": {
          "base_uri": "https://localhost:8080/"
        },
        "id": "Z7eI8xrcvGtd",
        "outputId": "50514cbe-85b5-45e8-b8e6-7c3fe7a833df"
      },
      "outputs": [
        {
          "name": "stdout",
          "output_type": "stream",
          "text": [
            "Cloning into 'jupyter_judge'...\n",
            "remote: Enumerating objects: 144, done.\u001b[K\n",
            "remote: Counting objects: 100% (30/30), done.\u001b[K\n",
            "remote: Compressing objects: 100% (15/15), done.\u001b[K\n",
            "remote: Total 144 (delta 22), reused 15 (delta 15), pack-reused 114\u001b[K\n",
            "Receiving objects: 100% (144/144), 53.62 KiB | 10.72 MiB/s, done.\n",
            "Resolving deltas: 100% (48/48), done.\n",
            "이름을 입력해주세요.테스트테스트\n"
          ]
        }
      ],
      "source": [
        "!git clone https://github.com/GoHakNeung/jupyter_judge.git\n",
        "%run /content/jupyter_judge/code_check.py "
      ]
    },
    {
      "cell_type": "markdown",
      "source": [
        "## 문제1"
      ],
      "metadata": {
        "id": "Vss-_izmyRV5"
      }
    },
    {
      "cell_type": "code",
      "source": [
        "print(question_1)"
      ],
      "metadata": {
        "colab": {
          "base_uri": "https://localhost:8080/"
        },
        "id": "XGqIy6hfxhEP",
        "outputId": "b3a6cfe6-bc38-4ab0-e4ec-a85990f85c19"
      },
      "execution_count": 3,
      "outputs": [
        {
          "output_type": "stream",
          "name": "stdout",
          "text": [
            "==================================================\n",
            "이름을 입력하고 \"Hello 이름\"이 출력되도록 프로그램을 만듭니다.\n",
            "입력 예시 : World\n",
            "출력 예시 : Hello World\n",
            "==================================================\n"
          ]
        }
      ]
    },
    {
      "cell_type": "code",
      "source": [
        "%%writefile _1.py\n"
      ],
      "metadata": {
        "id": "qu_99jMUyIjQ"
      },
      "execution_count": null,
      "outputs": []
    },
    {
      "cell_type": "code",
      "source": [
        "code_check('_1.py')"
      ],
      "metadata": {
        "id": "_Dmb-gXQyJX_"
      },
      "execution_count": null,
      "outputs": []
    },
    {
      "cell_type": "markdown",
      "source": [
        "## 문제2"
      ],
      "metadata": {
        "id": "3vink24uyW4o"
      }
    },
    {
      "cell_type": "code",
      "source": [
        "print(question_2)"
      ],
      "metadata": {
        "colab": {
          "base_uri": "https://localhost:8080/"
        },
        "id": "pUPMEZeHyKSu",
        "outputId": "91109913-9b63-461c-d29d-ae6d6084976f"
      },
      "execution_count": 6,
      "outputs": [
        {
          "output_type": "stream",
          "name": "stdout",
          "text": [
            "==================================================\n",
            "\"Hello World\"를 출력하는 프로그램을 만듭니다.\n",
            "입력 예시 : 없음\n",
            "출력 예시 : Hello World\n",
            "==================================================\n"
          ]
        }
      ]
    },
    {
      "cell_type": "code",
      "source": [
        "%%writefile _2.py\n",
        "print('Hello World')"
      ],
      "metadata": {
        "colab": {
          "base_uri": "https://localhost:8080/"
        },
        "id": "45KjRFT2yQkM",
        "outputId": "1ea93214-fa95-44a1-e6b1-306923208b4a"
      },
      "execution_count": 7,
      "outputs": [
        {
          "output_type": "stream",
          "name": "stdout",
          "text": [
            "Writing _2.py\n"
          ]
        }
      ]
    },
    {
      "cell_type": "code",
      "source": [
        "code_check('_2.py')"
      ],
      "metadata": {
        "colab": {
          "base_uri": "https://localhost:8080/"
        },
        "id": "a5oZnDkWyZff",
        "outputId": "04343895-c2f7-4b58-e2c3-a7aa8bb94130"
      },
      "execution_count": 8,
      "outputs": [
        {
          "output_type": "stream",
          "name": "stdout",
          "text": [
            "==================================================\n",
            "\"Hello World\"를 출력하는 프로그램을 만듭니다.\n",
            "입력 예시 : 없음\n",
            "출력 예시 : Hello World\n",
            "================================================== \n",
            "\n",
            "['Hello World'] 가 출력됩니다. \u001b[38;2;0;255;0mO\u001b[0m\n",
            "\u001b[38;2;0;255;0m정답입니다.\u001b[0m\n"
          ]
        }
      ]
    },
    {
      "cell_type": "markdown",
      "source": [
        "## 문제3"
      ],
      "metadata": {
        "id": "Du4D8zzMyapq"
      }
    },
    {
      "cell_type": "code",
      "source": [
        "print(question_3)"
      ],
      "metadata": {
        "colab": {
          "base_uri": "https://localhost:8080/"
        },
        "id": "qT9HCB8gyfYw",
        "outputId": "82adada5-f2f4-4704-c8e1-d6d2c2078549"
      },
      "execution_count": 9,
      "outputs": [
        {
          "output_type": "stream",
          "name": "stdout",
          "text": [
            "==================================================\n",
            "반복문(for)을 사용해서 0부터 9까지 출력하는 프로그램을 만듭니다.\n",
            "입력 예시 : 없음\n",
            "출력 예시 : 0,1,2,3,4,5,6,7,8,9\n",
            "==================================================\n"
          ]
        }
      ]
    },
    {
      "cell_type": "code",
      "source": [
        "%%writefile _3.py\n",
        "for i in range(10) : \n",
        "  print(i)\n"
      ],
      "metadata": {
        "colab": {
          "base_uri": "https://localhost:8080/"
        },
        "id": "RN-uZUJ1ygzG",
        "outputId": "14f98b85-8820-460e-a6d0-92d8993aab60"
      },
      "execution_count": 10,
      "outputs": [
        {
          "output_type": "stream",
          "name": "stdout",
          "text": [
            "Writing _3.py\n"
          ]
        }
      ]
    },
    {
      "cell_type": "code",
      "source": [
        "code_check('_3.py')"
      ],
      "metadata": {
        "colab": {
          "base_uri": "https://localhost:8080/"
        },
        "id": "gwHEOnkKyhgb",
        "outputId": "0d6b9e9b-91c9-41a8-b77a-c5dfb5f069d5"
      },
      "execution_count": 11,
      "outputs": [
        {
          "output_type": "stream",
          "name": "stdout",
          "text": [
            "==================================================\n",
            "반복문(for)을 사용해서 0부터 9까지 출력하는 프로그램을 만듭니다.\n",
            "입력 예시 : 없음\n",
            "출력 예시 : 0,1,2,3,4,5,6,7,8,9\n",
            "================================================== \n",
            "\n",
            "[0, 1, 2, 3, 4, 5, 6, 7, 8, 9] 가 출력됩니다. \u001b[38;2;0;255;0mO\u001b[0m\n",
            "\u001b[38;2;0;255;0m정답입니다.\u001b[0m\n"
          ]
        }
      ]
    },
    {
      "cell_type": "markdown",
      "source": [
        "## 문제4"
      ],
      "metadata": {
        "id": "vyIIXufpyiys"
      }
    },
    {
      "cell_type": "code",
      "source": [
        "print(question_4)"
      ],
      "metadata": {
        "colab": {
          "base_uri": "https://localhost:8080/"
        },
        "id": "p2yOfQFGyktB",
        "outputId": "b79c1eb9-ac41-4509-e472-4ec6e3d5972f"
      },
      "execution_count": 12,
      "outputs": [
        {
          "output_type": "stream",
          "name": "stdout",
          "text": [
            "==================================================\n",
            "두 숫자를 입력해서 큰 숫자, 작은 숫자가 출력되는 프로그램을 만듭니다.\n",
            "입력 예시 : \n",
            "10\n",
            "5\n",
            "출력 예시 : \n",
            "10 5\n",
            "==================================================\n"
          ]
        }
      ]
    },
    {
      "cell_type": "code",
      "source": [
        "%%writefile _4.py\n",
        "a = input()\n",
        "b = input()\n",
        "a = int(a)\n",
        "b = int(b)\n",
        "if a > b : \n",
        "  print(a,b)\n",
        "else : \n",
        "  print(b,a)"
      ],
      "metadata": {
        "colab": {
          "base_uri": "https://localhost:8080/"
        },
        "id": "bW54Moj8yl-9",
        "outputId": "17b83298-368e-4a4e-b665-6456b7ce5702"
      },
      "execution_count": 13,
      "outputs": [
        {
          "output_type": "stream",
          "name": "stdout",
          "text": [
            "Writing _4.py\n"
          ]
        }
      ]
    },
    {
      "cell_type": "code",
      "source": [
        "code_check('_4.py')"
      ],
      "metadata": {
        "colab": {
          "base_uri": "https://localhost:8080/"
        },
        "id": "zRJEihbuyntW",
        "outputId": "52a64526-caad-4753-a8e4-4d869120c81a"
      },
      "execution_count": 14,
      "outputs": [
        {
          "output_type": "stream",
          "name": "stdout",
          "text": [
            "==================================================\n",
            "두 숫자를 입력해서 큰 숫자, 작은 숫자가 출력되는 프로그램을 만듭니다.\n",
            "입력 예시 : \n",
            "10\n",
            "5\n",
            "출력 예시 : \n",
            "10 5\n",
            "================================================== \n",
            "\n",
            "[3, 4] 을 입력하면  ['4 3'] 가 출력됩니다.  \u001b[38;2;0;255;0mO\u001b[0m\n",
            "[156, 1532] 을 입력하면  ['1532 156'] 가 출력됩니다.  \u001b[38;2;0;255;0mO\u001b[0m\n",
            "[-5456, 456] 을 입력하면  ['456 -5456'] 가 출력됩니다.  \u001b[38;2;0;255;0mO\u001b[0m\n",
            "[21341234, 2] 을 입력하면  ['21341234 2'] 가 출력됩니다.  \u001b[38;2;0;255;0mO\u001b[0m\n",
            "\u001b[38;2;0;255;0m정답입니다.\u001b[0m\n"
          ]
        }
      ]
    },
    {
      "cell_type": "markdown",
      "source": [
        "## 문제5"
      ],
      "metadata": {
        "id": "NezdzCQbypPD"
      }
    },
    {
      "cell_type": "code",
      "source": [
        "print(question_5)"
      ],
      "metadata": {
        "colab": {
          "base_uri": "https://localhost:8080/"
        },
        "id": "mLxBPgm_ytmO",
        "outputId": "07e546e2-674b-4628-c6ef-5bda8bee49b9"
      },
      "execution_count": 15,
      "outputs": [
        {
          "output_type": "stream",
          "name": "stdout",
          "text": [
            "==================================================\n",
            "숫자를 입력합니다. 입력한 숫자가 10과 같거나 크면 \"10과 같거나 큰 수\", 10보다 작으면 \"10보다 작은 수\"를  출력하는 프로그램을 만듭니다.\n",
            "입력 예시 : 5\n",
            "출력 예시 : 10보다 작은 수\n",
            "==================================================\n"
          ]
        }
      ]
    },
    {
      "cell_type": "code",
      "source": [
        "%%writefile _5.py\n",
        "a = int(input())\n",
        "\n",
        "if a >= 10 : \n",
        "  print('10과 같거나 큰 수')\n",
        "else : \n",
        "  print('10보다 작은 수')"
      ],
      "metadata": {
        "colab": {
          "base_uri": "https://localhost:8080/"
        },
        "id": "2gzMwl5cyuky",
        "outputId": "2d4f29a9-8e14-4885-a735-dbb9f1dc341b"
      },
      "execution_count": 16,
      "outputs": [
        {
          "output_type": "stream",
          "name": "stdout",
          "text": [
            "Writing _5.py\n"
          ]
        }
      ]
    },
    {
      "cell_type": "code",
      "source": [
        "code_check('_5.py')"
      ],
      "metadata": {
        "colab": {
          "base_uri": "https://localhost:8080/"
        },
        "id": "pet6npQGyv3D",
        "outputId": "c05fa52b-1c37-4075-aacc-427e5fc160e7"
      },
      "execution_count": 17,
      "outputs": [
        {
          "output_type": "stream",
          "name": "stdout",
          "text": [
            "==================================================\n",
            "숫자를 입력합니다. 입력한 숫자가 10과 같거나 크면 \"10과 같거나 큰 수\", 10보다 작으면 \"10보다 작은 수\"를  출력하는 프로그램을 만듭니다.\n",
            "입력 예시 : 5\n",
            "출력 예시 : 10보다 작은 수\n",
            "================================================== \n",
            "\n",
            "[3] 을 입력하면  ['10보다 작은 수'] 가 출력됩니다.  \u001b[38;2;0;255;0mO\u001b[0m\n",
            "[123] 을 입력하면  ['10과 같거나 큰 수'] 가 출력됩니다.  \u001b[38;2;0;255;0mO\u001b[0m\n",
            "[10] 을 입력하면  ['10과 같거나 큰 수'] 가 출력됩니다.  \u001b[38;2;0;255;0mO\u001b[0m\n",
            "[-123] 을 입력하면  ['10보다 작은 수'] 가 출력됩니다.  \u001b[38;2;0;255;0mO\u001b[0m\n",
            "\u001b[38;2;0;255;0m정답입니다.\u001b[0m\n"
          ]
        }
      ]
    },
    {
      "cell_type": "markdown",
      "source": [
        "## 문제6"
      ],
      "metadata": {
        "id": "_Tu27lNLyzVY"
      }
    },
    {
      "cell_type": "code",
      "source": [
        "print(question_6)"
      ],
      "metadata": {
        "colab": {
          "base_uri": "https://localhost:8080/"
        },
        "id": "rFahbSYLyxQs",
        "outputId": "5e9489b3-8115-449f-f88d-bede33d5e65f"
      },
      "execution_count": 18,
      "outputs": [
        {
          "output_type": "stream",
          "name": "stdout",
          "text": [
            "==================================================\n",
            "두 정수가 띄어쓰기 간격으로 입력이 됩니다. 입력받은 정수를 더해봅시다. \n",
            "입력 예시 : 5, 6\n",
            "출력 예시 : 11\n",
            "==================================================\n"
          ]
        }
      ]
    },
    {
      "cell_type": "code",
      "source": [
        "%%writefile _6.py\n",
        "a,b = map(int,input().split())\n",
        "\n",
        "print(a+b)"
      ],
      "metadata": {
        "colab": {
          "base_uri": "https://localhost:8080/"
        },
        "id": "JMb_dmrhy0md",
        "outputId": "4c559913-a446-45fb-9446-b7a142052ed6"
      },
      "execution_count": 23,
      "outputs": [
        {
          "output_type": "stream",
          "name": "stdout",
          "text": [
            "Overwriting _6.py\n"
          ]
        }
      ]
    },
    {
      "cell_type": "code",
      "source": [
        "code_check('_6.py')"
      ],
      "metadata": {
        "colab": {
          "base_uri": "https://localhost:8080/"
        },
        "id": "WsqqPEZyy214",
        "outputId": "5c9f4c32-7fc6-40f6-c5b6-307e65efcc8f"
      },
      "execution_count": 24,
      "outputs": [
        {
          "output_type": "stream",
          "name": "stdout",
          "text": [
            "==================================================\n",
            "두 정수가 띄어쓰기 간격으로 입력이 됩니다. 입력받은 정수를 더해봅시다. \n",
            "입력 예시 : 5, 6\n",
            "출력 예시 : 11\n",
            "================================================== \n",
            "\n",
            "[3, 4] 을 입력하면  [7] 가 출력됩니다.  \u001b[38;2;0;255;0mO\u001b[0m\n",
            "[45, 155] 을 입력하면  [200] 가 출력됩니다.  \u001b[38;2;0;255;0mO\u001b[0m\n",
            "[-78, 8] 을 입력하면  [-70] 가 출력됩니다.  \u001b[38;2;0;255;0mO\u001b[0m\n",
            "[-123, -5] 을 입력하면  [-128] 가 출력됩니다.  \u001b[38;2;0;255;0mO\u001b[0m\n",
            "\u001b[38;2;0;255;0m정답입니다.\u001b[0m\n"
          ]
        }
      ]
    }
  ]
}