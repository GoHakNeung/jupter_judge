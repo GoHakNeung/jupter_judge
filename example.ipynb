{
  "nbformat": 4,
  "nbformat_minor": 0,
  "metadata": {
    "colab": {
      "provenance": []
    },
    "kernelspec": {
      "name": "python3",
      "display_name": "Python 3"
    },
    "language_info": {
      "name": "python"
    }
  },
  "cells": [
    {
      "cell_type": "code",
      "execution_count": null,
      "metadata": {
        "id": "Z7eI8xrcvGtd"
      },
      "outputs": [],
      "source": [
        "!git clone https://github.com/GoHakNeung/jupyter_judge.git\n",
        "%run /content/jupyter_judge/code_check.py "
      ]
    },
    {
      "cell_type": "markdown",
      "source": [
        "## 문제1"
      ],
      "metadata": {
        "id": "Vss-_izmyRV5"
      }
    },
    {
      "cell_type": "code",
      "source": [
        "print(question_1)"
      ],
      "metadata": {
        "colab": {
          "base_uri": "https://localhost:8080/"
        },
        "id": "XGqIy6hfxhEP",
        "outputId": "b3a6cfe6-bc38-4ab0-e4ec-a85990f85c19"
      },
      "execution_count": 3,
      "outputs": [
        {
          "output_type": "stream",
          "name": "stdout",
          "text": [
            "==================================================\n",
            "이름을 입력하고 \"Hello 이름\"이 출력되도록 프로그램을 만듭니다.\n",
            "입력 예시 : World\n",
            "출력 예시 : Hello World\n",
            "==================================================\n"
          ]
        }
      ]
    },
    {
      "cell_type": "code",
      "source": [
        "%%writefile _1.py\n",
        "a = input()\n",
        "print('Hello', a)"
      ],
      "metadata": {
        "id": "qu_99jMUyIjQ"
      },
      "execution_count": null,
      "outputs": []
    },
    {
      "cell_type": "code",
      "source": [
        "code_check('_1.py')"
      ],
      "metadata": {
        "id": "_Dmb-gXQyJX_"
      },
      "execution_count": null,
      "outputs": []
    },
    {
      "cell_type": "markdown",
      "source": [
        "## 문제2"
      ],
      "metadata": {
        "id": "3vink24uyW4o"
      }
    },
    {
      "cell_type": "code",
      "source": [
        "print(question_2)"
      ],
      "metadata": {
        "colab": {
          "base_uri": "https://localhost:8080/"
        },
        "id": "pUPMEZeHyKSu",
        "outputId": "91109913-9b63-461c-d29d-ae6d6084976f"
      },
      "execution_count": 6,
      "outputs": [
        {
          "output_type": "stream",
          "name": "stdout",
          "text": [
            "==================================================\n",
            "\"Hello World\"를 출력하는 프로그램을 만듭니다.\n",
            "입력 예시 : 없음\n",
            "출력 예시 : Hello World\n",
            "==================================================\n"
          ]
        }
      ]
    },
    {
      "cell_type": "code",
      "source": [
        "%%writefile _2.py\n",
        "#아래에 코드 작성\n"
      ],
      "metadata": {
        "id": "45KjRFT2yQkM"
      },
      "execution_count": null,
      "outputs": []
    },
    {
      "cell_type": "code",
      "source": [
        "code_check('_2.py')"
      ],
      "metadata": {
        "id": "a5oZnDkWyZff"
      },
      "execution_count": null,
      "outputs": []
    },
    {
      "cell_type": "markdown",
      "source": [
        "## 문제3"
      ],
      "metadata": {
        "id": "Du4D8zzMyapq"
      }
    },
    {
      "cell_type": "code",
      "source": [
        "print(question_3)"
      ],
      "metadata": {
        "colab": {
          "base_uri": "https://localhost:8080/"
        },
        "id": "qT9HCB8gyfYw",
        "outputId": "82adada5-f2f4-4704-c8e1-d6d2c2078549"
      },
      "execution_count": 9,
      "outputs": [
        {
          "output_type": "stream",
          "name": "stdout",
          "text": [
            "==================================================\n",
            "반복문(for)을 사용해서 0부터 9까지 출력하는 프로그램을 만듭니다.\n",
            "입력 예시 : 없음\n",
            "출력 예시 : 0,1,2,3,4,5,6,7,8,9\n",
            "==================================================\n"
          ]
        }
      ]
    },
    {
      "cell_type": "code",
      "source": [
        "%%writefile _3.py\n"
      ],
      "metadata": {
        "id": "RN-uZUJ1ygzG"
      },
      "execution_count": null,
      "outputs": []
    },
    {
      "cell_type": "code",
      "source": [
        "code_check('_3.py')"
      ],
      "metadata": {
        "id": "gwHEOnkKyhgb"
      },
      "execution_count": null,
      "outputs": []
    },
    {
      "cell_type": "markdown",
      "source": [
        "## 문제4"
      ],
      "metadata": {
        "id": "vyIIXufpyiys"
      }
    },
    {
      "cell_type": "code",
      "source": [
        "print(question_4)"
      ],
      "metadata": {
        "colab": {
          "base_uri": "https://localhost:8080/"
        },
        "id": "p2yOfQFGyktB",
        "outputId": "b79c1eb9-ac41-4509-e472-4ec6e3d5972f"
      },
      "execution_count": 12,
      "outputs": [
        {
          "output_type": "stream",
          "name": "stdout",
          "text": [
            "==================================================\n",
            "두 숫자를 입력해서 큰 숫자, 작은 숫자가 출력되는 프로그램을 만듭니다.\n",
            "입력 예시 : \n",
            "10\n",
            "5\n",
            "출력 예시 : \n",
            "10 5\n",
            "==================================================\n"
          ]
        }
      ]
    },
    {
      "cell_type": "code",
      "source": [
        "%%writefile _4.py\n"
      ],
      "metadata": {
        "id": "bW54Moj8yl-9"
      },
      "execution_count": null,
      "outputs": []
    },
    {
      "cell_type": "code",
      "source": [
        "code_check('_4.py')"
      ],
      "metadata": {
        "id": "zRJEihbuyntW"
      },
      "execution_count": null,
      "outputs": []
    },
    {
      "cell_type": "markdown",
      "source": [
        "## 문제5"
      ],
      "metadata": {
        "id": "NezdzCQbypPD"
      }
    },
    {
      "cell_type": "code",
      "source": [
        "print(question_5)"
      ],
      "metadata": {
        "colab": {
          "base_uri": "https://localhost:8080/"
        },
        "id": "mLxBPgm_ytmO",
        "outputId": "07e546e2-674b-4628-c6ef-5bda8bee49b9"
      },
      "execution_count": 15,
      "outputs": [
        {
          "output_type": "stream",
          "name": "stdout",
          "text": [
            "==================================================\n",
            "숫자를 입력합니다. 입력한 숫자가 10과 같거나 크면 \"10과 같거나 큰 수\", 10보다 작으면 \"10보다 작은 수\"를  출력하는 프로그램을 만듭니다.\n",
            "입력 예시 : 5\n",
            "출력 예시 : 10보다 작은 수\n",
            "==================================================\n"
          ]
        }
      ]
    },
    {
      "cell_type": "code",
      "source": [
        "%%writefile _5.py\n"
      ],
      "metadata": {
        "id": "2gzMwl5cyuky"
      },
      "execution_count": null,
      "outputs": []
    },
    {
      "cell_type": "code",
      "source": [
        "code_check('_5.py')"
      ],
      "metadata": {
        "id": "pet6npQGyv3D"
      },
      "execution_count": null,
      "outputs": []
    },
    {
      "cell_type": "markdown",
      "source": [
        "## 문제6"
      ],
      "metadata": {
        "id": "_Tu27lNLyzVY"
      }
    },
    {
      "cell_type": "code",
      "source": [
        "print(question_6)"
      ],
      "metadata": {
        "colab": {
          "base_uri": "https://localhost:8080/"
        },
        "id": "rFahbSYLyxQs",
        "outputId": "5e9489b3-8115-449f-f88d-bede33d5e65f"
      },
      "execution_count": 18,
      "outputs": [
        {
          "output_type": "stream",
          "name": "stdout",
          "text": [
            "==================================================\n",
            "두 정수가 띄어쓰기 간격으로 입력이 됩니다. 입력받은 정수를 더해봅시다. \n",
            "입력 예시 : 5, 6\n",
            "출력 예시 : 11\n",
            "==================================================\n"
          ]
        }
      ]
    },
    {
      "cell_type": "code",
      "source": [
        "%%writefile _6.py\n"
      ],
      "metadata": {
        "id": "JMb_dmrhy0md"
      },
      "execution_count": null,
      "outputs": []
    },
    {
      "cell_type": "code",
      "source": [
        "code_check('_6.py')"
      ],
      "metadata": {
        "id": "WsqqPEZyy214"
      },
      "execution_count": null,
      "outputs": []
    }
  ]
}